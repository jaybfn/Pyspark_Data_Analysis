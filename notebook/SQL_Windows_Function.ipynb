{
  "nbformat": 4,
  "nbformat_minor": 0,
  "metadata": {
    "colab": {
      "provenance": []
    },
    "kernelspec": {
      "name": "python3",
      "display_name": "Python 3"
    },
    "language_info": {
      "name": "python"
    }
  },
  "cells": [
    {
      "cell_type": "code",
      "execution_count": 2,
      "metadata": {
        "colab": {
          "base_uri": "https://localhost:8080/"
        },
        "id": "PffdLut-uQyv",
        "outputId": "086ad61a-bc33-4710-ccf9-f2c33675ac46"
      },
      "outputs": [
        {
          "output_type": "stream",
          "name": "stdout",
          "text": [
            "Looking in indexes: https://pypi.org/simple, https://us-python.pkg.dev/colab-wheels/public/simple/\n",
            "Collecting pyspark\n",
            "  Downloading pyspark-3.3.1.tar.gz (281.4 MB)\n",
            "\u001b[K     |████████████████████████████████| 281.4 MB 44 kB/s \n",
            "\u001b[?25hCollecting py4j==0.10.9.5\n",
            "  Downloading py4j-0.10.9.5-py2.py3-none-any.whl (199 kB)\n",
            "\u001b[K     |████████████████████████████████| 199 kB 46.5 MB/s \n",
            "\u001b[?25hBuilding wheels for collected packages: pyspark\n",
            "  Building wheel for pyspark (setup.py) ... \u001b[?25l\u001b[?25hdone\n",
            "  Created wheel for pyspark: filename=pyspark-3.3.1-py2.py3-none-any.whl size=281845512 sha256=ef95b1db5689582e2ff02c43253c6059880a3694696e964461306272c249c05a\n",
            "  Stored in directory: /root/.cache/pip/wheels/43/dc/11/ec201cd671da62fa9c5cc77078235e40722170ceba231d7598\n",
            "Successfully built pyspark\n",
            "Installing collected packages: py4j, pyspark\n",
            "Successfully installed py4j-0.10.9.5 pyspark-3.3.1\n"
          ]
        }
      ],
      "source": [
        "pip install pyspark\n"
      ]
    },
    {
      "cell_type": "code",
      "source": [
        "from pyspark.sql import SparkSession\n",
        "from pyspark.sql.functions import *"
      ],
      "metadata": {
        "id": "GhpwTTtrucxV"
      },
      "execution_count": 134,
      "outputs": []
    },
    {
      "cell_type": "code",
      "source": [
        "from google.colab import files\n",
        "uploads = files.upload()"
      ],
      "metadata": {
        "colab": {
          "base_uri": "https://localhost:8080/",
          "height": 73
        },
        "id": "f21LxmafuqE4",
        "outputId": "36063bc5-d1cb-4a33-9589-8ced331a4393"
      },
      "execution_count": 135,
      "outputs": [
        {
          "output_type": "display_data",
          "data": {
            "text/plain": [
              "<IPython.core.display.HTML object>"
            ],
            "text/html": [
              "\n",
              "     <input type=\"file\" id=\"files-a33c50b1-b89c-45e1-9d3f-1f27286d1720\" name=\"files[]\" multiple disabled\n",
              "        style=\"border:none\" />\n",
              "     <output id=\"result-a33c50b1-b89c-45e1-9d3f-1f27286d1720\">\n",
              "      Upload widget is only available when the cell has been executed in the\n",
              "      current browser session. Please rerun this cell to enable.\n",
              "      </output>\n",
              "      <script>// Copyright 2017 Google LLC\n",
              "//\n",
              "// Licensed under the Apache License, Version 2.0 (the \"License\");\n",
              "// you may not use this file except in compliance with the License.\n",
              "// You may obtain a copy of the License at\n",
              "//\n",
              "//      http://www.apache.org/licenses/LICENSE-2.0\n",
              "//\n",
              "// Unless required by applicable law or agreed to in writing, software\n",
              "// distributed under the License is distributed on an \"AS IS\" BASIS,\n",
              "// WITHOUT WARRANTIES OR CONDITIONS OF ANY KIND, either express or implied.\n",
              "// See the License for the specific language governing permissions and\n",
              "// limitations under the License.\n",
              "\n",
              "/**\n",
              " * @fileoverview Helpers for google.colab Python module.\n",
              " */\n",
              "(function(scope) {\n",
              "function span(text, styleAttributes = {}) {\n",
              "  const element = document.createElement('span');\n",
              "  element.textContent = text;\n",
              "  for (const key of Object.keys(styleAttributes)) {\n",
              "    element.style[key] = styleAttributes[key];\n",
              "  }\n",
              "  return element;\n",
              "}\n",
              "\n",
              "// Max number of bytes which will be uploaded at a time.\n",
              "const MAX_PAYLOAD_SIZE = 100 * 1024;\n",
              "\n",
              "function _uploadFiles(inputId, outputId) {\n",
              "  const steps = uploadFilesStep(inputId, outputId);\n",
              "  const outputElement = document.getElementById(outputId);\n",
              "  // Cache steps on the outputElement to make it available for the next call\n",
              "  // to uploadFilesContinue from Python.\n",
              "  outputElement.steps = steps;\n",
              "\n",
              "  return _uploadFilesContinue(outputId);\n",
              "}\n",
              "\n",
              "// This is roughly an async generator (not supported in the browser yet),\n",
              "// where there are multiple asynchronous steps and the Python side is going\n",
              "// to poll for completion of each step.\n",
              "// This uses a Promise to block the python side on completion of each step,\n",
              "// then passes the result of the previous step as the input to the next step.\n",
              "function _uploadFilesContinue(outputId) {\n",
              "  const outputElement = document.getElementById(outputId);\n",
              "  const steps = outputElement.steps;\n",
              "\n",
              "  const next = steps.next(outputElement.lastPromiseValue);\n",
              "  return Promise.resolve(next.value.promise).then((value) => {\n",
              "    // Cache the last promise value to make it available to the next\n",
              "    // step of the generator.\n",
              "    outputElement.lastPromiseValue = value;\n",
              "    return next.value.response;\n",
              "  });\n",
              "}\n",
              "\n",
              "/**\n",
              " * Generator function which is called between each async step of the upload\n",
              " * process.\n",
              " * @param {string} inputId Element ID of the input file picker element.\n",
              " * @param {string} outputId Element ID of the output display.\n",
              " * @return {!Iterable<!Object>} Iterable of next steps.\n",
              " */\n",
              "function* uploadFilesStep(inputId, outputId) {\n",
              "  const inputElement = document.getElementById(inputId);\n",
              "  inputElement.disabled = false;\n",
              "\n",
              "  const outputElement = document.getElementById(outputId);\n",
              "  outputElement.innerHTML = '';\n",
              "\n",
              "  const pickedPromise = new Promise((resolve) => {\n",
              "    inputElement.addEventListener('change', (e) => {\n",
              "      resolve(e.target.files);\n",
              "    });\n",
              "  });\n",
              "\n",
              "  const cancel = document.createElement('button');\n",
              "  inputElement.parentElement.appendChild(cancel);\n",
              "  cancel.textContent = 'Cancel upload';\n",
              "  const cancelPromise = new Promise((resolve) => {\n",
              "    cancel.onclick = () => {\n",
              "      resolve(null);\n",
              "    };\n",
              "  });\n",
              "\n",
              "  // Wait for the user to pick the files.\n",
              "  const files = yield {\n",
              "    promise: Promise.race([pickedPromise, cancelPromise]),\n",
              "    response: {\n",
              "      action: 'starting',\n",
              "    }\n",
              "  };\n",
              "\n",
              "  cancel.remove();\n",
              "\n",
              "  // Disable the input element since further picks are not allowed.\n",
              "  inputElement.disabled = true;\n",
              "\n",
              "  if (!files) {\n",
              "    return {\n",
              "      response: {\n",
              "        action: 'complete',\n",
              "      }\n",
              "    };\n",
              "  }\n",
              "\n",
              "  for (const file of files) {\n",
              "    const li = document.createElement('li');\n",
              "    li.append(span(file.name, {fontWeight: 'bold'}));\n",
              "    li.append(span(\n",
              "        `(${file.type || 'n/a'}) - ${file.size} bytes, ` +\n",
              "        `last modified: ${\n",
              "            file.lastModifiedDate ? file.lastModifiedDate.toLocaleDateString() :\n",
              "                                    'n/a'} - `));\n",
              "    const percent = span('0% done');\n",
              "    li.appendChild(percent);\n",
              "\n",
              "    outputElement.appendChild(li);\n",
              "\n",
              "    const fileDataPromise = new Promise((resolve) => {\n",
              "      const reader = new FileReader();\n",
              "      reader.onload = (e) => {\n",
              "        resolve(e.target.result);\n",
              "      };\n",
              "      reader.readAsArrayBuffer(file);\n",
              "    });\n",
              "    // Wait for the data to be ready.\n",
              "    let fileData = yield {\n",
              "      promise: fileDataPromise,\n",
              "      response: {\n",
              "        action: 'continue',\n",
              "      }\n",
              "    };\n",
              "\n",
              "    // Use a chunked sending to avoid message size limits. See b/62115660.\n",
              "    let position = 0;\n",
              "    do {\n",
              "      const length = Math.min(fileData.byteLength - position, MAX_PAYLOAD_SIZE);\n",
              "      const chunk = new Uint8Array(fileData, position, length);\n",
              "      position += length;\n",
              "\n",
              "      const base64 = btoa(String.fromCharCode.apply(null, chunk));\n",
              "      yield {\n",
              "        response: {\n",
              "          action: 'append',\n",
              "          file: file.name,\n",
              "          data: base64,\n",
              "        },\n",
              "      };\n",
              "\n",
              "      let percentDone = fileData.byteLength === 0 ?\n",
              "          100 :\n",
              "          Math.round((position / fileData.byteLength) * 100);\n",
              "      percent.textContent = `${percentDone}% done`;\n",
              "\n",
              "    } while (position < fileData.byteLength);\n",
              "  }\n",
              "\n",
              "  // All done.\n",
              "  yield {\n",
              "    response: {\n",
              "      action: 'complete',\n",
              "    }\n",
              "  };\n",
              "}\n",
              "\n",
              "scope.google = scope.google || {};\n",
              "scope.google.colab = scope.google.colab || {};\n",
              "scope.google.colab._files = {\n",
              "  _uploadFiles,\n",
              "  _uploadFilesContinue,\n",
              "};\n",
              "})(self);\n",
              "</script> "
            ]
          },
          "metadata": {}
        },
        {
          "output_type": "stream",
          "name": "stdout",
          "text": [
            "Saving EmployeeSalary.csv to EmployeeSalary (1).csv\n"
          ]
        }
      ]
    },
    {
      "cell_type": "code",
      "source": [
        "# creating a spark session\n",
        "sc = SparkSession.builder.appName('sales').getOrCreate()"
      ],
      "metadata": {
        "id": "d9Dr2CWnusBR"
      },
      "execution_count": 136,
      "outputs": []
    },
    {
      "cell_type": "code",
      "source": [
        "# reading the excel file\n",
        "df = sc.read.csv('/content/EmployeeSalary.csv', header = True, inferSchema = True)\n",
        "df.show(20)"
      ],
      "metadata": {
        "colab": {
          "base_uri": "https://localhost:8080/"
        },
        "id": "auyuT90iu-40",
        "outputId": "4eeb3858-5839-43b5-f2df-3b022df6672f"
      },
      "execution_count": 137,
      "outputs": [
        {
          "output_type": "stream",
          "name": "stdout",
          "text": [
            "+----------+--------------------+--------------------+------+----------+-----------+------------+-----+\n",
            "|Department|      DepartmentName|            Division|Gender|BaseSalary|OvertimePay|LongevityPay|Grade|\n",
            "+----------+--------------------+--------------------+------+----------+-----------+------------+-----+\n",
            "|       ABS|Alcohol Beverage ...|Wholesale Adminis...|     F|   78902.0|     199.17|         0.0|   18|\n",
            "|       ABS|Alcohol Beverage ...|Administrative Se...|     F|   35926.0|        0.0|     4038.91|   16|\n",
            "|       ABS|Alcohol Beverage ...|      Administration|     M|  167345.0|        0.0|         0.0|   M2|\n",
            "|       ABS|Alcohol Beverage ...|Wholesale Operations|     F|   90848.0|        0.0|     5717.68|   21|\n",
            "|       ABS|Alcohol Beverage ...|      Administration|     F|   78902.0|     205.16|     2460.24|   18|\n",
            "|       ABS|Alcohol Beverage ...|           Marketing|     F|  109761.0|        0.0|         0.0|   25|\n",
            "|       ABS|Alcohol Beverage ...|Beer Delivery Ope...|     M|   68575.0|    6605.54|         0.0|   15|\n",
            "|       ABS|Alcohol Beverage ...|Liquor and Wine D...|     M|  50604.28|     804.88|         0.0|   10|\n",
            "|       ABS|Alcohol Beverage ...|Beer Delivery Ope...|     M|   50865.5|    4140.43|         0.0|   10|\n",
            "|       ABS|Alcohol Beverage ...|Liquor and Wine D...|     M|  49359.65|    4084.43|         0.0|   10|\n",
            "|       ABS|Alcohol Beverage ...|Licensure, Regula...|     M|   90848.0|        0.0|         0.0|   21|\n",
            "|       ABS|Alcohol Beverage ...|Liquor and Wine D...|     M|  63424.48|        0.0|         0.0|   15|\n",
            "|       ABS|Alcohol Beverage ...|             Potomac|     M|  80050.85|     193.32|         0.0|   21|\n",
            "|       ABS|Alcohol Beverage ...|        Burtonsville|     M|  43827.02|        0.0|         0.0|   12|\n",
            "|       ABS|Alcohol Beverage ...|Liquor and WIne L...|     M|   75290.0|   15146.04|         0.0|   17|\n",
            "|       ABS|Alcohol Beverage ...|             Wheaton|     M|   65464.0|     622.26|     4140.72|   14|\n",
            "|       ABS|Alcohol Beverage ...|            Cloverly|     M|   90848.0|        0.0|         0.0|   21|\n",
            "|       ABS|Alcohol Beverage ...|Beer Delivery Ope...|     M|   54407.0|    4223.06|     1570.07|   10|\n",
            "|       ABS|Alcohol Beverage ...|            Westwood|     M|  77336.55|     1519.7|         0.0|   21|\n",
            "|       ABS|Alcohol Beverage ...|          Cabin John|     M|   90848.0|        0.0|         0.0|   21|\n",
            "+----------+--------------------+--------------------+------+----------+-----------+------------+-----+\n",
            "only showing top 20 rows\n",
            "\n"
          ]
        }
      ]
    },
    {
      "cell_type": "code",
      "source": [
        "df.createOrReplaceTempView('dataframe')\n",
        "size = sc.sql(\"SELECT COUNT(*) FROM dataframe\").show()"
      ],
      "metadata": {
        "colab": {
          "base_uri": "https://localhost:8080/"
        },
        "id": "z9d_Jx7MvDlG",
        "outputId": "bc6c8e56-6326-4c0d-fed8-aa3aba0a30f1"
      },
      "execution_count": 138,
      "outputs": [
        {
          "output_type": "stream",
          "name": "stdout",
          "text": [
            "+--------+\n",
            "|count(1)|\n",
            "+--------+\n",
            "|    9958|\n",
            "+--------+\n",
            "\n"
          ]
        }
      ]
    },
    {
      "cell_type": "code",
      "source": [
        "df.printSchema()"
      ],
      "metadata": {
        "colab": {
          "base_uri": "https://localhost:8080/"
        },
        "id": "7FJJUU7qwtnN",
        "outputId": "96b85a89-80fb-46ac-a63e-cef7abf781f4"
      },
      "execution_count": 139,
      "outputs": [
        {
          "output_type": "stream",
          "name": "stdout",
          "text": [
            "root\n",
            " |-- Department: string (nullable = true)\n",
            " |-- DepartmentName: string (nullable = true)\n",
            " |-- Division: string (nullable = true)\n",
            " |-- Gender: string (nullable = true)\n",
            " |-- BaseSalary: double (nullable = true)\n",
            " |-- OvertimePay: double (nullable = true)\n",
            " |-- LongevityPay: double (nullable = true)\n",
            " |-- Grade: string (nullable = true)\n",
            "\n"
          ]
        }
      ]
    },
    {
      "cell_type": "code",
      "source": [
        "df.columns"
      ],
      "metadata": {
        "colab": {
          "base_uri": "https://localhost:8080/"
        },
        "id": "YxAm3t2lxcS-",
        "outputId": "548b01ec-b3ac-4dbb-d0aa-2f7d59fd35c4"
      },
      "execution_count": 140,
      "outputs": [
        {
          "output_type": "execute_result",
          "data": {
            "text/plain": [
              "['Department',\n",
              " 'DepartmentName',\n",
              " 'Division',\n",
              " 'Gender',\n",
              " 'BaseSalary',\n",
              " 'OvertimePay',\n",
              " 'LongevityPay',\n",
              " 'Grade']"
            ]
          },
          "metadata": {},
          "execution_count": 140
        }
      ]
    },
    {
      "cell_type": "code",
      "source": [
        "df_Columns=['Department',\n",
        " 'DepartmentName',\n",
        " 'Division',\n",
        " 'Gender',\n",
        " 'BaseSalary',\n",
        " 'OvertimePay',\n",
        " 'LongevityPay',\n",
        " 'Grade']\n",
        "df.select([count(when(isnan(c) | col(c).isNull(), c)).alias(c) for c in df_Columns]).show()"
      ],
      "metadata": {
        "colab": {
          "base_uri": "https://localhost:8080/"
        },
        "id": "U2eKLAz6xEew",
        "outputId": "9ed51900-829a-49db-ef60-fbf24cfc528f"
      },
      "execution_count": 141,
      "outputs": [
        {
          "output_type": "stream",
          "name": "stdout",
          "text": [
            "+----------+--------------+--------+------+----------+-----------+------------+-----+\n",
            "|Department|DepartmentName|Division|Gender|BaseSalary|OvertimePay|LongevityPay|Grade|\n",
            "+----------+--------------+--------+------+----------+-----------+------------+-----+\n",
            "|         0|             0|       0|     0|         0|          0|           0|    0|\n",
            "+----------+--------------+--------+------+----------+-----------+------------+-----+\n",
            "\n"
          ]
        }
      ]
    },
    {
      "cell_type": "code",
      "source": [
        "df = df.na.drop('any')"
      ],
      "metadata": {
        "id": "BI2LR2FXxXvN"
      },
      "execution_count": 142,
      "outputs": []
    },
    {
      "cell_type": "code",
      "source": [
        "# adding a new col as MaxSalary with over partion of the department\n",
        "res = sc.sql(\n",
        "    \"SELECT d.*,\\\n",
        "    max(BaseSalary) OVER(PARTITION BY DepartmentName) as MaxSalary\\\n",
        "    FROM dataframe d\\\n",
        "    \"\n",
        ").show()"
      ],
      "metadata": {
        "colab": {
          "base_uri": "https://localhost:8080/"
        },
        "id": "h-7Kotef4KaR",
        "outputId": "20016595-9676-4ed1-dd4f-ec1377407601"
      },
      "execution_count": 143,
      "outputs": [
        {
          "output_type": "stream",
          "name": "stdout",
          "text": [
            "+----------+--------------------+--------------------+------+----------+-----------+------------+-----+---------+\n",
            "|Department|      DepartmentName|            Division|Gender|BaseSalary|OvertimePay|LongevityPay|Grade|MaxSalary|\n",
            "+----------+--------------------+--------------------+------+----------+-----------+------------+-----+---------+\n",
            "|       ABS|Alcohol Beverage ...|Wholesale Adminis...|     F|   78902.0|     199.17|         0.0|   18| 220000.0|\n",
            "|       ABS|Alcohol Beverage ...|Administrative Se...|     F|   35926.0|        0.0|     4038.91|   16| 220000.0|\n",
            "|       ABS|Alcohol Beverage ...|      Administration|     M|  167345.0|        0.0|         0.0|   M2| 220000.0|\n",
            "|       ABS|Alcohol Beverage ...|Wholesale Operations|     F|   90848.0|        0.0|     5717.68|   21| 220000.0|\n",
            "|       ABS|Alcohol Beverage ...|      Administration|     F|   78902.0|     205.16|     2460.24|   18| 220000.0|\n",
            "|       ABS|Alcohol Beverage ...|           Marketing|     F|  109761.0|        0.0|         0.0|   25| 220000.0|\n",
            "|       ABS|Alcohol Beverage ...|Beer Delivery Ope...|     M|   68575.0|    6605.54|         0.0|   15| 220000.0|\n",
            "|       ABS|Alcohol Beverage ...|Liquor and Wine D...|     M|  50604.28|     804.88|         0.0|   10| 220000.0|\n",
            "|       ABS|Alcohol Beverage ...|Beer Delivery Ope...|     M|   50865.5|    4140.43|         0.0|   10| 220000.0|\n",
            "|       ABS|Alcohol Beverage ...|Liquor and Wine D...|     M|  49359.65|    4084.43|         0.0|   10| 220000.0|\n",
            "|       ABS|Alcohol Beverage ...|Licensure, Regula...|     M|   90848.0|        0.0|         0.0|   21| 220000.0|\n",
            "|       ABS|Alcohol Beverage ...|Liquor and Wine D...|     M|  63424.48|        0.0|         0.0|   15| 220000.0|\n",
            "|       ABS|Alcohol Beverage ...|             Potomac|     M|  80050.85|     193.32|         0.0|   21| 220000.0|\n",
            "|       ABS|Alcohol Beverage ...|        Burtonsville|     M|  43827.02|        0.0|         0.0|   12| 220000.0|\n",
            "|       ABS|Alcohol Beverage ...|Liquor and WIne L...|     M|   75290.0|   15146.04|         0.0|   17| 220000.0|\n",
            "|       ABS|Alcohol Beverage ...|             Wheaton|     M|   65464.0|     622.26|     4140.72|   14| 220000.0|\n",
            "|       ABS|Alcohol Beverage ...|            Cloverly|     M|   90848.0|        0.0|         0.0|   21| 220000.0|\n",
            "|       ABS|Alcohol Beverage ...|Beer Delivery Ope...|     M|   54407.0|    4223.06|     1570.07|   10| 220000.0|\n",
            "|       ABS|Alcohol Beverage ...|            Westwood|     M|  77336.55|     1519.7|         0.0|   21| 220000.0|\n",
            "|       ABS|Alcohol Beverage ...|          Cabin John|     M|   90848.0|        0.0|         0.0|   21| 220000.0|\n",
            "+----------+--------------------+--------------------+------+----------+-----------+------------+-----+---------+\n",
            "only showing top 20 rows\n",
            "\n"
          ]
        }
      ]
    },
    {
      "cell_type": "code",
      "source": [
        "# adding row_number which is partitioned by department\n",
        "\n",
        "row = sc.sql(\"SELECT d.*,\\\n",
        "            row_number() OVER(PARTITION BY DEPARTMENT ORDER BY DEPARTMENT) AS rowID\\\n",
        "            FROM dataframe d\").show(10)"
      ],
      "metadata": {
        "colab": {
          "base_uri": "https://localhost:8080/"
        },
        "id": "ss05wZUR2P3N",
        "outputId": "aed66658-bd14-4f69-a112-de8fc49f09c0"
      },
      "execution_count": 144,
      "outputs": [
        {
          "output_type": "stream",
          "name": "stdout",
          "text": [
            "+----------+--------------------+--------------------+------+----------+-----------+------------+-----+-----+\n",
            "|Department|      DepartmentName|            Division|Gender|BaseSalary|OvertimePay|LongevityPay|Grade|rowID|\n",
            "+----------+--------------------+--------------------+------+----------+-----------+------------+-----+-----+\n",
            "|       ABS|Alcohol Beverage ...|Wholesale Adminis...|     F|   78902.0|     199.17|         0.0|   18|    1|\n",
            "|       ABS|Alcohol Beverage ...|Administrative Se...|     F|   35926.0|        0.0|     4038.91|   16|    2|\n",
            "|       ABS|Alcohol Beverage ...|      Administration|     M|  167345.0|        0.0|         0.0|   M2|    3|\n",
            "|       ABS|Alcohol Beverage ...|Wholesale Operations|     F|   90848.0|        0.0|     5717.68|   21|    4|\n",
            "|       ABS|Alcohol Beverage ...|      Administration|     F|   78902.0|     205.16|     2460.24|   18|    5|\n",
            "|       ABS|Alcohol Beverage ...|           Marketing|     F|  109761.0|        0.0|         0.0|   25|    6|\n",
            "|       ABS|Alcohol Beverage ...|Beer Delivery Ope...|     M|   68575.0|    6605.54|         0.0|   15|    7|\n",
            "|       ABS|Alcohol Beverage ...|Liquor and Wine D...|     M|  50604.28|     804.88|         0.0|   10|    8|\n",
            "|       ABS|Alcohol Beverage ...|Beer Delivery Ope...|     M|   50865.5|    4140.43|         0.0|   10|    9|\n",
            "|       ABS|Alcohol Beverage ...|Liquor and Wine D...|     M|  49359.65|    4084.43|         0.0|   10|   10|\n",
            "+----------+--------------------+--------------------+------+----------+-----------+------------+-----+-----+\n",
            "only showing top 10 rows\n",
            "\n"
          ]
        }
      ]
    },
    {
      "cell_type": "code",
      "source": [
        "# extracting first two employee from each department \n",
        "row = sc.sql(\"SELECT * FROM \\\n",
        "                (SELECT d.*,\\\n",
        "                    row_number()\\\n",
        "                    OVER(PARTITION BY Department ORDER BY Department) AS rowID\\\n",
        "                    FROM dataframe d ) x \\\n",
        "                WHERE x.rowID < 3\").show(10)"
      ],
      "metadata": {
        "colab": {
          "base_uri": "https://localhost:8080/"
        },
        "id": "3vXSjZU_Bilc",
        "outputId": "f7c49b4a-ca0e-4c17-d15c-10f15fbd2a38"
      },
      "execution_count": 145,
      "outputs": [
        {
          "output_type": "stream",
          "name": "stdout",
          "text": [
            "+----------+--------------------+--------------------+------+----------+-----------+------------+-----+-----+\n",
            "|Department|      DepartmentName|            Division|Gender|BaseSalary|OvertimePay|LongevityPay|Grade|rowID|\n",
            "+----------+--------------------+--------------------+------+----------+-----------+------------+-----+-----+\n",
            "|       ABS|Alcohol Beverage ...|Wholesale Adminis...|     F|   78902.0|     199.17|         0.0|   18|    1|\n",
            "|       ABS|Alcohol Beverage ...|Administrative Se...|     F|   35926.0|        0.0|     4038.91|   16|    2|\n",
            "|       BOA|Board of Appeals ...|Board of Appeals ...|     F|   78902.0|        0.0|         0.0|   18|    1|\n",
            "|       BOA|Board of Appeals ...|Board of Appeals ...|     F|  58481.91|        0.0|         0.0|   16|    2|\n",
            "|       BOE|  Board of Elections|            Director|     F| 183654.18|        0.0|         0.0|   M1|    1|\n",
            "|       BOE|  Board of Elections|Registration Serv...|     F|   62488.0|    5622.07|         0.0|   13|    2|\n",
            "|       CAT|County Attorney's...|      Administration|     F|  93767.64|        0.0|         0.0|   23|    1|\n",
            "|       CAT|County Attorney's...|    Support Services|     F|   99852.0|        0.0|         0.0|   23|    2|\n",
            "|       CCL|      County Council|Council Members a...|     F|  169326.0|        0.0|         0.0|    0|    1|\n",
            "|       CCL|      County Council|Council Central S...|     F|   99852.0|        0.0|         0.0|   23|    2|\n",
            "+----------+--------------------+--------------------+------+----------+-----------+------------+-----+-----+\n",
            "only showing top 10 rows\n",
            "\n"
          ]
        }
      ]
    },
    {
      "cell_type": "code",
      "source": [
        "# employee from each department earing  salary ordered using rank function\n",
        "# for every duplicate record with same rank it will skip a rank eg: rank : 1,2,2,4 : this means there are two employee with rank 2, so it skips rank 3 and  goes to rank 4\n",
        "rank = sc.sql(\"SELECT d.*,\\\n",
        "                rank() \\\n",
        "                OVER(PARTITION BY Department ORDER BY BaseSalary DESC )as rnk\\\n",
        "            FROM dataframe d\").show()"
      ],
      "metadata": {
        "colab": {
          "base_uri": "https://localhost:8080/"
        },
        "id": "eNZuv5LGF9cy",
        "outputId": "ed101eba-f91c-4aeb-dc77-66e2a91148d1"
      },
      "execution_count": 146,
      "outputs": [
        {
          "output_type": "stream",
          "name": "stdout",
          "text": [
            "+----------+--------------------+--------------------+------+----------+-----------+------------+-----+---+\n",
            "|Department|      DepartmentName|            Division|Gender|BaseSalary|OvertimePay|LongevityPay|Grade|rnk|\n",
            "+----------+--------------------+--------------------+------+----------+-----------+------------+-----+---+\n",
            "|       ABS|Alcohol Beverage ...|            Director|     M|  220000.0|        0.0|         0.0|    0|  1|\n",
            "|       ABS|Alcohol Beverage ...|      Administration|     M|  167345.0|        0.0|         0.0|   M2|  2|\n",
            "|       ABS|Alcohol Beverage ...|Licensure, Regula...|     F|  167345.0|        0.0|         0.0|   M2|  2|\n",
            "|       ABS|Alcohol Beverage ...|Wholesale Adminis...|     M|  167345.0|        0.0|         0.0|   M2|  2|\n",
            "|       ABS|Alcohol Beverage ...|           Marketing|     F| 164193.05|        0.0|         0.0|   M2|  5|\n",
            "|       ABS|Alcohol Beverage ...|Retail Administra...|     M|  156442.5|        0.0|         0.0|   M2|  6|\n",
            "|       ABS|Alcohol Beverage ...|Administrative Se...|     M|  144751.0|        0.0|         0.0|   M3|  7|\n",
            "|       ABS|Alcohol Beverage ...|      Administration|     M| 144148.63|        0.0|         0.0|   M3|  8|\n",
            "|       ABS|Alcohol Beverage ...|Retail Administra...|     F| 138556.12|        0.0|         0.0|   M3|  9|\n",
            "|       ABS|Alcohol Beverage ...|   IT Administration|     M|  126584.0|     273.87|         0.0|   28| 10|\n",
            "|       ABS|Alcohol Beverage ...|   IT Administration|     F|  126584.0|        0.0|         0.0|   28| 10|\n",
            "|       ABS|Alcohol Beverage ...|Wholesale Adminis...|     M|  125000.0|        0.0|         0.0|   M3| 12|\n",
            "|       ABS|Alcohol Beverage ...|Administrative Se...|     F|  123170.0|        0.0|         0.0|   M3| 13|\n",
            "|       ABS|Alcohol Beverage ...|      Administration|     M| 122008.53|        0.0|         0.0|   M3| 14|\n",
            "|       ABS|Alcohol Beverage ...|Wholesale Adminis...|     M|  120000.0|     692.32|         0.0|   M3| 15|\n",
            "|       ABS|Alcohol Beverage ...|   IT Administration|     F|  115099.0|        0.0|     3587.76|   26| 16|\n",
            "|       ABS|Alcohol Beverage ...|           Marketing|     F|  109761.0|        0.0|         0.0|   25| 17|\n",
            "|       ABS|Alcohol Beverage ...|Licensure, Regula...|     M|  109761.0|        0.0|     2280.96|   25| 17|\n",
            "|       ABS|Alcohol Beverage ...|Licensure, Regula...|     F|  109761.0|        0.0|         0.0|   25| 17|\n",
            "|       ABS|Alcohol Beverage ...|Administrative Se...|     F|  109761.0|        0.0|         0.0|   25| 17|\n",
            "+----------+--------------------+--------------------+------+----------+-----------+------------+-----+---+\n",
            "only showing top 20 rows\n",
            "\n"
          ]
        }
      ]
    },
    {
      "cell_type": "code",
      "source": [
        "# top3 exployee with highest salary partitioned by department \n",
        "rank_3 = sc.sql(\"SELECT * FROM (SELECT d.*,\\\n",
        "                rank() \\\n",
        "                OVER(PARTITION BY Department ORDER BY BaseSalary DESC )as rnk\\\n",
        "            FROM dataframe d) x WHERE x.rnk < 4 \").show()"
      ],
      "metadata": {
        "colab": {
          "base_uri": "https://localhost:8080/"
        },
        "id": "hZsRHjhkHq8g",
        "outputId": "bd4ffdb5-b8bf-4d4f-c7f2-e46ad10359a6"
      },
      "execution_count": 147,
      "outputs": [
        {
          "output_type": "stream",
          "name": "stdout",
          "text": [
            "+----------+--------------------+--------------------+------+----------+-----------+------------+-----+---+\n",
            "|Department|      DepartmentName|            Division|Gender|BaseSalary|OvertimePay|LongevityPay|Grade|rnk|\n",
            "+----------+--------------------+--------------------+------+----------+-----------+------------+-----+---+\n",
            "|       ABS|Alcohol Beverage ...|            Director|     M|  220000.0|        0.0|         0.0|    0|  1|\n",
            "|       ABS|Alcohol Beverage ...|      Administration|     M|  167345.0|        0.0|         0.0|   M2|  2|\n",
            "|       ABS|Alcohol Beverage ...|Licensure, Regula...|     F|  167345.0|        0.0|         0.0|   M2|  2|\n",
            "|       ABS|Alcohol Beverage ...|Wholesale Adminis...|     M|  167345.0|        0.0|         0.0|   M2|  2|\n",
            "|       BOA|Board of Appeals ...|  Executive Director|     F|  144751.0|        0.0|         0.0|   M3|  1|\n",
            "|       BOA|Board of Appeals ...|Board of Appeals ...|     F|   78902.0|        0.0|         0.0|   18|  2|\n",
            "|       BOA|Board of Appeals ...|Board of Appeals ...|     F|  58481.91|        0.0|         0.0|   16|  3|\n",
            "|       BOE|  Board of Elections|            Director|     F| 183654.18|        0.0|         0.0|   M1|  1|\n",
            "|       BOE|  Board of Elections|   Director's Office|     F| 144746.29|        0.0|         0.0|   M3|  2|\n",
            "|       BOE|  Board of Elections|Information Techn...|     F| 115627.88|        0.0|         0.0|   28|  3|\n",
            "|       CAT|County Attorney's...|     County Attorney|     M|  210143.0|        0.0|         0.0|    0|  1|\n",
            "|       CAT|County Attorney's...|      Administration|     M|  187233.0|        0.0|         0.0|   M1|  2|\n",
            "|       CAT|County Attorney's...|Human Resources a...|     F|  167345.0|        0.0|         0.0|   M2|  3|\n",
            "|       CAT|County Attorney's...|Government Operat...|     M|  167345.0|        0.0|         0.0|   M2|  3|\n",
            "|       CAT|County Attorney's...|Zoning, Land Use ...|     M|  167345.0|        0.0|         0.0|   M2|  3|\n",
            "|       CAT|County Attorney's...|Finance and Procu...|     M|  167345.0|        0.0|         0.0|   M2|  3|\n",
            "|       CCL|      County Council|Council Central S...|     F|  206000.0|        0.0|         0.0|    0|  1|\n",
            "|       CCL|      County Council|Council Members a...|     F| 182232.46|        0.0|         0.0|    0|  2|\n",
            "|       CCL|      County Council|Council Central S...|     M|  176000.0|        0.0|         0.0|   M1|  3|\n",
            "|       CEC|Community Engagem...|Regional Services...|     F| 186735.34|        0.0|         0.0|   M1|  1|\n",
            "+----------+--------------------+--------------------+------+----------+-----------+------------+-----+---+\n",
            "only showing top 20 rows\n",
            "\n"
          ]
        }
      ]
    },
    {
      "cell_type": "code",
      "source": [
        "# dense rank and row number\n",
        "\n",
        "dns_rank = sc.sql(\n",
        "    \"SELECT d.*,\\\n",
        "        rank() OVER(PARTITION BY Department ORDER BY BaseSalary DESC) as rnk,\\\n",
        "        dense_rank() OVER(PARTITION BY Department ORDER BY BaseSalary DESC) as DENSE_rnk,\\\n",
        "        row_number() OVER(PARTITION BY Department ORDER BY BaseSalary DESC) as rn\\\n",
        "    FROM dataframe d\").show()"
      ],
      "metadata": {
        "colab": {
          "base_uri": "https://localhost:8080/"
        },
        "id": "BSrRTxaVI6ay",
        "outputId": "ee353a9b-012b-4c5b-c012-bb3b6082aff2"
      },
      "execution_count": 148,
      "outputs": [
        {
          "output_type": "stream",
          "name": "stdout",
          "text": [
            "+----------+--------------------+--------------------+------+----------+-----------+------------+-----+---+---------+---+\n",
            "|Department|      DepartmentName|            Division|Gender|BaseSalary|OvertimePay|LongevityPay|Grade|rnk|DENSE_rnk| rn|\n",
            "+----------+--------------------+--------------------+------+----------+-----------+------------+-----+---+---------+---+\n",
            "|       ABS|Alcohol Beverage ...|            Director|     M|  220000.0|        0.0|         0.0|    0|  1|        1|  1|\n",
            "|       ABS|Alcohol Beverage ...|      Administration|     M|  167345.0|        0.0|         0.0|   M2|  2|        2|  2|\n",
            "|       ABS|Alcohol Beverage ...|Licensure, Regula...|     F|  167345.0|        0.0|         0.0|   M2|  2|        2|  3|\n",
            "|       ABS|Alcohol Beverage ...|Wholesale Adminis...|     M|  167345.0|        0.0|         0.0|   M2|  2|        2|  4|\n",
            "|       ABS|Alcohol Beverage ...|           Marketing|     F| 164193.05|        0.0|         0.0|   M2|  5|        3|  5|\n",
            "|       ABS|Alcohol Beverage ...|Retail Administra...|     M|  156442.5|        0.0|         0.0|   M2|  6|        4|  6|\n",
            "|       ABS|Alcohol Beverage ...|Administrative Se...|     M|  144751.0|        0.0|         0.0|   M3|  7|        5|  7|\n",
            "|       ABS|Alcohol Beverage ...|      Administration|     M| 144148.63|        0.0|         0.0|   M3|  8|        6|  8|\n",
            "|       ABS|Alcohol Beverage ...|Retail Administra...|     F| 138556.12|        0.0|         0.0|   M3|  9|        7|  9|\n",
            "|       ABS|Alcohol Beverage ...|   IT Administration|     M|  126584.0|     273.87|         0.0|   28| 10|        8| 10|\n",
            "|       ABS|Alcohol Beverage ...|   IT Administration|     F|  126584.0|        0.0|         0.0|   28| 10|        8| 11|\n",
            "|       ABS|Alcohol Beverage ...|Wholesale Adminis...|     M|  125000.0|        0.0|         0.0|   M3| 12|        9| 12|\n",
            "|       ABS|Alcohol Beverage ...|Administrative Se...|     F|  123170.0|        0.0|         0.0|   M3| 13|       10| 13|\n",
            "|       ABS|Alcohol Beverage ...|      Administration|     M| 122008.53|        0.0|         0.0|   M3| 14|       11| 14|\n",
            "|       ABS|Alcohol Beverage ...|Wholesale Adminis...|     M|  120000.0|     692.32|         0.0|   M3| 15|       12| 15|\n",
            "|       ABS|Alcohol Beverage ...|   IT Administration|     F|  115099.0|        0.0|     3587.76|   26| 16|       13| 16|\n",
            "|       ABS|Alcohol Beverage ...|           Marketing|     F|  109761.0|        0.0|         0.0|   25| 17|       14| 17|\n",
            "|       ABS|Alcohol Beverage ...|Licensure, Regula...|     M|  109761.0|        0.0|     2280.96|   25| 17|       14| 18|\n",
            "|       ABS|Alcohol Beverage ...|Licensure, Regula...|     F|  109761.0|        0.0|         0.0|   25| 17|       14| 19|\n",
            "|       ABS|Alcohol Beverage ...|Administrative Se...|     F|  109761.0|        0.0|         0.0|   25| 17|       14| 20|\n",
            "+----------+--------------------+--------------------+------+----------+-----------+------------+-----+---+---------+---+\n",
            "only showing top 20 rows\n",
            "\n"
          ]
        }
      ]
    },
    {
      "cell_type": "code",
      "source": [
        "# LEAD and LAG function: Suppose if you want to check if the salary to the curretn employ is lower or greater than the pervious employee\n",
        "# LAG(col, 2, 0): generates a lag column by using the info from specified col in the function and parameter '2', is it looks two steps behind and fills 0 to the lagged space.\n",
        "ld = sc.sql(\n",
        "    \"SELECT d.*,\\\n",
        "    lAG(BaseSalary, 2,0) OVER(PARTITION BY Department ORDER BY Department) as preSalary\\\n",
        "    FROM dataframe d\").show()"
      ],
      "metadata": {
        "colab": {
          "base_uri": "https://localhost:8080/"
        },
        "id": "q2ERoEBLJ_p5",
        "outputId": "53f78dc0-2111-4302-e212-be44100c1ee9"
      },
      "execution_count": 149,
      "outputs": [
        {
          "output_type": "stream",
          "name": "stdout",
          "text": [
            "+----------+--------------------+--------------------+------+----------+-----------+------------+-----+---------+\n",
            "|Department|      DepartmentName|            Division|Gender|BaseSalary|OvertimePay|LongevityPay|Grade|preSalary|\n",
            "+----------+--------------------+--------------------+------+----------+-----------+------------+-----+---------+\n",
            "|       ABS|Alcohol Beverage ...|Wholesale Adminis...|     F|   78902.0|     199.17|         0.0|   18|      0.0|\n",
            "|       ABS|Alcohol Beverage ...|Administrative Se...|     F|   35926.0|        0.0|     4038.91|   16|      0.0|\n",
            "|       ABS|Alcohol Beverage ...|      Administration|     M|  167345.0|        0.0|         0.0|   M2|  78902.0|\n",
            "|       ABS|Alcohol Beverage ...|Wholesale Operations|     F|   90848.0|        0.0|     5717.68|   21|  35926.0|\n",
            "|       ABS|Alcohol Beverage ...|      Administration|     F|   78902.0|     205.16|     2460.24|   18| 167345.0|\n",
            "|       ABS|Alcohol Beverage ...|           Marketing|     F|  109761.0|        0.0|         0.0|   25|  90848.0|\n",
            "|       ABS|Alcohol Beverage ...|Beer Delivery Ope...|     M|   68575.0|    6605.54|         0.0|   15|  78902.0|\n",
            "|       ABS|Alcohol Beverage ...|Liquor and Wine D...|     M|  50604.28|     804.88|         0.0|   10| 109761.0|\n",
            "|       ABS|Alcohol Beverage ...|Beer Delivery Ope...|     M|   50865.5|    4140.43|         0.0|   10|  68575.0|\n",
            "|       ABS|Alcohol Beverage ...|Liquor and Wine D...|     M|  49359.65|    4084.43|         0.0|   10| 50604.28|\n",
            "|       ABS|Alcohol Beverage ...|Licensure, Regula...|     M|   90848.0|        0.0|         0.0|   21|  50865.5|\n",
            "|       ABS|Alcohol Beverage ...|Liquor and Wine D...|     M|  63424.48|        0.0|         0.0|   15| 49359.65|\n",
            "|       ABS|Alcohol Beverage ...|             Potomac|     M|  80050.85|     193.32|         0.0|   21|  90848.0|\n",
            "|       ABS|Alcohol Beverage ...|        Burtonsville|     M|  43827.02|        0.0|         0.0|   12| 63424.48|\n",
            "|       ABS|Alcohol Beverage ...|Liquor and WIne L...|     M|   75290.0|   15146.04|         0.0|   17| 80050.85|\n",
            "|       ABS|Alcohol Beverage ...|             Wheaton|     M|   65464.0|     622.26|     4140.72|   14| 43827.02|\n",
            "|       ABS|Alcohol Beverage ...|            Cloverly|     M|   90848.0|        0.0|         0.0|   21|  75290.0|\n",
            "|       ABS|Alcohol Beverage ...|Beer Delivery Ope...|     M|   54407.0|    4223.06|     1570.07|   10|  65464.0|\n",
            "|       ABS|Alcohol Beverage ...|            Westwood|     M|  77336.55|     1519.7|         0.0|   21|  90848.0|\n",
            "|       ABS|Alcohol Beverage ...|          Cabin John|     M|   90848.0|        0.0|         0.0|   21|  54407.0|\n",
            "+----------+--------------------+--------------------+------+----------+-----------+------------+-----+---------+\n",
            "only showing top 20 rows\n",
            "\n"
          ]
        }
      ]
    },
    {
      "cell_type": "code",
      "source": [
        "# LEAD function\n",
        "ld = sc.sql(\n",
        "    \"SELECT d.*,\\\n",
        "    lAG(BaseSalary) OVER(PARTITION BY Department ORDER BY Department) as preSalary,\\\n",
        "    lEAD(BaseSalary) OVER(PARTITION BY Department ORDER BY Department) as nxtSalary\\\n",
        "    FROM dataframe d\").show()\n"
      ],
      "metadata": {
        "colab": {
          "base_uri": "https://localhost:8080/"
        },
        "id": "pFXb7QXsOO3o",
        "outputId": "c403c3d2-7ee8-4441-95ae-da1bfc46af9f"
      },
      "execution_count": 150,
      "outputs": [
        {
          "output_type": "stream",
          "name": "stdout",
          "text": [
            "+----------+--------------------+--------------------+------+----------+-----------+------------+-----+---------+---------+\n",
            "|Department|      DepartmentName|            Division|Gender|BaseSalary|OvertimePay|LongevityPay|Grade|preSalary|nxtSalary|\n",
            "+----------+--------------------+--------------------+------+----------+-----------+------------+-----+---------+---------+\n",
            "|       ABS|Alcohol Beverage ...|Wholesale Adminis...|     F|   78902.0|     199.17|         0.0|   18|     null|  35926.0|\n",
            "|       ABS|Alcohol Beverage ...|Administrative Se...|     F|   35926.0|        0.0|     4038.91|   16|  78902.0| 167345.0|\n",
            "|       ABS|Alcohol Beverage ...|      Administration|     M|  167345.0|        0.0|         0.0|   M2|  35926.0|  90848.0|\n",
            "|       ABS|Alcohol Beverage ...|Wholesale Operations|     F|   90848.0|        0.0|     5717.68|   21| 167345.0|  78902.0|\n",
            "|       ABS|Alcohol Beverage ...|      Administration|     F|   78902.0|     205.16|     2460.24|   18|  90848.0| 109761.0|\n",
            "|       ABS|Alcohol Beverage ...|           Marketing|     F|  109761.0|        0.0|         0.0|   25|  78902.0|  68575.0|\n",
            "|       ABS|Alcohol Beverage ...|Beer Delivery Ope...|     M|   68575.0|    6605.54|         0.0|   15| 109761.0| 50604.28|\n",
            "|       ABS|Alcohol Beverage ...|Liquor and Wine D...|     M|  50604.28|     804.88|         0.0|   10|  68575.0|  50865.5|\n",
            "|       ABS|Alcohol Beverage ...|Beer Delivery Ope...|     M|   50865.5|    4140.43|         0.0|   10| 50604.28| 49359.65|\n",
            "|       ABS|Alcohol Beverage ...|Liquor and Wine D...|     M|  49359.65|    4084.43|         0.0|   10|  50865.5|  90848.0|\n",
            "|       ABS|Alcohol Beverage ...|Licensure, Regula...|     M|   90848.0|        0.0|         0.0|   21| 49359.65| 63424.48|\n",
            "|       ABS|Alcohol Beverage ...|Liquor and Wine D...|     M|  63424.48|        0.0|         0.0|   15|  90848.0| 80050.85|\n",
            "|       ABS|Alcohol Beverage ...|             Potomac|     M|  80050.85|     193.32|         0.0|   21| 63424.48| 43827.02|\n",
            "|       ABS|Alcohol Beverage ...|        Burtonsville|     M|  43827.02|        0.0|         0.0|   12| 80050.85|  75290.0|\n",
            "|       ABS|Alcohol Beverage ...|Liquor and WIne L...|     M|   75290.0|   15146.04|         0.0|   17| 43827.02|  65464.0|\n",
            "|       ABS|Alcohol Beverage ...|             Wheaton|     M|   65464.0|     622.26|     4140.72|   14|  75290.0|  90848.0|\n",
            "|       ABS|Alcohol Beverage ...|            Cloverly|     M|   90848.0|        0.0|         0.0|   21|  65464.0|  54407.0|\n",
            "|       ABS|Alcohol Beverage ...|Beer Delivery Ope...|     M|   54407.0|    4223.06|     1570.07|   10|  90848.0| 77336.55|\n",
            "|       ABS|Alcohol Beverage ...|            Westwood|     M|  77336.55|     1519.7|         0.0|   21|  54407.0|  90848.0|\n",
            "|       ABS|Alcohol Beverage ...|          Cabin John|     M|   90848.0|        0.0|         0.0|   21| 77336.55| 83028.74|\n",
            "+----------+--------------------+--------------------+------+----------+-----------+------------+-----+---------+---------+\n",
            "only showing top 20 rows\n",
            "\n"
          ]
        }
      ]
    },
    {
      "cell_type": "code",
      "source": [
        "# fetch a query to disply if the salary of the employee is higher or lower than previous employee\n",
        "ld = sc.sql(\n",
        "    \"SELECT d.*,\\\n",
        "    lAG(BaseSalary) OVER(PARTITION BY Department ORDER BY Department) as preSalary,\\\n",
        "    CASE WHEN d.BaseSalary > LAG(BaseSalary) OVER(PARTITION BY Department ORDER BY Department) then 'Higher than Previous Employee'\\\n",
        "        WHEN d.BaseSalary < LAG(BaseSalary) OVER(PARTITION BY Department ORDER BY Department) then 'Lower than Previous Employee'\\\n",
        "        WHEN d.BaseSalary = LAG(BaseSalary) OVER(PARTITION BY Department ORDER BY Department) then 'Same as the Previous Employee'\\\n",
        "        END sal_range\\\n",
        "    FROM dataframe d\").show()"
      ],
      "metadata": {
        "colab": {
          "base_uri": "https://localhost:8080/"
        },
        "id": "uMCBVGg-RJxM",
        "outputId": "6219660e-d1b6-4377-fa12-45722ca1899c"
      },
      "execution_count": 154,
      "outputs": [
        {
          "output_type": "stream",
          "name": "stdout",
          "text": [
            "+----------+--------------------+--------------------+------+----------+-----------+------------+-----+---------+--------------------+\n",
            "|Department|      DepartmentName|            Division|Gender|BaseSalary|OvertimePay|LongevityPay|Grade|preSalary|           sal_range|\n",
            "+----------+--------------------+--------------------+------+----------+-----------+------------+-----+---------+--------------------+\n",
            "|       ABS|Alcohol Beverage ...|Wholesale Adminis...|     F|   78902.0|     199.17|         0.0|   18|     null|                null|\n",
            "|       ABS|Alcohol Beverage ...|Administrative Se...|     F|   35926.0|        0.0|     4038.91|   16|  78902.0|Lower than Previo...|\n",
            "|       ABS|Alcohol Beverage ...|      Administration|     M|  167345.0|        0.0|         0.0|   M2|  35926.0|Higher than Previ...|\n",
            "|       ABS|Alcohol Beverage ...|Wholesale Operations|     F|   90848.0|        0.0|     5717.68|   21| 167345.0|Lower than Previo...|\n",
            "|       ABS|Alcohol Beverage ...|      Administration|     F|   78902.0|     205.16|     2460.24|   18|  90848.0|Lower than Previo...|\n",
            "|       ABS|Alcohol Beverage ...|           Marketing|     F|  109761.0|        0.0|         0.0|   25|  78902.0|Higher than Previ...|\n",
            "|       ABS|Alcohol Beverage ...|Beer Delivery Ope...|     M|   68575.0|    6605.54|         0.0|   15| 109761.0|Lower than Previo...|\n",
            "|       ABS|Alcohol Beverage ...|Liquor and Wine D...|     M|  50604.28|     804.88|         0.0|   10|  68575.0|Lower than Previo...|\n",
            "|       ABS|Alcohol Beverage ...|Beer Delivery Ope...|     M|   50865.5|    4140.43|         0.0|   10| 50604.28|Higher than Previ...|\n",
            "|       ABS|Alcohol Beverage ...|Liquor and Wine D...|     M|  49359.65|    4084.43|         0.0|   10|  50865.5|Lower than Previo...|\n",
            "|       ABS|Alcohol Beverage ...|Licensure, Regula...|     M|   90848.0|        0.0|         0.0|   21| 49359.65|Higher than Previ...|\n",
            "|       ABS|Alcohol Beverage ...|Liquor and Wine D...|     M|  63424.48|        0.0|         0.0|   15|  90848.0|Lower than Previo...|\n",
            "|       ABS|Alcohol Beverage ...|             Potomac|     M|  80050.85|     193.32|         0.0|   21| 63424.48|Higher than Previ...|\n",
            "|       ABS|Alcohol Beverage ...|        Burtonsville|     M|  43827.02|        0.0|         0.0|   12| 80050.85|Lower than Previo...|\n",
            "|       ABS|Alcohol Beverage ...|Liquor and WIne L...|     M|   75290.0|   15146.04|         0.0|   17| 43827.02|Higher than Previ...|\n",
            "|       ABS|Alcohol Beverage ...|             Wheaton|     M|   65464.0|     622.26|     4140.72|   14|  75290.0|Lower than Previo...|\n",
            "|       ABS|Alcohol Beverage ...|            Cloverly|     M|   90848.0|        0.0|         0.0|   21|  65464.0|Higher than Previ...|\n",
            "|       ABS|Alcohol Beverage ...|Beer Delivery Ope...|     M|   54407.0|    4223.06|     1570.07|   10|  90848.0|Lower than Previo...|\n",
            "|       ABS|Alcohol Beverage ...|            Westwood|     M|  77336.55|     1519.7|         0.0|   21|  54407.0|Higher than Previ...|\n",
            "|       ABS|Alcohol Beverage ...|          Cabin John|     M|   90848.0|        0.0|         0.0|   21| 77336.55|Higher than Previ...|\n",
            "+----------+--------------------+--------------------+------+----------+-----------+------------+-----+---------+--------------------+\n",
            "only showing top 20 rows\n",
            "\n"
          ]
        }
      ]
    },
    {
      "cell_type": "code",
      "source": [
        "# https://www.youtube.com/watch?v=zAmJPdZu8Rg\n",
        "\n",
        "\n",
        "# creating a dataframe \n",
        "from pyspark.sql.types import StructType,StructField, StringType, IntegerType\n"
      ],
      "metadata": {
        "id": "xnndZd7dsnLQ"
      },
      "execution_count": 159,
      "outputs": []
    },
    {
      "cell_type": "code",
      "source": [
        "data = [('Phone', 'Apple', 'iPhone 12 Pro Max', 1300),\n",
        "('Phone', 'Apple', 'iPhone 12 Pro', 1100),\n",
        "('Phone', 'Apple', 'iPhone 12', 1000),\n",
        "('Phone', 'Samsung', 'Galaxy Z Fold 3', 1800),\n",
        "('Phone', 'Samsung', 'Galaxy Z Flip 3', 1000),\n",
        "('Phone', 'Samsung', 'Galaxy Note 20', 1200),\n",
        "('Phone', 'Samsung', 'Galaxy S21', 1000),\n",
        "('Phone', 'OnePlus', 'OnePlus Nord', 300),\n",
        "('Phone', 'OnePlus', 'OnePlus 9', 800),\n",
        "('Phone', 'Google', 'Pixel 5', 600),\n",
        "('Laptop', 'Apple', 'MacBook Pro 13', 2000),\n",
        "('Laptop', 'Apple', 'MacBook Air', 1200),\n",
        "('Laptop', 'Microsoft', 'Surface Laptop 4', 2100),\n",
        "('Laptop', 'Dell', 'XPS 13', 2000),\n",
        "('Laptop', 'Dell', 'XPS 15', 2300),\n",
        "('Laptop', 'Dell', 'XPS 17', 2500),\n",
        "('Earphone', 'Apple', 'AirPods Pro', 280),\n",
        "('Earphone', 'Samsung', 'Galaxy Buds Pro', 220),\n",
        "('Earphone', 'Samsung', 'Galaxy Buds Live', 170),\n",
        "('Earphone', 'Sony', 'WF-1000XM4', 250),\n",
        "('Headphone', 'Sony', 'WH-1000XM4', 400),\n",
        "('Headphone', 'Apple', 'AirPods Max', 550),\n",
        "('Headphone', 'Microsoft', 'Surface Headphones 2', 250),\n",
        "('Smartwatch', 'Apple', 'Apple Watch Series 6', 1000),\n",
        "('Smartwatch', 'Apple', 'Apple Watch SE', 400),\n",
        "('Smartwatch', 'Samsung', 'Galaxy Watch 4', 600),\n",
        "('Smartwatch', 'OnePlus', 'OnePlus Watch', 220)]"
      ],
      "metadata": {
        "id": "pnEUBXDJw1G-"
      },
      "execution_count": 160,
      "outputs": []
    },
    {
      "cell_type": "code",
      "source": [
        "schema = StructType([ \\\n",
        "    StructField(\"ProductCat\",StringType(),True), \\\n",
        "    StructField(\"Brand\",StringType(),True), \\\n",
        "    StructField(\"ProductName\",StringType(),True), \\\n",
        "    StructField(\"Price\", IntegerType(), True) \\\n",
        "  ])"
      ],
      "metadata": {
        "id": "bb3Tu9Gsw61_"
      },
      "execution_count": 162,
      "outputs": []
    },
    {
      "cell_type": "code",
      "source": [
        "df = sc.createDataFrame(data=data,schema=schema)\n",
        "df.printSchema()\n",
        "df.show(truncate=False)"
      ],
      "metadata": {
        "colab": {
          "base_uri": "https://localhost:8080/"
        },
        "id": "-PRGbW8nxHHz",
        "outputId": "8e66df68-1264-4116-e6dc-7d8b3d4fccab"
      },
      "execution_count": 163,
      "outputs": [
        {
          "output_type": "stream",
          "name": "stdout",
          "text": [
            "root\n",
            " |-- ProductCat: string (nullable = true)\n",
            " |-- Brand: string (nullable = true)\n",
            " |-- ProductName: string (nullable = true)\n",
            " |-- Price: integer (nullable = true)\n",
            "\n",
            "+----------+---------+-----------------+-----+\n",
            "|ProductCat|Brand    |ProductName      |Price|\n",
            "+----------+---------+-----------------+-----+\n",
            "|Phone     |Apple    |iPhone 12 Pro Max|1300 |\n",
            "|Phone     |Apple    |iPhone 12 Pro    |1100 |\n",
            "|Phone     |Apple    |iPhone 12        |1000 |\n",
            "|Phone     |Samsung  |Galaxy Z Fold 3  |1800 |\n",
            "|Phone     |Samsung  |Galaxy Z Flip 3  |1000 |\n",
            "|Phone     |Samsung  |Galaxy Note 20   |1200 |\n",
            "|Phone     |Samsung  |Galaxy S21       |1000 |\n",
            "|Phone     |OnePlus  |OnePlus Nord     |300  |\n",
            "|Phone     |OnePlus  |OnePlus 9        |800  |\n",
            "|Phone     |Google   |Pixel 5          |600  |\n",
            "|Laptop    |Apple    |MacBook Pro 13   |2000 |\n",
            "|Laptop    |Apple    |MacBook Air      |1200 |\n",
            "|Laptop    |Microsoft|Surface Laptop 4 |2100 |\n",
            "|Laptop    |Dell     |XPS 13           |2000 |\n",
            "|Laptop    |Dell     |XPS 15           |2300 |\n",
            "|Laptop    |Dell     |XPS 17           |2500 |\n",
            "|Earphone  |Apple    |AirPods Pro      |280  |\n",
            "|Earphone  |Samsung  |Galaxy Buds Pro  |220  |\n",
            "|Earphone  |Samsung  |Galaxy Buds Live |170  |\n",
            "|Earphone  |Sony     |WF-1000XM4       |250  |\n",
            "+----------+---------+-----------------+-----+\n",
            "only showing top 20 rows\n",
            "\n"
          ]
        }
      ]
    },
    {
      "cell_type": "code",
      "source": [
        "df.createOrReplaceTempView('dataset')\n",
        "sc.sql(\"SELECT * FROM dataset\").show()"
      ],
      "metadata": {
        "colab": {
          "base_uri": "https://localhost:8080/"
        },
        "id": "Oz5Hr5-2xNcO",
        "outputId": "c0be65de-59ec-4bc9-8824-c8a038154b9b"
      },
      "execution_count": 167,
      "outputs": [
        {
          "output_type": "stream",
          "name": "stdout",
          "text": [
            "+----------+---------+-----------------+-----+\n",
            "|ProductCat|    Brand|      ProductName|Price|\n",
            "+----------+---------+-----------------+-----+\n",
            "|     Phone|    Apple|iPhone 12 Pro Max| 1300|\n",
            "|     Phone|    Apple|    iPhone 12 Pro| 1100|\n",
            "|     Phone|    Apple|        iPhone 12| 1000|\n",
            "|     Phone|  Samsung|  Galaxy Z Fold 3| 1800|\n",
            "|     Phone|  Samsung|  Galaxy Z Flip 3| 1000|\n",
            "|     Phone|  Samsung|   Galaxy Note 20| 1200|\n",
            "|     Phone|  Samsung|       Galaxy S21| 1000|\n",
            "|     Phone|  OnePlus|     OnePlus Nord|  300|\n",
            "|     Phone|  OnePlus|        OnePlus 9|  800|\n",
            "|     Phone|   Google|          Pixel 5|  600|\n",
            "|    Laptop|    Apple|   MacBook Pro 13| 2000|\n",
            "|    Laptop|    Apple|      MacBook Air| 1200|\n",
            "|    Laptop|Microsoft| Surface Laptop 4| 2100|\n",
            "|    Laptop|     Dell|           XPS 13| 2000|\n",
            "|    Laptop|     Dell|           XPS 15| 2300|\n",
            "|    Laptop|     Dell|           XPS 17| 2500|\n",
            "|  Earphone|    Apple|      AirPods Pro|  280|\n",
            "|  Earphone|  Samsung|  Galaxy Buds Pro|  220|\n",
            "|  Earphone|  Samsung| Galaxy Buds Live|  170|\n",
            "|  Earphone|     Sony|       WF-1000XM4|  250|\n",
            "+----------+---------+-----------------+-----+\n",
            "only showing top 20 rows\n",
            "\n"
          ]
        }
      ]
    },
    {
      "cell_type": "code",
      "source": [
        "# first value: using it to query out the most expensive product from each category\n",
        "\n",
        "fval = sc.sql(\n",
        "    \"SELECT *,\\\n",
        "    first_value(ProductName) OVER(PARTITION BY ProductCat ORDER BY price DESC) as mostExpensiveProduct\\\n",
        "     FROM dataset\"\n",
        ").show()"
      ],
      "metadata": {
        "colab": {
          "base_uri": "https://localhost:8080/"
        },
        "id": "UYIgZj4zxUb-",
        "outputId": "4ab4795a-f4bf-4ec1-ba3d-70b75f5c6d33"
      },
      "execution_count": 169,
      "outputs": [
        {
          "output_type": "stream",
          "name": "stdout",
          "text": [
            "+----------+---------+--------------------+-----+--------------------+\n",
            "|ProductCat|    Brand|         ProductName|Price|mostExpensiveProduct|\n",
            "+----------+---------+--------------------+-----+--------------------+\n",
            "|  Earphone|    Apple|         AirPods Pro|  280|         AirPods Pro|\n",
            "|  Earphone|     Sony|          WF-1000XM4|  250|         AirPods Pro|\n",
            "|  Earphone|  Samsung|     Galaxy Buds Pro|  220|         AirPods Pro|\n",
            "|  Earphone|  Samsung|    Galaxy Buds Live|  170|         AirPods Pro|\n",
            "| Headphone|    Apple|         AirPods Max|  550|         AirPods Max|\n",
            "| Headphone|     Sony|          WH-1000XM4|  400|         AirPods Max|\n",
            "| Headphone|Microsoft|Surface Headphones 2|  250|         AirPods Max|\n",
            "|    Laptop|     Dell|              XPS 17| 2500|              XPS 17|\n",
            "|    Laptop|     Dell|              XPS 15| 2300|              XPS 17|\n",
            "|    Laptop|Microsoft|    Surface Laptop 4| 2100|              XPS 17|\n",
            "|    Laptop|    Apple|      MacBook Pro 13| 2000|              XPS 17|\n",
            "|    Laptop|     Dell|              XPS 13| 2000|              XPS 17|\n",
            "|    Laptop|    Apple|         MacBook Air| 1200|              XPS 17|\n",
            "|     Phone|  Samsung|     Galaxy Z Fold 3| 1800|     Galaxy Z Fold 3|\n",
            "|     Phone|    Apple|   iPhone 12 Pro Max| 1300|     Galaxy Z Fold 3|\n",
            "|     Phone|  Samsung|      Galaxy Note 20| 1200|     Galaxy Z Fold 3|\n",
            "|     Phone|    Apple|       iPhone 12 Pro| 1100|     Galaxy Z Fold 3|\n",
            "|     Phone|    Apple|           iPhone 12| 1000|     Galaxy Z Fold 3|\n",
            "|     Phone|  Samsung|     Galaxy Z Flip 3| 1000|     Galaxy Z Fold 3|\n",
            "|     Phone|  Samsung|          Galaxy S21| 1000|     Galaxy Z Fold 3|\n",
            "+----------+---------+--------------------+-----+--------------------+\n",
            "only showing top 20 rows\n",
            "\n"
          ]
        }
      ]
    },
    {
      "cell_type": "code",
      "source": [
        "lstval = sc.sql(\n",
        "    \"SELECT *,\\\n",
        "    FIRST_VALUE(ProductName) \\\n",
        "        OVER(PARTITION BY ProductCat ORDER BY price DESC)\\\n",
        "        AS mostExpensiveProduct,\\\n",
        "    LAST_VALUE(ProductName) \\\n",
        "        OVER(PARTITION BY ProductCat ORDER BY Price DESC)\\\n",
        "        AS leastExpensiveProduct\\\n",
        "    FROM dataset\"\n",
        ").show()"
      ],
      "metadata": {
        "colab": {
          "base_uri": "https://localhost:8080/"
        },
        "id": "1p6Me_-0-DlA",
        "outputId": "9e635fa7-aa42-41b7-f7e4-75ccf4e04858"
      },
      "execution_count": 179,
      "outputs": [
        {
          "output_type": "stream",
          "name": "stdout",
          "text": [
            "+----------+---------+--------------------+-----+--------------------+---------------------+\n",
            "|ProductCat|    Brand|         ProductName|Price|mostExpensiveProduct|leastExpensiveProduct|\n",
            "+----------+---------+--------------------+-----+--------------------+---------------------+\n",
            "|  Earphone|    Apple|         AirPods Pro|  280|         AirPods Pro|          AirPods Pro|\n",
            "|  Earphone|     Sony|          WF-1000XM4|  250|         AirPods Pro|           WF-1000XM4|\n",
            "|  Earphone|  Samsung|     Galaxy Buds Pro|  220|         AirPods Pro|      Galaxy Buds Pro|\n",
            "|  Earphone|  Samsung|    Galaxy Buds Live|  170|         AirPods Pro|     Galaxy Buds Live|\n",
            "| Headphone|    Apple|         AirPods Max|  550|         AirPods Max|          AirPods Max|\n",
            "| Headphone|     Sony|          WH-1000XM4|  400|         AirPods Max|           WH-1000XM4|\n",
            "| Headphone|Microsoft|Surface Headphones 2|  250|         AirPods Max| Surface Headphones 2|\n",
            "|    Laptop|     Dell|              XPS 17| 2500|              XPS 17|               XPS 17|\n",
            "|    Laptop|     Dell|              XPS 15| 2300|              XPS 17|               XPS 15|\n",
            "|    Laptop|Microsoft|    Surface Laptop 4| 2100|              XPS 17|     Surface Laptop 4|\n",
            "|    Laptop|    Apple|      MacBook Pro 13| 2000|              XPS 17|               XPS 13|\n",
            "|    Laptop|     Dell|              XPS 13| 2000|              XPS 17|               XPS 13|\n",
            "|    Laptop|    Apple|         MacBook Air| 1200|              XPS 17|          MacBook Air|\n",
            "|     Phone|  Samsung|     Galaxy Z Fold 3| 1800|     Galaxy Z Fold 3|      Galaxy Z Fold 3|\n",
            "|     Phone|    Apple|   iPhone 12 Pro Max| 1300|     Galaxy Z Fold 3|    iPhone 12 Pro Max|\n",
            "|     Phone|  Samsung|      Galaxy Note 20| 1200|     Galaxy Z Fold 3|       Galaxy Note 20|\n",
            "|     Phone|    Apple|       iPhone 12 Pro| 1100|     Galaxy Z Fold 3|        iPhone 12 Pro|\n",
            "|     Phone|    Apple|           iPhone 12| 1000|     Galaxy Z Fold 3|           Galaxy S21|\n",
            "|     Phone|  Samsung|     Galaxy Z Flip 3| 1000|     Galaxy Z Fold 3|           Galaxy S21|\n",
            "|     Phone|  Samsung|          Galaxy S21| 1000|     Galaxy Z Fold 3|           Galaxy S21|\n",
            "+----------+---------+--------------------+-----+--------------------+---------------------+\n",
            "only showing top 20 rows\n",
            "\n"
          ]
        }
      ]
    },
    {
      "cell_type": "code",
      "source": [
        "# lastvalue: to query out the least expensive product from each product cat \n",
        "# 'RANGE BETWEEN UNBOUNDED PRECEDING AND CURRENT ROW' is the default frame claus in SQL ( dont have to mention, its just for refrence)\n",
        "#'RANGE BETWEEN UNBOUNDED PRECEDING AND UNBOUNDED FOLLOWING' has to be mention when using last_value(), nth value and some agg window function (check above for refrence to see the output without frameclaus)\n",
        "lstval = sc.sql(\n",
        "    \"SELECT *,\\\n",
        "    FIRST_VALUE(ProductName) \\\n",
        "        OVER(PARTITION BY ProductCat ORDER BY price DESC)\\\n",
        "        AS mostExpensiveProduct,\\\n",
        "    LAST_VALUE(ProductName) \\\n",
        "        OVER(PARTITION BY ProductCat ORDER BY Price DESC\\\n",
        "        RANGE BETWEEN UNBOUNDED PRECEDING AND UNBOUNDED FOLLOWING)\\\n",
        "        AS leastExpensiveProduct\\\n",
        "    FROM dataset\"\n",
        ").show()"
      ],
      "metadata": {
        "colab": {
          "base_uri": "https://localhost:8080/"
        },
        "id": "3Ycc1_gS5VCb",
        "outputId": "320036ac-1c0c-4eb2-a29c-8ba70d924371"
      },
      "execution_count": 182,
      "outputs": [
        {
          "output_type": "stream",
          "name": "stdout",
          "text": [
            "+----------+---------+--------------------+-----+--------------------+---------------------+\n",
            "|ProductCat|    Brand|         ProductName|Price|mostExpensiveProduct|leastExpensiveProduct|\n",
            "+----------+---------+--------------------+-----+--------------------+---------------------+\n",
            "|  Earphone|    Apple|         AirPods Pro|  280|         AirPods Pro|     Galaxy Buds Live|\n",
            "|  Earphone|     Sony|          WF-1000XM4|  250|         AirPods Pro|     Galaxy Buds Live|\n",
            "|  Earphone|  Samsung|     Galaxy Buds Pro|  220|         AirPods Pro|     Galaxy Buds Live|\n",
            "|  Earphone|  Samsung|    Galaxy Buds Live|  170|         AirPods Pro|     Galaxy Buds Live|\n",
            "| Headphone|    Apple|         AirPods Max|  550|         AirPods Max| Surface Headphones 2|\n",
            "| Headphone|     Sony|          WH-1000XM4|  400|         AirPods Max| Surface Headphones 2|\n",
            "| Headphone|Microsoft|Surface Headphones 2|  250|         AirPods Max| Surface Headphones 2|\n",
            "|    Laptop|     Dell|              XPS 17| 2500|              XPS 17|          MacBook Air|\n",
            "|    Laptop|     Dell|              XPS 15| 2300|              XPS 17|          MacBook Air|\n",
            "|    Laptop|Microsoft|    Surface Laptop 4| 2100|              XPS 17|          MacBook Air|\n",
            "|    Laptop|    Apple|      MacBook Pro 13| 2000|              XPS 17|          MacBook Air|\n",
            "|    Laptop|     Dell|              XPS 13| 2000|              XPS 17|          MacBook Air|\n",
            "|    Laptop|    Apple|         MacBook Air| 1200|              XPS 17|          MacBook Air|\n",
            "|     Phone|  Samsung|     Galaxy Z Fold 3| 1800|     Galaxy Z Fold 3|         OnePlus Nord|\n",
            "|     Phone|    Apple|   iPhone 12 Pro Max| 1300|     Galaxy Z Fold 3|         OnePlus Nord|\n",
            "|     Phone|  Samsung|      Galaxy Note 20| 1200|     Galaxy Z Fold 3|         OnePlus Nord|\n",
            "|     Phone|    Apple|       iPhone 12 Pro| 1100|     Galaxy Z Fold 3|         OnePlus Nord|\n",
            "|     Phone|    Apple|           iPhone 12| 1000|     Galaxy Z Fold 3|         OnePlus Nord|\n",
            "|     Phone|  Samsung|     Galaxy Z Flip 3| 1000|     Galaxy Z Fold 3|         OnePlus Nord|\n",
            "|     Phone|  Samsung|          Galaxy S21| 1000|     Galaxy Z Fold 3|         OnePlus Nord|\n",
            "+----------+---------+--------------------+-----+--------------------+---------------------+\n",
            "only showing top 20 rows\n",
            "\n"
          ]
        }
      ]
    },
    {
      "cell_type": "code",
      "source": [
        "# extracting least and most expensive phone and laptop\n",
        "\n",
        "phone = sc.sql(\n",
        "    \"SELECT *,\\\n",
        "    FIRST_VALUE(ProductName) \\\n",
        "        OVER(PARTITION BY ProductCat ORDER BY price DESC)\\\n",
        "        AS mostExpensiveProduct,\\\n",
        "    LAST_VALUE(ProductName) \\\n",
        "        OVER(PARTITION BY ProductCat ORDER BY Price DESC\\\n",
        "        RANGE BETWEEN UNBOUNDED PRECEDING AND UNBOUNDED FOLLOWING)\\\n",
        "        AS leastExpensiveProduct\\\n",
        "    FROM dataset\\\n",
        "    WHERE (ProductCat = 'Phone' OR ProductCat = 'Laptop')\"\n",
        ").show()"
      ],
      "metadata": {
        "colab": {
          "base_uri": "https://localhost:8080/"
        },
        "id": "xox17_0J6NwI",
        "outputId": "3981d2b2-f4b0-4a28-97d6-41ed529f6d30"
      },
      "execution_count": 187,
      "outputs": [
        {
          "output_type": "stream",
          "name": "stdout",
          "text": [
            "+----------+---------+-----------------+-----+--------------------+---------------------+\n",
            "|ProductCat|    Brand|      ProductName|Price|mostExpensiveProduct|leastExpensiveProduct|\n",
            "+----------+---------+-----------------+-----+--------------------+---------------------+\n",
            "|    Laptop|     Dell|           XPS 17| 2500|              XPS 17|          MacBook Air|\n",
            "|    Laptop|     Dell|           XPS 15| 2300|              XPS 17|          MacBook Air|\n",
            "|    Laptop|Microsoft| Surface Laptop 4| 2100|              XPS 17|          MacBook Air|\n",
            "|    Laptop|    Apple|   MacBook Pro 13| 2000|              XPS 17|          MacBook Air|\n",
            "|    Laptop|     Dell|           XPS 13| 2000|              XPS 17|          MacBook Air|\n",
            "|    Laptop|    Apple|      MacBook Air| 1200|              XPS 17|          MacBook Air|\n",
            "|     Phone|  Samsung|  Galaxy Z Fold 3| 1800|     Galaxy Z Fold 3|         OnePlus Nord|\n",
            "|     Phone|    Apple|iPhone 12 Pro Max| 1300|     Galaxy Z Fold 3|         OnePlus Nord|\n",
            "|     Phone|  Samsung|   Galaxy Note 20| 1200|     Galaxy Z Fold 3|         OnePlus Nord|\n",
            "|     Phone|    Apple|    iPhone 12 Pro| 1100|     Galaxy Z Fold 3|         OnePlus Nord|\n",
            "|     Phone|    Apple|        iPhone 12| 1000|     Galaxy Z Fold 3|         OnePlus Nord|\n",
            "|     Phone|  Samsung|  Galaxy Z Flip 3| 1000|     Galaxy Z Fold 3|         OnePlus Nord|\n",
            "|     Phone|  Samsung|       Galaxy S21| 1000|     Galaxy Z Fold 3|         OnePlus Nord|\n",
            "|     Phone|  OnePlus|        OnePlus 9|  800|     Galaxy Z Fold 3|         OnePlus Nord|\n",
            "|     Phone|   Google|          Pixel 5|  600|     Galaxy Z Fold 3|         OnePlus Nord|\n",
            "|     Phone|  OnePlus|     OnePlus Nord|  300|     Galaxy Z Fold 3|         OnePlus Nord|\n",
            "+----------+---------+-----------------+-----+--------------------+---------------------+\n",
            "\n"
          ]
        }
      ]
    },
    {
      "cell_type": "code",
      "source": [
        "# different way to write a window function\n",
        "\n",
        "phone = sc.sql(\n",
        "    \"SELECT *,\\\n",
        "    FIRST_VALUE(ProductName) OVER w AS mostExpensiveProduct,\\\n",
        "    LAST_VALUE(ProductName) OVER w AS leastExpensiveProduct\\\n",
        "    FROM dataset\\\n",
        "    WINDOW w as (PARTITION BY ProductCat ORDER BY Price DESC\\\n",
        "        RANGE BETWEEN UNBOUNDED PRECEDING AND UNBOUNDED FOLLOWING)\"\n",
        ").show()"
      ],
      "metadata": {
        "colab": {
          "base_uri": "https://localhost:8080/"
        },
        "id": "RtupQeY2DKeE",
        "outputId": "10119a9b-b858-4d13-d117-81bd2d0794fc"
      },
      "execution_count": 189,
      "outputs": [
        {
          "output_type": "stream",
          "name": "stdout",
          "text": [
            "+----------+---------+--------------------+-----+--------------------+---------------------+\n",
            "|ProductCat|    Brand|         ProductName|Price|mostExpensiveProduct|leastExpensiveProduct|\n",
            "+----------+---------+--------------------+-----+--------------------+---------------------+\n",
            "|  Earphone|    Apple|         AirPods Pro|  280|         AirPods Pro|     Galaxy Buds Live|\n",
            "|  Earphone|     Sony|          WF-1000XM4|  250|         AirPods Pro|     Galaxy Buds Live|\n",
            "|  Earphone|  Samsung|     Galaxy Buds Pro|  220|         AirPods Pro|     Galaxy Buds Live|\n",
            "|  Earphone|  Samsung|    Galaxy Buds Live|  170|         AirPods Pro|     Galaxy Buds Live|\n",
            "| Headphone|    Apple|         AirPods Max|  550|         AirPods Max| Surface Headphones 2|\n",
            "| Headphone|     Sony|          WH-1000XM4|  400|         AirPods Max| Surface Headphones 2|\n",
            "| Headphone|Microsoft|Surface Headphones 2|  250|         AirPods Max| Surface Headphones 2|\n",
            "|    Laptop|     Dell|              XPS 17| 2500|              XPS 17|          MacBook Air|\n",
            "|    Laptop|     Dell|              XPS 15| 2300|              XPS 17|          MacBook Air|\n",
            "|    Laptop|Microsoft|    Surface Laptop 4| 2100|              XPS 17|          MacBook Air|\n",
            "|    Laptop|    Apple|      MacBook Pro 13| 2000|              XPS 17|          MacBook Air|\n",
            "|    Laptop|     Dell|              XPS 13| 2000|              XPS 17|          MacBook Air|\n",
            "|    Laptop|    Apple|         MacBook Air| 1200|              XPS 17|          MacBook Air|\n",
            "|     Phone|  Samsung|     Galaxy Z Fold 3| 1800|     Galaxy Z Fold 3|         OnePlus Nord|\n",
            "|     Phone|    Apple|   iPhone 12 Pro Max| 1300|     Galaxy Z Fold 3|         OnePlus Nord|\n",
            "|     Phone|  Samsung|      Galaxy Note 20| 1200|     Galaxy Z Fold 3|         OnePlus Nord|\n",
            "|     Phone|    Apple|       iPhone 12 Pro| 1100|     Galaxy Z Fold 3|         OnePlus Nord|\n",
            "|     Phone|    Apple|           iPhone 12| 1000|     Galaxy Z Fold 3|         OnePlus Nord|\n",
            "|     Phone|  Samsung|     Galaxy Z Flip 3| 1000|     Galaxy Z Fold 3|         OnePlus Nord|\n",
            "|     Phone|  Samsung|          Galaxy S21| 1000|     Galaxy Z Fold 3|         OnePlus Nord|\n",
            "+----------+---------+--------------------+-----+--------------------+---------------------+\n",
            "only showing top 20 rows\n",
            "\n"
          ]
        }
      ]
    },
    {
      "cell_type": "code",
      "source": [
        "# Nth value: neth_value(col, nthval(int)): nth val require two input arguments, \n",
        "#1st is the col from which you want to represent the nth vaöu and the second argument will be woth value eg: 1st , 2nd or..\n",
        "\n",
        "# write a query to disply 2nd most expensive product under each category\n",
        "\n",
        "nthval = sc.sql(\n",
        "    \"SELECT *,\\\n",
        "    FIRST_VALUE(ProductName) OVER w AS mostExpensiveProduct,\\\n",
        "    LAST_VALUE(ProductName) OVER w AS leastExpensiveProduct,\\\n",
        "    nth_value(ProductName, 2) OVER w AS secondMostExpensive\\\n",
        "    FROM dataset\\\n",
        "    WINDOW w as (PARTITION BY ProductCat ORDER BY Price DESC\\\n",
        "        RANGE BETWEEN UNBOUNDED PRECEDING AND UNBOUNDED FOLLOWING)\"\n",
        ").show()"
      ],
      "metadata": {
        "colab": {
          "base_uri": "https://localhost:8080/"
        },
        "id": "oM-xWQvgFI4o",
        "outputId": "6b5a1a55-4d5a-4d11-f480-991e815ca102"
      },
      "execution_count": 191,
      "outputs": [
        {
          "output_type": "stream",
          "name": "stdout",
          "text": [
            "+----------+-----+--------------------+-----+--------------------+---------------------+-------------------+\n",
            "|ProductCat|Brand|         ProductName|Price|mostExpensiveProduct|leastExpensiveProduct|secondMostExpensive|\n",
            "+----------+-----+--------------------+-----+--------------------+---------------------+-------------------+\n",
            "|  Earphone|Apple|         AirPods Pro|  280|         AirPods Pro|          AirPods Pro|               null|\n",
            "| Headphone|Apple|         AirPods Max|  550|         AirPods Max|          AirPods Max|               null|\n",
            "|    Laptop|Apple|      MacBook Pro 13| 2000|      MacBook Pro 13|          MacBook Air|        MacBook Air|\n",
            "|    Laptop|Apple|         MacBook Air| 1200|      MacBook Pro 13|          MacBook Air|        MacBook Air|\n",
            "|     Phone|Apple|   iPhone 12 Pro Max| 1300|   iPhone 12 Pro Max|            iPhone 12|      iPhone 12 Pro|\n",
            "|     Phone|Apple|       iPhone 12 Pro| 1100|   iPhone 12 Pro Max|            iPhone 12|      iPhone 12 Pro|\n",
            "|     Phone|Apple|           iPhone 12| 1000|   iPhone 12 Pro Max|            iPhone 12|      iPhone 12 Pro|\n",
            "|Smartwatch|Apple|Apple Watch Series 6| 1000|Apple Watch Series 6|       Apple Watch SE|     Apple Watch SE|\n",
            "|Smartwatch|Apple|      Apple Watch SE|  400|Apple Watch Series 6|       Apple Watch SE|     Apple Watch SE|\n",
            "+----------+-----+--------------------+-----+--------------------+---------------------+-------------------+\n",
            "\n"
          ]
        }
      ]
    },
    {
      "cell_type": "code",
      "source": [
        "# NTILE : it splits equally\n",
        "# write a query to segregate all the expensive phone, mid range phone and cheaper phones\n",
        "\n",
        "ntile = sc.sql(\n",
        "    \"SELECT *,\\\n",
        "        ntile(3) OVER(ORDER BY Price DESC) AS buckets\\\n",
        "        FROM dataset\\\n",
        "    WHERE ProductCat = 'Phone'\").show()"
      ],
      "metadata": {
        "colab": {
          "base_uri": "https://localhost:8080/"
        },
        "id": "qV6CawZPF_5M",
        "outputId": "98696753-4d3d-4b66-9dff-45e2a23c5b7f"
      },
      "execution_count": 199,
      "outputs": [
        {
          "output_type": "stream",
          "name": "stdout",
          "text": [
            "+----------+-------+-----------------+-----+-------+\n",
            "|ProductCat|  Brand|      ProductName|Price|buckets|\n",
            "+----------+-------+-----------------+-----+-------+\n",
            "|     Phone|Samsung|  Galaxy Z Fold 3| 1800|      1|\n",
            "|     Phone|  Apple|iPhone 12 Pro Max| 1300|      1|\n",
            "|     Phone|Samsung|   Galaxy Note 20| 1200|      1|\n",
            "|     Phone|  Apple|    iPhone 12 Pro| 1100|      1|\n",
            "|     Phone|  Apple|        iPhone 12| 1000|      2|\n",
            "|     Phone|Samsung|  Galaxy Z Flip 3| 1000|      2|\n",
            "|     Phone|Samsung|       Galaxy S21| 1000|      2|\n",
            "|     Phone|OnePlus|        OnePlus 9|  800|      3|\n",
            "|     Phone| Google|          Pixel 5|  600|      3|\n",
            "|     Phone|OnePlus|     OnePlus Nord|  300|      3|\n",
            "+----------+-------+-----------------+-----+-------+\n",
            "\n"
          ]
        }
      ]
    },
    {
      "cell_type": "code",
      "source": [
        "# lets take the above query and assign string to each bucket val\n",
        "ntile = sc.sql(\n",
        "    \"SELECT ProductName,Brand,\\\n",
        "    CASE\\\n",
        "    WHEN x.buckets = 1 THEN 'Expensive Phone'\\\n",
        "    WHEN x.buckets = 2 THEN 'Mid Range Phone'\\\n",
        "    WHEN x.buckets = 3 THEN 'Cheaper Phone'\\\n",
        "    END Phone_Category\\\n",
        "    FROM(SELECT *,\\\n",
        "        ntile(3) OVER(ORDER BY Price DESC) AS buckets\\\n",
        "        FROM dataset\\\n",
        "    WHERE ProductCat = 'Phone') x \").show()"
      ],
      "metadata": {
        "colab": {
          "base_uri": "https://localhost:8080/"
        },
        "id": "WIX_B0fIIljj",
        "outputId": "4e04c23f-09b2-4f9e-de6d-9adb7c4a25f4"
      },
      "execution_count": 201,
      "outputs": [
        {
          "output_type": "stream",
          "name": "stdout",
          "text": [
            "+-----------------+-------+---------------+\n",
            "|      ProductName|  Brand| Phone_Category|\n",
            "+-----------------+-------+---------------+\n",
            "|  Galaxy Z Fold 3|Samsung|Expensive Phone|\n",
            "|iPhone 12 Pro Max|  Apple|Expensive Phone|\n",
            "|   Galaxy Note 20|Samsung|Expensive Phone|\n",
            "|    iPhone 12 Pro|  Apple|Expensive Phone|\n",
            "|        iPhone 12|  Apple|Mid Range Phone|\n",
            "|  Galaxy Z Flip 3|Samsung|Mid Range Phone|\n",
            "|       Galaxy S21|Samsung|Mid Range Phone|\n",
            "|        OnePlus 9|OnePlus|  Cheaper Phone|\n",
            "|          Pixel 5| Google|  Cheaper Phone|\n",
            "|     OnePlus Nord|OnePlus|  Cheaper Phone|\n",
            "+-----------------+-------+---------------+\n",
            "\n"
          ]
        }
      ]
    },
    {
      "cell_type": "code",
      "source": [
        "# cumulative distribution\n",
        "\n",
        "cumdist = sc.sql(\n",
        "    \"SELECT *,\\\n",
        "    CUME_DIST() OVER(ORDER BY Price DESC) as cume_distribution\\\n",
        "    FROM dataset\"\n",
        ").show()"
      ],
      "metadata": {
        "colab": {
          "base_uri": "https://localhost:8080/"
        },
        "id": "8tp1gMkPLYa_",
        "outputId": "19ef16b2-6b51-493f-a2de-1908c7e09edb"
      },
      "execution_count": 202,
      "outputs": [
        {
          "output_type": "stream",
          "name": "stdout",
          "text": [
            "+----------+---------+--------------------+-----+--------------------+\n",
            "|ProductCat|    Brand|         ProductName|Price|   cume_distribution|\n",
            "+----------+---------+--------------------+-----+--------------------+\n",
            "|    Laptop|     Dell|              XPS 17| 2500|0.037037037037037035|\n",
            "|    Laptop|     Dell|              XPS 15| 2300| 0.07407407407407407|\n",
            "|    Laptop|Microsoft|    Surface Laptop 4| 2100|  0.1111111111111111|\n",
            "|    Laptop|    Apple|      MacBook Pro 13| 2000| 0.18518518518518517|\n",
            "|    Laptop|     Dell|              XPS 13| 2000| 0.18518518518518517|\n",
            "|     Phone|  Samsung|     Galaxy Z Fold 3| 1800|  0.2222222222222222|\n",
            "|     Phone|    Apple|   iPhone 12 Pro Max| 1300| 0.25925925925925924|\n",
            "|     Phone|  Samsung|      Galaxy Note 20| 1200|  0.3333333333333333|\n",
            "|    Laptop|    Apple|         MacBook Air| 1200|  0.3333333333333333|\n",
            "|     Phone|    Apple|       iPhone 12 Pro| 1100| 0.37037037037037035|\n",
            "|     Phone|    Apple|           iPhone 12| 1000|  0.5185185185185185|\n",
            "|     Phone|  Samsung|     Galaxy Z Flip 3| 1000|  0.5185185185185185|\n",
            "|     Phone|  Samsung|          Galaxy S21| 1000|  0.5185185185185185|\n",
            "|Smartwatch|    Apple|Apple Watch Series 6| 1000|  0.5185185185185185|\n",
            "|     Phone|  OnePlus|           OnePlus 9|  800|  0.5555555555555556|\n",
            "|     Phone|   Google|             Pixel 5|  600|  0.6296296296296297|\n",
            "|Smartwatch|  Samsung|      Galaxy Watch 4|  600|  0.6296296296296297|\n",
            "| Headphone|    Apple|         AirPods Max|  550|  0.6666666666666666|\n",
            "| Headphone|     Sony|          WH-1000XM4|  400|  0.7407407407407407|\n",
            "|Smartwatch|    Apple|      Apple Watch SE|  400|  0.7407407407407407|\n",
            "+----------+---------+--------------------+-----+--------------------+\n",
            "only showing top 20 rows\n",
            "\n"
          ]
        }
      ]
    },
    {
      "cell_type": "code",
      "source": [
        "# cumulative distribution and converting them to percentage for better visual\n",
        "\n",
        "cumdist = sc.sql(\n",
        "    \"SELECT *,\\\n",
        "    ROUND(CUME_DIST() OVER(ORDER BY Price DESC),3) as cume_distribution,\\\n",
        "    ROUND(CUME_DIST() OVER(ORDER BY Price DESC) *100, 2) as cume_dist_percentage\\\n",
        "    FROM dataset\").show()"
      ],
      "metadata": {
        "colab": {
          "base_uri": "https://localhost:8080/"
        },
        "id": "2rWFKSNKMjyy",
        "outputId": "71a022df-09dc-4da9-a1eb-2c4b67dab88c"
      },
      "execution_count": 209,
      "outputs": [
        {
          "output_type": "stream",
          "name": "stdout",
          "text": [
            "+----------+---------+--------------------+-----+-----------------+--------------------+\n",
            "|ProductCat|    Brand|         ProductName|Price|cume_distribution|cume_dist_percentage|\n",
            "+----------+---------+--------------------+-----+-----------------+--------------------+\n",
            "|    Laptop|     Dell|              XPS 17| 2500|            0.037|                 3.7|\n",
            "|    Laptop|     Dell|              XPS 15| 2300|            0.074|                7.41|\n",
            "|    Laptop|Microsoft|    Surface Laptop 4| 2100|            0.111|               11.11|\n",
            "|    Laptop|    Apple|      MacBook Pro 13| 2000|            0.185|               18.52|\n",
            "|    Laptop|     Dell|              XPS 13| 2000|            0.185|               18.52|\n",
            "|     Phone|  Samsung|     Galaxy Z Fold 3| 1800|            0.222|               22.22|\n",
            "|     Phone|    Apple|   iPhone 12 Pro Max| 1300|            0.259|               25.93|\n",
            "|     Phone|  Samsung|      Galaxy Note 20| 1200|            0.333|               33.33|\n",
            "|    Laptop|    Apple|         MacBook Air| 1200|            0.333|               33.33|\n",
            "|     Phone|    Apple|       iPhone 12 Pro| 1100|             0.37|               37.04|\n",
            "|     Phone|    Apple|           iPhone 12| 1000|            0.519|               51.85|\n",
            "|     Phone|  Samsung|     Galaxy Z Flip 3| 1000|            0.519|               51.85|\n",
            "|     Phone|  Samsung|          Galaxy S21| 1000|            0.519|               51.85|\n",
            "|Smartwatch|    Apple|Apple Watch Series 6| 1000|            0.519|               51.85|\n",
            "|     Phone|  OnePlus|           OnePlus 9|  800|            0.556|               55.56|\n",
            "|     Phone|   Google|             Pixel 5|  600|             0.63|               62.96|\n",
            "|Smartwatch|  Samsung|      Galaxy Watch 4|  600|             0.63|               62.96|\n",
            "| Headphone|    Apple|         AirPods Max|  550|            0.667|               66.67|\n",
            "| Headphone|     Sony|          WH-1000XM4|  400|            0.741|               74.07|\n",
            "|Smartwatch|    Apple|      Apple Watch SE|  400|            0.741|               74.07|\n",
            "+----------+---------+--------------------+-----+-----------------+--------------------+\n",
            "only showing top 20 rows\n",
            "\n"
          ]
        }
      ]
    },
    {
      "cell_type": "code",
      "source": [
        "# cumulative distribution and converting them to percentage and extract the top 30% of the data\n",
        "\n",
        "cumdist = sc.sql(\"\\\n",
        "    SELECT ProductName, (cume_dist_percentage || '%') AS cume_dist_percentage\\\n",
        "        FROM\\\n",
        "            (SELECT *,\\\n",
        "                ROUND(CUME_DIST() OVER(ORDER BY Price DESC),3) as cume_distribution,\\\n",
        "                ROUND(CUME_DIST() OVER(ORDER BY Price DESC) *100, 2) as cume_dist_percentage\\\n",
        "            FROM dataset) x\\\n",
        "        WHERE x.cume_dist_percentage <= 30\").show()"
      ],
      "metadata": {
        "colab": {
          "base_uri": "https://localhost:8080/"
        },
        "id": "ldj1gXHbM2JW",
        "outputId": "03b558bd-2c41-4d93-e754-6dff73ae5013"
      },
      "execution_count": 214,
      "outputs": [
        {
          "output_type": "stream",
          "name": "stdout",
          "text": [
            "+-----------------+--------------------+\n",
            "|      ProductName|cume_dist_percentage|\n",
            "+-----------------+--------------------+\n",
            "|           XPS 17|                3.7%|\n",
            "|           XPS 15|               7.41%|\n",
            "| Surface Laptop 4|              11.11%|\n",
            "|   MacBook Pro 13|              18.52%|\n",
            "|           XPS 13|              18.52%|\n",
            "|  Galaxy Z Fold 3|              22.22%|\n",
            "|iPhone 12 Pro Max|              25.93%|\n",
            "+-----------------+--------------------+\n",
            "\n"
          ]
        }
      ]
    },
    {
      "cell_type": "code",
      "source": [
        "# percent_rank : provides relative rank for each row\n",
        "# how expensive is \"Galaxy Z Fold 3\" when compared to all products\n",
        "\n",
        "gal = sc.sql(\n",
        "    \"SELECT *,\\\n",
        "        PERCENT_RANK() OVER(ORDER BY Price ASC) as percentRank,\\\n",
        "        ROUND(PERCENT_RANK() OVER(ORDER BY Price ASC)*100,2) as percentRank\\\n",
        "    FROM dataset\").show()\n"
      ],
      "metadata": {
        "colab": {
          "base_uri": "https://localhost:8080/"
        },
        "id": "dlHlUXctOUqP",
        "outputId": "710fdf67-0a1a-4867-bc6e-261d1d1f13fc"
      },
      "execution_count": 219,
      "outputs": [
        {
          "output_type": "stream",
          "name": "stdout",
          "text": [
            "+----------+---------+--------------------+-----+--------------------+-----------+\n",
            "|ProductCat|    Brand|         ProductName|Price|         percentRank|percentRank|\n",
            "+----------+---------+--------------------+-----+--------------------+-----------+\n",
            "|  Earphone|  Samsung|    Galaxy Buds Live|  170|                 0.0|        0.0|\n",
            "|  Earphone|  Samsung|     Galaxy Buds Pro|  220|0.038461538461538464|       3.85|\n",
            "|Smartwatch|  OnePlus|       OnePlus Watch|  220|0.038461538461538464|       3.85|\n",
            "|  Earphone|     Sony|          WF-1000XM4|  250| 0.11538461538461539|      11.54|\n",
            "| Headphone|Microsoft|Surface Headphones 2|  250| 0.11538461538461539|      11.54|\n",
            "|  Earphone|    Apple|         AirPods Pro|  280| 0.19230769230769232|      19.23|\n",
            "|     Phone|  OnePlus|        OnePlus Nord|  300| 0.23076923076923078|      23.08|\n",
            "| Headphone|     Sony|          WH-1000XM4|  400|  0.2692307692307692|      26.92|\n",
            "|Smartwatch|    Apple|      Apple Watch SE|  400|  0.2692307692307692|      26.92|\n",
            "| Headphone|    Apple|         AirPods Max|  550| 0.34615384615384615|      34.62|\n",
            "|     Phone|   Google|             Pixel 5|  600| 0.38461538461538464|      38.46|\n",
            "|Smartwatch|  Samsung|      Galaxy Watch 4|  600| 0.38461538461538464|      38.46|\n",
            "|     Phone|  OnePlus|           OnePlus 9|  800| 0.46153846153846156|      46.15|\n",
            "|     Phone|    Apple|           iPhone 12| 1000|                 0.5|       50.0|\n",
            "|     Phone|  Samsung|     Galaxy Z Flip 3| 1000|                 0.5|       50.0|\n",
            "|     Phone|  Samsung|          Galaxy S21| 1000|                 0.5|       50.0|\n",
            "|Smartwatch|    Apple|Apple Watch Series 6| 1000|                 0.5|       50.0|\n",
            "|     Phone|    Apple|       iPhone 12 Pro| 1100|  0.6538461538461539|      65.38|\n",
            "|     Phone|  Samsung|      Galaxy Note 20| 1200|  0.6923076923076923|      69.23|\n",
            "|    Laptop|    Apple|         MacBook Air| 1200|  0.6923076923076923|      69.23|\n",
            "+----------+---------+--------------------+-----+--------------------+-----------+\n",
            "only showing top 20 rows\n",
            "\n"
          ]
        }
      ]
    },
    {
      "cell_type": "code",
      "source": [],
      "metadata": {
        "id": "mqHHlmqKQXH1"
      },
      "execution_count": null,
      "outputs": []
    }
  ]
}