{
  "nbformat": 4,
  "nbformat_minor": 0,
  "metadata": {
    "colab": {
      "provenance": []
    },
    "kernelspec": {
      "name": "python3",
      "display_name": "Python 3"
    },
    "language_info": {
      "name": "python"
    }
  },
  "cells": [
    {
      "cell_type": "code",
      "execution_count": 1,
      "metadata": {
        "colab": {
          "base_uri": "https://localhost:8080/"
        },
        "id": "xYbcElAfniUr",
        "outputId": "96f607c7-a2a9-471d-e685-236a90b4fc11"
      },
      "outputs": [
        {
          "output_type": "stream",
          "name": "stdout",
          "text": [
            "Looking in indexes: https://pypi.org/simple, https://us-python.pkg.dev/colab-wheels/public/simple/\n",
            "Collecting pyspark\n",
            "  Downloading pyspark-3.3.1.tar.gz (281.4 MB)\n",
            "\u001b[K     |████████████████████████████████| 281.4 MB 44 kB/s \n",
            "\u001b[?25hCollecting py4j==0.10.9.5\n",
            "  Downloading py4j-0.10.9.5-py2.py3-none-any.whl (199 kB)\n",
            "\u001b[K     |████████████████████████████████| 199 kB 52.8 MB/s \n",
            "\u001b[?25hBuilding wheels for collected packages: pyspark\n",
            "  Building wheel for pyspark (setup.py) ... \u001b[?25l\u001b[?25hdone\n",
            "  Created wheel for pyspark: filename=pyspark-3.3.1-py2.py3-none-any.whl size=281845512 sha256=5a8ae7e0e561fe34702c8d9ecf05e4661a850a148f4d79c43780778142125411\n",
            "  Stored in directory: /root/.cache/pip/wheels/43/dc/11/ec201cd671da62fa9c5cc77078235e40722170ceba231d7598\n",
            "Successfully built pyspark\n",
            "Installing collected packages: py4j, pyspark\n",
            "Successfully installed py4j-0.10.9.5 pyspark-3.3.1\n"
          ]
        }
      ],
      "source": [
        "pip install pyspark"
      ]
    },
    {
      "cell_type": "markdown",
      "source": [
        "### Rank, Dense Rank and Percent Rank"
      ],
      "metadata": {
        "id": "mT4SrOybrzoT"
      }
    },
    {
      "cell_type": "code",
      "source": [
        "from pyspark.sql import SparkSession\n",
        "import pyspark.sql.functions as F\n",
        "from pyspark.sql import Window"
      ],
      "metadata": {
        "id": "D1Wlx70er2ko"
      },
      "execution_count": 2,
      "outputs": []
    },
    {
      "cell_type": "code",
      "source": [
        "from google.colab import files\n",
        "uploads = files.upload()"
      ],
      "metadata": {
        "colab": {
          "base_uri": "https://localhost:8080/",
          "height": 74
        },
        "id": "34lNbtUvsBEL",
        "outputId": "7cbd4d95-873a-494a-95b9-fc9ca785a034"
      },
      "execution_count": 3,
      "outputs": [
        {
          "output_type": "display_data",
          "data": {
            "text/plain": [
              "<IPython.core.display.HTML object>"
            ],
            "text/html": [
              "\n",
              "     <input type=\"file\" id=\"files-ae87e208-3276-49d5-8a6d-6e2e09566f4d\" name=\"files[]\" multiple disabled\n",
              "        style=\"border:none\" />\n",
              "     <output id=\"result-ae87e208-3276-49d5-8a6d-6e2e09566f4d\">\n",
              "      Upload widget is only available when the cell has been executed in the\n",
              "      current browser session. Please rerun this cell to enable.\n",
              "      </output>\n",
              "      <script>// Copyright 2017 Google LLC\n",
              "//\n",
              "// Licensed under the Apache License, Version 2.0 (the \"License\");\n",
              "// you may not use this file except in compliance with the License.\n",
              "// You may obtain a copy of the License at\n",
              "//\n",
              "//      http://www.apache.org/licenses/LICENSE-2.0\n",
              "//\n",
              "// Unless required by applicable law or agreed to in writing, software\n",
              "// distributed under the License is distributed on an \"AS IS\" BASIS,\n",
              "// WITHOUT WARRANTIES OR CONDITIONS OF ANY KIND, either express or implied.\n",
              "// See the License for the specific language governing permissions and\n",
              "// limitations under the License.\n",
              "\n",
              "/**\n",
              " * @fileoverview Helpers for google.colab Python module.\n",
              " */\n",
              "(function(scope) {\n",
              "function span(text, styleAttributes = {}) {\n",
              "  const element = document.createElement('span');\n",
              "  element.textContent = text;\n",
              "  for (const key of Object.keys(styleAttributes)) {\n",
              "    element.style[key] = styleAttributes[key];\n",
              "  }\n",
              "  return element;\n",
              "}\n",
              "\n",
              "// Max number of bytes which will be uploaded at a time.\n",
              "const MAX_PAYLOAD_SIZE = 100 * 1024;\n",
              "\n",
              "function _uploadFiles(inputId, outputId) {\n",
              "  const steps = uploadFilesStep(inputId, outputId);\n",
              "  const outputElement = document.getElementById(outputId);\n",
              "  // Cache steps on the outputElement to make it available for the next call\n",
              "  // to uploadFilesContinue from Python.\n",
              "  outputElement.steps = steps;\n",
              "\n",
              "  return _uploadFilesContinue(outputId);\n",
              "}\n",
              "\n",
              "// This is roughly an async generator (not supported in the browser yet),\n",
              "// where there are multiple asynchronous steps and the Python side is going\n",
              "// to poll for completion of each step.\n",
              "// This uses a Promise to block the python side on completion of each step,\n",
              "// then passes the result of the previous step as the input to the next step.\n",
              "function _uploadFilesContinue(outputId) {\n",
              "  const outputElement = document.getElementById(outputId);\n",
              "  const steps = outputElement.steps;\n",
              "\n",
              "  const next = steps.next(outputElement.lastPromiseValue);\n",
              "  return Promise.resolve(next.value.promise).then((value) => {\n",
              "    // Cache the last promise value to make it available to the next\n",
              "    // step of the generator.\n",
              "    outputElement.lastPromiseValue = value;\n",
              "    return next.value.response;\n",
              "  });\n",
              "}\n",
              "\n",
              "/**\n",
              " * Generator function which is called between each async step of the upload\n",
              " * process.\n",
              " * @param {string} inputId Element ID of the input file picker element.\n",
              " * @param {string} outputId Element ID of the output display.\n",
              " * @return {!Iterable<!Object>} Iterable of next steps.\n",
              " */\n",
              "function* uploadFilesStep(inputId, outputId) {\n",
              "  const inputElement = document.getElementById(inputId);\n",
              "  inputElement.disabled = false;\n",
              "\n",
              "  const outputElement = document.getElementById(outputId);\n",
              "  outputElement.innerHTML = '';\n",
              "\n",
              "  const pickedPromise = new Promise((resolve) => {\n",
              "    inputElement.addEventListener('change', (e) => {\n",
              "      resolve(e.target.files);\n",
              "    });\n",
              "  });\n",
              "\n",
              "  const cancel = document.createElement('button');\n",
              "  inputElement.parentElement.appendChild(cancel);\n",
              "  cancel.textContent = 'Cancel upload';\n",
              "  const cancelPromise = new Promise((resolve) => {\n",
              "    cancel.onclick = () => {\n",
              "      resolve(null);\n",
              "    };\n",
              "  });\n",
              "\n",
              "  // Wait for the user to pick the files.\n",
              "  const files = yield {\n",
              "    promise: Promise.race([pickedPromise, cancelPromise]),\n",
              "    response: {\n",
              "      action: 'starting',\n",
              "    }\n",
              "  };\n",
              "\n",
              "  cancel.remove();\n",
              "\n",
              "  // Disable the input element since further picks are not allowed.\n",
              "  inputElement.disabled = true;\n",
              "\n",
              "  if (!files) {\n",
              "    return {\n",
              "      response: {\n",
              "        action: 'complete',\n",
              "      }\n",
              "    };\n",
              "  }\n",
              "\n",
              "  for (const file of files) {\n",
              "    const li = document.createElement('li');\n",
              "    li.append(span(file.name, {fontWeight: 'bold'}));\n",
              "    li.append(span(\n",
              "        `(${file.type || 'n/a'}) - ${file.size} bytes, ` +\n",
              "        `last modified: ${\n",
              "            file.lastModifiedDate ? file.lastModifiedDate.toLocaleDateString() :\n",
              "                                    'n/a'} - `));\n",
              "    const percent = span('0% done');\n",
              "    li.appendChild(percent);\n",
              "\n",
              "    outputElement.appendChild(li);\n",
              "\n",
              "    const fileDataPromise = new Promise((resolve) => {\n",
              "      const reader = new FileReader();\n",
              "      reader.onload = (e) => {\n",
              "        resolve(e.target.result);\n",
              "      };\n",
              "      reader.readAsArrayBuffer(file);\n",
              "    });\n",
              "    // Wait for the data to be ready.\n",
              "    let fileData = yield {\n",
              "      promise: fileDataPromise,\n",
              "      response: {\n",
              "        action: 'continue',\n",
              "      }\n",
              "    };\n",
              "\n",
              "    // Use a chunked sending to avoid message size limits. See b/62115660.\n",
              "    let position = 0;\n",
              "    do {\n",
              "      const length = Math.min(fileData.byteLength - position, MAX_PAYLOAD_SIZE);\n",
              "      const chunk = new Uint8Array(fileData, position, length);\n",
              "      position += length;\n",
              "\n",
              "      const base64 = btoa(String.fromCharCode.apply(null, chunk));\n",
              "      yield {\n",
              "        response: {\n",
              "          action: 'append',\n",
              "          file: file.name,\n",
              "          data: base64,\n",
              "        },\n",
              "      };\n",
              "\n",
              "      let percentDone = fileData.byteLength === 0 ?\n",
              "          100 :\n",
              "          Math.round((position / fileData.byteLength) * 100);\n",
              "      percent.textContent = `${percentDone}% done`;\n",
              "\n",
              "    } while (position < fileData.byteLength);\n",
              "  }\n",
              "\n",
              "  // All done.\n",
              "  yield {\n",
              "    response: {\n",
              "      action: 'complete',\n",
              "    }\n",
              "  };\n",
              "}\n",
              "\n",
              "scope.google = scope.google || {};\n",
              "scope.google.colab = scope.google.colab || {};\n",
              "scope.google.colab._files = {\n",
              "  _uploadFiles,\n",
              "  _uploadFilesContinue,\n",
              "};\n",
              "})(self);\n",
              "</script> "
            ]
          },
          "metadata": {}
        },
        {
          "output_type": "stream",
          "name": "stdout",
          "text": [
            "Saving adult_income_dataset.csv to adult_income_dataset.csv\n"
          ]
        }
      ]
    },
    {
      "cell_type": "code",
      "source": [
        "spark = SparkSession.builder.getOrCreate()"
      ],
      "metadata": {
        "id": "KUiiV6KZr6W4"
      },
      "execution_count": 4,
      "outputs": []
    },
    {
      "cell_type": "code",
      "source": [
        "df = spark.read.csv('/content/adult_income_dataset.csv', inferSchema=True, header = True)"
      ],
      "metadata": {
        "id": "L7OYvcDHr-Ih"
      },
      "execution_count": 5,
      "outputs": []
    },
    {
      "cell_type": "code",
      "source": [
        "df.show()"
      ],
      "metadata": {
        "colab": {
          "base_uri": "https://localhost:8080/"
        },
        "id": "eMEohwiksXee",
        "outputId": "4b1b7012-160e-477f-90eb-469b290eacf9"
      },
      "execution_count": 6,
      "outputs": [
        {
          "output_type": "stream",
          "name": "stdout",
          "text": [
            "+---+---+----------------+------+------------+---------------+------------------+-----------------+-------------+------------------+------+------------+------------+--------------+--------------+------+\n",
            "|  x|age|       workclass|fnlwgt|   education|educational-num|    marital-status|       occupation| relationship|              race|gender|capital-gain|capital-loss|hours-per-week|native-country|income|\n",
            "+---+---+----------------+------+------------+---------------+------------------+-----------------+-------------+------------------+------+------------+------------+--------------+--------------+------+\n",
            "|  1| 25|         Private|226802|        11th|              7|     Never-married|Machine-op-inspct|    Own-child|             Black|  Male|           0|           0|            40| United-States| <=50K|\n",
            "|  2| 38|         Private| 89814|     HS-grad|              9|Married-civ-spouse|  Farming-fishing|      Husband|             White|  Male|           0|           0|            50| United-States| <=50K|\n",
            "|  3| 28|       Local-gov|336951|  Assoc-acdm|             12|Married-civ-spouse|  Protective-serv|      Husband|             White|  Male|           0|           0|            40| United-States|  >50K|\n",
            "|  4| 44|         Private|160323|Some-college|             10|Married-civ-spouse|Machine-op-inspct|      Husband|             Black|  Male|        7688|           0|            40| United-States|  >50K|\n",
            "|  5| 18|               ?|103497|Some-college|             10|     Never-married|                ?|    Own-child|             White|Female|           0|           0|            30| United-States| <=50K|\n",
            "|  6| 34|         Private|198693|        10th|              6|     Never-married|    Other-service|Not-in-family|             White|  Male|           0|           0|            30| United-States| <=50K|\n",
            "|  7| 29|               ?|227026|     HS-grad|              9|     Never-married|                ?|    Unmarried|             Black|  Male|           0|           0|            40| United-States| <=50K|\n",
            "|  8| 63|Self-emp-not-inc|104626| Prof-school|             15|Married-civ-spouse|   Prof-specialty|      Husband|             White|  Male|        3103|           0|            32| United-States|  >50K|\n",
            "|  9| 24|         Private|369667|Some-college|             10|     Never-married|    Other-service|    Unmarried|             White|Female|           0|           0|            40| United-States| <=50K|\n",
            "| 10| 55|         Private|104996|     7th-8th|              4|Married-civ-spouse|     Craft-repair|      Husband|             White|  Male|           0|           0|            10| United-States| <=50K|\n",
            "| 11| 65|         Private|184454|     HS-grad|              9|Married-civ-spouse|Machine-op-inspct|      Husband|             White|  Male|        6418|           0|            40| United-States|  >50K|\n",
            "| 12| 36|     Federal-gov|212465|   Bachelors|             13|Married-civ-spouse|     Adm-clerical|      Husband|             White|  Male|           0|           0|            40| United-States| <=50K|\n",
            "| 13| 26|         Private| 82091|     HS-grad|              9|     Never-married|     Adm-clerical|Not-in-family|             White|Female|           0|           0|            39| United-States| <=50K|\n",
            "| 14| 58|               ?|299831|     HS-grad|              9|Married-civ-spouse|                ?|      Husband|             White|  Male|           0|           0|            35| United-States| <=50K|\n",
            "| 15| 48|         Private|279724|     HS-grad|              9|Married-civ-spouse|Machine-op-inspct|      Husband|             White|  Male|        3103|           0|            48| United-States|  >50K|\n",
            "| 16| 43|         Private|346189|     Masters|             14|Married-civ-spouse|  Exec-managerial|      Husband|             White|  Male|           0|           0|            50| United-States|  >50K|\n",
            "| 17| 20|       State-gov|444554|Some-college|             10|     Never-married|    Other-service|    Own-child|             White|  Male|           0|           0|            25| United-States| <=50K|\n",
            "| 18| 43|         Private|128354|     HS-grad|              9|Married-civ-spouse|     Adm-clerical|         Wife|             White|Female|           0|           0|            30| United-States| <=50K|\n",
            "| 19| 37|         Private| 60548|     HS-grad|              9|           Widowed|Machine-op-inspct|    Unmarried|             White|Female|           0|           0|            20| United-States| <=50K|\n",
            "| 20| 40|         Private| 85019|   Doctorate|             16|Married-civ-spouse|   Prof-specialty|      Husband|Asian-Pac-Islander|  Male|           0|           0|            45|             ?|  >50K|\n",
            "+---+---+----------------+------+------------+---------------+------------------+-----------------+-------------+------------------+------+------------+------------+--------------+--------------+------+\n",
            "only showing top 20 rows\n",
            "\n"
          ]
        }
      ]
    },
    {
      "cell_type": "code",
      "source": [
        "df.printSchema()"
      ],
      "metadata": {
        "colab": {
          "base_uri": "https://localhost:8080/"
        },
        "id": "cP1577MpsYux",
        "outputId": "f3719ef9-c9a2-4426-c8ba-bd16fa357c10"
      },
      "execution_count": 7,
      "outputs": [
        {
          "output_type": "stream",
          "name": "stdout",
          "text": [
            "root\n",
            " |-- x: integer (nullable = true)\n",
            " |-- age: integer (nullable = true)\n",
            " |-- workclass: string (nullable = true)\n",
            " |-- fnlwgt: integer (nullable = true)\n",
            " |-- education: string (nullable = true)\n",
            " |-- educational-num: integer (nullable = true)\n",
            " |-- marital-status: string (nullable = true)\n",
            " |-- occupation: string (nullable = true)\n",
            " |-- relationship: string (nullable = true)\n",
            " |-- race: string (nullable = true)\n",
            " |-- gender: string (nullable = true)\n",
            " |-- capital-gain: integer (nullable = true)\n",
            " |-- capital-loss: integer (nullable = true)\n",
            " |-- hours-per-week: integer (nullable = true)\n",
            " |-- native-country: string (nullable = true)\n",
            " |-- income: string (nullable = true)\n",
            "\n"
          ]
        }
      ]
    },
    {
      "cell_type": "code",
      "source": [
        "# Rank\n",
        "windowSpec = Window.partitionBy('occupation').orderBy('educational-num')"
      ],
      "metadata": {
        "id": "C9qD-ftX9T0r"
      },
      "execution_count": 10,
      "outputs": []
    },
    {
      "cell_type": "code",
      "source": [
        "df.withColumn('rank',F.rank().over(windowSpec)).show()"
      ],
      "metadata": {
        "colab": {
          "base_uri": "https://localhost:8080/"
        },
        "id": "HSYx8Iguu-ZS",
        "outputId": "41796e98-fa9b-4ac8-a859-a25d84891482"
      },
      "execution_count": 11,
      "outputs": [
        {
          "output_type": "stream",
          "name": "stdout",
          "text": [
            "+-----+---+----------------+------+---------+---------------+------------------+---------------+-------------+------------------+------+------------+------------+--------------+--------------+------+----+\n",
            "|    x|age|       workclass|fnlwgt|education|educational-num|    marital-status|     occupation| relationship|              race|gender|capital-gain|capital-loss|hours-per-week|native-country|income|rank|\n",
            "+-----+---+----------------+------+---------+---------------+------------------+---------------+-------------+------------------+------+------------+------------+--------------+--------------+------+----+\n",
            "| 7055| 77|Self-emp-not-inc|161552|Preschool|              1|           Widowed|Exec-managerial|Not-in-family|             White|Female|           0|           0|            60| United-States| <=50K|   1|\n",
            "|12039| 35|Self-emp-not-inc|228493|  1st-4th|              2|Married-civ-spouse|Exec-managerial|      Husband|             White|  Male|        4386|           0|            65|        Mexico| <=50K|   2|\n",
            "|15787| 32|         Private|198265|  1st-4th|              2|     Never-married|Exec-managerial|    Own-child|             White|  Male|           0|           0|            21| United-States| <=50K|   2|\n",
            "|19514| 56|Self-emp-not-inc|236731|  1st-4th|              2|         Separated|Exec-managerial|Not-in-family|             White|  Male|           0|           0|            25|             ?| <=50K|   2|\n",
            "|29964| 52|         Private|117295|  1st-4th|              2|Married-civ-spouse|Exec-managerial|      Husband|             White|  Male|           0|           0|            50| United-States|  >50K|   2|\n",
            "|35858| 53|Self-emp-not-inc|145419|  1st-4th|              2|Married-civ-spouse|Exec-managerial|      Husband|             White|  Male|        7688|           0|            67|         Italy|  >50K|   2|\n",
            "|36297| 56|Self-emp-not-inc| 60166|  1st-4th|              2|     Never-married|Exec-managerial|Not-in-family|Amer-Indian-Eskimo|  Male|           0|           0|            65| United-States| <=50K|   2|\n",
            "|  567| 73|         Private|113446|  5th-6th|              3|Married-civ-spouse|Exec-managerial|      Husband|             White|  Male|           0|           0|            54| United-States|  >50K|   8|\n",
            "| 2402| 53|         Private|153064|  5th-6th|              3|Married-civ-spouse|Exec-managerial|      Husband|             White|  Male|        7688|           0|            10|    Yugoslavia|  >50K|   8|\n",
            "| 8344| 71|         Private| 99549|  5th-6th|              3|Married-civ-spouse|Exec-managerial|      Husband|             White|  Male|           0|           0|            40| United-States| <=50K|   8|\n",
            "|10458| 59|    Self-emp-inc| 76860|  5th-6th|              3|Married-civ-spouse|Exec-managerial|      Husband|Asian-Pac-Islander|  Male|       99999|           0|            40|         China|  >50K|   8|\n",
            "|15388| 72|    Self-emp-inc| 84587|  5th-6th|              3|Married-civ-spouse|Exec-managerial|      Husband|Asian-Pac-Islander|  Male|           0|           0|            20|         Japan| <=50K|   8|\n",
            "|26781| 56|Self-emp-not-inc|162130|  5th-6th|              3|Married-civ-spouse|Exec-managerial|      Husband|             White|  Male|           0|        1887|            67| United-States|  >50K|   8|\n",
            "| 1399| 82|    Self-emp-inc|220667|  7th-8th|              4|           Widowed|Exec-managerial|Not-in-family|             White|Female|           0|           0|            40| United-States| <=50K|  14|\n",
            "| 1563| 57|       Local-gov|167457|  7th-8th|              4|          Divorced|Exec-managerial|    Unmarried|             White|Female|           0|           0|            40| United-States| <=50K|  14|\n",
            "| 6014| 57|    Self-emp-inc|199067|  7th-8th|              4|Married-civ-spouse|Exec-managerial|      Husband|             White|  Male|           0|           0|            90|        Greece|  >50K|  14|\n",
            "| 7363| 47|Self-emp-not-inc|192053|  7th-8th|              4|Married-civ-spouse|Exec-managerial|      Husband|             White|  Male|           0|           0|            55| United-States|  >50K|  14|\n",
            "| 8350| 59|Self-emp-not-inc| 78020|  7th-8th|              4|Married-civ-spouse|Exec-managerial|      Husband|             White|  Male|           0|           0|            40| United-States| <=50K|  14|\n",
            "| 9690| 60|    Self-emp-inc|123552|  7th-8th|              4|Married-civ-spouse|Exec-managerial|      Husband|             White|  Male|           0|           0|            55|       Ireland| <=50K|  14|\n",
            "|12061| 81|         Private| 39895|  7th-8th|              4|           Widowed|Exec-managerial|Not-in-family|             White|Female|           0|           0|             2| United-States| <=50K|  14|\n",
            "+-----+---+----------------+------+---------+---------------+------------------+---------------+-------------+------------------+------+------------+------------+--------------+--------------+------+----+\n",
            "only showing top 20 rows\n",
            "\n"
          ]
        }
      ]
    },
    {
      "cell_type": "code",
      "source": [
        "# Dense Rank\n",
        "\n",
        "df.withColumn('dense_rank', F.dense_rank().over(windowSpec)).show()"
      ],
      "metadata": {
        "colab": {
          "base_uri": "https://localhost:8080/"
        },
        "id": "PtOz6nrxvGFB",
        "outputId": "b8eebf65-6a27-4eb9-f3ae-22e3ba67f8e5"
      },
      "execution_count": 12,
      "outputs": [
        {
          "output_type": "stream",
          "name": "stdout",
          "text": [
            "+-----+---+----------------+------+---------+---------------+------------------+---------------+-------------+------------------+------+------------+------------+--------------+--------------+------+----------+\n",
            "|    x|age|       workclass|fnlwgt|education|educational-num|    marital-status|     occupation| relationship|              race|gender|capital-gain|capital-loss|hours-per-week|native-country|income|dense_rank|\n",
            "+-----+---+----------------+------+---------+---------------+------------------+---------------+-------------+------------------+------+------------+------------+--------------+--------------+------+----------+\n",
            "| 7055| 77|Self-emp-not-inc|161552|Preschool|              1|           Widowed|Exec-managerial|Not-in-family|             White|Female|           0|           0|            60| United-States| <=50K|         1|\n",
            "|12039| 35|Self-emp-not-inc|228493|  1st-4th|              2|Married-civ-spouse|Exec-managerial|      Husband|             White|  Male|        4386|           0|            65|        Mexico| <=50K|         2|\n",
            "|15787| 32|         Private|198265|  1st-4th|              2|     Never-married|Exec-managerial|    Own-child|             White|  Male|           0|           0|            21| United-States| <=50K|         2|\n",
            "|19514| 56|Self-emp-not-inc|236731|  1st-4th|              2|         Separated|Exec-managerial|Not-in-family|             White|  Male|           0|           0|            25|             ?| <=50K|         2|\n",
            "|29964| 52|         Private|117295|  1st-4th|              2|Married-civ-spouse|Exec-managerial|      Husband|             White|  Male|           0|           0|            50| United-States|  >50K|         2|\n",
            "|35858| 53|Self-emp-not-inc|145419|  1st-4th|              2|Married-civ-spouse|Exec-managerial|      Husband|             White|  Male|        7688|           0|            67|         Italy|  >50K|         2|\n",
            "|36297| 56|Self-emp-not-inc| 60166|  1st-4th|              2|     Never-married|Exec-managerial|Not-in-family|Amer-Indian-Eskimo|  Male|           0|           0|            65| United-States| <=50K|         2|\n",
            "|  567| 73|         Private|113446|  5th-6th|              3|Married-civ-spouse|Exec-managerial|      Husband|             White|  Male|           0|           0|            54| United-States|  >50K|         3|\n",
            "| 2402| 53|         Private|153064|  5th-6th|              3|Married-civ-spouse|Exec-managerial|      Husband|             White|  Male|        7688|           0|            10|    Yugoslavia|  >50K|         3|\n",
            "| 8344| 71|         Private| 99549|  5th-6th|              3|Married-civ-spouse|Exec-managerial|      Husband|             White|  Male|           0|           0|            40| United-States| <=50K|         3|\n",
            "|10458| 59|    Self-emp-inc| 76860|  5th-6th|              3|Married-civ-spouse|Exec-managerial|      Husband|Asian-Pac-Islander|  Male|       99999|           0|            40|         China|  >50K|         3|\n",
            "|15388| 72|    Self-emp-inc| 84587|  5th-6th|              3|Married-civ-spouse|Exec-managerial|      Husband|Asian-Pac-Islander|  Male|           0|           0|            20|         Japan| <=50K|         3|\n",
            "|26781| 56|Self-emp-not-inc|162130|  5th-6th|              3|Married-civ-spouse|Exec-managerial|      Husband|             White|  Male|           0|        1887|            67| United-States|  >50K|         3|\n",
            "| 1399| 82|    Self-emp-inc|220667|  7th-8th|              4|           Widowed|Exec-managerial|Not-in-family|             White|Female|           0|           0|            40| United-States| <=50K|         4|\n",
            "| 1563| 57|       Local-gov|167457|  7th-8th|              4|          Divorced|Exec-managerial|    Unmarried|             White|Female|           0|           0|            40| United-States| <=50K|         4|\n",
            "| 6014| 57|    Self-emp-inc|199067|  7th-8th|              4|Married-civ-spouse|Exec-managerial|      Husband|             White|  Male|           0|           0|            90|        Greece|  >50K|         4|\n",
            "| 7363| 47|Self-emp-not-inc|192053|  7th-8th|              4|Married-civ-spouse|Exec-managerial|      Husband|             White|  Male|           0|           0|            55| United-States|  >50K|         4|\n",
            "| 8350| 59|Self-emp-not-inc| 78020|  7th-8th|              4|Married-civ-spouse|Exec-managerial|      Husband|             White|  Male|           0|           0|            40| United-States| <=50K|         4|\n",
            "| 9690| 60|    Self-emp-inc|123552|  7th-8th|              4|Married-civ-spouse|Exec-managerial|      Husband|             White|  Male|           0|           0|            55|       Ireland| <=50K|         4|\n",
            "|12061| 81|         Private| 39895|  7th-8th|              4|           Widowed|Exec-managerial|Not-in-family|             White|Female|           0|           0|             2| United-States| <=50K|         4|\n",
            "+-----+---+----------------+------+---------+---------------+------------------+---------------+-------------+------------------+------+------------+------------+--------------+--------------+------+----------+\n",
            "only showing top 20 rows\n",
            "\n"
          ]
        }
      ]
    },
    {
      "cell_type": "code",
      "source": [],
      "metadata": {
        "id": "AEi-CJrywH4l"
      },
      "execution_count": null,
      "outputs": []
    }
  ]
}