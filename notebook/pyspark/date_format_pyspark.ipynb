{
  "nbformat": 4,
  "nbformat_minor": 0,
  "metadata": {
    "colab": {
      "provenance": []
    },
    "kernelspec": {
      "name": "python3",
      "display_name": "Python 3"
    },
    "language_info": {
      "name": "python"
    }
  },
  "cells": [
    {
      "cell_type": "code",
      "execution_count": 20,
      "metadata": {
        "colab": {
          "base_uri": "https://localhost:8080/"
        },
        "id": "xYbcElAfniUr",
        "outputId": "1c0f371e-7b71-4541-f1a3-849f2325b645"
      },
      "outputs": [
        {
          "output_type": "stream",
          "name": "stdout",
          "text": [
            "Looking in indexes: https://pypi.org/simple, https://us-python.pkg.dev/colab-wheels/public/simple/\n",
            "Requirement already satisfied: pyspark in /usr/local/lib/python3.8/dist-packages (3.3.1)\n",
            "Requirement already satisfied: py4j==0.10.9.5 in /usr/local/lib/python3.8/dist-packages (from pyspark) (0.10.9.5)\n"
          ]
        }
      ],
      "source": [
        "pip install pyspark"
      ]
    },
    {
      "cell_type": "markdown",
      "source": [
        "### Rank, Dense Rank and Percent Rank"
      ],
      "metadata": {
        "id": "mT4SrOybrzoT"
      }
    },
    {
      "cell_type": "code",
      "source": [
        "from pyspark.sql import SparkSession\n",
        "import pyspark.sql.functions as F\n",
        "from pyspark.sql.functions import unix_timestamp, from_unixtime"
      ],
      "metadata": {
        "id": "D1Wlx70er2ko"
      },
      "execution_count": 21,
      "outputs": []
    },
    {
      "cell_type": "code",
      "source": [
        "from google.colab import files\n",
        "uploads = files.upload()"
      ],
      "metadata": {
        "colab": {
          "base_uri": "https://localhost:8080/",
          "height": 74
        },
        "id": "34lNbtUvsBEL",
        "outputId": "3e578ccd-07ae-441b-cd4e-aee4b260c2ca"
      },
      "execution_count": 16,
      "outputs": [
        {
          "output_type": "display_data",
          "data": {
            "text/plain": [
              "<IPython.core.display.HTML object>"
            ],
            "text/html": [
              "\n",
              "     <input type=\"file\" id=\"files-9dcce8f3-f9f0-47f4-adf0-20e291913c0f\" name=\"files[]\" multiple disabled\n",
              "        style=\"border:none\" />\n",
              "     <output id=\"result-9dcce8f3-f9f0-47f4-adf0-20e291913c0f\">\n",
              "      Upload widget is only available when the cell has been executed in the\n",
              "      current browser session. Please rerun this cell to enable.\n",
              "      </output>\n",
              "      <script>// Copyright 2017 Google LLC\n",
              "//\n",
              "// Licensed under the Apache License, Version 2.0 (the \"License\");\n",
              "// you may not use this file except in compliance with the License.\n",
              "// You may obtain a copy of the License at\n",
              "//\n",
              "//      http://www.apache.org/licenses/LICENSE-2.0\n",
              "//\n",
              "// Unless required by applicable law or agreed to in writing, software\n",
              "// distributed under the License is distributed on an \"AS IS\" BASIS,\n",
              "// WITHOUT WARRANTIES OR CONDITIONS OF ANY KIND, either express or implied.\n",
              "// See the License for the specific language governing permissions and\n",
              "// limitations under the License.\n",
              "\n",
              "/**\n",
              " * @fileoverview Helpers for google.colab Python module.\n",
              " */\n",
              "(function(scope) {\n",
              "function span(text, styleAttributes = {}) {\n",
              "  const element = document.createElement('span');\n",
              "  element.textContent = text;\n",
              "  for (const key of Object.keys(styleAttributes)) {\n",
              "    element.style[key] = styleAttributes[key];\n",
              "  }\n",
              "  return element;\n",
              "}\n",
              "\n",
              "// Max number of bytes which will be uploaded at a time.\n",
              "const MAX_PAYLOAD_SIZE = 100 * 1024;\n",
              "\n",
              "function _uploadFiles(inputId, outputId) {\n",
              "  const steps = uploadFilesStep(inputId, outputId);\n",
              "  const outputElement = document.getElementById(outputId);\n",
              "  // Cache steps on the outputElement to make it available for the next call\n",
              "  // to uploadFilesContinue from Python.\n",
              "  outputElement.steps = steps;\n",
              "\n",
              "  return _uploadFilesContinue(outputId);\n",
              "}\n",
              "\n",
              "// This is roughly an async generator (not supported in the browser yet),\n",
              "// where there are multiple asynchronous steps and the Python side is going\n",
              "// to poll for completion of each step.\n",
              "// This uses a Promise to block the python side on completion of each step,\n",
              "// then passes the result of the previous step as the input to the next step.\n",
              "function _uploadFilesContinue(outputId) {\n",
              "  const outputElement = document.getElementById(outputId);\n",
              "  const steps = outputElement.steps;\n",
              "\n",
              "  const next = steps.next(outputElement.lastPromiseValue);\n",
              "  return Promise.resolve(next.value.promise).then((value) => {\n",
              "    // Cache the last promise value to make it available to the next\n",
              "    // step of the generator.\n",
              "    outputElement.lastPromiseValue = value;\n",
              "    return next.value.response;\n",
              "  });\n",
              "}\n",
              "\n",
              "/**\n",
              " * Generator function which is called between each async step of the upload\n",
              " * process.\n",
              " * @param {string} inputId Element ID of the input file picker element.\n",
              " * @param {string} outputId Element ID of the output display.\n",
              " * @return {!Iterable<!Object>} Iterable of next steps.\n",
              " */\n",
              "function* uploadFilesStep(inputId, outputId) {\n",
              "  const inputElement = document.getElementById(inputId);\n",
              "  inputElement.disabled = false;\n",
              "\n",
              "  const outputElement = document.getElementById(outputId);\n",
              "  outputElement.innerHTML = '';\n",
              "\n",
              "  const pickedPromise = new Promise((resolve) => {\n",
              "    inputElement.addEventListener('change', (e) => {\n",
              "      resolve(e.target.files);\n",
              "    });\n",
              "  });\n",
              "\n",
              "  const cancel = document.createElement('button');\n",
              "  inputElement.parentElement.appendChild(cancel);\n",
              "  cancel.textContent = 'Cancel upload';\n",
              "  const cancelPromise = new Promise((resolve) => {\n",
              "    cancel.onclick = () => {\n",
              "      resolve(null);\n",
              "    };\n",
              "  });\n",
              "\n",
              "  // Wait for the user to pick the files.\n",
              "  const files = yield {\n",
              "    promise: Promise.race([pickedPromise, cancelPromise]),\n",
              "    response: {\n",
              "      action: 'starting',\n",
              "    }\n",
              "  };\n",
              "\n",
              "  cancel.remove();\n",
              "\n",
              "  // Disable the input element since further picks are not allowed.\n",
              "  inputElement.disabled = true;\n",
              "\n",
              "  if (!files) {\n",
              "    return {\n",
              "      response: {\n",
              "        action: 'complete',\n",
              "      }\n",
              "    };\n",
              "  }\n",
              "\n",
              "  for (const file of files) {\n",
              "    const li = document.createElement('li');\n",
              "    li.append(span(file.name, {fontWeight: 'bold'}));\n",
              "    li.append(span(\n",
              "        `(${file.type || 'n/a'}) - ${file.size} bytes, ` +\n",
              "        `last modified: ${\n",
              "            file.lastModifiedDate ? file.lastModifiedDate.toLocaleDateString() :\n",
              "                                    'n/a'} - `));\n",
              "    const percent = span('0% done');\n",
              "    li.appendChild(percent);\n",
              "\n",
              "    outputElement.appendChild(li);\n",
              "\n",
              "    const fileDataPromise = new Promise((resolve) => {\n",
              "      const reader = new FileReader();\n",
              "      reader.onload = (e) => {\n",
              "        resolve(e.target.result);\n",
              "      };\n",
              "      reader.readAsArrayBuffer(file);\n",
              "    });\n",
              "    // Wait for the data to be ready.\n",
              "    let fileData = yield {\n",
              "      promise: fileDataPromise,\n",
              "      response: {\n",
              "        action: 'continue',\n",
              "      }\n",
              "    };\n",
              "\n",
              "    // Use a chunked sending to avoid message size limits. See b/62115660.\n",
              "    let position = 0;\n",
              "    do {\n",
              "      const length = Math.min(fileData.byteLength - position, MAX_PAYLOAD_SIZE);\n",
              "      const chunk = new Uint8Array(fileData, position, length);\n",
              "      position += length;\n",
              "\n",
              "      const base64 = btoa(String.fromCharCode.apply(null, chunk));\n",
              "      yield {\n",
              "        response: {\n",
              "          action: 'append',\n",
              "          file: file.name,\n",
              "          data: base64,\n",
              "        },\n",
              "      };\n",
              "\n",
              "      let percentDone = fileData.byteLength === 0 ?\n",
              "          100 :\n",
              "          Math.round((position / fileData.byteLength) * 100);\n",
              "      percent.textContent = `${percentDone}% done`;\n",
              "\n",
              "    } while (position < fileData.byteLength);\n",
              "  }\n",
              "\n",
              "  // All done.\n",
              "  yield {\n",
              "    response: {\n",
              "      action: 'complete',\n",
              "    }\n",
              "  };\n",
              "}\n",
              "\n",
              "scope.google = scope.google || {};\n",
              "scope.google.colab = scope.google.colab || {};\n",
              "scope.google.colab._files = {\n",
              "  _uploadFiles,\n",
              "  _uploadFilesContinue,\n",
              "};\n",
              "})(self);\n",
              "</script> "
            ]
          },
          "metadata": {}
        },
        {
          "output_type": "stream",
          "name": "stdout",
          "text": [
            "Saving WMT.csv to WMT.csv\n"
          ]
        }
      ]
    },
    {
      "cell_type": "code",
      "source": [
        "spark = SparkSession.builder.getOrCreate()"
      ],
      "metadata": {
        "id": "KUiiV6KZr6W4"
      },
      "execution_count": 22,
      "outputs": []
    },
    {
      "cell_type": "code",
      "source": [
        "df = spark.read.csv('/content/WMT.csv', inferSchema=True, header = True)"
      ],
      "metadata": {
        "id": "L7OYvcDHr-Ih"
      },
      "execution_count": 23,
      "outputs": []
    },
    {
      "cell_type": "code",
      "source": [
        "df.show()"
      ],
      "metadata": {
        "colab": {
          "base_uri": "https://localhost:8080/"
        },
        "id": "eMEohwiksXee",
        "outputId": "faf1b34b-15c6-4cfd-8bbd-afc366024b5f"
      },
      "execution_count": 24,
      "outputs": [
        {
          "output_type": "stream",
          "name": "stdout",
          "text": [
            "+-------------------+---------+---------+---------+---------+---------+--------+\n",
            "|               Date|     Open|     High|      Low|    Close|Adj Close|  Volume|\n",
            "+-------------------+---------+---------+---------+---------+---------+--------+\n",
            "|2016-01-20 00:00:00|61.799999|62.330002|60.200001|    60.84|53.990601|17369100|\n",
            "|2016-01-21 00:00:00|    60.98|62.790001|    60.91|61.880001|54.913509|12089200|\n",
            "|2016-01-22 00:00:00|62.439999|63.259998|62.130001|62.689999|55.632324| 9197500|\n",
            "|2016-01-25 00:00:00|62.779999|    63.82|62.549999|63.450001|56.306763|12823400|\n",
            "|2016-01-26 00:00:00|63.360001|64.470001|63.259998|     64.0|56.794834| 9441200|\n",
            "|2016-01-27 00:00:00|64.099998|    65.18|63.889999|63.950001|56.750477|10214300|\n",
            "|2016-01-28 00:00:00|64.029999|64.510002|    63.43|64.220001| 56.99007|11278300|\n",
            "|2016-01-29 00:00:00|    64.75|66.529999|64.739998|66.360001|58.889149|16439100|\n",
            "|2016-02-01 00:00:00|65.910004|    67.93|65.889999|     67.5| 59.90081|14728400|\n",
            "|2016-02-02 00:00:00|67.300003|67.839996|66.279999|66.860001|59.332867|13585900|\n",
            "|2016-02-03 00:00:00|67.309998|     67.5|    65.07|66.269997| 58.80928|12315600|\n",
            "|2016-02-04 00:00:00|65.760002|66.550003|65.010002|66.419998| 58.94239|12833400|\n",
            "|2016-02-05 00:00:00|66.860001|67.529999|65.879997|     67.0|  59.4571|14196500|\n",
            "|2016-02-08 00:00:00|     66.5|67.150002|65.160004|66.900002|59.368362|20743600|\n",
            "|2016-02-09 00:00:00|65.489998|66.410004|    64.68|65.809998|58.401058|14642400|\n",
            "|2016-02-10 00:00:00|66.190002|66.589996|65.650002|65.790001| 58.38332| 9709300|\n",
            "|2016-02-11 00:00:00|65.019997|65.760002|64.779999|    65.32|57.966228|11186700|\n",
            "|2016-02-12 00:00:00|65.519997|    66.25|64.870003|    66.18|58.729424| 9695500|\n",
            "|2016-02-16 00:00:00|66.610001|66.800003|     65.5|65.900002|58.480934|11360500|\n",
            "|2016-02-17 00:00:00|66.099998|66.610001|65.809998|66.110001|58.667301|12426700|\n",
            "+-------------------+---------+---------+---------+---------+---------+--------+\n",
            "only showing top 20 rows\n",
            "\n"
          ]
        }
      ]
    },
    {
      "cell_type": "code",
      "source": [
        "df.printSchema()"
      ],
      "metadata": {
        "colab": {
          "base_uri": "https://localhost:8080/"
        },
        "id": "cP1577MpsYux",
        "outputId": "f43f7c69-e1e8-48fd-e9b7-d62e374fcbce"
      },
      "execution_count": 25,
      "outputs": [
        {
          "output_type": "stream",
          "name": "stdout",
          "text": [
            "root\n",
            " |-- Date: timestamp (nullable = true)\n",
            " |-- Open: double (nullable = true)\n",
            " |-- High: double (nullable = true)\n",
            " |-- Low: double (nullable = true)\n",
            " |-- Close: double (nullable = true)\n",
            " |-- Adj Close: double (nullable = true)\n",
            " |-- Volume: integer (nullable = true)\n",
            "\n"
          ]
        }
      ]
    },
    {
      "cell_type": "code",
      "source": [
        "df.withColumn('today_date', F.current_date()).show()"
      ],
      "metadata": {
        "colab": {
          "base_uri": "https://localhost:8080/"
        },
        "id": "AEi-CJrywH4l",
        "outputId": "564dda9c-2fa5-44bb-e887-88f500e9f8cd"
      },
      "execution_count": 29,
      "outputs": [
        {
          "output_type": "stream",
          "name": "stdout",
          "text": [
            "+-------------------+---------+---------+---------+---------+---------+--------+----------+\n",
            "|               Date|     Open|     High|      Low|    Close|Adj Close|  Volume|today_date|\n",
            "+-------------------+---------+---------+---------+---------+---------+--------+----------+\n",
            "|2016-01-20 00:00:00|61.799999|62.330002|60.200001|    60.84|53.990601|17369100|2022-12-18|\n",
            "|2016-01-21 00:00:00|    60.98|62.790001|    60.91|61.880001|54.913509|12089200|2022-12-18|\n",
            "|2016-01-22 00:00:00|62.439999|63.259998|62.130001|62.689999|55.632324| 9197500|2022-12-18|\n",
            "|2016-01-25 00:00:00|62.779999|    63.82|62.549999|63.450001|56.306763|12823400|2022-12-18|\n",
            "|2016-01-26 00:00:00|63.360001|64.470001|63.259998|     64.0|56.794834| 9441200|2022-12-18|\n",
            "|2016-01-27 00:00:00|64.099998|    65.18|63.889999|63.950001|56.750477|10214300|2022-12-18|\n",
            "|2016-01-28 00:00:00|64.029999|64.510002|    63.43|64.220001| 56.99007|11278300|2022-12-18|\n",
            "|2016-01-29 00:00:00|    64.75|66.529999|64.739998|66.360001|58.889149|16439100|2022-12-18|\n",
            "|2016-02-01 00:00:00|65.910004|    67.93|65.889999|     67.5| 59.90081|14728400|2022-12-18|\n",
            "|2016-02-02 00:00:00|67.300003|67.839996|66.279999|66.860001|59.332867|13585900|2022-12-18|\n",
            "|2016-02-03 00:00:00|67.309998|     67.5|    65.07|66.269997| 58.80928|12315600|2022-12-18|\n",
            "|2016-02-04 00:00:00|65.760002|66.550003|65.010002|66.419998| 58.94239|12833400|2022-12-18|\n",
            "|2016-02-05 00:00:00|66.860001|67.529999|65.879997|     67.0|  59.4571|14196500|2022-12-18|\n",
            "|2016-02-08 00:00:00|     66.5|67.150002|65.160004|66.900002|59.368362|20743600|2022-12-18|\n",
            "|2016-02-09 00:00:00|65.489998|66.410004|    64.68|65.809998|58.401058|14642400|2022-12-18|\n",
            "|2016-02-10 00:00:00|66.190002|66.589996|65.650002|65.790001| 58.38332| 9709300|2022-12-18|\n",
            "|2016-02-11 00:00:00|65.019997|65.760002|64.779999|    65.32|57.966228|11186700|2022-12-18|\n",
            "|2016-02-12 00:00:00|65.519997|    66.25|64.870003|    66.18|58.729424| 9695500|2022-12-18|\n",
            "|2016-02-16 00:00:00|66.610001|66.800003|     65.5|65.900002|58.480934|11360500|2022-12-18|\n",
            "|2016-02-17 00:00:00|66.099998|66.610001|65.809998|66.110001|58.667301|12426700|2022-12-18|\n",
            "+-------------------+---------+---------+---------+---------+---------+--------+----------+\n",
            "only showing top 20 rows\n",
            "\n"
          ]
        }
      ]
    },
    {
      "cell_type": "code",
      "source": [
        "df.withColumn('today_date_time', F.current_timestamp()).show()"
      ],
      "metadata": {
        "colab": {
          "base_uri": "https://localhost:8080/"
        },
        "id": "fZaffTl_UNcI",
        "outputId": "3720724c-4731-4856-d4d5-a651c9a29e65"
      },
      "execution_count": 30,
      "outputs": [
        {
          "output_type": "stream",
          "name": "stdout",
          "text": [
            "+-------------------+---------+---------+---------+---------+---------+--------+--------------------+\n",
            "|               Date|     Open|     High|      Low|    Close|Adj Close|  Volume|     today_date_time|\n",
            "+-------------------+---------+---------+---------+---------+---------+--------+--------------------+\n",
            "|2016-01-20 00:00:00|61.799999|62.330002|60.200001|    60.84|53.990601|17369100|2022-12-18 17:39:...|\n",
            "|2016-01-21 00:00:00|    60.98|62.790001|    60.91|61.880001|54.913509|12089200|2022-12-18 17:39:...|\n",
            "|2016-01-22 00:00:00|62.439999|63.259998|62.130001|62.689999|55.632324| 9197500|2022-12-18 17:39:...|\n",
            "|2016-01-25 00:00:00|62.779999|    63.82|62.549999|63.450001|56.306763|12823400|2022-12-18 17:39:...|\n",
            "|2016-01-26 00:00:00|63.360001|64.470001|63.259998|     64.0|56.794834| 9441200|2022-12-18 17:39:...|\n",
            "|2016-01-27 00:00:00|64.099998|    65.18|63.889999|63.950001|56.750477|10214300|2022-12-18 17:39:...|\n",
            "|2016-01-28 00:00:00|64.029999|64.510002|    63.43|64.220001| 56.99007|11278300|2022-12-18 17:39:...|\n",
            "|2016-01-29 00:00:00|    64.75|66.529999|64.739998|66.360001|58.889149|16439100|2022-12-18 17:39:...|\n",
            "|2016-02-01 00:00:00|65.910004|    67.93|65.889999|     67.5| 59.90081|14728400|2022-12-18 17:39:...|\n",
            "|2016-02-02 00:00:00|67.300003|67.839996|66.279999|66.860001|59.332867|13585900|2022-12-18 17:39:...|\n",
            "|2016-02-03 00:00:00|67.309998|     67.5|    65.07|66.269997| 58.80928|12315600|2022-12-18 17:39:...|\n",
            "|2016-02-04 00:00:00|65.760002|66.550003|65.010002|66.419998| 58.94239|12833400|2022-12-18 17:39:...|\n",
            "|2016-02-05 00:00:00|66.860001|67.529999|65.879997|     67.0|  59.4571|14196500|2022-12-18 17:39:...|\n",
            "|2016-02-08 00:00:00|     66.5|67.150002|65.160004|66.900002|59.368362|20743600|2022-12-18 17:39:...|\n",
            "|2016-02-09 00:00:00|65.489998|66.410004|    64.68|65.809998|58.401058|14642400|2022-12-18 17:39:...|\n",
            "|2016-02-10 00:00:00|66.190002|66.589996|65.650002|65.790001| 58.38332| 9709300|2022-12-18 17:39:...|\n",
            "|2016-02-11 00:00:00|65.019997|65.760002|64.779999|    65.32|57.966228|11186700|2022-12-18 17:39:...|\n",
            "|2016-02-12 00:00:00|65.519997|    66.25|64.870003|    66.18|58.729424| 9695500|2022-12-18 17:39:...|\n",
            "|2016-02-16 00:00:00|66.610001|66.800003|     65.5|65.900002|58.480934|11360500|2022-12-18 17:39:...|\n",
            "|2016-02-17 00:00:00|66.099998|66.610001|65.809998|66.110001|58.667301|12426700|2022-12-18 17:39:...|\n",
            "+-------------------+---------+---------+---------+---------+---------+--------+--------------------+\n",
            "only showing top 20 rows\n",
            "\n"
          ]
        }
      ]
    },
    {
      "cell_type": "code",
      "source": [
        "df.printSchema()"
      ],
      "metadata": {
        "colab": {
          "base_uri": "https://localhost:8080/"
        },
        "id": "itLKrT5JUdIK",
        "outputId": "a7f105b5-04d4-49ba-c123-ed9015d9b6b1"
      },
      "execution_count": 31,
      "outputs": [
        {
          "output_type": "stream",
          "name": "stdout",
          "text": [
            "root\n",
            " |-- Date: timestamp (nullable = true)\n",
            " |-- Open: double (nullable = true)\n",
            " |-- High: double (nullable = true)\n",
            " |-- Low: double (nullable = true)\n",
            " |-- Close: double (nullable = true)\n",
            " |-- Adj Close: double (nullable = true)\n",
            " |-- Volume: integer (nullable = true)\n",
            "\n"
          ]
        }
      ]
    },
    {
      "cell_type": "code",
      "source": [
        "df2 = df.select('Date', from_unixtime(unix_timestamp('Date','dd-MM-yyyy')).alias('new_date'))"
      ],
      "metadata": {
        "id": "Si3ORaJyUfdz"
      },
      "execution_count": 33,
      "outputs": []
    },
    {
      "cell_type": "code",
      "source": [
        "df2.show()"
      ],
      "metadata": {
        "colab": {
          "base_uri": "https://localhost:8080/"
        },
        "id": "AeVlIcmCU1rz",
        "outputId": "2b997580-9f0b-4015-f74f-8f3dd1c80a01"
      },
      "execution_count": 34,
      "outputs": [
        {
          "output_type": "stream",
          "name": "stdout",
          "text": [
            "+-------------------+-------------------+\n",
            "|               Date|           new_date|\n",
            "+-------------------+-------------------+\n",
            "|2016-01-20 00:00:00|2016-01-20 00:00:00|\n",
            "|2016-01-21 00:00:00|2016-01-21 00:00:00|\n",
            "|2016-01-22 00:00:00|2016-01-22 00:00:00|\n",
            "|2016-01-25 00:00:00|2016-01-25 00:00:00|\n",
            "|2016-01-26 00:00:00|2016-01-26 00:00:00|\n",
            "|2016-01-27 00:00:00|2016-01-27 00:00:00|\n",
            "|2016-01-28 00:00:00|2016-01-28 00:00:00|\n",
            "|2016-01-29 00:00:00|2016-01-29 00:00:00|\n",
            "|2016-02-01 00:00:00|2016-02-01 00:00:00|\n",
            "|2016-02-02 00:00:00|2016-02-02 00:00:00|\n",
            "|2016-02-03 00:00:00|2016-02-03 00:00:00|\n",
            "|2016-02-04 00:00:00|2016-02-04 00:00:00|\n",
            "|2016-02-05 00:00:00|2016-02-05 00:00:00|\n",
            "|2016-02-08 00:00:00|2016-02-08 00:00:00|\n",
            "|2016-02-09 00:00:00|2016-02-09 00:00:00|\n",
            "|2016-02-10 00:00:00|2016-02-10 00:00:00|\n",
            "|2016-02-11 00:00:00|2016-02-11 00:00:00|\n",
            "|2016-02-12 00:00:00|2016-02-12 00:00:00|\n",
            "|2016-02-16 00:00:00|2016-02-16 00:00:00|\n",
            "|2016-02-17 00:00:00|2016-02-17 00:00:00|\n",
            "+-------------------+-------------------+\n",
            "only showing top 20 rows\n",
            "\n"
          ]
        }
      ]
    },
    {
      "cell_type": "code",
      "source": [
        "# date_add\n",
        "# generateing new dates with a offset.\n",
        "df2.select(F.date_add(df2.new_date,5).alias('next_date')).show()"
      ],
      "metadata": {
        "colab": {
          "base_uri": "https://localhost:8080/"
        },
        "id": "aQA1BbSqU6hh",
        "outputId": "89ee840e-e936-4313-aab8-4c181eb5d019"
      },
      "execution_count": 36,
      "outputs": [
        {
          "output_type": "stream",
          "name": "stdout",
          "text": [
            "+----------+\n",
            "| next_date|\n",
            "+----------+\n",
            "|2016-01-25|\n",
            "|2016-01-26|\n",
            "|2016-01-27|\n",
            "|2016-01-30|\n",
            "|2016-01-31|\n",
            "|2016-02-01|\n",
            "|2016-02-02|\n",
            "|2016-02-03|\n",
            "|2016-02-06|\n",
            "|2016-02-07|\n",
            "|2016-02-08|\n",
            "|2016-02-09|\n",
            "|2016-02-10|\n",
            "|2016-02-13|\n",
            "|2016-02-14|\n",
            "|2016-02-15|\n",
            "|2016-02-16|\n",
            "|2016-02-17|\n",
            "|2016-02-21|\n",
            "|2016-02-22|\n",
            "+----------+\n",
            "only showing top 20 rows\n",
            "\n"
          ]
        }
      ]
    },
    {
      "cell_type": "code",
      "source": [
        "# data_sub , to get previous date\n",
        "df2.select(F.date_sub(df2.new_date,5).alias('previous_date')).show()"
      ],
      "metadata": {
        "colab": {
          "base_uri": "https://localhost:8080/"
        },
        "id": "6sBws2MaVHb7",
        "outputId": "5f0b65a7-eddf-403c-a8d2-f3a8d84a708f"
      },
      "execution_count": 37,
      "outputs": [
        {
          "output_type": "stream",
          "name": "stdout",
          "text": [
            "+-------------+\n",
            "|previous_date|\n",
            "+-------------+\n",
            "|   2016-01-15|\n",
            "|   2016-01-16|\n",
            "|   2016-01-17|\n",
            "|   2016-01-20|\n",
            "|   2016-01-21|\n",
            "|   2016-01-22|\n",
            "|   2016-01-23|\n",
            "|   2016-01-24|\n",
            "|   2016-01-27|\n",
            "|   2016-01-28|\n",
            "|   2016-01-29|\n",
            "|   2016-01-30|\n",
            "|   2016-01-31|\n",
            "|   2016-02-03|\n",
            "|   2016-02-04|\n",
            "|   2016-02-05|\n",
            "|   2016-02-06|\n",
            "|   2016-02-07|\n",
            "|   2016-02-11|\n",
            "|   2016-02-12|\n",
            "+-------------+\n",
            "only showing top 20 rows\n",
            "\n"
          ]
        }
      ]
    },
    {
      "cell_type": "code",
      "source": [
        "# date_format\n",
        "df2.select(F.date_format('new_date','MM/dd/yyyy').alias('new_format_date')).show()"
      ],
      "metadata": {
        "colab": {
          "base_uri": "https://localhost:8080/"
        },
        "id": "ir9WTK2dVcX9",
        "outputId": "5884a9b4-2a86-468f-b8fd-675b5378f63a"
      },
      "execution_count": 39,
      "outputs": [
        {
          "output_type": "stream",
          "name": "stdout",
          "text": [
            "+---------------+\n",
            "|new_format_date|\n",
            "+---------------+\n",
            "|     01/20/2016|\n",
            "|     01/21/2016|\n",
            "|     01/22/2016|\n",
            "|     01/25/2016|\n",
            "|     01/26/2016|\n",
            "|     01/27/2016|\n",
            "|     01/28/2016|\n",
            "|     01/29/2016|\n",
            "|     02/01/2016|\n",
            "|     02/02/2016|\n",
            "|     02/03/2016|\n",
            "|     02/04/2016|\n",
            "|     02/05/2016|\n",
            "|     02/08/2016|\n",
            "|     02/09/2016|\n",
            "|     02/10/2016|\n",
            "|     02/11/2016|\n",
            "|     02/12/2016|\n",
            "|     02/16/2016|\n",
            "|     02/17/2016|\n",
            "+---------------+\n",
            "only showing top 20 rows\n",
            "\n"
          ]
        }
      ]
    },
    {
      "cell_type": "code",
      "source": [
        "df2= df2.withColumn('current_date', F.current_timestamp())\n",
        "df2.show()"
      ],
      "metadata": {
        "colab": {
          "base_uri": "https://localhost:8080/"
        },
        "id": "JNtjt0EFVsHQ",
        "outputId": "41f81e3b-590a-4744-b617-9f15185293bf"
      },
      "execution_count": 42,
      "outputs": [
        {
          "output_type": "stream",
          "name": "stdout",
          "text": [
            "+-------------------+-------------------+--------------------+--------------------+\n",
            "|               Date|           new_date|        curretn_date|        current_date|\n",
            "+-------------------+-------------------+--------------------+--------------------+\n",
            "|2016-01-20 00:00:00|2016-01-20 00:00:00|2022-12-18 17:47:...|2022-12-18 17:47:...|\n",
            "|2016-01-21 00:00:00|2016-01-21 00:00:00|2022-12-18 17:47:...|2022-12-18 17:47:...|\n",
            "|2016-01-22 00:00:00|2016-01-22 00:00:00|2022-12-18 17:47:...|2022-12-18 17:47:...|\n",
            "|2016-01-25 00:00:00|2016-01-25 00:00:00|2022-12-18 17:47:...|2022-12-18 17:47:...|\n",
            "|2016-01-26 00:00:00|2016-01-26 00:00:00|2022-12-18 17:47:...|2022-12-18 17:47:...|\n",
            "|2016-01-27 00:00:00|2016-01-27 00:00:00|2022-12-18 17:47:...|2022-12-18 17:47:...|\n",
            "|2016-01-28 00:00:00|2016-01-28 00:00:00|2022-12-18 17:47:...|2022-12-18 17:47:...|\n",
            "|2016-01-29 00:00:00|2016-01-29 00:00:00|2022-12-18 17:47:...|2022-12-18 17:47:...|\n",
            "|2016-02-01 00:00:00|2016-02-01 00:00:00|2022-12-18 17:47:...|2022-12-18 17:47:...|\n",
            "|2016-02-02 00:00:00|2016-02-02 00:00:00|2022-12-18 17:47:...|2022-12-18 17:47:...|\n",
            "|2016-02-03 00:00:00|2016-02-03 00:00:00|2022-12-18 17:47:...|2022-12-18 17:47:...|\n",
            "|2016-02-04 00:00:00|2016-02-04 00:00:00|2022-12-18 17:47:...|2022-12-18 17:47:...|\n",
            "|2016-02-05 00:00:00|2016-02-05 00:00:00|2022-12-18 17:47:...|2022-12-18 17:47:...|\n",
            "|2016-02-08 00:00:00|2016-02-08 00:00:00|2022-12-18 17:47:...|2022-12-18 17:47:...|\n",
            "|2016-02-09 00:00:00|2016-02-09 00:00:00|2022-12-18 17:47:...|2022-12-18 17:47:...|\n",
            "|2016-02-10 00:00:00|2016-02-10 00:00:00|2022-12-18 17:47:...|2022-12-18 17:47:...|\n",
            "|2016-02-11 00:00:00|2016-02-11 00:00:00|2022-12-18 17:47:...|2022-12-18 17:47:...|\n",
            "|2016-02-12 00:00:00|2016-02-12 00:00:00|2022-12-18 17:47:...|2022-12-18 17:47:...|\n",
            "|2016-02-16 00:00:00|2016-02-16 00:00:00|2022-12-18 17:47:...|2022-12-18 17:47:...|\n",
            "|2016-02-17 00:00:00|2016-02-17 00:00:00|2022-12-18 17:47:...|2022-12-18 17:47:...|\n",
            "+-------------------+-------------------+--------------------+--------------------+\n",
            "only showing top 20 rows\n",
            "\n"
          ]
        }
      ]
    },
    {
      "cell_type": "code",
      "source": [
        "# difference in the dates\n",
        "df2.select(F.datediff(df2.current_date, df2.new_date)).alias('date_diff').show()"
      ],
      "metadata": {
        "colab": {
          "base_uri": "https://localhost:8080/"
        },
        "id": "5aFK-I59WBkv",
        "outputId": "83a474d0-aa10-4a33-dff6-f75b8352e26d"
      },
      "execution_count": 43,
      "outputs": [
        {
          "output_type": "stream",
          "name": "stdout",
          "text": [
            "+--------------------------------+\n",
            "|datediff(current_date, new_date)|\n",
            "+--------------------------------+\n",
            "|                            2524|\n",
            "|                            2523|\n",
            "|                            2522|\n",
            "|                            2519|\n",
            "|                            2518|\n",
            "|                            2517|\n",
            "|                            2516|\n",
            "|                            2515|\n",
            "|                            2512|\n",
            "|                            2511|\n",
            "|                            2510|\n",
            "|                            2509|\n",
            "|                            2508|\n",
            "|                            2505|\n",
            "|                            2504|\n",
            "|                            2503|\n",
            "|                            2502|\n",
            "|                            2501|\n",
            "|                            2497|\n",
            "|                            2496|\n",
            "+--------------------------------+\n",
            "only showing top 20 rows\n",
            "\n"
          ]
        }
      ]
    },
    {
      "cell_type": "code",
      "source": [
        "df2.select(F.last_day(df2.new_date).alias('last_day')).show()"
      ],
      "metadata": {
        "colab": {
          "base_uri": "https://localhost:8080/"
        },
        "id": "i3CogKH-WOUY",
        "outputId": "4dfe2377-356f-460d-8d69-582a0c6a2e79"
      },
      "execution_count": 46,
      "outputs": [
        {
          "output_type": "stream",
          "name": "stdout",
          "text": [
            "+----------+\n",
            "|  last_day|\n",
            "+----------+\n",
            "|2016-01-31|\n",
            "|2016-01-31|\n",
            "|2016-01-31|\n",
            "|2016-01-31|\n",
            "|2016-01-31|\n",
            "|2016-01-31|\n",
            "|2016-01-31|\n",
            "|2016-01-31|\n",
            "|2016-02-29|\n",
            "|2016-02-29|\n",
            "|2016-02-29|\n",
            "|2016-02-29|\n",
            "|2016-02-29|\n",
            "|2016-02-29|\n",
            "|2016-02-29|\n",
            "|2016-02-29|\n",
            "|2016-02-29|\n",
            "|2016-02-29|\n",
            "|2016-02-29|\n",
            "|2016-02-29|\n",
            "+----------+\n",
            "only showing top 20 rows\n",
            "\n"
          ]
        }
      ]
    },
    {
      "cell_type": "code",
      "source": [],
      "metadata": {
        "id": "SLEyJJRJWhGr"
      },
      "execution_count": null,
      "outputs": []
    }
  ]
}