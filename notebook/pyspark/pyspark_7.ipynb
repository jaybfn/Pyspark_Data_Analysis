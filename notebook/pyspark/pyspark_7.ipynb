{
  "nbformat": 4,
  "nbformat_minor": 0,
  "metadata": {
    "colab": {
      "provenance": []
    },
    "kernelspec": {
      "name": "python3",
      "display_name": "Python 3"
    },
    "language_info": {
      "name": "python"
    }
  },
  "cells": [
    {
      "cell_type": "code",
      "execution_count": 1,
      "metadata": {
        "colab": {
          "base_uri": "https://localhost:8080/"
        },
        "id": "-EAM65_YWF-M",
        "outputId": "2020cbb4-a5d8-4ed3-992a-3f6d8512de6b"
      },
      "outputs": [
        {
          "output_type": "stream",
          "name": "stdout",
          "text": [
            "Looking in indexes: https://pypi.org/simple, https://us-python.pkg.dev/colab-wheels/public/simple/\n",
            "Collecting pyspark\n",
            "  Downloading pyspark-3.3.1.tar.gz (281.4 MB)\n",
            "\u001b[K     |████████████████████████████████| 281.4 MB 38 kB/s \n",
            "\u001b[?25hCollecting py4j==0.10.9.5\n",
            "  Downloading py4j-0.10.9.5-py2.py3-none-any.whl (199 kB)\n",
            "\u001b[K     |████████████████████████████████| 199 kB 47.9 MB/s \n",
            "\u001b[?25hBuilding wheels for collected packages: pyspark\n",
            "  Building wheel for pyspark (setup.py) ... \u001b[?25l\u001b[?25hdone\n",
            "  Created wheel for pyspark: filename=pyspark-3.3.1-py2.py3-none-any.whl size=281845512 sha256=edced475e8cbc7496524582d7673d1b455287c71685ad1f8b6997e9b6bb2d175\n",
            "  Stored in directory: /root/.cache/pip/wheels/43/dc/11/ec201cd671da62fa9c5cc77078235e40722170ceba231d7598\n",
            "Successfully built pyspark\n",
            "Installing collected packages: py4j, pyspark\n",
            "Successfully installed py4j-0.10.9.5 pyspark-3.3.1\n"
          ]
        }
      ],
      "source": [
        "pip install pyspark"
      ]
    },
    {
      "cell_type": "markdown",
      "source": [
        "## Windows function"
      ],
      "metadata": {
        "id": "xEwY9Z12WLnV"
      }
    },
    {
      "cell_type": "code",
      "source": [
        "from pyspark.sql import SparkSession\n",
        "import pyspark.sql.functions as F\n",
        "from pyspark.sql import Window\n",
        "import pyspark.sql.types as T"
      ],
      "metadata": {
        "id": "lgm7TY9qWOKV"
      },
      "execution_count": 2,
      "outputs": []
    },
    {
      "cell_type": "code",
      "source": [
        "from google.colab import files\n",
        "uploads = files.upload()"
      ],
      "metadata": {
        "colab": {
          "base_uri": "https://localhost:8080/",
          "height": 74
        },
        "id": "FPb1xaYlWyzL",
        "outputId": "1301dadf-2bbb-4c2d-b765-6d8de4e3ca75"
      },
      "execution_count": 3,
      "outputs": [
        {
          "output_type": "display_data",
          "data": {
            "text/plain": [
              "<IPython.core.display.HTML object>"
            ],
            "text/html": [
              "\n",
              "     <input type=\"file\" id=\"files-c3177ffd-c88a-45f2-8f4f-eef2c4fce30e\" name=\"files[]\" multiple disabled\n",
              "        style=\"border:none\" />\n",
              "     <output id=\"result-c3177ffd-c88a-45f2-8f4f-eef2c4fce30e\">\n",
              "      Upload widget is only available when the cell has been executed in the\n",
              "      current browser session. Please rerun this cell to enable.\n",
              "      </output>\n",
              "      <script>// Copyright 2017 Google LLC\n",
              "//\n",
              "// Licensed under the Apache License, Version 2.0 (the \"License\");\n",
              "// you may not use this file except in compliance with the License.\n",
              "// You may obtain a copy of the License at\n",
              "//\n",
              "//      http://www.apache.org/licenses/LICENSE-2.0\n",
              "//\n",
              "// Unless required by applicable law or agreed to in writing, software\n",
              "// distributed under the License is distributed on an \"AS IS\" BASIS,\n",
              "// WITHOUT WARRANTIES OR CONDITIONS OF ANY KIND, either express or implied.\n",
              "// See the License for the specific language governing permissions and\n",
              "// limitations under the License.\n",
              "\n",
              "/**\n",
              " * @fileoverview Helpers for google.colab Python module.\n",
              " */\n",
              "(function(scope) {\n",
              "function span(text, styleAttributes = {}) {\n",
              "  const element = document.createElement('span');\n",
              "  element.textContent = text;\n",
              "  for (const key of Object.keys(styleAttributes)) {\n",
              "    element.style[key] = styleAttributes[key];\n",
              "  }\n",
              "  return element;\n",
              "}\n",
              "\n",
              "// Max number of bytes which will be uploaded at a time.\n",
              "const MAX_PAYLOAD_SIZE = 100 * 1024;\n",
              "\n",
              "function _uploadFiles(inputId, outputId) {\n",
              "  const steps = uploadFilesStep(inputId, outputId);\n",
              "  const outputElement = document.getElementById(outputId);\n",
              "  // Cache steps on the outputElement to make it available for the next call\n",
              "  // to uploadFilesContinue from Python.\n",
              "  outputElement.steps = steps;\n",
              "\n",
              "  return _uploadFilesContinue(outputId);\n",
              "}\n",
              "\n",
              "// This is roughly an async generator (not supported in the browser yet),\n",
              "// where there are multiple asynchronous steps and the Python side is going\n",
              "// to poll for completion of each step.\n",
              "// This uses a Promise to block the python side on completion of each step,\n",
              "// then passes the result of the previous step as the input to the next step.\n",
              "function _uploadFilesContinue(outputId) {\n",
              "  const outputElement = document.getElementById(outputId);\n",
              "  const steps = outputElement.steps;\n",
              "\n",
              "  const next = steps.next(outputElement.lastPromiseValue);\n",
              "  return Promise.resolve(next.value.promise).then((value) => {\n",
              "    // Cache the last promise value to make it available to the next\n",
              "    // step of the generator.\n",
              "    outputElement.lastPromiseValue = value;\n",
              "    return next.value.response;\n",
              "  });\n",
              "}\n",
              "\n",
              "/**\n",
              " * Generator function which is called between each async step of the upload\n",
              " * process.\n",
              " * @param {string} inputId Element ID of the input file picker element.\n",
              " * @param {string} outputId Element ID of the output display.\n",
              " * @return {!Iterable<!Object>} Iterable of next steps.\n",
              " */\n",
              "function* uploadFilesStep(inputId, outputId) {\n",
              "  const inputElement = document.getElementById(inputId);\n",
              "  inputElement.disabled = false;\n",
              "\n",
              "  const outputElement = document.getElementById(outputId);\n",
              "  outputElement.innerHTML = '';\n",
              "\n",
              "  const pickedPromise = new Promise((resolve) => {\n",
              "    inputElement.addEventListener('change', (e) => {\n",
              "      resolve(e.target.files);\n",
              "    });\n",
              "  });\n",
              "\n",
              "  const cancel = document.createElement('button');\n",
              "  inputElement.parentElement.appendChild(cancel);\n",
              "  cancel.textContent = 'Cancel upload';\n",
              "  const cancelPromise = new Promise((resolve) => {\n",
              "    cancel.onclick = () => {\n",
              "      resolve(null);\n",
              "    };\n",
              "  });\n",
              "\n",
              "  // Wait for the user to pick the files.\n",
              "  const files = yield {\n",
              "    promise: Promise.race([pickedPromise, cancelPromise]),\n",
              "    response: {\n",
              "      action: 'starting',\n",
              "    }\n",
              "  };\n",
              "\n",
              "  cancel.remove();\n",
              "\n",
              "  // Disable the input element since further picks are not allowed.\n",
              "  inputElement.disabled = true;\n",
              "\n",
              "  if (!files) {\n",
              "    return {\n",
              "      response: {\n",
              "        action: 'complete',\n",
              "      }\n",
              "    };\n",
              "  }\n",
              "\n",
              "  for (const file of files) {\n",
              "    const li = document.createElement('li');\n",
              "    li.append(span(file.name, {fontWeight: 'bold'}));\n",
              "    li.append(span(\n",
              "        `(${file.type || 'n/a'}) - ${file.size} bytes, ` +\n",
              "        `last modified: ${\n",
              "            file.lastModifiedDate ? file.lastModifiedDate.toLocaleDateString() :\n",
              "                                    'n/a'} - `));\n",
              "    const percent = span('0% done');\n",
              "    li.appendChild(percent);\n",
              "\n",
              "    outputElement.appendChild(li);\n",
              "\n",
              "    const fileDataPromise = new Promise((resolve) => {\n",
              "      const reader = new FileReader();\n",
              "      reader.onload = (e) => {\n",
              "        resolve(e.target.result);\n",
              "      };\n",
              "      reader.readAsArrayBuffer(file);\n",
              "    });\n",
              "    // Wait for the data to be ready.\n",
              "    let fileData = yield {\n",
              "      promise: fileDataPromise,\n",
              "      response: {\n",
              "        action: 'continue',\n",
              "      }\n",
              "    };\n",
              "\n",
              "    // Use a chunked sending to avoid message size limits. See b/62115660.\n",
              "    let position = 0;\n",
              "    do {\n",
              "      const length = Math.min(fileData.byteLength - position, MAX_PAYLOAD_SIZE);\n",
              "      const chunk = new Uint8Array(fileData, position, length);\n",
              "      position += length;\n",
              "\n",
              "      const base64 = btoa(String.fromCharCode.apply(null, chunk));\n",
              "      yield {\n",
              "        response: {\n",
              "          action: 'append',\n",
              "          file: file.name,\n",
              "          data: base64,\n",
              "        },\n",
              "      };\n",
              "\n",
              "      let percentDone = fileData.byteLength === 0 ?\n",
              "          100 :\n",
              "          Math.round((position / fileData.byteLength) * 100);\n",
              "      percent.textContent = `${percentDone}% done`;\n",
              "\n",
              "    } while (position < fileData.byteLength);\n",
              "  }\n",
              "\n",
              "  // All done.\n",
              "  yield {\n",
              "    response: {\n",
              "      action: 'complete',\n",
              "    }\n",
              "  };\n",
              "}\n",
              "\n",
              "scope.google = scope.google || {};\n",
              "scope.google.colab = scope.google.colab || {};\n",
              "scope.google.colab._files = {\n",
              "  _uploadFiles,\n",
              "  _uploadFilesContinue,\n",
              "};\n",
              "})(self);\n",
              "</script> "
            ]
          },
          "metadata": {}
        },
        {
          "output_type": "stream",
          "name": "stdout",
          "text": [
            "Saving adult_income_dataset.csv to adult_income_dataset.csv\n"
          ]
        }
      ]
    },
    {
      "cell_type": "code",
      "source": [
        "spark = SparkSession.builder.getOrCreate()"
      ],
      "metadata": {
        "id": "6lGiWN92WONG"
      },
      "execution_count": 4,
      "outputs": []
    },
    {
      "cell_type": "code",
      "source": [
        "df = spark.read.csv('/content/adult_income_dataset.csv', inferSchema=True, header=True)"
      ],
      "metadata": {
        "id": "M0nd9GEjWOQW"
      },
      "execution_count": 5,
      "outputs": []
    },
    {
      "cell_type": "code",
      "source": [
        "df.show(5)"
      ],
      "metadata": {
        "colab": {
          "base_uri": "https://localhost:8080/"
        },
        "id": "jG4EdIO5WOS1",
        "outputId": "20308e7d-f79e-4784-f604-6f1c1328a740"
      },
      "execution_count": 6,
      "outputs": [
        {
          "output_type": "stream",
          "name": "stdout",
          "text": [
            "+---+---+---------+------+------------+---------------+------------------+-----------------+------------+-----+------+------------+------------+--------------+--------------+------+\n",
            "|  x|age|workclass|fnlwgt|   education|educational-num|    marital-status|       occupation|relationship| race|gender|capital-gain|capital-loss|hours-per-week|native-country|income|\n",
            "+---+---+---------+------+------------+---------------+------------------+-----------------+------------+-----+------+------------+------------+--------------+--------------+------+\n",
            "|  1| 25|  Private|226802|        11th|              7|     Never-married|Machine-op-inspct|   Own-child|Black|  Male|           0|           0|            40| United-States| <=50K|\n",
            "|  2| 38|  Private| 89814|     HS-grad|              9|Married-civ-spouse|  Farming-fishing|     Husband|White|  Male|           0|           0|            50| United-States| <=50K|\n",
            "|  3| 28|Local-gov|336951|  Assoc-acdm|             12|Married-civ-spouse|  Protective-serv|     Husband|White|  Male|           0|           0|            40| United-States|  >50K|\n",
            "|  4| 44|  Private|160323|Some-college|             10|Married-civ-spouse|Machine-op-inspct|     Husband|Black|  Male|        7688|           0|            40| United-States|  >50K|\n",
            "|  5| 18|        ?|103497|Some-college|             10|     Never-married|                ?|   Own-child|White|Female|           0|           0|            30| United-States| <=50K|\n",
            "+---+---+---------+------+------------+---------------+------------------+-----------------+------------+-----+------+------------+------------+--------------+--------------+------+\n",
            "only showing top 5 rows\n",
            "\n"
          ]
        }
      ]
    },
    {
      "cell_type": "code",
      "source": [
        "df.printSchema()"
      ],
      "metadata": {
        "colab": {
          "base_uri": "https://localhost:8080/"
        },
        "id": "6VAmkUZVWOVV",
        "outputId": "b47d8300-44b4-417f-f31c-8925b3669491"
      },
      "execution_count": 7,
      "outputs": [
        {
          "output_type": "stream",
          "name": "stdout",
          "text": [
            "root\n",
            " |-- x: integer (nullable = true)\n",
            " |-- age: integer (nullable = true)\n",
            " |-- workclass: string (nullable = true)\n",
            " |-- fnlwgt: integer (nullable = true)\n",
            " |-- education: string (nullable = true)\n",
            " |-- educational-num: integer (nullable = true)\n",
            " |-- marital-status: string (nullable = true)\n",
            " |-- occupation: string (nullable = true)\n",
            " |-- relationship: string (nullable = true)\n",
            " |-- race: string (nullable = true)\n",
            " |-- gender: string (nullable = true)\n",
            " |-- capital-gain: integer (nullable = true)\n",
            " |-- capital-loss: integer (nullable = true)\n",
            " |-- hours-per-week: integer (nullable = true)\n",
            " |-- native-country: string (nullable = true)\n",
            " |-- income: string (nullable = true)\n",
            "\n"
          ]
        }
      ]
    },
    {
      "cell_type": "code",
      "source": [
        "df.count()"
      ],
      "metadata": {
        "colab": {
          "base_uri": "https://localhost:8080/"
        },
        "id": "XEzJ4RprWOXd",
        "outputId": "2f583bad-0c16-43a6-e2d0-79c7ec46e07b"
      },
      "execution_count": 8,
      "outputs": [
        {
          "output_type": "execute_result",
          "data": {
            "text/plain": [
              "48842"
            ]
          },
          "metadata": {},
          "execution_count": 8
        }
      ]
    },
    {
      "cell_type": "code",
      "source": [
        "windowSpec = Window.partitionBy('occupation')\n",
        "\n",
        "data = df.withColumn('list_salary', F.collect_list(F.col('fnlwgt')).over(windowSpec))\\\n",
        ".withColumn('average_salary', F.avg(F.col('fnlwgt')).over(windowSpec))\\\n",
        ".withColumn('total_salary', F.sum(F.col('fnlwgt')).over(windowSpec))"
      ],
      "metadata": {
        "id": "hUnkteb8Xl7D"
      },
      "execution_count": 14,
      "outputs": []
    },
    {
      "cell_type": "code",
      "source": [
        "data.show()"
      ],
      "metadata": {
        "colab": {
          "base_uri": "https://localhost:8080/"
        },
        "id": "-NjcE7PAi6U0",
        "outputId": "4fc2826a-1270-4aca-e65d-d3c92a69eda5"
      },
      "execution_count": 15,
      "outputs": [
        {
          "output_type": "stream",
          "name": "stdout",
          "text": [
            "+---+---+----------------+------+------------+---------------+--------------------+---------------+-------------+-----+------+------------+------------+--------------+--------------+------+--------------------+------------------+------------+\n",
            "|  x|age|       workclass|fnlwgt|   education|educational-num|      marital-status|     occupation| relationship| race|gender|capital-gain|capital-loss|hours-per-week|native-country|income|         list_salary|    average_salary|total_salary|\n",
            "+---+---+----------------+------+------------+---------------+--------------------+---------------+-------------+-----+------+------------+------------+--------------+--------------+------+--------------------+------------------+------------+\n",
            "| 16| 43|         Private|346189|     Masters|             14|  Married-civ-spouse|Exec-managerial|      Husband|White|  Male|           0|           0|            50| United-States|  >50K|[346189, 106444, ...|186125.05142951035|  1132757063|\n",
            "| 31| 46|       State-gov|106444|Some-college|             10|  Married-civ-spouse|Exec-managerial|      Husband|Black|  Male|        7688|           0|            38| United-States|  >50K|[346189, 106444, ...|186125.05142951035|  1132757063|\n",
            "| 35| 26|         Private| 43311|     HS-grad|              9|            Divorced|Exec-managerial|    Unmarried|White|Female|           0|           0|            40| United-States| <=50K|[346189, 106444, ...|186125.05142951035|  1132757063|\n",
            "| 50| 56|    Self-emp-inc|131916|     HS-grad|              9|             Widowed|Exec-managerial|Not-in-family|White|Female|           0|           0|            50| United-States| <=50K|[346189, 106444, ...|186125.05142951035|  1132757063|\n",
            "| 55| 38|         Private|219446|         9th|              5|Married-spouse-ab...|Exec-managerial|Not-in-family|White|  Male|           0|           0|            54|        Mexico| <=50K|[346189, 106444, ...|186125.05142951035|  1132757063|\n",
            "| 58| 34|       Local-gov|382078|   Bachelors|             13|  Married-civ-spouse|Exec-managerial|      Husband|White|  Male|        3103|           0|            50| United-States|  >50K|[346189, 106444, ...|186125.05142951035|  1132757063|\n",
            "| 59| 42|    Self-emp-inc|170721|     HS-grad|              9|  Married-civ-spouse|Exec-managerial|      Husband|White|  Male|        5178|           0|            50| United-States|  >50K|[346189, 106444, ...|186125.05142951035|  1132757063|\n",
            "| 61| 30|         Private|101135|   Bachelors|             13|       Never-married|Exec-managerial|Not-in-family|White|Female|           0|           0|            50| United-States| <=50K|[346189, 106444, ...|186125.05142951035|  1132757063|\n",
            "| 63| 26|         Private| 31208|     Masters|             14|       Never-married|Exec-managerial|Not-in-family|White|Female|           0|           0|            40| United-States| <=50K|[346189, 106444, ...|186125.05142951035|  1132757063|\n",
            "| 71| 55|         Private|323887|Some-college|             10|  Married-civ-spouse|Exec-managerial|      Husband|White|  Male|       15024|           0|            45| United-States|  >50K|[346189, 106444, ...|186125.05142951035|  1132757063|\n",
            "| 82| 23|         Private|213734|   Bachelors|             13|       Never-married|Exec-managerial|Not-in-family|White|  Male|           0|           0|            40| United-States| <=50K|[346189, 106444, ...|186125.05142951035|  1132757063|\n",
            "| 91| 59|         Private|292946|   Bachelors|             13|       Never-married|Exec-managerial|Not-in-family|White|Female|           0|           0|            25| United-States| <=50K|[346189, 106444, ...|186125.05142951035|  1132757063|\n",
            "| 97| 25|         Private|235218|   Bachelors|             13|       Never-married|Exec-managerial|    Own-child|White|Female|           0|           0|            40| United-States| <=50K|[346189, 106444, ...|186125.05142951035|  1132757063|\n",
            "|113| 29|         Private|337266|   Assoc-voc|             11|  Married-civ-spouse|Exec-managerial|      Husband|White|  Male|           0|           0|            40| United-States|  >50K|[346189, 106444, ...|186125.05142951035|  1132757063|\n",
            "|143| 40|         Private|155972|     HS-grad|              9|  Married-civ-spouse|Exec-managerial|      Husband|White|  Male|        7688|           0|            55| United-States|  >50K|[346189, 106444, ...|186125.05142951035|  1132757063|\n",
            "|144| 43|    Self-emp-inc|214503|     HS-grad|              9|  Married-civ-spouse|Exec-managerial|      Husband|White|  Male|           0|        1887|            45| United-States|  >50K|[346189, 106444, ...|186125.05142951035|  1132757063|\n",
            "|146| 47|Self-emp-not-inc|174995|     HS-grad|              9|             Widowed|Exec-managerial|Not-in-family|White|Female|           0|           0|            30| United-States| <=50K|[346189, 106444, ...|186125.05142951035|  1132757063|\n",
            "|147| 44|         Private| 26669|   Assoc-voc|             11|             Widowed|Exec-managerial|    Unmarried|White|Female|           0|           0|            30| United-States| <=50K|[346189, 106444, ...|186125.05142951035|  1132757063|\n",
            "|149| 55|         Private|124771|   Bachelors|             13|  Married-civ-spouse|Exec-managerial|      Husband|White|  Male|       15024|           0|            50| United-States|  >50K|[346189, 106444, ...|186125.05142951035|  1132757063|\n",
            "|160| 38|    Self-emp-inc| 93225|   Bachelors|             13|            Divorced|Exec-managerial|Not-in-family|White|  Male|           0|           0|            40| United-States| <=50K|[346189, 106444, ...|186125.05142951035|  1132757063|\n",
            "+---+---+----------------+------+------------+---------------+--------------------+---------------+-------------+-----+------+------------+------------+--------------+--------------+------+--------------------+------------------+------------+\n",
            "only showing top 20 rows\n",
            "\n"
          ]
        }
      ]
    },
    {
      "cell_type": "code",
      "source": [
        "data.count()"
      ],
      "metadata": {
        "colab": {
          "base_uri": "https://localhost:8080/"
        },
        "id": "kAc5NUIhjQD8",
        "outputId": "79643692-e16b-4a73-aed5-2f7c6ead9bcf"
      },
      "execution_count": 16,
      "outputs": [
        {
          "output_type": "execute_result",
          "data": {
            "text/plain": [
              "48842"
            ]
          },
          "metadata": {},
          "execution_count": 16
        }
      ]
    },
    {
      "cell_type": "code",
      "source": [
        "df.select('occupation').distinct().show()"
      ],
      "metadata": {
        "colab": {
          "base_uri": "https://localhost:8080/"
        },
        "id": "INPugQJrjpEp",
        "outputId": "b7aef2e5-0c17-4b3f-d011-7b663eb2ca3a"
      },
      "execution_count": 21,
      "outputs": [
        {
          "output_type": "stream",
          "name": "stdout",
          "text": [
            "+-----------------+\n",
            "|       occupation|\n",
            "+-----------------+\n",
            "|            Sales|\n",
            "|  Exec-managerial|\n",
            "|   Prof-specialty|\n",
            "|Handlers-cleaners|\n",
            "|  Farming-fishing|\n",
            "|     Craft-repair|\n",
            "| Transport-moving|\n",
            "|  Priv-house-serv|\n",
            "|  Protective-serv|\n",
            "|    Other-service|\n",
            "|     Tech-support|\n",
            "|Machine-op-inspct|\n",
            "|     Armed-Forces|\n",
            "|                ?|\n",
            "|     Adm-clerical|\n",
            "+-----------------+\n",
            "\n"
          ]
        }
      ]
    },
    {
      "cell_type": "markdown",
      "source": [
        "### comparision of groupby function and window (partitionby) function"
      ],
      "metadata": {
        "id": "CNCVdGTSkEas"
      }
    },
    {
      "cell_type": "code",
      "source": [
        "data1 = df.groupBy('occupation').agg(\n",
        "    F.expr('collect_list(fnlwgt)').alias('list_salary'),\n",
        "    F.expr('avg(fnlwgt)').alias('average_salary'),\n",
        "    F.expr('sum(fnlwgt)').alias('total_salary'))"
      ],
      "metadata": {
        "id": "ZblWxjimj1PA"
      },
      "execution_count": 23,
      "outputs": []
    },
    {
      "cell_type": "code",
      "source": [
        "data1.show()"
      ],
      "metadata": {
        "colab": {
          "base_uri": "https://localhost:8080/"
        },
        "id": "RK8j_U_gkwra",
        "outputId": "b24078f2-4991-4cee-f52e-61bcad551301"
      },
      "execution_count": 24,
      "outputs": [
        {
          "output_type": "stream",
          "name": "stdout",
          "text": [
            "+-----------------+--------------------+------------------+------------+\n",
            "|       occupation|         list_salary|    average_salary|total_salary|\n",
            "+-----------------+--------------------+------------------+------------+\n",
            "|            Sales|[188274, 120277, ...| 190483.1558866279|  1048419290|\n",
            "|  Exec-managerial|[346189, 106444, ...|186125.05142951035|  1132757063|\n",
            "|   Prof-specialty|[104626, 85019, 2...|185456.03110823073|  1144634624|\n",
            "|Handlers-cleaners|[280215, 269705, ...|202052.54295366796|   418652869|\n",
            "|  Farming-fishing|[89814, 465326, 1...| 172659.8744966443|   257263213|\n",
            "|     Craft-repair|[104996, 432824, ...| 192258.9847840314|  1175086915|\n",
            "| Transport-moving|[186272, 170338, ...|191550.58174097663|   451101620|\n",
            "|  Priv-house-serv|[248446, 201062, ...|194482.93388429753|    47064870|\n",
            "|  Protective-serv|[336951, 258120, ...|201530.26653102748|   198104252|\n",
            "|    Other-service|[198693, 369667, ...| 187928.3272394881|   925171155|\n",
            "|     Tech-support|[107914, 175622, ...|190454.51106500693|   275397223|\n",
            "|Machine-op-inspct|[226802, 160323, ...|193211.18663136996|   583884206|\n",
            "|     Armed-Forces|[228724, 243233, ...|          216972.6|     3254589|\n",
            "|                ?|[103497, 227026, ...| 187353.6646493414|   526276444|\n",
            "|     Adm-clerical|[212465, 82091, 1...| 191856.5904473356|  1076507329|\n",
            "+-----------------+--------------------+------------------+------------+\n",
            "\n"
          ]
        }
      ]
    },
    {
      "cell_type": "code",
      "source": [
        "# we add another window function called orderBy to arrange the salary(fnlwgt) in ascending order\n",
        "windowSpec = Window.partitionBy('occupation').orderBy(F.asc('fnlwgt'))\n",
        "\n",
        "data_2 = df.withColumn('list_salary', F.collect_list(F.col('fnlwgt')).over(windowSpec))\\\n",
        ".withColumn('average_salary', F.avg(F.col('fnlwgt')).over(windowSpec))\\\n",
        ".withColumn('total_salary', F.sum(F.col('fnlwgt')).over(windowSpec))"
      ],
      "metadata": {
        "id": "XUssQoo1k7J1"
      },
      "execution_count": 27,
      "outputs": []
    },
    {
      "cell_type": "code",
      "source": [
        "data_2.show()"
      ],
      "metadata": {
        "colab": {
          "base_uri": "https://localhost:8080/"
        },
        "id": "F9I29FMqlZ_K",
        "outputId": "3d8fb770-add1-45ab-a5e1-c6fd1a27ba34"
      },
      "execution_count": 28,
      "outputs": [
        {
          "output_type": "stream",
          "name": "stdout",
          "text": [
            "+-----+---+----------------+------+------------+---------------+--------------------+---------------+-------------+------------------+------+------------+------------+--------------+--------------+------+--------------------+------------------+------------+\n",
            "|    x|age|       workclass|fnlwgt|   education|educational-num|      marital-status|     occupation| relationship|              race|gender|capital-gain|capital-loss|hours-per-week|native-country|income|         list_salary|    average_salary|total_salary|\n",
            "+-----+---+----------------+------+------------+---------------+--------------------+---------------+-------------+------------------+------+------------+------------+--------------+--------------+------+--------------------+------------------+------------+\n",
            "| 7669| 44|         Private| 13769|Some-college|             10|  Married-civ-spouse|Exec-managerial|      Husband|Amer-Indian-Eskimo|  Male|           0|           0|            40| United-States|  >50K|             [13769]|           13769.0|       13769|\n",
            "|31206| 43|     Federal-gov| 19914|Some-college|             10|             Widowed|Exec-managerial|    Unmarried|Amer-Indian-Eskimo|Female|           0|           0|            15| United-States| <=50K|      [13769, 19914]|           16841.5|       33683|\n",
            "|24612| 53|         Private| 20438|Some-college|             10|           Separated|Exec-managerial|    Unmarried|Amer-Indian-Eskimo|Female|           0|           0|            15| United-States| <=50K|[13769, 19914, 20...|18040.333333333332|       54121|\n",
            "|24111| 35|     Federal-gov| 20469|Some-college|             10|            Divorced|Exec-managerial|    Unmarried|Asian-Pac-Islander|Female|           0|           0|            40|   Philippines| <=50K|[13769, 19914, 20...|           18647.5|       74590|\n",
            "|28524| 46|       State-gov| 20534|   Bachelors|             13|       Never-married|Exec-managerial|Not-in-family|             White|  Male|           0|           0|            45| United-States| <=50K|[13769, 19914, 20...|           19024.8|       95124|\n",
            "|25548| 53|       Local-gov| 20676|     HS-grad|              9|  Married-civ-spouse|Exec-managerial|      Husband|Amer-Indian-Eskimo|  Male|           0|           0|            48| United-States| <=50K|[13769, 19914, 20...|           19300.0|      115800|\n",
            "|39230| 46|     Federal-gov| 20956|   Bachelors|             13|  Married-civ-spouse|Exec-managerial|      Husband|             White|  Male|       15024|           0|            40| United-States|  >50K|[13769, 19914, 20...|19536.571428571428|      136756|\n",
            "|16549| 64|         Private| 21174|     HS-grad|              9|  Married-civ-spouse|Exec-managerial|      Husband|             White|  Male|           0|           0|            40| United-States|  >50K|[13769, 19914, 20...|          19741.25|      157930|\n",
            "|  174| 61|         Private| 21175|        12th|              8|  Married-civ-spouse|Exec-managerial|      Husband|             White|  Male|           0|           0|            60| United-States| <=50K|[13769, 19914, 20...|19900.555555555555|      179105|\n",
            "|26977| 54|     Federal-gov| 21698|   Bachelors|             13|            Divorced|Exec-managerial|    Unmarried|             White|Female|           0|           0|            40| United-States| <=50K|[13769, 19914, 20...|           20080.3|      200803|\n",
            "| 3351| 52|       State-gov| 21764|Some-college|             10|  Married-civ-spouse|Exec-managerial|      Husband|             White|  Male|           0|           0|            60| United-States|  >50K|[13769, 19914, 20...|20233.363636363636|      222567|\n",
            "|38456| 41|         Private| 22201|   Bachelors|             13|  Married-civ-spouse|Exec-managerial|      Husband|Asian-Pac-Islander|  Male|           0|           0|            40|         Japan|  >50K|[13769, 19914, 20...|20397.333333333332|      244768|\n",
            "|  976| 51|       State-gov| 22211|     HS-grad|              9|            Divorced|Exec-managerial|Not-in-family|             White|  Male|           0|           0|            37| United-States|  >50K|[13769, 19914, 20...|20536.846153846152|      266979|\n",
            "| 9231| 38|Self-emp-not-inc| 22245|     HS-grad|              9|  Married-civ-spouse|Exec-managerial|      Husband|             White|  Male|           0|           0|            50| United-States| <=50K|[13769, 19914, 20...|20938.764705882353|      355959|\n",
            "|15120| 38|         Private| 22245|Some-college|             10|  Married-civ-spouse|Exec-managerial|      Husband|             White|  Male|           0|           0|            40| United-States|  >50K|[13769, 19914, 20...|20938.764705882353|      355959|\n",
            "|27892| 38|         Private| 22245|     HS-grad|              9|  Married-civ-spouse|Exec-managerial|      Husband|             White|  Male|           0|           0|            60| United-States|  >50K|[13769, 19914, 20...|20938.764705882353|      355959|\n",
            "|33966| 38|         Private| 22245|Some-college|             10|            Divorced|Exec-managerial|Not-in-family|             White|  Male|           0|           0|            50| United-States| <=50K|[13769, 19914, 20...|20938.764705882353|      355959|\n",
            "| 2605| 41|         Private| 22419|         9th|              5|  Married-civ-spouse|Exec-managerial|      Husband|Amer-Indian-Eskimo|  Male|           0|           0|            84| United-States| <=50K|[13769, 19914, 20...|           21021.0|      378378|\n",
            "|35013| 28|         Private| 22422|     HS-grad|              9|       Never-married|Exec-managerial|Not-in-family|             White|  Male|           0|           0|            40| United-States| <=50K|[13769, 19914, 20...|21094.736842105263|      400800|\n",
            "|10730| 37|         Private| 22494|Some-college|             10|Married-spouse-ab...|Exec-managerial|    Unmarried|             White|Female|           0|           0|            41| United-States| <=50K|[13769, 19914, 20...|21285.545454545456|      468282|\n",
            "+-----+---+----------------+------+------------+---------------+--------------------+---------------+-------------+------------------+------+------------+------------+--------------+--------------+------+--------------------+------------------+------------+\n",
            "only showing top 20 rows\n",
            "\n"
          ]
        }
      ]
    },
    {
      "cell_type": "code",
      "source": [],
      "metadata": {
        "id": "TrmEx1zglbai"
      },
      "execution_count": null,
      "outputs": []
    }
  ]
}