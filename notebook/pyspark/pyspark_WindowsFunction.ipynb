{
  "nbformat": 4,
  "nbformat_minor": 0,
  "metadata": {
    "colab": {
      "provenance": []
    },
    "kernelspec": {
      "name": "python3",
      "display_name": "Python 3"
    },
    "language_info": {
      "name": "python"
    }
  },
  "cells": [
    {
      "cell_type": "code",
      "execution_count": 1,
      "metadata": {
        "colab": {
          "base_uri": "https://localhost:8080/"
        },
        "id": "xYbcElAfniUr",
        "outputId": "0789364a-58c2-4547-97a2-7ee632d70fbf"
      },
      "outputs": [
        {
          "output_type": "stream",
          "name": "stdout",
          "text": [
            "Looking in indexes: https://pypi.org/simple, https://us-python.pkg.dev/colab-wheels/public/simple/\n",
            "Collecting pyspark\n",
            "  Downloading pyspark-3.3.1.tar.gz (281.4 MB)\n",
            "\u001b[K     |████████████████████████████████| 281.4 MB 46 kB/s \n",
            "\u001b[?25hCollecting py4j==0.10.9.5\n",
            "  Downloading py4j-0.10.9.5-py2.py3-none-any.whl (199 kB)\n",
            "\u001b[K     |████████████████████████████████| 199 kB 48.6 MB/s \n",
            "\u001b[?25hBuilding wheels for collected packages: pyspark\n",
            "  Building wheel for pyspark (setup.py) ... \u001b[?25l\u001b[?25hdone\n",
            "  Created wheel for pyspark: filename=pyspark-3.3.1-py2.py3-none-any.whl size=281845512 sha256=6475ef07d5bf33fe91bdba863dcdc8de726c3865ba82711f97d66917a9653f5a\n",
            "  Stored in directory: /root/.cache/pip/wheels/43/dc/11/ec201cd671da62fa9c5cc77078235e40722170ceba231d7598\n",
            "Successfully built pyspark\n",
            "Installing collected packages: py4j, pyspark\n",
            "Successfully installed py4j-0.10.9.5 pyspark-3.3.1\n"
          ]
        }
      ],
      "source": [
        "pip install pyspark"
      ]
    },
    {
      "cell_type": "markdown",
      "source": [
        "### Rank, Dense Rank and Percent Rank"
      ],
      "metadata": {
        "id": "mT4SrOybrzoT"
      }
    },
    {
      "cell_type": "code",
      "source": [
        "from pyspark.sql.window import Window\n",
        "import pyspark\n",
        "from pyspark.sql import SparkSession"
      ],
      "metadata": {
        "id": "D1Wlx70er2ko"
      },
      "execution_count": 51,
      "outputs": []
    },
    {
      "cell_type": "code",
      "source": [
        "spark = SparkSession.builder.appName(\"windows_function\").getOrCreate()"
      ],
      "metadata": {
        "id": "KUiiV6KZr6W4"
      },
      "execution_count": 52,
      "outputs": []
    },
    {
      "cell_type": "code",
      "source": [
        "# sample data for dataframe\n",
        "sampleData = ((\"Ram\", 28, \"Sales\", 3000),\n",
        "              (\"Meena\", 33, \"Sales\", 4600),\n",
        "              (\"Robin\", 40, \"Sales\", 4100),\n",
        "              (\"Kunal\", 25, \"Finance\", 3000),\n",
        "              (\"Ram\", 28, \"Sales\", 3000),\n",
        "              (\"Srishti\", 46, \"Management\", 3300),\n",
        "              (\"Jeny\", 26, \"Finance\", 3900),\n",
        "              (\"Hitesh\", 30, \"Marketing\", 3000),\n",
        "              (\"Kailash\", 29, \"Marketing\", 2000),\n",
        "              (\"Sharad\", 39, \"Sales\", 4100)\n",
        "              )"
      ],
      "metadata": {
        "id": "jvqQI4HaPj9J"
      },
      "execution_count": 53,
      "outputs": []
    },
    {
      "cell_type": "code",
      "source": [
        "# column names for dataframe\n",
        "columns = [\"Employee_Name\", \"Age\",\"Department\", \"Salary\"]"
      ],
      "metadata": {
        "id": "pMEuFnzAPn5D"
      },
      "execution_count": 54,
      "outputs": []
    },
    {
      "cell_type": "code",
      "source": [
        "# create a dataframe\n",
        "df = spark.createDataFrame(data=sampleData,schema=columns)"
      ],
      "metadata": {
        "id": "aebw4hglP8Yv"
      },
      "execution_count": 55,
      "outputs": []
    },
    {
      "cell_type": "code",
      "source": [
        "# check the df schema\n",
        "df.printSchema()"
      ],
      "metadata": {
        "colab": {
          "base_uri": "https://localhost:8080/"
        },
        "id": "OsA0DY_QP3EW",
        "outputId": "c85f7983-d408-4d60-f247-45fffb81ac4f"
      },
      "execution_count": 56,
      "outputs": [
        {
          "output_type": "stream",
          "name": "stdout",
          "text": [
            "root\n",
            " |-- Employee_Name: string (nullable = true)\n",
            " |-- Age: long (nullable = true)\n",
            " |-- Department: string (nullable = true)\n",
            " |-- Salary: long (nullable = true)\n",
            "\n"
          ]
        }
      ]
    },
    {
      "cell_type": "code",
      "source": [
        "# creating a window\n",
        "window = Window.partitionBy('Department').orderBy('age')"
      ],
      "metadata": {
        "id": "2iLK6AQoPqdF"
      },
      "execution_count": 65,
      "outputs": []
    },
    {
      "cell_type": "code",
      "source": [
        "df.show()"
      ],
      "metadata": {
        "colab": {
          "base_uri": "https://localhost:8080/"
        },
        "id": "H7yMD1xWQCOB",
        "outputId": "c87bd0f7-27bf-4fb3-e4c7-19d47091356a"
      },
      "execution_count": 66,
      "outputs": [
        {
          "output_type": "stream",
          "name": "stdout",
          "text": [
            "+-------------+---+----------+------+\n",
            "|Employee_Name|Age|Department|Salary|\n",
            "+-------------+---+----------+------+\n",
            "|          Ram| 28|     Sales|  3000|\n",
            "|        Meena| 33|     Sales|  4600|\n",
            "|        Robin| 40|     Sales|  4100|\n",
            "|        Kunal| 25|   Finance|  3000|\n",
            "|          Ram| 28|     Sales|  3000|\n",
            "|      Srishti| 46|Management|  3300|\n",
            "|         Jeny| 26|   Finance|  3900|\n",
            "|       Hitesh| 30| Marketing|  3000|\n",
            "|      Kailash| 29| Marketing|  2000|\n",
            "|       Sharad| 39|     Sales|  4100|\n",
            "+-------------+---+----------+------+\n",
            "\n"
          ]
        }
      ]
    },
    {
      "cell_type": "markdown",
      "source": [
        "<!-- # Windows function main type:\n",
        "# 1. Analytical Function\n",
        "# 2. Ranking Function\n",
        "# 3. Aggregate Function -->"
      ],
      "metadata": {
        "id": "u5XuAf3PQ62S"
      }
    },
    {
      "cell_type": "markdown",
      "source": [
        "### Windows function main type:\n",
        "### 1. Analytical Function\n",
        "### 2. Ranking Function\n",
        "### 3. Aggregate Function"
      ],
      "metadata": {
        "id": "U0VEJJmqRC5E"
      }
    },
    {
      "cell_type": "code",
      "source": [
        "# Analytical Function\n",
        "# cume_dist : cumulative distribution\n",
        "import pyspark.sql.functions as F\n",
        "\n",
        "df.withColumn('distribution', F.cume_dist().over(window)).show()\n",
        "### will create a new col call distribution and calculates cumulative distribution on the department col"
      ],
      "metadata": {
        "colab": {
          "base_uri": "https://localhost:8080/"
        },
        "id": "9y9h6APWQ5C1",
        "outputId": "744c3efe-23b7-4fb3-cf6f-c4ea30a8faa0"
      },
      "execution_count": 67,
      "outputs": [
        {
          "output_type": "stream",
          "name": "stdout",
          "text": [
            "+-------------+---+----------+------+------------+\n",
            "|Employee_Name|Age|Department|Salary|distribution|\n",
            "+-------------+---+----------+------+------------+\n",
            "|        Kunal| 25|   Finance|  3000|         0.5|\n",
            "|         Jeny| 26|   Finance|  3900|         1.0|\n",
            "|      Srishti| 46|Management|  3300|         1.0|\n",
            "|      Kailash| 29| Marketing|  2000|         0.5|\n",
            "|       Hitesh| 30| Marketing|  3000|         1.0|\n",
            "|          Ram| 28|     Sales|  3000|         0.4|\n",
            "|          Ram| 28|     Sales|  3000|         0.4|\n",
            "|        Meena| 33|     Sales|  4600|         0.6|\n",
            "|       Sharad| 39|     Sales|  4100|         0.8|\n",
            "|        Robin| 40|     Sales|  4100|         1.0|\n",
            "+-------------+---+----------+------+------------+\n",
            "\n"
          ]
        }
      ]
    },
    {
      "cell_type": "code",
      "source": [
        "# lag function\n",
        "\n",
        "df.withColumn('Lag', F.lag('Salary',2).over(window)).show()"
      ],
      "metadata": {
        "colab": {
          "base_uri": "https://localhost:8080/"
        },
        "id": "VpynBI99RlUa",
        "outputId": "4b48dc5f-1822-4aa2-b568-ef6c66d30dd0"
      },
      "execution_count": 68,
      "outputs": [
        {
          "output_type": "stream",
          "name": "stdout",
          "text": [
            "+-------------+---+----------+------+----+\n",
            "|Employee_Name|Age|Department|Salary| Lag|\n",
            "+-------------+---+----------+------+----+\n",
            "|        Kunal| 25|   Finance|  3000|null|\n",
            "|         Jeny| 26|   Finance|  3900|null|\n",
            "|      Srishti| 46|Management|  3300|null|\n",
            "|      Kailash| 29| Marketing|  2000|null|\n",
            "|       Hitesh| 30| Marketing|  3000|null|\n",
            "|          Ram| 28|     Sales|  3000|null|\n",
            "|          Ram| 28|     Sales|  3000|null|\n",
            "|        Meena| 33|     Sales|  4600|3000|\n",
            "|       Sharad| 39|     Sales|  4100|3000|\n",
            "|        Robin| 40|     Sales|  4100|4600|\n",
            "+-------------+---+----------+------+----+\n",
            "\n"
          ]
        }
      ]
    },
    {
      "cell_type": "code",
      "source": [
        "# lead function\n",
        "df.withColumn(\"Lead\", F.lead(\"salary\", 2).over(window)).show()"
      ],
      "metadata": {
        "colab": {
          "base_uri": "https://localhost:8080/"
        },
        "id": "8qG6meVfUuap",
        "outputId": "1100ecfb-5355-4cb8-81ca-080d06bc2796"
      },
      "execution_count": 69,
      "outputs": [
        {
          "output_type": "stream",
          "name": "stdout",
          "text": [
            "+-------------+---+----------+------+----+\n",
            "|Employee_Name|Age|Department|Salary|Lead|\n",
            "+-------------+---+----------+------+----+\n",
            "|        Kunal| 25|   Finance|  3000|null|\n",
            "|         Jeny| 26|   Finance|  3900|null|\n",
            "|      Srishti| 46|Management|  3300|null|\n",
            "|      Kailash| 29| Marketing|  2000|null|\n",
            "|       Hitesh| 30| Marketing|  3000|null|\n",
            "|          Ram| 28|     Sales|  3000|4600|\n",
            "|          Ram| 28|     Sales|  3000|4100|\n",
            "|        Meena| 33|     Sales|  4600|4100|\n",
            "|       Sharad| 39|     Sales|  4100|null|\n",
            "|        Robin| 40|     Sales|  4100|null|\n",
            "+-------------+---+----------+------+----+\n",
            "\n"
          ]
        }
      ]
    },
    {
      "cell_type": "code",
      "source": [
        "# Ranking Function\n",
        "\n",
        "# sample data for dataframe\n",
        "sampleData = ((101, \"Ram\", \"Biology\", 80),\n",
        "              (103, \"Meena\", \"Social Science\", 78),\n",
        "              (104, \"Robin\", \"Sanskrit\", 58),\n",
        "              (102, \"Kunal\", \"Phisycs\", 89),\n",
        "              (101, \"Ram\", \"Biology\", 80),\n",
        "              (106, \"Srishti\", \"Maths\", 70),\n",
        "              (108, \"Jeny\", \"Physics\", 75),\n",
        "              (107, \"Hitesh\", \"Maths\", 88),\n",
        "              (109, \"Kailash\", \"Maths\", 90),\n",
        "              (105, \"Sharad\", \"Social Science\", 84)\n",
        "              )\n",
        "columns = [\"Roll_No\", \"Student_Name\", \"Subject\", \"Marks\"]"
      ],
      "metadata": {
        "id": "9EgE8w6VVvD0"
      },
      "execution_count": 70,
      "outputs": []
    },
    {
      "cell_type": "code",
      "source": [
        "window2 =  Window.partitionBy('Subject').orderBy('Marks')\n",
        "df2 = spark.createDataFrame(data = sampleData, schema = columns)"
      ],
      "metadata": {
        "id": "J336nVmsXtqF"
      },
      "execution_count": 75,
      "outputs": []
    },
    {
      "cell_type": "code",
      "source": [
        "df2.printSchema()"
      ],
      "metadata": {
        "colab": {
          "base_uri": "https://localhost:8080/"
        },
        "id": "RZ-EGLA5X0L-",
        "outputId": "5943466a-e329-46de-8b39-7b995e541f6a"
      },
      "execution_count": 76,
      "outputs": [
        {
          "output_type": "stream",
          "name": "stdout",
          "text": [
            "root\n",
            " |-- Roll_No: long (nullable = true)\n",
            " |-- Student_Name: string (nullable = true)\n",
            " |-- Subject: string (nullable = true)\n",
            " |-- Marks: long (nullable = true)\n",
            "\n"
          ]
        }
      ]
    },
    {
      "cell_type": "code",
      "source": [
        "\n",
        "df.show()"
      ],
      "metadata": {
        "colab": {
          "base_uri": "https://localhost:8080/"
        },
        "id": "VVheD2W5X1m7",
        "outputId": "dbb1a1b4-76f6-4d0f-c3c5-457c5fdf4e31"
      },
      "execution_count": 77,
      "outputs": [
        {
          "output_type": "stream",
          "name": "stdout",
          "text": [
            "+-------------+---+----------+------+\n",
            "|Employee_Name|Age|Department|Salary|\n",
            "+-------------+---+----------+------+\n",
            "|          Ram| 28|     Sales|  3000|\n",
            "|        Meena| 33|     Sales|  4600|\n",
            "|        Robin| 40|     Sales|  4100|\n",
            "|        Kunal| 25|   Finance|  3000|\n",
            "|          Ram| 28|     Sales|  3000|\n",
            "|      Srishti| 46|Management|  3300|\n",
            "|         Jeny| 26|   Finance|  3900|\n",
            "|       Hitesh| 30| Marketing|  3000|\n",
            "|      Kailash| 29| Marketing|  2000|\n",
            "|       Sharad| 39|     Sales|  4100|\n",
            "+-------------+---+----------+------+\n",
            "\n"
          ]
        }
      ]
    },
    {
      "cell_type": "code",
      "source": [
        "## row_number function\n",
        "# generates row number based on the specified partition\n",
        "df2.withColumn('row_number', F.row_number().over(window2)).show()"
      ],
      "metadata": {
        "colab": {
          "base_uri": "https://localhost:8080/"
        },
        "id": "ZqXpYB-MX2qA",
        "outputId": "f2558280-270c-4a2b-c2e5-b39726ed3d0b"
      },
      "execution_count": 81,
      "outputs": [
        {
          "output_type": "stream",
          "name": "stdout",
          "text": [
            "+-------+------------+--------------+-----+----------+\n",
            "|Roll_No|Student_Name|       Subject|Marks|row_number|\n",
            "+-------+------------+--------------+-----+----------+\n",
            "|    101|         Ram|       Biology|   80|         1|\n",
            "|    101|         Ram|       Biology|   80|         2|\n",
            "|    106|     Srishti|         Maths|   70|         1|\n",
            "|    107|      Hitesh|         Maths|   88|         2|\n",
            "|    109|     Kailash|         Maths|   90|         3|\n",
            "|    102|       Kunal|       Phisycs|   89|         1|\n",
            "|    108|        Jeny|       Physics|   75|         1|\n",
            "|    104|       Robin|      Sanskrit|   58|         1|\n",
            "|    103|       Meena|Social Science|   78|         1|\n",
            "|    105|      Sharad|Social Science|   84|         2|\n",
            "+-------+------------+--------------+-----+----------+\n",
            "\n"
          ]
        }
      ]
    },
    {
      "cell_type": "code",
      "source": [
        "# rank()\n",
        "\n",
        "df2.withColumn('rank', F.rank().over(window2)).show()"
      ],
      "metadata": {
        "colab": {
          "base_uri": "https://localhost:8080/"
        },
        "id": "jO6t92hGYEvL",
        "outputId": "f2def9ce-5db7-4ef2-912f-eedb5b23163c"
      },
      "execution_count": 82,
      "outputs": [
        {
          "output_type": "stream",
          "name": "stdout",
          "text": [
            "+-------+------------+--------------+-----+----+\n",
            "|Roll_No|Student_Name|       Subject|Marks|rank|\n",
            "+-------+------------+--------------+-----+----+\n",
            "|    101|         Ram|       Biology|   80|   1|\n",
            "|    101|         Ram|       Biology|   80|   1|\n",
            "|    106|     Srishti|         Maths|   70|   1|\n",
            "|    107|      Hitesh|         Maths|   88|   2|\n",
            "|    109|     Kailash|         Maths|   90|   3|\n",
            "|    102|       Kunal|       Phisycs|   89|   1|\n",
            "|    108|        Jeny|       Physics|   75|   1|\n",
            "|    104|       Robin|      Sanskrit|   58|   1|\n",
            "|    103|       Meena|Social Science|   78|   1|\n",
            "|    105|      Sharad|Social Science|   84|   2|\n",
            "+-------+------------+--------------+-----+----+\n",
            "\n"
          ]
        }
      ]
    },
    {
      "cell_type": "code",
      "source": [
        "# percent_rank\n",
        "\n",
        "df2.withColumn(\"percent_rank\", F.percent_rank().over(window2)).show()"
      ],
      "metadata": {
        "colab": {
          "base_uri": "https://localhost:8080/"
        },
        "id": "C8gpDRw-aHzp",
        "outputId": "7baa1f9e-0b8b-4f1d-851c-bacd47bcf9ad"
      },
      "execution_count": 85,
      "outputs": [
        {
          "output_type": "stream",
          "name": "stdout",
          "text": [
            "+-------+------------+--------------+-----+------------+\n",
            "|Roll_No|Student_Name|       Subject|Marks|percent_rank|\n",
            "+-------+------------+--------------+-----+------------+\n",
            "|    101|         Ram|       Biology|   80|         0.0|\n",
            "|    101|         Ram|       Biology|   80|         0.0|\n",
            "|    106|     Srishti|         Maths|   70|         0.0|\n",
            "|    107|      Hitesh|         Maths|   88|         0.5|\n",
            "|    109|     Kailash|         Maths|   90|         1.0|\n",
            "|    102|       Kunal|       Phisycs|   89|         0.0|\n",
            "|    108|        Jeny|       Physics|   75|         0.0|\n",
            "|    104|       Robin|      Sanskrit|   58|         0.0|\n",
            "|    103|       Meena|Social Science|   78|         0.0|\n",
            "|    105|      Sharad|Social Science|   84|         1.0|\n",
            "+-------+------------+--------------+-----+------------+\n",
            "\n"
          ]
        }
      ]
    },
    {
      "cell_type": "code",
      "source": [
        "# dense_rank\n",
        "\n",
        "df2.withColumn('dense_rank', F.dense_rank().over(window2)).show()"
      ],
      "metadata": {
        "colab": {
          "base_uri": "https://localhost:8080/"
        },
        "id": "pWAyngEZdeNP",
        "outputId": "30e536de-1ade-4a8a-cec2-20991ea166a9"
      },
      "execution_count": 86,
      "outputs": [
        {
          "output_type": "stream",
          "name": "stdout",
          "text": [
            "+-------+------------+--------------+-----+----------+\n",
            "|Roll_No|Student_Name|       Subject|Marks|dense_rank|\n",
            "+-------+------------+--------------+-----+----------+\n",
            "|    101|         Ram|       Biology|   80|         1|\n",
            "|    101|         Ram|       Biology|   80|         1|\n",
            "|    106|     Srishti|         Maths|   70|         1|\n",
            "|    107|      Hitesh|         Maths|   88|         2|\n",
            "|    109|     Kailash|         Maths|   90|         3|\n",
            "|    102|       Kunal|       Phisycs|   89|         1|\n",
            "|    108|        Jeny|       Physics|   75|         1|\n",
            "|    104|       Robin|      Sanskrit|   58|         1|\n",
            "|    103|       Meena|Social Science|   78|         1|\n",
            "|    105|      Sharad|Social Science|   84|         2|\n",
            "+-------+------------+--------------+-----+----------+\n",
            "\n"
          ]
        }
      ]
    },
    {
      "cell_type": "code",
      "source": [
        "# Aggregate Function\n",
        "\n",
        "# sample data for dataframe\n",
        "sampleData = ((\"Ram\", \"Sales\", 3000),\n",
        "              (\"Meena\", \"Sales\", 4600),\n",
        "              (\"Robin\", \"Sales\", 4100),\n",
        "              (\"Kunal\", \"Finance\", 3000),\n",
        "              (\"Ram\", \"Sales\", 3000),\n",
        "              (\"Srishti\", \"Management\", 3300),\n",
        "              (\"Jeny\", \"Finance\", 3900),\n",
        "              (\"Hitesh\", \"Marketing\", 3000),\n",
        "              (\"Kailash\", \"Marketing\", 2000),\n",
        "              (\"Sharad\", \"Sales\", 4100)\n",
        "              )"
      ],
      "metadata": {
        "id": "rS4hz9zjd2Qt"
      },
      "execution_count": 87,
      "outputs": []
    },
    {
      "cell_type": "code",
      "source": [
        "# column names \n",
        "columns = [\"Employee_Name\", \"Department\", \"Salary\"]\n",
        " \n",
        "# creating the df\n",
        "df3 = spark.createDataFrame(data=sampleData,\n",
        "                            schema=columns)"
      ],
      "metadata": {
        "id": "Q4Z-4UJ7gMEs"
      },
      "execution_count": 88,
      "outputs": []
    },
    {
      "cell_type": "code",
      "source": [
        "df3.printSchema()"
      ],
      "metadata": {
        "colab": {
          "base_uri": "https://localhost:8080/"
        },
        "id": "ZjHn8AqwgQFF",
        "outputId": "76b15a65-968d-4adf-b7ce-2e205ac1d553"
      },
      "execution_count": 89,
      "outputs": [
        {
          "output_type": "stream",
          "name": "stdout",
          "text": [
            "root\n",
            " |-- Employee_Name: string (nullable = true)\n",
            " |-- Department: string (nullable = true)\n",
            " |-- Salary: long (nullable = true)\n",
            "\n"
          ]
        }
      ]
    },
    {
      "cell_type": "code",
      "source": [
        "df.show()"
      ],
      "metadata": {
        "colab": {
          "base_uri": "https://localhost:8080/"
        },
        "id": "ed793ZZWgRnl",
        "outputId": "05f544b1-020f-4a57-e6d5-9728ac980cf6"
      },
      "execution_count": 90,
      "outputs": [
        {
          "output_type": "stream",
          "name": "stdout",
          "text": [
            "+-------------+---+----------+------+\n",
            "|Employee_Name|Age|Department|Salary|\n",
            "+-------------+---+----------+------+\n",
            "|          Ram| 28|     Sales|  3000|\n",
            "|        Meena| 33|     Sales|  4600|\n",
            "|        Robin| 40|     Sales|  4100|\n",
            "|        Kunal| 25|   Finance|  3000|\n",
            "|          Ram| 28|     Sales|  3000|\n",
            "|      Srishti| 46|Management|  3300|\n",
            "|         Jeny| 26|   Finance|  3900|\n",
            "|       Hitesh| 30| Marketing|  3000|\n",
            "|      Kailash| 29| Marketing|  2000|\n",
            "|       Sharad| 39|     Sales|  4100|\n",
            "+-------------+---+----------+------+\n",
            "\n"
          ]
        }
      ]
    },
    {
      "cell_type": "code",
      "source": [
        "window3  = Window.partitionBy(\"Department\")"
      ],
      "metadata": {
        "id": "eH7Y6T1mgSdq"
      },
      "execution_count": 91,
      "outputs": []
    },
    {
      "cell_type": "code",
      "source": [
        "df3.withColumn('Avg', F.avg('Salary').over(window3)) \\\n",
        "    .withColumn('Sum', F.sum('Salary').over(window3))\\\n",
        "    .withColumn('Min',F.sum('Salary').over(window3))\\\n",
        "    .withColumn('Max',F.max('Salary').over(window3)).show()"
      ],
      "metadata": {
        "colab": {
          "base_uri": "https://localhost:8080/"
        },
        "id": "i--l0mEogWr-",
        "outputId": "82711e02-300b-481d-fae9-79517fa17e49"
      },
      "execution_count": 98,
      "outputs": [
        {
          "output_type": "stream",
          "name": "stdout",
          "text": [
            "+-------------+----------+------+------+-----+-----+----+\n",
            "|Employee_Name|Department|Salary|   Avg|  Sum|  Min| Max|\n",
            "+-------------+----------+------+------+-----+-----+----+\n",
            "|        Kunal|   Finance|  3000|3450.0| 6900| 6900|3900|\n",
            "|         Jeny|   Finance|  3900|3450.0| 6900| 6900|3900|\n",
            "|      Srishti|Management|  3300|3300.0| 3300| 3300|3300|\n",
            "|       Hitesh| Marketing|  3000|2500.0| 5000| 5000|3000|\n",
            "|      Kailash| Marketing|  2000|2500.0| 5000| 5000|3000|\n",
            "|          Ram|     Sales|  3000|3760.0|18800|18800|4600|\n",
            "|        Meena|     Sales|  4600|3760.0|18800|18800|4600|\n",
            "|        Robin|     Sales|  4100|3760.0|18800|18800|4600|\n",
            "|          Ram|     Sales|  3000|3760.0|18800|18800|4600|\n",
            "|       Sharad|     Sales|  4100|3760.0|18800|18800|4600|\n",
            "+-------------+----------+------+------+-----+-----+----+\n",
            "\n"
          ]
        }
      ]
    },
    {
      "cell_type": "code",
      "source": [],
      "metadata": {
        "id": "jCSp2M5mjQhT"
      },
      "execution_count": null,
      "outputs": []
    }
  ]
}