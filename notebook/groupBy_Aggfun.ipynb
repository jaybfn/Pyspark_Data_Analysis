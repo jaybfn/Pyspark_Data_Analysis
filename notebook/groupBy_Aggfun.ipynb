{
  "nbformat": 4,
  "nbformat_minor": 0,
  "metadata": {
    "colab": {
      "provenance": []
    },
    "kernelspec": {
      "name": "python3",
      "display_name": "Python 3"
    },
    "language_info": {
      "name": "python"
    }
  },
  "cells": [
    {
      "cell_type": "code",
      "execution_count": 1,
      "metadata": {
        "colab": {
          "base_uri": "https://localhost:8080/"
        },
        "id": "V8CqV5QtETCW",
        "outputId": "de956347-fe9d-4c76-a795-23509d0bc0f1"
      },
      "outputs": [
        {
          "output_type": "stream",
          "name": "stdout",
          "text": [
            "Looking in indexes: https://pypi.org/simple, https://us-python.pkg.dev/colab-wheels/public/simple/\n",
            "Collecting pyspark\n",
            "  Downloading pyspark-3.3.1.tar.gz (281.4 MB)\n",
            "\u001b[K     |████████████████████████████████| 281.4 MB 37 kB/s \n",
            "\u001b[?25hCollecting py4j==0.10.9.5\n",
            "  Downloading py4j-0.10.9.5-py2.py3-none-any.whl (199 kB)\n",
            "\u001b[K     |████████████████████████████████| 199 kB 49.8 MB/s \n",
            "\u001b[?25hBuilding wheels for collected packages: pyspark\n",
            "  Building wheel for pyspark (setup.py) ... \u001b[?25l\u001b[?25hdone\n",
            "  Created wheel for pyspark: filename=pyspark-3.3.1-py2.py3-none-any.whl size=281845512 sha256=912b0c9e17cb07762303e2d523936a6944d6dca8215101538abcba78e6b4dc06\n",
            "  Stored in directory: /root/.cache/pip/wheels/43/dc/11/ec201cd671da62fa9c5cc77078235e40722170ceba231d7598\n",
            "Successfully built pyspark\n",
            "Installing collected packages: py4j, pyspark\n",
            "Successfully installed py4j-0.10.9.5 pyspark-3.3.1\n"
          ]
        }
      ],
      "source": [
        "pip install pyspark"
      ]
    },
    {
      "cell_type": "code",
      "source": [
        "!curl https://raw.githubusercontent.com/markumreed/colab_pyspark/main/sales_data.csv >> sales_data.csv"
      ],
      "metadata": {
        "colab": {
          "base_uri": "https://localhost:8080/"
        },
        "id": "_VTHcaTME55z",
        "outputId": "b2a40746-04b9-4ebb-d589-fde6b078b949"
      },
      "execution_count": 2,
      "outputs": [
        {
          "output_type": "stream",
          "name": "stdout",
          "text": [
            "  % Total    % Received % Xferd  Average Speed   Time    Time     Time  Current\n",
            "                                 Dload  Upload   Total   Spent    Left  Speed\n",
            "100   202  100   202    0     0    975      0 --:--:-- --:--:-- --:--:--   975\n"
          ]
        }
      ]
    },
    {
      "cell_type": "code",
      "source": [
        "from pyspark.sql import SparkSession"
      ],
      "metadata": {
        "id": "0B-PYkz9E-LQ"
      },
      "execution_count": 3,
      "outputs": []
    },
    {
      "cell_type": "code",
      "source": [
        "spark = SparkSession.builder.appName('agg_groupby').getOrCreate()"
      ],
      "metadata": {
        "id": "_IY8KUjVFCNH"
      },
      "execution_count": 4,
      "outputs": []
    },
    {
      "cell_type": "code",
      "source": [
        "df = spark.read.csv('sales_data.csv', inferSchema = True, header = True)"
      ],
      "metadata": {
        "id": "kqaIOFlfFJM9"
      },
      "execution_count": 5,
      "outputs": []
    },
    {
      "cell_type": "code",
      "source": [
        "df.printSchema()"
      ],
      "metadata": {
        "colab": {
          "base_uri": "https://localhost:8080/"
        },
        "id": "_perhDYvFSoN",
        "outputId": "79bd61a7-7ec3-41e8-95d2-530cc2c05e83"
      },
      "execution_count": 6,
      "outputs": [
        {
          "output_type": "stream",
          "name": "stdout",
          "text": [
            "root\n",
            " |-- company: string (nullable = true)\n",
            " |-- representative: string (nullable = true)\n",
            " |-- num_sales: double (nullable = true)\n",
            "\n"
          ]
        }
      ]
    },
    {
      "cell_type": "code",
      "source": [
        "df.show(5)"
      ],
      "metadata": {
        "colab": {
          "base_uri": "https://localhost:8080/"
        },
        "id": "ohq1Atb7FUf_",
        "outputId": "67ce7e61-f7d3-40d7-cb82-349972942dc3"
      },
      "execution_count": 7,
      "outputs": [
        {
          "output_type": "stream",
          "name": "stdout",
          "text": [
            "+-------+--------------+---------+\n",
            "|company|representative|num_sales|\n",
            "+-------+--------------+---------+\n",
            "|    XYZ|           Bob|    200.0|\n",
            "|    XYZ|           Tom|    120.0|\n",
            "|    XYZ|         Frank|    340.0|\n",
            "|   ABCD|         Jerry|    600.0|\n",
            "|   ABCD|           Amy|    124.0|\n",
            "+-------+--------------+---------+\n",
            "only showing top 5 rows\n",
            "\n"
          ]
        }
      ]
    },
    {
      "cell_type": "code",
      "source": [
        "# grouping by company\n",
        "\n",
        "df.groupBy('company').mean().show()"
      ],
      "metadata": {
        "colab": {
          "base_uri": "https://localhost:8080/"
        },
        "id": "k8zSqarLFXOA",
        "outputId": "6751202b-d0ea-4fec-dbd8-7f8bad17d711"
      },
      "execution_count": 8,
      "outputs": [
        {
          "output_type": "stream",
          "name": "stdout",
          "text": [
            "+-------+-----------------+\n",
            "|company|   avg(num_sales)|\n",
            "+-------+-----------------+\n",
            "|   BLAH|            370.0|\n",
            "|    XYZ|            220.0|\n",
            "|     OK|            610.0|\n",
            "|   ABCD|322.3333333333333|\n",
            "+-------+-----------------+\n",
            "\n"
          ]
        }
      ]
    },
    {
      "cell_type": "code",
      "source": [
        "df.groupBy('company').count().show()"
      ],
      "metadata": {
        "colab": {
          "base_uri": "https://localhost:8080/"
        },
        "id": "acZW1AByF72b",
        "outputId": "dc3e9582-057b-442d-89a3-0719f97a9eca"
      },
      "execution_count": 9,
      "outputs": [
        {
          "output_type": "stream",
          "name": "stdout",
          "text": [
            "+-------+-----+\n",
            "|company|count|\n",
            "+-------+-----+\n",
            "|   BLAH|    4|\n",
            "|    XYZ|    3|\n",
            "|     OK|    2|\n",
            "|   ABCD|    3|\n",
            "+-------+-----+\n",
            "\n"
          ]
        }
      ]
    },
    {
      "cell_type": "code",
      "source": [
        "df.groupBy('company').min().show()"
      ],
      "metadata": {
        "colab": {
          "base_uri": "https://localhost:8080/"
        },
        "id": "OeOwK2V4GC7N",
        "outputId": "1a820494-0efc-4d81-9a95-81930beb165a"
      },
      "execution_count": 10,
      "outputs": [
        {
          "output_type": "stream",
          "name": "stdout",
          "text": [
            "+-------+--------------+\n",
            "|company|min(num_sales)|\n",
            "+-------+--------------+\n",
            "|   BLAH|         130.0|\n",
            "|    XYZ|         120.0|\n",
            "|     OK|         350.0|\n",
            "|   ABCD|         124.0|\n",
            "+-------+--------------+\n",
            "\n"
          ]
        }
      ]
    },
    {
      "cell_type": "code",
      "source": [
        "df.groupBy('company').max().show()"
      ],
      "metadata": {
        "colab": {
          "base_uri": "https://localhost:8080/"
        },
        "id": "wj0flZGeGOa3",
        "outputId": "658d71fe-dfea-4ac3-dd8a-f309b59574b9"
      },
      "execution_count": 11,
      "outputs": [
        {
          "output_type": "stream",
          "name": "stdout",
          "text": [
            "+-------+--------------+\n",
            "|company|max(num_sales)|\n",
            "+-------+--------------+\n",
            "|   BLAH|         750.0|\n",
            "|    XYZ|         340.0|\n",
            "|     OK|         870.0|\n",
            "|   ABCD|         600.0|\n",
            "+-------+--------------+\n",
            "\n"
          ]
        }
      ]
    },
    {
      "cell_type": "code",
      "source": [
        "df.groupBy('company').sum().show()"
      ],
      "metadata": {
        "colab": {
          "base_uri": "https://localhost:8080/"
        },
        "id": "4nSTfka4GQ-7",
        "outputId": "97d833f8-037d-41f3-b4ca-54418f87b5ae"
      },
      "execution_count": 12,
      "outputs": [
        {
          "output_type": "stream",
          "name": "stdout",
          "text": [
            "+-------+--------------+\n",
            "|company|sum(num_sales)|\n",
            "+-------+--------------+\n",
            "|   BLAH|        1480.0|\n",
            "|    XYZ|         660.0|\n",
            "|     OK|        1220.0|\n",
            "|   ABCD|         967.0|\n",
            "+-------+--------------+\n",
            "\n"
          ]
        }
      ]
    },
    {
      "cell_type": "code",
      "source": [
        "# Aggregation\n",
        "#using agg function to extract max sale value\n",
        "df.agg({'num_sales': 'max'}).show()"
      ],
      "metadata": {
        "colab": {
          "base_uri": "https://localhost:8080/"
        },
        "id": "O4ATpgKvGYY2",
        "outputId": "8d5499ea-5d0d-4dfc-b5b9-77fecb519de9"
      },
      "execution_count": 14,
      "outputs": [
        {
          "output_type": "stream",
          "name": "stdout",
          "text": [
            "+--------------+\n",
            "|max(num_sales)|\n",
            "+--------------+\n",
            "|         870.0|\n",
            "+--------------+\n",
            "\n"
          ]
        }
      ]
    },
    {
      "cell_type": "code",
      "source": [
        "df.groupBy('company').agg({'num_sales':'mean'}).show()"
      ],
      "metadata": {
        "colab": {
          "base_uri": "https://localhost:8080/"
        },
        "id": "TcasCwJLHA3p",
        "outputId": "c16be6cc-d6ae-4bf0-c284-e8d28a685850"
      },
      "execution_count": 15,
      "outputs": [
        {
          "output_type": "stream",
          "name": "stdout",
          "text": [
            "+-------+-----------------+\n",
            "|company|   avg(num_sales)|\n",
            "+-------+-----------------+\n",
            "|   BLAH|            370.0|\n",
            "|    XYZ|            220.0|\n",
            "|     OK|            610.0|\n",
            "|   ABCD|322.3333333333333|\n",
            "+-------+-----------------+\n",
            "\n"
          ]
        }
      ]
    },
    {
      "cell_type": "code",
      "source": [
        "company_groups = df.groupBy('company')"
      ],
      "metadata": {
        "id": "-z_vrYY2HM14"
      },
      "execution_count": 16,
      "outputs": []
    },
    {
      "cell_type": "code",
      "source": [
        "company_groups.min().show()"
      ],
      "metadata": {
        "colab": {
          "base_uri": "https://localhost:8080/"
        },
        "id": "KWv03eQMHaAy",
        "outputId": "f210ecf3-5e1f-49e0-e2b1-cd20ce8aaff5"
      },
      "execution_count": 18,
      "outputs": [
        {
          "output_type": "stream",
          "name": "stdout",
          "text": [
            "+-------+--------------+\n",
            "|company|min(num_sales)|\n",
            "+-------+--------------+\n",
            "|   BLAH|         130.0|\n",
            "|    XYZ|         120.0|\n",
            "|     OK|         350.0|\n",
            "|   ABCD|         124.0|\n",
            "+-------+--------------+\n",
            "\n"
          ]
        }
      ]
    },
    {
      "cell_type": "code",
      "source": [
        "# function from pyspark.sql.functions\n",
        "\n",
        "from pyspark.sql.functions import countDistinct, avg, stddev"
      ],
      "metadata": {
        "id": "YcbA4hSbHtAi"
      },
      "execution_count": 24,
      "outputs": []
    },
    {
      "cell_type": "code",
      "source": [
        "df.select(avg('num_sales')).show()"
      ],
      "metadata": {
        "colab": {
          "base_uri": "https://localhost:8080/"
        },
        "id": "_AUn8SbJQmwc",
        "outputId": "95f762db-3955-4dd9-ebd5-60d6caae1f80"
      },
      "execution_count": 27,
      "outputs": [
        {
          "output_type": "stream",
          "name": "stdout",
          "text": [
            "+-----------------+\n",
            "|   avg(num_sales)|\n",
            "+-----------------+\n",
            "|360.5833333333333|\n",
            "+-----------------+\n",
            "\n"
          ]
        }
      ]
    },
    {
      "cell_type": "code",
      "source": [
        "df.select(stddev('num_sales')).show()"
      ],
      "metadata": {
        "colab": {
          "base_uri": "https://localhost:8080/"
        },
        "id": "TfaB4TueQsC8",
        "outputId": "873709d6-29ba-4059-c313-728ba2247bcf"
      },
      "execution_count": 29,
      "outputs": [
        {
          "output_type": "stream",
          "name": "stdout",
          "text": [
            "+----------------------+\n",
            "|stddev_samp(num_sales)|\n",
            "+----------------------+\n",
            "|    250.08742410799007|\n",
            "+----------------------+\n",
            "\n"
          ]
        }
      ]
    },
    {
      "cell_type": "code",
      "source": [
        "# alias\n",
        "df.select(countDistinct('num_sales').alias('Distinct Sales')).show()"
      ],
      "metadata": {
        "colab": {
          "base_uri": "https://localhost:8080/"
        },
        "id": "MqTsVe7BJQp6",
        "outputId": "d70ef244-77d5-4e88-9f99-71cbbf6df2a3"
      },
      "execution_count": 26,
      "outputs": [
        {
          "output_type": "stream",
          "name": "stdout",
          "text": [
            "+--------------+\n",
            "|Distinct Sales|\n",
            "+--------------+\n",
            "|            11|\n",
            "+--------------+\n",
            "\n"
          ]
        }
      ]
    },
    {
      "cell_type": "code",
      "source": [
        "from pyspark.sql.functions import format_number"
      ],
      "metadata": {
        "id": "6LsSkMnDQU9l"
      },
      "execution_count": 31,
      "outputs": []
    },
    {
      "cell_type": "code",
      "source": [
        "sales_std = df.select(stddev('num_sales').alias('stddev'))"
      ],
      "metadata": {
        "id": "i6yUIt3VQ4gP"
      },
      "execution_count": 32,
      "outputs": []
    },
    {
      "cell_type": "code",
      "source": [
        "sales_std.show()"
      ],
      "metadata": {
        "colab": {
          "base_uri": "https://localhost:8080/"
        },
        "id": "6h0azAM0RC-3",
        "outputId": "5dd166d0-649d-4895-b169-74ba2786592e"
      },
      "execution_count": 33,
      "outputs": [
        {
          "output_type": "stream",
          "name": "stdout",
          "text": [
            "+------------------+\n",
            "|            stddev|\n",
            "+------------------+\n",
            "|250.08742410799007|\n",
            "+------------------+\n",
            "\n"
          ]
        }
      ]
    },
    {
      "cell_type": "code",
      "source": [
        "sales_std.select(format_number('stddev', 2)).show() # rounding to 2 decimal place"
      ],
      "metadata": {
        "colab": {
          "base_uri": "https://localhost:8080/"
        },
        "id": "Su4KxCzXRF-G",
        "outputId": "84abedad-1a99-40ea-a003-5fafff950246"
      },
      "execution_count": 35,
      "outputs": [
        {
          "output_type": "stream",
          "name": "stdout",
          "text": [
            "+------------------------+\n",
            "|format_number(stddev, 2)|\n",
            "+------------------------+\n",
            "|                  250.09|\n",
            "+------------------------+\n",
            "\n"
          ]
        }
      ]
    },
    {
      "cell_type": "code",
      "source": [
        "# orderby\n",
        "\n",
        "df.orderBy('num_sales').show() # arranges in ascending order"
      ],
      "metadata": {
        "colab": {
          "base_uri": "https://localhost:8080/"
        },
        "id": "j3aVV0IqROJm",
        "outputId": "9a702e49-ad07-4a43-9f25-d040eb906689"
      },
      "execution_count": 37,
      "outputs": [
        {
          "output_type": "stream",
          "name": "stdout",
          "text": [
            "+-------+--------------+---------+\n",
            "|company|representative|num_sales|\n",
            "+-------+--------------+---------+\n",
            "|    XYZ|           Tom|    120.0|\n",
            "|   ABCD|           Amy|    124.0|\n",
            "|   BLAH|         Linda|    130.0|\n",
            "|    XYZ|           Bob|    200.0|\n",
            "|   ABCD|       Vanessa|    243.0|\n",
            "|   BLAH|          John|    250.0|\n",
            "|    XYZ|         Frank|    340.0|\n",
            "|     OK|         Sarah|    350.0|\n",
            "|   BLAH|         Chris|    350.0|\n",
            "|   ABCD|         Jerry|    600.0|\n",
            "|   BLAH|          Mike|    750.0|\n",
            "|     OK|          Carl|    870.0|\n",
            "+-------+--------------+---------+\n",
            "\n"
          ]
        }
      ]
    },
    {
      "cell_type": "code",
      "source": [],
      "metadata": {
        "id": "r8o4p8QzSg4E"
      },
      "execution_count": null,
      "outputs": []
    }
  ]
}