{
  "nbformat": 4,
  "nbformat_minor": 0,
  "metadata": {
    "colab": {
      "provenance": []
    },
    "kernelspec": {
      "name": "python3",
      "display_name": "Python 3"
    },
    "language_info": {
      "name": "python"
    }
  },
  "cells": [
    {
      "cell_type": "code",
      "execution_count": 1,
      "metadata": {
        "colab": {
          "base_uri": "https://localhost:8080/"
        },
        "id": "44H05kPmMlRh",
        "outputId": "19951760-ced8-4eed-e4b4-e8af9375506f"
      },
      "outputs": [
        {
          "output_type": "stream",
          "name": "stdout",
          "text": [
            "Looking in indexes: https://pypi.org/simple, https://us-python.pkg.dev/colab-wheels/public/simple/\n",
            "Collecting pyspark\n",
            "  Downloading pyspark-3.3.1.tar.gz (281.4 MB)\n",
            "\u001b[K     |████████████████████████████████| 281.4 MB 46 kB/s \n",
            "\u001b[?25hCollecting py4j==0.10.9.5\n",
            "  Downloading py4j-0.10.9.5-py2.py3-none-any.whl (199 kB)\n",
            "\u001b[K     |████████████████████████████████| 199 kB 72.7 MB/s \n",
            "\u001b[?25hBuilding wheels for collected packages: pyspark\n",
            "  Building wheel for pyspark (setup.py) ... \u001b[?25l\u001b[?25hdone\n",
            "  Created wheel for pyspark: filename=pyspark-3.3.1-py2.py3-none-any.whl size=281845512 sha256=9edda67c90d1a85bb38e4c5ed280d9748a5267b26f3ce3bae6e654c933a1041c\n",
            "  Stored in directory: /root/.cache/pip/wheels/43/dc/11/ec201cd671da62fa9c5cc77078235e40722170ceba231d7598\n",
            "Successfully built pyspark\n",
            "Installing collected packages: py4j, pyspark\n",
            "Successfully installed py4j-0.10.9.5 pyspark-3.3.1\n"
          ]
        }
      ],
      "source": [
        "pip install pyspark"
      ]
    },
    {
      "cell_type": "code",
      "source": [
        "from google.colab import files\n",
        "uploads = files.upload()"
      ],
      "metadata": {
        "colab": {
          "base_uri": "https://localhost:8080/",
          "height": 73
        },
        "id": "0K1YBXTTNBXi",
        "outputId": "e6f71da3-6d89-4b08-e1fc-0a30115bf139"
      },
      "execution_count": 2,
      "outputs": [
        {
          "output_type": "display_data",
          "data": {
            "text/plain": [
              "<IPython.core.display.HTML object>"
            ],
            "text/html": [
              "\n",
              "     <input type=\"file\" id=\"files-9636b46f-79c4-4ffc-994b-09156c7970b1\" name=\"files[]\" multiple disabled\n",
              "        style=\"border:none\" />\n",
              "     <output id=\"result-9636b46f-79c4-4ffc-994b-09156c7970b1\">\n",
              "      Upload widget is only available when the cell has been executed in the\n",
              "      current browser session. Please rerun this cell to enable.\n",
              "      </output>\n",
              "      <script>// Copyright 2017 Google LLC\n",
              "//\n",
              "// Licensed under the Apache License, Version 2.0 (the \"License\");\n",
              "// you may not use this file except in compliance with the License.\n",
              "// You may obtain a copy of the License at\n",
              "//\n",
              "//      http://www.apache.org/licenses/LICENSE-2.0\n",
              "//\n",
              "// Unless required by applicable law or agreed to in writing, software\n",
              "// distributed under the License is distributed on an \"AS IS\" BASIS,\n",
              "// WITHOUT WARRANTIES OR CONDITIONS OF ANY KIND, either express or implied.\n",
              "// See the License for the specific language governing permissions and\n",
              "// limitations under the License.\n",
              "\n",
              "/**\n",
              " * @fileoverview Helpers for google.colab Python module.\n",
              " */\n",
              "(function(scope) {\n",
              "function span(text, styleAttributes = {}) {\n",
              "  const element = document.createElement('span');\n",
              "  element.textContent = text;\n",
              "  for (const key of Object.keys(styleAttributes)) {\n",
              "    element.style[key] = styleAttributes[key];\n",
              "  }\n",
              "  return element;\n",
              "}\n",
              "\n",
              "// Max number of bytes which will be uploaded at a time.\n",
              "const MAX_PAYLOAD_SIZE = 100 * 1024;\n",
              "\n",
              "function _uploadFiles(inputId, outputId) {\n",
              "  const steps = uploadFilesStep(inputId, outputId);\n",
              "  const outputElement = document.getElementById(outputId);\n",
              "  // Cache steps on the outputElement to make it available for the next call\n",
              "  // to uploadFilesContinue from Python.\n",
              "  outputElement.steps = steps;\n",
              "\n",
              "  return _uploadFilesContinue(outputId);\n",
              "}\n",
              "\n",
              "// This is roughly an async generator (not supported in the browser yet),\n",
              "// where there are multiple asynchronous steps and the Python side is going\n",
              "// to poll for completion of each step.\n",
              "// This uses a Promise to block the python side on completion of each step,\n",
              "// then passes the result of the previous step as the input to the next step.\n",
              "function _uploadFilesContinue(outputId) {\n",
              "  const outputElement = document.getElementById(outputId);\n",
              "  const steps = outputElement.steps;\n",
              "\n",
              "  const next = steps.next(outputElement.lastPromiseValue);\n",
              "  return Promise.resolve(next.value.promise).then((value) => {\n",
              "    // Cache the last promise value to make it available to the next\n",
              "    // step of the generator.\n",
              "    outputElement.lastPromiseValue = value;\n",
              "    return next.value.response;\n",
              "  });\n",
              "}\n",
              "\n",
              "/**\n",
              " * Generator function which is called between each async step of the upload\n",
              " * process.\n",
              " * @param {string} inputId Element ID of the input file picker element.\n",
              " * @param {string} outputId Element ID of the output display.\n",
              " * @return {!Iterable<!Object>} Iterable of next steps.\n",
              " */\n",
              "function* uploadFilesStep(inputId, outputId) {\n",
              "  const inputElement = document.getElementById(inputId);\n",
              "  inputElement.disabled = false;\n",
              "\n",
              "  const outputElement = document.getElementById(outputId);\n",
              "  outputElement.innerHTML = '';\n",
              "\n",
              "  const pickedPromise = new Promise((resolve) => {\n",
              "    inputElement.addEventListener('change', (e) => {\n",
              "      resolve(e.target.files);\n",
              "    });\n",
              "  });\n",
              "\n",
              "  const cancel = document.createElement('button');\n",
              "  inputElement.parentElement.appendChild(cancel);\n",
              "  cancel.textContent = 'Cancel upload';\n",
              "  const cancelPromise = new Promise((resolve) => {\n",
              "    cancel.onclick = () => {\n",
              "      resolve(null);\n",
              "    };\n",
              "  });\n",
              "\n",
              "  // Wait for the user to pick the files.\n",
              "  const files = yield {\n",
              "    promise: Promise.race([pickedPromise, cancelPromise]),\n",
              "    response: {\n",
              "      action: 'starting',\n",
              "    }\n",
              "  };\n",
              "\n",
              "  cancel.remove();\n",
              "\n",
              "  // Disable the input element since further picks are not allowed.\n",
              "  inputElement.disabled = true;\n",
              "\n",
              "  if (!files) {\n",
              "    return {\n",
              "      response: {\n",
              "        action: 'complete',\n",
              "      }\n",
              "    };\n",
              "  }\n",
              "\n",
              "  for (const file of files) {\n",
              "    const li = document.createElement('li');\n",
              "    li.append(span(file.name, {fontWeight: 'bold'}));\n",
              "    li.append(span(\n",
              "        `(${file.type || 'n/a'}) - ${file.size} bytes, ` +\n",
              "        `last modified: ${\n",
              "            file.lastModifiedDate ? file.lastModifiedDate.toLocaleDateString() :\n",
              "                                    'n/a'} - `));\n",
              "    const percent = span('0% done');\n",
              "    li.appendChild(percent);\n",
              "\n",
              "    outputElement.appendChild(li);\n",
              "\n",
              "    const fileDataPromise = new Promise((resolve) => {\n",
              "      const reader = new FileReader();\n",
              "      reader.onload = (e) => {\n",
              "        resolve(e.target.result);\n",
              "      };\n",
              "      reader.readAsArrayBuffer(file);\n",
              "    });\n",
              "    // Wait for the data to be ready.\n",
              "    let fileData = yield {\n",
              "      promise: fileDataPromise,\n",
              "      response: {\n",
              "        action: 'continue',\n",
              "      }\n",
              "    };\n",
              "\n",
              "    // Use a chunked sending to avoid message size limits. See b/62115660.\n",
              "    let position = 0;\n",
              "    do {\n",
              "      const length = Math.min(fileData.byteLength - position, MAX_PAYLOAD_SIZE);\n",
              "      const chunk = new Uint8Array(fileData, position, length);\n",
              "      position += length;\n",
              "\n",
              "      const base64 = btoa(String.fromCharCode.apply(null, chunk));\n",
              "      yield {\n",
              "        response: {\n",
              "          action: 'append',\n",
              "          file: file.name,\n",
              "          data: base64,\n",
              "        },\n",
              "      };\n",
              "\n",
              "      let percentDone = fileData.byteLength === 0 ?\n",
              "          100 :\n",
              "          Math.round((position / fileData.byteLength) * 100);\n",
              "      percent.textContent = `${percentDone}% done`;\n",
              "\n",
              "    } while (position < fileData.byteLength);\n",
              "  }\n",
              "\n",
              "  // All done.\n",
              "  yield {\n",
              "    response: {\n",
              "      action: 'complete',\n",
              "    }\n",
              "  };\n",
              "}\n",
              "\n",
              "scope.google = scope.google || {};\n",
              "scope.google.colab = scope.google.colab || {};\n",
              "scope.google.colab._files = {\n",
              "  _uploadFiles,\n",
              "  _uploadFilesContinue,\n",
              "};\n",
              "})(self);\n",
              "</script> "
            ]
          },
          "metadata": {}
        },
        {
          "output_type": "stream",
          "name": "stdout",
          "text": [
            "Saving FarePrediction.csv to FarePrediction.csv\n"
          ]
        }
      ]
    },
    {
      "cell_type": "code",
      "source": [
        "from pyspark.sql import SparkSession"
      ],
      "metadata": {
        "id": "BGkuIS5vNDp0"
      },
      "execution_count": 3,
      "outputs": []
    },
    {
      "cell_type": "code",
      "source": [
        "# creating a spark session\n",
        "sc = SparkSession.builder.appName('Fare Prediction').getOrCreate()"
      ],
      "metadata": {
        "id": "x0v3yj9tO2Ls"
      },
      "execution_count": 4,
      "outputs": []
    },
    {
      "cell_type": "code",
      "source": [
        "# reading the excel file\n",
        "df = sc.read.csv('/content/FarePrediction.csv', header = True, inferSchema = True)\n",
        "df.show(20)"
      ],
      "metadata": {
        "colab": {
          "base_uri": "https://localhost:8080/"
        },
        "id": "WCZefasyO_Ka",
        "outputId": "01805ef8-fece-454d-bd6a-361a99d877af"
      },
      "execution_count": 5,
      "outputs": [
        {
          "output_type": "stream",
          "name": "stdout",
          "text": [
            "+-----------------+---------------+--------+-----------+--------------------+-------------------+------------+--------+-----------+--------------------+-----+\n",
            "|          Airline|Date_of_Journey|  Source|Destination|               Route|           Dep_Time|Arrival_Time|Duration|Total_Stops|     Additional_Info|Price|\n",
            "+-----------------+---------------+--------+-----------+--------------------+-------------------+------------+--------+-----------+--------------------+-----+\n",
            "|           IndiGo|     24/03/2019|Banglore|  New Delhi|           BLR ? DEL|2022-12-30 22:20:00|01:10 22 Mar|  2h 50m|   non-stop|             No info| 3897|\n",
            "|        Air India|      1/05/2019| Kolkata|   Banglore|CCU ? IXR ? BBI ?...|2022-12-30 05:50:00|       13:15|  7h 25m|    2 stops|             No info| 7662|\n",
            "|      Jet Airways|      9/06/2019|   Delhi|     Cochin|DEL ? LKO ? BOM ?...|2022-12-30 09:25:00|04:25 10 Jun|     19h|    2 stops|             No info|13882|\n",
            "|           IndiGo|     12/05/2019| Kolkata|   Banglore|     CCU ? NAG ? BLR|2022-12-30 18:05:00|       23:30|  5h 25m|     1 stop|             No info| 6218|\n",
            "|           IndiGo|     01/03/2019|Banglore|  New Delhi|     BLR ? NAG ? DEL|2022-12-30 16:50:00|       21:35|  4h 45m|     1 stop|             No info|13302|\n",
            "|         SpiceJet|     24/06/2019| Kolkata|   Banglore|           CCU ? BLR|2022-12-30 09:00:00|       11:25|  2h 25m|   non-stop|             No info| 3873|\n",
            "|      Jet Airways|     12/03/2019|Banglore|  New Delhi|     BLR ? BOM ? DEL|2022-12-30 18:55:00|10:25 13 Mar| 15h 30m|     1 stop|In-flight meal no...|11087|\n",
            "|      Jet Airways|     01/03/2019|Banglore|  New Delhi|     BLR ? BOM ? DEL|2022-12-30 08:00:00|05:05 02 Mar|  21h 5m|     1 stop|             No info|22270|\n",
            "|      Jet Airways|     12/03/2019|Banglore|  New Delhi|     BLR ? BOM ? DEL|2022-12-30 08:55:00|10:25 13 Mar| 25h 30m|     1 stop|In-flight meal no...|11087|\n",
            "|Multiple carriers|     27/05/2019|   Delhi|     Cochin|     DEL ? BOM ? COK|2022-12-30 11:25:00|       19:15|  7h 50m|     1 stop|             No info| 8625|\n",
            "|        Air India|      1/06/2019|   Delhi|     Cochin|     DEL ? BLR ? COK|2022-12-30 09:45:00|       23:00| 13h 15m|     1 stop|             No info| 8907|\n",
            "|           IndiGo|     18/04/2019| Kolkata|   Banglore|           CCU ? BLR|2022-12-30 20:20:00|       22:55|  2h 35m|   non-stop|             No info| 4174|\n",
            "|        Air India|     24/06/2019| Chennai|    Kolkata|           MAA ? CCU|2022-12-30 11:40:00|       13:55|  2h 15m|   non-stop|             No info| 4667|\n",
            "|      Jet Airways|      9/05/2019| Kolkata|   Banglore|     CCU ? BOM ? BLR|2022-12-30 21:10:00|09:20 10 May| 12h 10m|     1 stop|In-flight meal no...| 9663|\n",
            "|           IndiGo|     24/04/2019| Kolkata|   Banglore|           CCU ? BLR|2022-12-30 17:15:00|       19:50|  2h 35m|   non-stop|             No info| 4804|\n",
            "|        Air India|      3/03/2019|   Delhi|     Cochin|DEL ? AMD ? BOM ?...|2022-12-30 16:40:00|19:15 04 Mar| 26h 35m|    2 stops|             No info|14011|\n",
            "|         SpiceJet|     15/04/2019|   Delhi|     Cochin|     DEL ? PNQ ? COK|2022-12-30 08:45:00|       13:15|  4h 30m|     1 stop|             No info| 5830|\n",
            "|      Jet Airways|     12/06/2019|   Delhi|     Cochin|     DEL ? BOM ? COK|2022-12-30 14:00:00|12:35 13 Jun| 22h 35m|     1 stop|In-flight meal no...|10262|\n",
            "|        Air India|     12/06/2019|   Delhi|     Cochin|DEL ? CCU ? BOM ?...|2022-12-30 20:15:00|19:15 13 Jun|     23h|    2 stops|             No info|13381|\n",
            "|      Jet Airways|     27/05/2019|   Delhi|     Cochin|     DEL ? BOM ? COK|2022-12-30 16:00:00|12:35 28 May| 20h 35m|     1 stop|In-flight meal no...|12898|\n",
            "+-----------------+---------------+--------+-----------+--------------------+-------------------+------------+--------+-----------+--------------------+-----+\n",
            "only showing top 20 rows\n",
            "\n"
          ]
        }
      ]
    },
    {
      "cell_type": "code",
      "source": [
        "#df.printSchema()"
      ],
      "metadata": {
        "id": "Z9UwowQwcklC"
      },
      "execution_count": 6,
      "outputs": []
    },
    {
      "cell_type": "markdown",
      "source": [
        "### Data Cleaning and Feature Engineering"
      ],
      "metadata": {
        "id": "m_Y7kvw6PiAf"
      }
    },
    {
      "cell_type": "code",
      "source": [
        "# converting string date to datetype\n",
        "from datetime import datetime\n",
        "from pyspark.sql.functions import col, udf\n",
        "from pyspark.sql.types import DateType\n",
        "\n",
        "str_date = udf(lambda x: datetime.strptime(x, '%d/%m/%Y'), DateType())\n",
        "df1 = df.withColumn('Journey_date', str_date('Date_of_Journey')).drop(col('Date_of_Journey'))\n",
        "df1.show()"
      ],
      "metadata": {
        "colab": {
          "base_uri": "https://localhost:8080/"
        },
        "id": "7KmYgAug3nqY",
        "outputId": "df526726-c6d2-4b1a-a4db-82ae785ccc8e"
      },
      "execution_count": 7,
      "outputs": [
        {
          "output_type": "stream",
          "name": "stdout",
          "text": [
            "+-----------------+--------+-----------+--------------------+-------------------+------------+--------+-----------+--------------------+-----+------------+\n",
            "|          Airline|  Source|Destination|               Route|           Dep_Time|Arrival_Time|Duration|Total_Stops|     Additional_Info|Price|Journey_date|\n",
            "+-----------------+--------+-----------+--------------------+-------------------+------------+--------+-----------+--------------------+-----+------------+\n",
            "|           IndiGo|Banglore|  New Delhi|           BLR ? DEL|2022-12-30 22:20:00|01:10 22 Mar|  2h 50m|   non-stop|             No info| 3897|  2019-03-24|\n",
            "|        Air India| Kolkata|   Banglore|CCU ? IXR ? BBI ?...|2022-12-30 05:50:00|       13:15|  7h 25m|    2 stops|             No info| 7662|  2019-05-01|\n",
            "|      Jet Airways|   Delhi|     Cochin|DEL ? LKO ? BOM ?...|2022-12-30 09:25:00|04:25 10 Jun|     19h|    2 stops|             No info|13882|  2019-06-09|\n",
            "|           IndiGo| Kolkata|   Banglore|     CCU ? NAG ? BLR|2022-12-30 18:05:00|       23:30|  5h 25m|     1 stop|             No info| 6218|  2019-05-12|\n",
            "|           IndiGo|Banglore|  New Delhi|     BLR ? NAG ? DEL|2022-12-30 16:50:00|       21:35|  4h 45m|     1 stop|             No info|13302|  2019-03-01|\n",
            "|         SpiceJet| Kolkata|   Banglore|           CCU ? BLR|2022-12-30 09:00:00|       11:25|  2h 25m|   non-stop|             No info| 3873|  2019-06-24|\n",
            "|      Jet Airways|Banglore|  New Delhi|     BLR ? BOM ? DEL|2022-12-30 18:55:00|10:25 13 Mar| 15h 30m|     1 stop|In-flight meal no...|11087|  2019-03-12|\n",
            "|      Jet Airways|Banglore|  New Delhi|     BLR ? BOM ? DEL|2022-12-30 08:00:00|05:05 02 Mar|  21h 5m|     1 stop|             No info|22270|  2019-03-01|\n",
            "|      Jet Airways|Banglore|  New Delhi|     BLR ? BOM ? DEL|2022-12-30 08:55:00|10:25 13 Mar| 25h 30m|     1 stop|In-flight meal no...|11087|  2019-03-12|\n",
            "|Multiple carriers|   Delhi|     Cochin|     DEL ? BOM ? COK|2022-12-30 11:25:00|       19:15|  7h 50m|     1 stop|             No info| 8625|  2019-05-27|\n",
            "|        Air India|   Delhi|     Cochin|     DEL ? BLR ? COK|2022-12-30 09:45:00|       23:00| 13h 15m|     1 stop|             No info| 8907|  2019-06-01|\n",
            "|           IndiGo| Kolkata|   Banglore|           CCU ? BLR|2022-12-30 20:20:00|       22:55|  2h 35m|   non-stop|             No info| 4174|  2019-04-18|\n",
            "|        Air India| Chennai|    Kolkata|           MAA ? CCU|2022-12-30 11:40:00|       13:55|  2h 15m|   non-stop|             No info| 4667|  2019-06-24|\n",
            "|      Jet Airways| Kolkata|   Banglore|     CCU ? BOM ? BLR|2022-12-30 21:10:00|09:20 10 May| 12h 10m|     1 stop|In-flight meal no...| 9663|  2019-05-09|\n",
            "|           IndiGo| Kolkata|   Banglore|           CCU ? BLR|2022-12-30 17:15:00|       19:50|  2h 35m|   non-stop|             No info| 4804|  2019-04-24|\n",
            "|        Air India|   Delhi|     Cochin|DEL ? AMD ? BOM ?...|2022-12-30 16:40:00|19:15 04 Mar| 26h 35m|    2 stops|             No info|14011|  2019-03-03|\n",
            "|         SpiceJet|   Delhi|     Cochin|     DEL ? PNQ ? COK|2022-12-30 08:45:00|       13:15|  4h 30m|     1 stop|             No info| 5830|  2019-04-15|\n",
            "|      Jet Airways|   Delhi|     Cochin|     DEL ? BOM ? COK|2022-12-30 14:00:00|12:35 13 Jun| 22h 35m|     1 stop|In-flight meal no...|10262|  2019-06-12|\n",
            "|        Air India|   Delhi|     Cochin|DEL ? CCU ? BOM ?...|2022-12-30 20:15:00|19:15 13 Jun|     23h|    2 stops|             No info|13381|  2019-06-12|\n",
            "|      Jet Airways|   Delhi|     Cochin|     DEL ? BOM ? COK|2022-12-30 16:00:00|12:35 28 May| 20h 35m|     1 stop|In-flight meal no...|12898|  2019-05-27|\n",
            "+-----------------+--------+-----------+--------------------+-------------------+------------+--------+-----------+--------------------+-----+------------+\n",
            "only showing top 20 rows\n",
            "\n"
          ]
        }
      ]
    },
    {
      "cell_type": "code",
      "source": [
        "df1.printSchema()"
      ],
      "metadata": {
        "colab": {
          "base_uri": "https://localhost:8080/"
        },
        "id": "_fEkUlx33-6q",
        "outputId": "ba5d89fc-d35d-4241-d5d6-1a43359f695b"
      },
      "execution_count": 8,
      "outputs": [
        {
          "output_type": "stream",
          "name": "stdout",
          "text": [
            "root\n",
            " |-- Airline: string (nullable = true)\n",
            " |-- Source: string (nullable = true)\n",
            " |-- Destination: string (nullable = true)\n",
            " |-- Route: string (nullable = true)\n",
            " |-- Dep_Time: timestamp (nullable = true)\n",
            " |-- Arrival_Time: string (nullable = true)\n",
            " |-- Duration: string (nullable = true)\n",
            " |-- Total_Stops: string (nullable = true)\n",
            " |-- Additional_Info: string (nullable = true)\n",
            " |-- Price: integer (nullable = true)\n",
            " |-- Journey_date: date (nullable = true)\n",
            "\n"
          ]
        }
      ]
    },
    {
      "cell_type": "code",
      "source": [
        "#Extact day, month, year from Journey_date feature and store them in new columns. \n",
        "\n",
        "from pyspark.sql.functions import *\n",
        "from pyspark.sql.functions import year, month, dayofweek\n",
        "df1 = df1.withColumn('day', dayofweek(col('Journey_date')))\n",
        "df1 = df1.withColumn('month', month(col('Journey_date')))\n",
        "df1 = df1.withColumn('year', year(col('Journey_date'))).drop(col('Journey_date'))"
      ],
      "metadata": {
        "id": "fqa9Xqd7_iSx"
      },
      "execution_count": 9,
      "outputs": []
    },
    {
      "cell_type": "code",
      "source": [
        "df1.show(20)"
      ],
      "metadata": {
        "colab": {
          "base_uri": "https://localhost:8080/"
        },
        "id": "hGfiHWmSOv8k",
        "outputId": "849ca5f2-1abe-4c01-9ae1-6490fafc16d4"
      },
      "execution_count": 10,
      "outputs": [
        {
          "output_type": "stream",
          "name": "stdout",
          "text": [
            "+-----------------+--------+-----------+--------------------+-------------------+------------+--------+-----------+--------------------+-----+---+-----+----+\n",
            "|          Airline|  Source|Destination|               Route|           Dep_Time|Arrival_Time|Duration|Total_Stops|     Additional_Info|Price|day|month|year|\n",
            "+-----------------+--------+-----------+--------------------+-------------------+------------+--------+-----------+--------------------+-----+---+-----+----+\n",
            "|           IndiGo|Banglore|  New Delhi|           BLR ? DEL|2022-12-30 22:20:00|01:10 22 Mar|  2h 50m|   non-stop|             No info| 3897|  1|    3|2019|\n",
            "|        Air India| Kolkata|   Banglore|CCU ? IXR ? BBI ?...|2022-12-30 05:50:00|       13:15|  7h 25m|    2 stops|             No info| 7662|  4|    5|2019|\n",
            "|      Jet Airways|   Delhi|     Cochin|DEL ? LKO ? BOM ?...|2022-12-30 09:25:00|04:25 10 Jun|     19h|    2 stops|             No info|13882|  1|    6|2019|\n",
            "|           IndiGo| Kolkata|   Banglore|     CCU ? NAG ? BLR|2022-12-30 18:05:00|       23:30|  5h 25m|     1 stop|             No info| 6218|  1|    5|2019|\n",
            "|           IndiGo|Banglore|  New Delhi|     BLR ? NAG ? DEL|2022-12-30 16:50:00|       21:35|  4h 45m|     1 stop|             No info|13302|  6|    3|2019|\n",
            "|         SpiceJet| Kolkata|   Banglore|           CCU ? BLR|2022-12-30 09:00:00|       11:25|  2h 25m|   non-stop|             No info| 3873|  2|    6|2019|\n",
            "|      Jet Airways|Banglore|  New Delhi|     BLR ? BOM ? DEL|2022-12-30 18:55:00|10:25 13 Mar| 15h 30m|     1 stop|In-flight meal no...|11087|  3|    3|2019|\n",
            "|      Jet Airways|Banglore|  New Delhi|     BLR ? BOM ? DEL|2022-12-30 08:00:00|05:05 02 Mar|  21h 5m|     1 stop|             No info|22270|  6|    3|2019|\n",
            "|      Jet Airways|Banglore|  New Delhi|     BLR ? BOM ? DEL|2022-12-30 08:55:00|10:25 13 Mar| 25h 30m|     1 stop|In-flight meal no...|11087|  3|    3|2019|\n",
            "|Multiple carriers|   Delhi|     Cochin|     DEL ? BOM ? COK|2022-12-30 11:25:00|       19:15|  7h 50m|     1 stop|             No info| 8625|  2|    5|2019|\n",
            "|        Air India|   Delhi|     Cochin|     DEL ? BLR ? COK|2022-12-30 09:45:00|       23:00| 13h 15m|     1 stop|             No info| 8907|  7|    6|2019|\n",
            "|           IndiGo| Kolkata|   Banglore|           CCU ? BLR|2022-12-30 20:20:00|       22:55|  2h 35m|   non-stop|             No info| 4174|  5|    4|2019|\n",
            "|        Air India| Chennai|    Kolkata|           MAA ? CCU|2022-12-30 11:40:00|       13:55|  2h 15m|   non-stop|             No info| 4667|  2|    6|2019|\n",
            "|      Jet Airways| Kolkata|   Banglore|     CCU ? BOM ? BLR|2022-12-30 21:10:00|09:20 10 May| 12h 10m|     1 stop|In-flight meal no...| 9663|  5|    5|2019|\n",
            "|           IndiGo| Kolkata|   Banglore|           CCU ? BLR|2022-12-30 17:15:00|       19:50|  2h 35m|   non-stop|             No info| 4804|  4|    4|2019|\n",
            "|        Air India|   Delhi|     Cochin|DEL ? AMD ? BOM ?...|2022-12-30 16:40:00|19:15 04 Mar| 26h 35m|    2 stops|             No info|14011|  1|    3|2019|\n",
            "|         SpiceJet|   Delhi|     Cochin|     DEL ? PNQ ? COK|2022-12-30 08:45:00|       13:15|  4h 30m|     1 stop|             No info| 5830|  2|    4|2019|\n",
            "|      Jet Airways|   Delhi|     Cochin|     DEL ? BOM ? COK|2022-12-30 14:00:00|12:35 13 Jun| 22h 35m|     1 stop|In-flight meal no...|10262|  4|    6|2019|\n",
            "|        Air India|   Delhi|     Cochin|DEL ? CCU ? BOM ?...|2022-12-30 20:15:00|19:15 13 Jun|     23h|    2 stops|             No info|13381|  4|    6|2019|\n",
            "|      Jet Airways|   Delhi|     Cochin|     DEL ? BOM ? COK|2022-12-30 16:00:00|12:35 28 May| 20h 35m|     1 stop|In-flight meal no...|12898|  2|    5|2019|\n",
            "+-----------------+--------+-----------+--------------------+-------------------+------------+--------+-----------+--------------------+-----+---+-----+----+\n",
            "only showing top 20 rows\n",
            "\n"
          ]
        }
      ]
    },
    {
      "cell_type": "code",
      "source": [
        "# counting distinct values from year col\n",
        "from pyspark.sql.functions import countDistinct\n",
        "df2  =df1.select(countDistinct('year')).show()\n",
        "# since year is the same for all the rows, we can drop it"
      ],
      "metadata": {
        "colab": {
          "base_uri": "https://localhost:8080/"
        },
        "id": "7OYZzp0-OxO3",
        "outputId": "ea3d1f66-0f85-4ef4-9035-e01decb95c4c"
      },
      "execution_count": 11,
      "outputs": [
        {
          "output_type": "stream",
          "name": "stdout",
          "text": [
            "+--------------------+\n",
            "|count(DISTINCT year)|\n",
            "+--------------------+\n",
            "|                   1|\n",
            "+--------------------+\n",
            "\n"
          ]
        }
      ]
    },
    {
      "cell_type": "code",
      "source": [
        "df1 = df1.drop(col('year'))\n",
        "df1.show()"
      ],
      "metadata": {
        "colab": {
          "base_uri": "https://localhost:8080/"
        },
        "id": "ErNL7v6yQp1t",
        "outputId": "9d4cddca-bba9-4ac1-bc7e-5751a06fc6cc"
      },
      "execution_count": 12,
      "outputs": [
        {
          "output_type": "stream",
          "name": "stdout",
          "text": [
            "+-----------------+--------+-----------+--------------------+-------------------+------------+--------+-----------+--------------------+-----+---+-----+\n",
            "|          Airline|  Source|Destination|               Route|           Dep_Time|Arrival_Time|Duration|Total_Stops|     Additional_Info|Price|day|month|\n",
            "+-----------------+--------+-----------+--------------------+-------------------+------------+--------+-----------+--------------------+-----+---+-----+\n",
            "|           IndiGo|Banglore|  New Delhi|           BLR ? DEL|2022-12-30 22:20:00|01:10 22 Mar|  2h 50m|   non-stop|             No info| 3897|  1|    3|\n",
            "|        Air India| Kolkata|   Banglore|CCU ? IXR ? BBI ?...|2022-12-30 05:50:00|       13:15|  7h 25m|    2 stops|             No info| 7662|  4|    5|\n",
            "|      Jet Airways|   Delhi|     Cochin|DEL ? LKO ? BOM ?...|2022-12-30 09:25:00|04:25 10 Jun|     19h|    2 stops|             No info|13882|  1|    6|\n",
            "|           IndiGo| Kolkata|   Banglore|     CCU ? NAG ? BLR|2022-12-30 18:05:00|       23:30|  5h 25m|     1 stop|             No info| 6218|  1|    5|\n",
            "|           IndiGo|Banglore|  New Delhi|     BLR ? NAG ? DEL|2022-12-30 16:50:00|       21:35|  4h 45m|     1 stop|             No info|13302|  6|    3|\n",
            "|         SpiceJet| Kolkata|   Banglore|           CCU ? BLR|2022-12-30 09:00:00|       11:25|  2h 25m|   non-stop|             No info| 3873|  2|    6|\n",
            "|      Jet Airways|Banglore|  New Delhi|     BLR ? BOM ? DEL|2022-12-30 18:55:00|10:25 13 Mar| 15h 30m|     1 stop|In-flight meal no...|11087|  3|    3|\n",
            "|      Jet Airways|Banglore|  New Delhi|     BLR ? BOM ? DEL|2022-12-30 08:00:00|05:05 02 Mar|  21h 5m|     1 stop|             No info|22270|  6|    3|\n",
            "|      Jet Airways|Banglore|  New Delhi|     BLR ? BOM ? DEL|2022-12-30 08:55:00|10:25 13 Mar| 25h 30m|     1 stop|In-flight meal no...|11087|  3|    3|\n",
            "|Multiple carriers|   Delhi|     Cochin|     DEL ? BOM ? COK|2022-12-30 11:25:00|       19:15|  7h 50m|     1 stop|             No info| 8625|  2|    5|\n",
            "|        Air India|   Delhi|     Cochin|     DEL ? BLR ? COK|2022-12-30 09:45:00|       23:00| 13h 15m|     1 stop|             No info| 8907|  7|    6|\n",
            "|           IndiGo| Kolkata|   Banglore|           CCU ? BLR|2022-12-30 20:20:00|       22:55|  2h 35m|   non-stop|             No info| 4174|  5|    4|\n",
            "|        Air India| Chennai|    Kolkata|           MAA ? CCU|2022-12-30 11:40:00|       13:55|  2h 15m|   non-stop|             No info| 4667|  2|    6|\n",
            "|      Jet Airways| Kolkata|   Banglore|     CCU ? BOM ? BLR|2022-12-30 21:10:00|09:20 10 May| 12h 10m|     1 stop|In-flight meal no...| 9663|  5|    5|\n",
            "|           IndiGo| Kolkata|   Banglore|           CCU ? BLR|2022-12-30 17:15:00|       19:50|  2h 35m|   non-stop|             No info| 4804|  4|    4|\n",
            "|        Air India|   Delhi|     Cochin|DEL ? AMD ? BOM ?...|2022-12-30 16:40:00|19:15 04 Mar| 26h 35m|    2 stops|             No info|14011|  1|    3|\n",
            "|         SpiceJet|   Delhi|     Cochin|     DEL ? PNQ ? COK|2022-12-30 08:45:00|       13:15|  4h 30m|     1 stop|             No info| 5830|  2|    4|\n",
            "|      Jet Airways|   Delhi|     Cochin|     DEL ? BOM ? COK|2022-12-30 14:00:00|12:35 13 Jun| 22h 35m|     1 stop|In-flight meal no...|10262|  4|    6|\n",
            "|        Air India|   Delhi|     Cochin|DEL ? CCU ? BOM ?...|2022-12-30 20:15:00|19:15 13 Jun|     23h|    2 stops|             No info|13381|  4|    6|\n",
            "|      Jet Airways|   Delhi|     Cochin|     DEL ? BOM ? COK|2022-12-30 16:00:00|12:35 28 May| 20h 35m|     1 stop|In-flight meal no...|12898|  2|    5|\n",
            "+-----------------+--------+-----------+--------------------+-------------------+------------+--------+-----------+--------------------+-----+---+-----+\n",
            "only showing top 20 rows\n",
            "\n"
          ]
        }
      ]
    },
    {
      "cell_type": "code",
      "source": [
        "from pyspark.sql.types import IntegerType\n",
        "# Extracting hours and min from Arrival time, Departure time\n",
        "df1 = df1.withColumn('Arrival_hour', split(df1['Arrival_Time'],':').getItem(0).cast('int'))\\\n",
        "                     .withColumn('dump', split(df1['Arrival_Time'],'\\s\\w*').getItem(0))\\\n",
        "                     .withColumn('time', split(df1['Dep_Time'],'\\s').getItem(1))\n",
        "\n",
        "df1 = df1.withColumn('dept_hour', split(df1['time'],':(\\d+)').getItem(0))\\\n",
        "                    .withColumn('dept_min', split(df1['time'], '^\\d+:').getItem(1))\n",
        "\n",
        "df1 = df1.withColumn('dept_min', split(df1['dept_min'], ':(\\d+)').getItem(0))      \n",
        "\n",
        "df1 = df1.withColumn('Arrival_min', split(df1['dump'],':').getItem(1).cast('int')).drop('dump','time','Route','Additional_Info')                  \n",
        "\n"
      ],
      "metadata": {
        "id": "e8LsMTCURGZI"
      },
      "execution_count": 13,
      "outputs": []
    },
    {
      "cell_type": "code",
      "source": [
        "df1.show()"
      ],
      "metadata": {
        "colab": {
          "base_uri": "https://localhost:8080/"
        },
        "id": "FF1zeLVuUeDh",
        "outputId": "aa459295-1465-4686-d18d-68828057bdfd"
      },
      "execution_count": 14,
      "outputs": [
        {
          "output_type": "stream",
          "name": "stdout",
          "text": [
            "+-----------------+--------+-----------+-------------------+------------+--------+-----------+-----+---+-----+------------+---------+--------+-----------+\n",
            "|          Airline|  Source|Destination|           Dep_Time|Arrival_Time|Duration|Total_Stops|Price|day|month|Arrival_hour|dept_hour|dept_min|Arrival_min|\n",
            "+-----------------+--------+-----------+-------------------+------------+--------+-----------+-----+---+-----+------------+---------+--------+-----------+\n",
            "|           IndiGo|Banglore|  New Delhi|2022-12-30 22:20:00|01:10 22 Mar|  2h 50m|   non-stop| 3897|  1|    3|           1|       22|      20|         10|\n",
            "|        Air India| Kolkata|   Banglore|2022-12-30 05:50:00|       13:15|  7h 25m|    2 stops| 7662|  4|    5|          13|       05|      50|         15|\n",
            "|      Jet Airways|   Delhi|     Cochin|2022-12-30 09:25:00|04:25 10 Jun|     19h|    2 stops|13882|  1|    6|           4|       09|      25|         25|\n",
            "|           IndiGo| Kolkata|   Banglore|2022-12-30 18:05:00|       23:30|  5h 25m|     1 stop| 6218|  1|    5|          23|       18|      05|         30|\n",
            "|           IndiGo|Banglore|  New Delhi|2022-12-30 16:50:00|       21:35|  4h 45m|     1 stop|13302|  6|    3|          21|       16|      50|         35|\n",
            "|         SpiceJet| Kolkata|   Banglore|2022-12-30 09:00:00|       11:25|  2h 25m|   non-stop| 3873|  2|    6|          11|       09|      00|         25|\n",
            "|      Jet Airways|Banglore|  New Delhi|2022-12-30 18:55:00|10:25 13 Mar| 15h 30m|     1 stop|11087|  3|    3|          10|       18|      55|         25|\n",
            "|      Jet Airways|Banglore|  New Delhi|2022-12-30 08:00:00|05:05 02 Mar|  21h 5m|     1 stop|22270|  6|    3|           5|       08|      00|          5|\n",
            "|      Jet Airways|Banglore|  New Delhi|2022-12-30 08:55:00|10:25 13 Mar| 25h 30m|     1 stop|11087|  3|    3|          10|       08|      55|         25|\n",
            "|Multiple carriers|   Delhi|     Cochin|2022-12-30 11:25:00|       19:15|  7h 50m|     1 stop| 8625|  2|    5|          19|       11|      25|         15|\n",
            "|        Air India|   Delhi|     Cochin|2022-12-30 09:45:00|       23:00| 13h 15m|     1 stop| 8907|  7|    6|          23|       09|      45|          0|\n",
            "|           IndiGo| Kolkata|   Banglore|2022-12-30 20:20:00|       22:55|  2h 35m|   non-stop| 4174|  5|    4|          22|       20|      20|         55|\n",
            "|        Air India| Chennai|    Kolkata|2022-12-30 11:40:00|       13:55|  2h 15m|   non-stop| 4667|  2|    6|          13|       11|      40|         55|\n",
            "|      Jet Airways| Kolkata|   Banglore|2022-12-30 21:10:00|09:20 10 May| 12h 10m|     1 stop| 9663|  5|    5|           9|       21|      10|         20|\n",
            "|           IndiGo| Kolkata|   Banglore|2022-12-30 17:15:00|       19:50|  2h 35m|   non-stop| 4804|  4|    4|          19|       17|      15|         50|\n",
            "|        Air India|   Delhi|     Cochin|2022-12-30 16:40:00|19:15 04 Mar| 26h 35m|    2 stops|14011|  1|    3|          19|       16|      40|         15|\n",
            "|         SpiceJet|   Delhi|     Cochin|2022-12-30 08:45:00|       13:15|  4h 30m|     1 stop| 5830|  2|    4|          13|       08|      45|         15|\n",
            "|      Jet Airways|   Delhi|     Cochin|2022-12-30 14:00:00|12:35 13 Jun| 22h 35m|     1 stop|10262|  4|    6|          12|       14|      00|         35|\n",
            "|        Air India|   Delhi|     Cochin|2022-12-30 20:15:00|19:15 13 Jun|     23h|    2 stops|13381|  4|    6|          19|       20|      15|         15|\n",
            "|      Jet Airways|   Delhi|     Cochin|2022-12-30 16:00:00|12:35 28 May| 20h 35m|     1 stop|12898|  2|    5|          12|       16|      00|         35|\n",
            "+-----------------+--------+-----------+-------------------+------------+--------+-----------+-----+---+-----+------------+---------+--------+-----------+\n",
            "only showing top 20 rows\n",
            "\n"
          ]
        }
      ]
    },
    {
      "cell_type": "code",
      "source": [
        "#df1.printSchema()"
      ],
      "metadata": {
        "id": "O0j2R1CHUfJw"
      },
      "execution_count": 15,
      "outputs": []
    },
    {
      "cell_type": "code",
      "source": [
        "df1 = df1.withColumn('Duration_hr', split(df1['Duration'], 'h').getItem(0).cast('int'))\\\n",
        "            .withColumn('dump', split(df1['Duration'], '\\s').getItem(1)).drop(df1['Duration'])\n",
        "df1 = df1.withColumn('Duration_min', split(df1['dump'],'m').getItem(0).cast('int')).drop(df1['dump'])\n",
        "df1.show()"
      ],
      "metadata": {
        "colab": {
          "base_uri": "https://localhost:8080/"
        },
        "id": "Ww8yCLVShu80",
        "outputId": "85eb4cc4-e909-4bf9-eeb4-0149b9eeb5a8"
      },
      "execution_count": 16,
      "outputs": [
        {
          "output_type": "stream",
          "name": "stdout",
          "text": [
            "+-----------------+--------+-----------+-------------------+------------+-----------+-----+---+-----+------------+---------+--------+-----------+-----------+------------+\n",
            "|          Airline|  Source|Destination|           Dep_Time|Arrival_Time|Total_Stops|Price|day|month|Arrival_hour|dept_hour|dept_min|Arrival_min|Duration_hr|Duration_min|\n",
            "+-----------------+--------+-----------+-------------------+------------+-----------+-----+---+-----+------------+---------+--------+-----------+-----------+------------+\n",
            "|           IndiGo|Banglore|  New Delhi|2022-12-30 22:20:00|01:10 22 Mar|   non-stop| 3897|  1|    3|           1|       22|      20|         10|          2|          50|\n",
            "|        Air India| Kolkata|   Banglore|2022-12-30 05:50:00|       13:15|    2 stops| 7662|  4|    5|          13|       05|      50|         15|          7|          25|\n",
            "|      Jet Airways|   Delhi|     Cochin|2022-12-30 09:25:00|04:25 10 Jun|    2 stops|13882|  1|    6|           4|       09|      25|         25|         19|        null|\n",
            "|           IndiGo| Kolkata|   Banglore|2022-12-30 18:05:00|       23:30|     1 stop| 6218|  1|    5|          23|       18|      05|         30|          5|          25|\n",
            "|           IndiGo|Banglore|  New Delhi|2022-12-30 16:50:00|       21:35|     1 stop|13302|  6|    3|          21|       16|      50|         35|          4|          45|\n",
            "|         SpiceJet| Kolkata|   Banglore|2022-12-30 09:00:00|       11:25|   non-stop| 3873|  2|    6|          11|       09|      00|         25|          2|          25|\n",
            "|      Jet Airways|Banglore|  New Delhi|2022-12-30 18:55:00|10:25 13 Mar|     1 stop|11087|  3|    3|          10|       18|      55|         25|         15|          30|\n",
            "|      Jet Airways|Banglore|  New Delhi|2022-12-30 08:00:00|05:05 02 Mar|     1 stop|22270|  6|    3|           5|       08|      00|          5|         21|           5|\n",
            "|      Jet Airways|Banglore|  New Delhi|2022-12-30 08:55:00|10:25 13 Mar|     1 stop|11087|  3|    3|          10|       08|      55|         25|         25|          30|\n",
            "|Multiple carriers|   Delhi|     Cochin|2022-12-30 11:25:00|       19:15|     1 stop| 8625|  2|    5|          19|       11|      25|         15|          7|          50|\n",
            "|        Air India|   Delhi|     Cochin|2022-12-30 09:45:00|       23:00|     1 stop| 8907|  7|    6|          23|       09|      45|          0|         13|          15|\n",
            "|           IndiGo| Kolkata|   Banglore|2022-12-30 20:20:00|       22:55|   non-stop| 4174|  5|    4|          22|       20|      20|         55|          2|          35|\n",
            "|        Air India| Chennai|    Kolkata|2022-12-30 11:40:00|       13:55|   non-stop| 4667|  2|    6|          13|       11|      40|         55|          2|          15|\n",
            "|      Jet Airways| Kolkata|   Banglore|2022-12-30 21:10:00|09:20 10 May|     1 stop| 9663|  5|    5|           9|       21|      10|         20|         12|          10|\n",
            "|           IndiGo| Kolkata|   Banglore|2022-12-30 17:15:00|       19:50|   non-stop| 4804|  4|    4|          19|       17|      15|         50|          2|          35|\n",
            "|        Air India|   Delhi|     Cochin|2022-12-30 16:40:00|19:15 04 Mar|    2 stops|14011|  1|    3|          19|       16|      40|         15|         26|          35|\n",
            "|         SpiceJet|   Delhi|     Cochin|2022-12-30 08:45:00|       13:15|     1 stop| 5830|  2|    4|          13|       08|      45|         15|          4|          30|\n",
            "|      Jet Airways|   Delhi|     Cochin|2022-12-30 14:00:00|12:35 13 Jun|     1 stop|10262|  4|    6|          12|       14|      00|         35|         22|          35|\n",
            "|        Air India|   Delhi|     Cochin|2022-12-30 20:15:00|19:15 13 Jun|    2 stops|13381|  4|    6|          19|       20|      15|         15|         23|        null|\n",
            "|      Jet Airways|   Delhi|     Cochin|2022-12-30 16:00:00|12:35 28 May|     1 stop|12898|  2|    5|          12|       16|      00|         35|         20|          35|\n",
            "+-----------------+--------+-----------+-------------------+------------+-----------+-----+---+-----+------------+---------+--------+-----------+-----------+------------+\n",
            "only showing top 20 rows\n",
            "\n"
          ]
        }
      ]
    },
    {
      "cell_type": "code",
      "source": [
        "type(df1)"
      ],
      "metadata": {
        "colab": {
          "base_uri": "https://localhost:8080/"
        },
        "id": "C8TQtI800NSD",
        "outputId": "66d21997-36b5-46d0-8302-648f2b15023c"
      },
      "execution_count": 17,
      "outputs": [
        {
          "output_type": "execute_result",
          "data": {
            "text/plain": [
              "pyspark.sql.dataframe.DataFrame"
            ]
          },
          "metadata": {},
          "execution_count": 17
        }
      ]
    },
    {
      "cell_type": "code",
      "source": [
        "df1.filter(df1['Duration_min'].isNull()).count() # there are approx 1000 rows with null value, so here we will replace it to 0 min "
      ],
      "metadata": {
        "colab": {
          "base_uri": "https://localhost:8080/"
        },
        "id": "u_LW0u_mkcs9",
        "outputId": "eb156914-4e2d-4674-9982-a8aed247262d"
      },
      "execution_count": 18,
      "outputs": [
        {
          "output_type": "execute_result",
          "data": {
            "text/plain": [
              "1032"
            ]
          },
          "metadata": {},
          "execution_count": 18
        }
      ]
    },
    {
      "cell_type": "code",
      "source": [
        "df1.printSchema()"
      ],
      "metadata": {
        "colab": {
          "base_uri": "https://localhost:8080/"
        },
        "id": "EYwxhAawy-AQ",
        "outputId": "7a530c3f-fe23-4b4d-bce3-e89e8a046d5d"
      },
      "execution_count": 19,
      "outputs": [
        {
          "output_type": "stream",
          "name": "stdout",
          "text": [
            "root\n",
            " |-- Airline: string (nullable = true)\n",
            " |-- Source: string (nullable = true)\n",
            " |-- Destination: string (nullable = true)\n",
            " |-- Dep_Time: timestamp (nullable = true)\n",
            " |-- Arrival_Time: string (nullable = true)\n",
            " |-- Total_Stops: string (nullable = true)\n",
            " |-- Price: integer (nullable = true)\n",
            " |-- day: integer (nullable = true)\n",
            " |-- month: integer (nullable = true)\n",
            " |-- Arrival_hour: integer (nullable = true)\n",
            " |-- dept_hour: string (nullable = true)\n",
            " |-- dept_min: string (nullable = true)\n",
            " |-- Arrival_min: integer (nullable = true)\n",
            " |-- Duration_hr: integer (nullable = true)\n",
            " |-- Duration_min: integer (nullable = true)\n",
            "\n"
          ]
        }
      ]
    },
    {
      "cell_type": "code",
      "source": [
        "df1 = df1.fillna(value = 0, subset= ['Duration_min'])"
      ],
      "metadata": {
        "id": "tZRQfcFuzoDb"
      },
      "execution_count": 20,
      "outputs": []
    },
    {
      "cell_type": "code",
      "source": [
        "df1.show()"
      ],
      "metadata": {
        "colab": {
          "base_uri": "https://localhost:8080/"
        },
        "id": "1KmgpL_40dXV",
        "outputId": "ca9015e4-0348-4576-828e-5adf476afe3b"
      },
      "execution_count": 21,
      "outputs": [
        {
          "output_type": "stream",
          "name": "stdout",
          "text": [
            "+-----------------+--------+-----------+-------------------+------------+-----------+-----+---+-----+------------+---------+--------+-----------+-----------+------------+\n",
            "|          Airline|  Source|Destination|           Dep_Time|Arrival_Time|Total_Stops|Price|day|month|Arrival_hour|dept_hour|dept_min|Arrival_min|Duration_hr|Duration_min|\n",
            "+-----------------+--------+-----------+-------------------+------------+-----------+-----+---+-----+------------+---------+--------+-----------+-----------+------------+\n",
            "|           IndiGo|Banglore|  New Delhi|2022-12-30 22:20:00|01:10 22 Mar|   non-stop| 3897|  1|    3|           1|       22|      20|         10|          2|          50|\n",
            "|        Air India| Kolkata|   Banglore|2022-12-30 05:50:00|       13:15|    2 stops| 7662|  4|    5|          13|       05|      50|         15|          7|          25|\n",
            "|      Jet Airways|   Delhi|     Cochin|2022-12-30 09:25:00|04:25 10 Jun|    2 stops|13882|  1|    6|           4|       09|      25|         25|         19|           0|\n",
            "|           IndiGo| Kolkata|   Banglore|2022-12-30 18:05:00|       23:30|     1 stop| 6218|  1|    5|          23|       18|      05|         30|          5|          25|\n",
            "|           IndiGo|Banglore|  New Delhi|2022-12-30 16:50:00|       21:35|     1 stop|13302|  6|    3|          21|       16|      50|         35|          4|          45|\n",
            "|         SpiceJet| Kolkata|   Banglore|2022-12-30 09:00:00|       11:25|   non-stop| 3873|  2|    6|          11|       09|      00|         25|          2|          25|\n",
            "|      Jet Airways|Banglore|  New Delhi|2022-12-30 18:55:00|10:25 13 Mar|     1 stop|11087|  3|    3|          10|       18|      55|         25|         15|          30|\n",
            "|      Jet Airways|Banglore|  New Delhi|2022-12-30 08:00:00|05:05 02 Mar|     1 stop|22270|  6|    3|           5|       08|      00|          5|         21|           5|\n",
            "|      Jet Airways|Banglore|  New Delhi|2022-12-30 08:55:00|10:25 13 Mar|     1 stop|11087|  3|    3|          10|       08|      55|         25|         25|          30|\n",
            "|Multiple carriers|   Delhi|     Cochin|2022-12-30 11:25:00|       19:15|     1 stop| 8625|  2|    5|          19|       11|      25|         15|          7|          50|\n",
            "|        Air India|   Delhi|     Cochin|2022-12-30 09:45:00|       23:00|     1 stop| 8907|  7|    6|          23|       09|      45|          0|         13|          15|\n",
            "|           IndiGo| Kolkata|   Banglore|2022-12-30 20:20:00|       22:55|   non-stop| 4174|  5|    4|          22|       20|      20|         55|          2|          35|\n",
            "|        Air India| Chennai|    Kolkata|2022-12-30 11:40:00|       13:55|   non-stop| 4667|  2|    6|          13|       11|      40|         55|          2|          15|\n",
            "|      Jet Airways| Kolkata|   Banglore|2022-12-30 21:10:00|09:20 10 May|     1 stop| 9663|  5|    5|           9|       21|      10|         20|         12|          10|\n",
            "|           IndiGo| Kolkata|   Banglore|2022-12-30 17:15:00|       19:50|   non-stop| 4804|  4|    4|          19|       17|      15|         50|          2|          35|\n",
            "|        Air India|   Delhi|     Cochin|2022-12-30 16:40:00|19:15 04 Mar|    2 stops|14011|  1|    3|          19|       16|      40|         15|         26|          35|\n",
            "|         SpiceJet|   Delhi|     Cochin|2022-12-30 08:45:00|       13:15|     1 stop| 5830|  2|    4|          13|       08|      45|         15|          4|          30|\n",
            "|      Jet Airways|   Delhi|     Cochin|2022-12-30 14:00:00|12:35 13 Jun|     1 stop|10262|  4|    6|          12|       14|      00|         35|         22|          35|\n",
            "|        Air India|   Delhi|     Cochin|2022-12-30 20:15:00|19:15 13 Jun|    2 stops|13381|  4|    6|          19|       20|      15|         15|         23|           0|\n",
            "|      Jet Airways|   Delhi|     Cochin|2022-12-30 16:00:00|12:35 28 May|     1 stop|12898|  2|    5|          12|       16|      00|         35|         20|          35|\n",
            "+-----------------+--------+-----------+-------------------+------------+-----------+-----+---+-----+------------+---------+--------+-----------+-----------+------------+\n",
            "only showing top 20 rows\n",
            "\n"
          ]
        }
      ]
    },
    {
      "cell_type": "code",
      "source": [
        "type(df1)"
      ],
      "metadata": {
        "colab": {
          "base_uri": "https://localhost:8080/"
        },
        "id": "n5ckF_dw1_7n",
        "outputId": "f5175531-f338-492c-c608-2f4f572b9bc3"
      },
      "execution_count": 22,
      "outputs": [
        {
          "output_type": "execute_result",
          "data": {
            "text/plain": [
              "pyspark.sql.dataframe.DataFrame"
            ]
          },
          "metadata": {},
          "execution_count": 22
        }
      ]
    },
    {
      "cell_type": "code",
      "source": [
        "df1 = df1.withColumn('Duration_(min)',(df1.Duration_hr * 60 + df1.Duration_min))\n",
        "df1.show()"
      ],
      "metadata": {
        "colab": {
          "base_uri": "https://localhost:8080/"
        },
        "id": "Gw6AGylI2Bp_",
        "outputId": "9b161f8b-3b31-4062-ffe6-c60ee0467a2c"
      },
      "execution_count": 23,
      "outputs": [
        {
          "output_type": "stream",
          "name": "stdout",
          "text": [
            "+-----------------+--------+-----------+-------------------+------------+-----------+-----+---+-----+------------+---------+--------+-----------+-----------+------------+--------------+\n",
            "|          Airline|  Source|Destination|           Dep_Time|Arrival_Time|Total_Stops|Price|day|month|Arrival_hour|dept_hour|dept_min|Arrival_min|Duration_hr|Duration_min|Duration_(min)|\n",
            "+-----------------+--------+-----------+-------------------+------------+-----------+-----+---+-----+------------+---------+--------+-----------+-----------+------------+--------------+\n",
            "|           IndiGo|Banglore|  New Delhi|2022-12-30 22:20:00|01:10 22 Mar|   non-stop| 3897|  1|    3|           1|       22|      20|         10|          2|          50|           170|\n",
            "|        Air India| Kolkata|   Banglore|2022-12-30 05:50:00|       13:15|    2 stops| 7662|  4|    5|          13|       05|      50|         15|          7|          25|           445|\n",
            "|      Jet Airways|   Delhi|     Cochin|2022-12-30 09:25:00|04:25 10 Jun|    2 stops|13882|  1|    6|           4|       09|      25|         25|         19|           0|          1140|\n",
            "|           IndiGo| Kolkata|   Banglore|2022-12-30 18:05:00|       23:30|     1 stop| 6218|  1|    5|          23|       18|      05|         30|          5|          25|           325|\n",
            "|           IndiGo|Banglore|  New Delhi|2022-12-30 16:50:00|       21:35|     1 stop|13302|  6|    3|          21|       16|      50|         35|          4|          45|           285|\n",
            "|         SpiceJet| Kolkata|   Banglore|2022-12-30 09:00:00|       11:25|   non-stop| 3873|  2|    6|          11|       09|      00|         25|          2|          25|           145|\n",
            "|      Jet Airways|Banglore|  New Delhi|2022-12-30 18:55:00|10:25 13 Mar|     1 stop|11087|  3|    3|          10|       18|      55|         25|         15|          30|           930|\n",
            "|      Jet Airways|Banglore|  New Delhi|2022-12-30 08:00:00|05:05 02 Mar|     1 stop|22270|  6|    3|           5|       08|      00|          5|         21|           5|          1265|\n",
            "|      Jet Airways|Banglore|  New Delhi|2022-12-30 08:55:00|10:25 13 Mar|     1 stop|11087|  3|    3|          10|       08|      55|         25|         25|          30|          1530|\n",
            "|Multiple carriers|   Delhi|     Cochin|2022-12-30 11:25:00|       19:15|     1 stop| 8625|  2|    5|          19|       11|      25|         15|          7|          50|           470|\n",
            "|        Air India|   Delhi|     Cochin|2022-12-30 09:45:00|       23:00|     1 stop| 8907|  7|    6|          23|       09|      45|          0|         13|          15|           795|\n",
            "|           IndiGo| Kolkata|   Banglore|2022-12-30 20:20:00|       22:55|   non-stop| 4174|  5|    4|          22|       20|      20|         55|          2|          35|           155|\n",
            "|        Air India| Chennai|    Kolkata|2022-12-30 11:40:00|       13:55|   non-stop| 4667|  2|    6|          13|       11|      40|         55|          2|          15|           135|\n",
            "|      Jet Airways| Kolkata|   Banglore|2022-12-30 21:10:00|09:20 10 May|     1 stop| 9663|  5|    5|           9|       21|      10|         20|         12|          10|           730|\n",
            "|           IndiGo| Kolkata|   Banglore|2022-12-30 17:15:00|       19:50|   non-stop| 4804|  4|    4|          19|       17|      15|         50|          2|          35|           155|\n",
            "|        Air India|   Delhi|     Cochin|2022-12-30 16:40:00|19:15 04 Mar|    2 stops|14011|  1|    3|          19|       16|      40|         15|         26|          35|          1595|\n",
            "|         SpiceJet|   Delhi|     Cochin|2022-12-30 08:45:00|       13:15|     1 stop| 5830|  2|    4|          13|       08|      45|         15|          4|          30|           270|\n",
            "|      Jet Airways|   Delhi|     Cochin|2022-12-30 14:00:00|12:35 13 Jun|     1 stop|10262|  4|    6|          12|       14|      00|         35|         22|          35|          1355|\n",
            "|        Air India|   Delhi|     Cochin|2022-12-30 20:15:00|19:15 13 Jun|    2 stops|13381|  4|    6|          19|       20|      15|         15|         23|           0|          1380|\n",
            "|      Jet Airways|   Delhi|     Cochin|2022-12-30 16:00:00|12:35 28 May|     1 stop|12898|  2|    5|          12|       16|      00|         35|         20|          35|          1235|\n",
            "+-----------------+--------+-----------+-------------------+------------+-----------+-----+---+-----+------------+---------+--------+-----------+-----------+------------+--------------+\n",
            "only showing top 20 rows\n",
            "\n"
          ]
        }
      ]
    },
    {
      "cell_type": "code",
      "source": [
        "df1 = df1.drop('Duration_hr','Duration_min','Dep_Time','Arrival_Time')"
      ],
      "metadata": {
        "id": "xTtr6_IW2WMR"
      },
      "execution_count": 24,
      "outputs": []
    },
    {
      "cell_type": "code",
      "source": [
        "df1.show()"
      ],
      "metadata": {
        "colab": {
          "base_uri": "https://localhost:8080/"
        },
        "id": "iRH86HHz277Z",
        "outputId": "38de4866-14f1-4ea5-ebdb-a5c8fa63bf76"
      },
      "execution_count": 25,
      "outputs": [
        {
          "output_type": "stream",
          "name": "stdout",
          "text": [
            "+-----------------+--------+-----------+-----------+-----+---+-----+------------+---------+--------+-----------+--------------+\n",
            "|          Airline|  Source|Destination|Total_Stops|Price|day|month|Arrival_hour|dept_hour|dept_min|Arrival_min|Duration_(min)|\n",
            "+-----------------+--------+-----------+-----------+-----+---+-----+------------+---------+--------+-----------+--------------+\n",
            "|           IndiGo|Banglore|  New Delhi|   non-stop| 3897|  1|    3|           1|       22|      20|         10|           170|\n",
            "|        Air India| Kolkata|   Banglore|    2 stops| 7662|  4|    5|          13|       05|      50|         15|           445|\n",
            "|      Jet Airways|   Delhi|     Cochin|    2 stops|13882|  1|    6|           4|       09|      25|         25|          1140|\n",
            "|           IndiGo| Kolkata|   Banglore|     1 stop| 6218|  1|    5|          23|       18|      05|         30|           325|\n",
            "|           IndiGo|Banglore|  New Delhi|     1 stop|13302|  6|    3|          21|       16|      50|         35|           285|\n",
            "|         SpiceJet| Kolkata|   Banglore|   non-stop| 3873|  2|    6|          11|       09|      00|         25|           145|\n",
            "|      Jet Airways|Banglore|  New Delhi|     1 stop|11087|  3|    3|          10|       18|      55|         25|           930|\n",
            "|      Jet Airways|Banglore|  New Delhi|     1 stop|22270|  6|    3|           5|       08|      00|          5|          1265|\n",
            "|      Jet Airways|Banglore|  New Delhi|     1 stop|11087|  3|    3|          10|       08|      55|         25|          1530|\n",
            "|Multiple carriers|   Delhi|     Cochin|     1 stop| 8625|  2|    5|          19|       11|      25|         15|           470|\n",
            "|        Air India|   Delhi|     Cochin|     1 stop| 8907|  7|    6|          23|       09|      45|          0|           795|\n",
            "|           IndiGo| Kolkata|   Banglore|   non-stop| 4174|  5|    4|          22|       20|      20|         55|           155|\n",
            "|        Air India| Chennai|    Kolkata|   non-stop| 4667|  2|    6|          13|       11|      40|         55|           135|\n",
            "|      Jet Airways| Kolkata|   Banglore|     1 stop| 9663|  5|    5|           9|       21|      10|         20|           730|\n",
            "|           IndiGo| Kolkata|   Banglore|   non-stop| 4804|  4|    4|          19|       17|      15|         50|           155|\n",
            "|        Air India|   Delhi|     Cochin|    2 stops|14011|  1|    3|          19|       16|      40|         15|          1595|\n",
            "|         SpiceJet|   Delhi|     Cochin|     1 stop| 5830|  2|    4|          13|       08|      45|         15|           270|\n",
            "|      Jet Airways|   Delhi|     Cochin|     1 stop|10262|  4|    6|          12|       14|      00|         35|          1355|\n",
            "|        Air India|   Delhi|     Cochin|    2 stops|13381|  4|    6|          19|       20|      15|         15|          1380|\n",
            "|      Jet Airways|   Delhi|     Cochin|     1 stop|12898|  2|    5|          12|       16|      00|         35|          1235|\n",
            "+-----------------+--------+-----------+-----------+-----+---+-----+------------+---------+--------+-----------+--------------+\n",
            "only showing top 20 rows\n",
            "\n"
          ]
        }
      ]
    },
    {
      "cell_type": "code",
      "source": [
        "\n",
        "from pyspark.sql.functions import col,isnan,when,count\n",
        "df_Columns=[\"Airline\",\"Source\",\"Destination\",\"Total_Stops\",\"Price\",\"day\",\"month\",\"Arrival_hour\",\"dept_hour\",\"dept_min\",\"Arrival_min\",\"Duration_(min)\"]\n",
        "df1.select([count(when(isnan(c) | col(c).isNull(), c)).alias(c) for c in df_Columns]).show()"
      ],
      "metadata": {
        "colab": {
          "base_uri": "https://localhost:8080/"
        },
        "id": "mLvnAcw75ZNH",
        "outputId": "8a889ff2-1645-4583-f2fe-db0350c6aad3"
      },
      "execution_count": 26,
      "outputs": [
        {
          "output_type": "stream",
          "name": "stdout",
          "text": [
            "+-------+------+-----------+-----------+-----+---+-----+------------+---------+--------+-----------+--------------+\n",
            "|Airline|Source|Destination|Total_Stops|Price|day|month|Arrival_hour|dept_hour|dept_min|Arrival_min|Duration_(min)|\n",
            "+-------+------+-----------+-----------+-----+---+-----+------------+---------+--------+-----------+--------------+\n",
            "|      0|     0|          0|          1|    0|  0|    0|           0|        0|       0|          0|             1|\n",
            "+-------+------+-----------+-----------+-----+---+-----+------------+---------+--------+-----------+--------------+\n",
            "\n"
          ]
        }
      ]
    },
    {
      "cell_type": "code",
      "source": [
        "df1 = df1.na.drop('any')"
      ],
      "metadata": {
        "id": "-S7yReTS6E8K"
      },
      "execution_count": 27,
      "outputs": []
    },
    {
      "cell_type": "code",
      "source": [
        "df1.show()"
      ],
      "metadata": {
        "colab": {
          "base_uri": "https://localhost:8080/"
        },
        "id": "coxkr31c7n5W",
        "outputId": "675e6427-f988-4afc-93ed-83773c3af283"
      },
      "execution_count": 28,
      "outputs": [
        {
          "output_type": "stream",
          "name": "stdout",
          "text": [
            "+-----------------+--------+-----------+-----------+-----+---+-----+------------+---------+--------+-----------+--------------+\n",
            "|          Airline|  Source|Destination|Total_Stops|Price|day|month|Arrival_hour|dept_hour|dept_min|Arrival_min|Duration_(min)|\n",
            "+-----------------+--------+-----------+-----------+-----+---+-----+------------+---------+--------+-----------+--------------+\n",
            "|           IndiGo|Banglore|  New Delhi|   non-stop| 3897|  1|    3|           1|       22|      20|         10|           170|\n",
            "|        Air India| Kolkata|   Banglore|    2 stops| 7662|  4|    5|          13|       05|      50|         15|           445|\n",
            "|      Jet Airways|   Delhi|     Cochin|    2 stops|13882|  1|    6|           4|       09|      25|         25|          1140|\n",
            "|           IndiGo| Kolkata|   Banglore|     1 stop| 6218|  1|    5|          23|       18|      05|         30|           325|\n",
            "|           IndiGo|Banglore|  New Delhi|     1 stop|13302|  6|    3|          21|       16|      50|         35|           285|\n",
            "|         SpiceJet| Kolkata|   Banglore|   non-stop| 3873|  2|    6|          11|       09|      00|         25|           145|\n",
            "|      Jet Airways|Banglore|  New Delhi|     1 stop|11087|  3|    3|          10|       18|      55|         25|           930|\n",
            "|      Jet Airways|Banglore|  New Delhi|     1 stop|22270|  6|    3|           5|       08|      00|          5|          1265|\n",
            "|      Jet Airways|Banglore|  New Delhi|     1 stop|11087|  3|    3|          10|       08|      55|         25|          1530|\n",
            "|Multiple carriers|   Delhi|     Cochin|     1 stop| 8625|  2|    5|          19|       11|      25|         15|           470|\n",
            "|        Air India|   Delhi|     Cochin|     1 stop| 8907|  7|    6|          23|       09|      45|          0|           795|\n",
            "|           IndiGo| Kolkata|   Banglore|   non-stop| 4174|  5|    4|          22|       20|      20|         55|           155|\n",
            "|        Air India| Chennai|    Kolkata|   non-stop| 4667|  2|    6|          13|       11|      40|         55|           135|\n",
            "|      Jet Airways| Kolkata|   Banglore|     1 stop| 9663|  5|    5|           9|       21|      10|         20|           730|\n",
            "|           IndiGo| Kolkata|   Banglore|   non-stop| 4804|  4|    4|          19|       17|      15|         50|           155|\n",
            "|        Air India|   Delhi|     Cochin|    2 stops|14011|  1|    3|          19|       16|      40|         15|          1595|\n",
            "|         SpiceJet|   Delhi|     Cochin|     1 stop| 5830|  2|    4|          13|       08|      45|         15|           270|\n",
            "|      Jet Airways|   Delhi|     Cochin|     1 stop|10262|  4|    6|          12|       14|      00|         35|          1355|\n",
            "|        Air India|   Delhi|     Cochin|    2 stops|13381|  4|    6|          19|       20|      15|         15|          1380|\n",
            "|      Jet Airways|   Delhi|     Cochin|     1 stop|12898|  2|    5|          12|       16|      00|         35|          1235|\n",
            "+-----------------+--------+-----------+-----------+-----+---+-----+------------+---------+--------+-----------+--------------+\n",
            "only showing top 20 rows\n",
            "\n"
          ]
        }
      ]
    },
    {
      "cell_type": "code",
      "source": [
        "df_Columns=[\"Airline\",\"Source\",\"Destination\",\"Total_Stops\",\"Price\",\"day\",\"month\",\"Arrival_hour\",\"dept_hour\",\"dept_min\",\"Arrival_min\",\"Duration_(min)\"]\n",
        "df1.select([count(when(isnan(c) | col(c).isNull(), c)).alias(c) for c in df_Columns]).show()"
      ],
      "metadata": {
        "colab": {
          "base_uri": "https://localhost:8080/"
        },
        "id": "iebYLjBq7pY1",
        "outputId": "c41d87a9-f6f8-4c1f-ce40-035df01cd2d8"
      },
      "execution_count": 29,
      "outputs": [
        {
          "output_type": "stream",
          "name": "stdout",
          "text": [
            "+-------+------+-----------+-----------+-----+---+-----+------------+---------+--------+-----------+--------------+\n",
            "|Airline|Source|Destination|Total_Stops|Price|day|month|Arrival_hour|dept_hour|dept_min|Arrival_min|Duration_(min)|\n",
            "+-------+------+-----------+-----------+-----+---+-----+------------+---------+--------+-----------+--------------+\n",
            "|      0|     0|          0|          0|    0|  0|    0|           0|        0|       0|          0|             0|\n",
            "+-------+------+-----------+-----------+-----+---+-----+------------+---------+--------+-----------+--------------+\n",
            "\n"
          ]
        }
      ]
    },
    {
      "cell_type": "code",
      "source": [
        "# checking top 10 prefered airlines\n",
        "res =df1.groupBy('Airline').count().alias('count').sort(desc('count')).limit(10)\n",
        "res.show()"
      ],
      "metadata": {
        "id": "g0VISA_y7ra2",
        "colab": {
          "base_uri": "https://localhost:8080/"
        },
        "outputId": "a8ef5711-45dc-4f2b-9a57-fb264033b076"
      },
      "execution_count": 30,
      "outputs": [
        {
          "output_type": "stream",
          "name": "stdout",
          "text": [
            "+--------------------+-----+\n",
            "|             Airline|count|\n",
            "+--------------------+-----+\n",
            "|         Jet Airways| 3849|\n",
            "|              IndiGo| 2053|\n",
            "|           Air India| 1750|\n",
            "|   Multiple carriers| 1196|\n",
            "|            SpiceJet|  818|\n",
            "|             Vistara|  479|\n",
            "|            Air Asia|  319|\n",
            "|               GoAir|  194|\n",
            "|Multiple carriers...|   13|\n",
            "|Jet Airways Business|    6|\n",
            "+--------------------+-----+\n",
            "\n"
          ]
        }
      ]
    },
    {
      "cell_type": "code",
      "source": [
        "# In SQL\n",
        "df1.createOrReplaceTempView('dataframe')\n"
      ],
      "metadata": {
        "id": "U2lyET5D2_7x"
      },
      "execution_count": 31,
      "outputs": []
    },
    {
      "cell_type": "code",
      "source": [
        "result = sc.sql(\"SELECT Airline,\\\n",
        "COUNT(Airline)\\\n",
        "FROM dataframe \\\n",
        "GROUP BY Airline \\\n",
        "ORDER BY COUNT(Airline)\\\n",
        "DESC LIMIT 10 \").show()"
      ],
      "metadata": {
        "colab": {
          "base_uri": "https://localhost:8080/"
        },
        "id": "JRL7VTan8KPC",
        "outputId": "417765df-97a4-484b-bfc9-506baf56767e"
      },
      "execution_count": 32,
      "outputs": [
        {
          "output_type": "stream",
          "name": "stdout",
          "text": [
            "+--------------------+--------------+\n",
            "|             Airline|count(Airline)|\n",
            "+--------------------+--------------+\n",
            "|         Jet Airways|          3849|\n",
            "|              IndiGo|          2053|\n",
            "|           Air India|          1750|\n",
            "|   Multiple carriers|          1196|\n",
            "|            SpiceJet|           818|\n",
            "|             Vistara|           479|\n",
            "|            Air Asia|           319|\n",
            "|               GoAir|           194|\n",
            "|Multiple carriers...|            13|\n",
            "|Jet Airways Business|             6|\n",
            "+--------------------+--------------+\n",
            "\n"
          ]
        }
      ]
    },
    {
      "cell_type": "code",
      "source": [
        "# extracting data with jetairways\n",
        "\n",
        "jetAir = df1.filter(df1.Airline == 'Jet Airways')\n",
        "jetAir.show()"
      ],
      "metadata": {
        "id": "bfXRnoyG_Ghb",
        "colab": {
          "base_uri": "https://localhost:8080/"
        },
        "outputId": "1e06a83b-1d40-4251-dc68-76cbadd646a5"
      },
      "execution_count": 33,
      "outputs": [
        {
          "output_type": "stream",
          "name": "stdout",
          "text": [
            "+-----------+--------+-----------+-----------+-----+---+-----+------------+---------+--------+-----------+--------------+\n",
            "|    Airline|  Source|Destination|Total_Stops|Price|day|month|Arrival_hour|dept_hour|dept_min|Arrival_min|Duration_(min)|\n",
            "+-----------+--------+-----------+-----------+-----+---+-----+------------+---------+--------+-----------+--------------+\n",
            "|Jet Airways|   Delhi|     Cochin|    2 stops|13882|  1|    6|           4|       09|      25|         25|          1140|\n",
            "|Jet Airways|Banglore|  New Delhi|     1 stop|11087|  3|    3|          10|       18|      55|         25|           930|\n",
            "|Jet Airways|Banglore|  New Delhi|     1 stop|22270|  6|    3|           5|       08|      00|          5|          1265|\n",
            "|Jet Airways|Banglore|  New Delhi|     1 stop|11087|  3|    3|          10|       08|      55|         25|          1530|\n",
            "|Jet Airways| Kolkata|   Banglore|     1 stop| 9663|  5|    5|           9|       21|      10|         20|           730|\n",
            "|Jet Airways|   Delhi|     Cochin|     1 stop|10262|  4|    6|          12|       14|      00|         35|          1355|\n",
            "|Jet Airways|   Delhi|     Cochin|     1 stop|12898|  2|    5|          12|       16|      00|         35|          1235|\n",
            "|Jet Airways| Kolkata|   Banglore|     1 stop| 7757|  2|    5|           8|       18|      55|         15|           800|\n",
            "|Jet Airways|   Delhi|     Cochin|    2 stops|13292|  1|    6|          12|       21|      25|         35|           910|\n",
            "|Jet Airways|   Delhi|     Cochin|    2 stops|10919|  7|    6|          12|       14|      35|         35|          1320|\n",
            "|Jet Airways|   Delhi|     Cochin|     1 stop|12373|  7|    5|          12|       07|      05|         35|           330|\n",
            "|Jet Airways|Banglore|  New Delhi|     1 stop|19225|  4|    3|          13|       07|      00|         15|           375|\n",
            "|Jet Airways|   Delhi|     Cochin|     1 stop|14924|  2|    6|          19|       07|      05|          0|           715|\n",
            "|Jet Airways|   Delhi|     Cochin|     1 stop|12373|  7|    5|          19|       20|      55|          0|          1325|\n",
            "|Jet Airways|   Delhi|     Cochin|    2 stops|11150|  5|    6|          19|       23|      05|          0|          1195|\n",
            "|Jet Airways|   Delhi|     Cochin|   non-stop| 7202|  7|    3|          14|       11|      00|         15|           195|\n",
            "|Jet Airways| Kolkata|   Banglore|     1 stop|12121|  4|    5|          10|       09|      35|         55|          1520|\n",
            "|Jet Airways| Kolkata|   Banglore|     1 stop|14231|  1|    3|          12|       19|      45|          0|           975|\n",
            "|Jet Airways|  Mumbai|  Hyderabad|   non-stop| 5678|  7|    6|           8|       07|      05|         30|            85|\n",
            "|Jet Airways|Banglore|  New Delhi|     1 stop| 9134|  7|    3|           8|       05|      45|         15|          1590|\n",
            "+-----------+--------+-----------+-----------+-----+---+-----+------------+---------+--------+-----------+--------------+\n",
            "only showing top 20 rows\n",
            "\n"
          ]
        }
      ]
    },
    {
      "cell_type": "code",
      "source": [
        "from pyspark.sql import functions as F\n",
        "from pyspark.sql.functions import rank, sum, col, desc\n",
        "from pyspark.sql import Window"
      ],
      "metadata": {
        "id": "FfVxCKjOyOvj"
      },
      "execution_count": 34,
      "outputs": []
    },
    {
      "cell_type": "code",
      "source": [
        "window = Window.rowsBetween(Window.unboundedPreceding, Window.unboundedFollowing)"
      ],
      "metadata": {
        "id": "la-9N4ELy7R8"
      },
      "execution_count": 35,
      "outputs": []
    },
    {
      "cell_type": "code",
      "source": [
        "# price stats for different airlines\n",
        "airways = df1.select(['Airline','Price']).\\\n",
        "            groupBy('Airline').\\\n",
        "            agg(\n",
        "                F.min('Price').alias('min_price'),\n",
        "                F.format_number(mean('Price'),2).alias('mean_price'),\n",
        "                F.max('Price').alias('max_price'),\n",
        "                F.format_number(stddev('Price'),2).alias('std_price')\n",
        "            ).sort(desc(mean('Price')))"
      ],
      "metadata": {
        "id": "p3E0yzIcy9cs"
      },
      "execution_count": 36,
      "outputs": []
    },
    {
      "cell_type": "code",
      "source": [
        "airways.toPandas()"
      ],
      "metadata": {
        "colab": {
          "base_uri": "https://localhost:8080/",
          "height": 425
        },
        "id": "65n3cVTGzoOb",
        "outputId": "3a39794e-4fec-4c05-fd58-672faa7d06cb"
      },
      "execution_count": 37,
      "outputs": [
        {
          "output_type": "execute_result",
          "data": {
            "text/plain": [
              "                              Airline  min_price mean_price  max_price  \\\n",
              "0                Jet Airways Business      46490  58,358.67      79512   \n",
              "1                         Jet Airways       1840  11,643.92      54826   \n",
              "2   Multiple carriers Premium economy       9845  11,418.85      14629   \n",
              "3                   Multiple carriers       5797  10,902.68      36983   \n",
              "4                           Air India       2050   9,608.02      31945   \n",
              "5             Vistara Premium economy       5969   8,962.33      11793   \n",
              "6                             Vistara       3687   7,796.35      21730   \n",
              "7                               GoAir       3398   5,861.06      22794   \n",
              "8                              IndiGo       2227   5,673.68      22153   \n",
              "9                            Air Asia       3383   5,590.26      13774   \n",
              "10                           SpiceJet       1759   4,338.28      23267   \n",
              "11                             Trujet       4140   4,140.00       4140   \n",
              "\n",
              "    std_price  \n",
              "0   11,667.60  \n",
              "1    4,258.94  \n",
              "2    1,717.15  \n",
              "3    3,721.23  \n",
              "4    3,898.49  \n",
              "5    2,915.41  \n",
              "6    2,914.30  \n",
              "7    2,703.59  \n",
              "8    2,264.14  \n",
              "9    2,027.36  \n",
              "10   1,849.92  \n",
              "11       None  "
            ],
            "text/html": [
              "\n",
              "  <div id=\"df-120e21e0-52ee-4117-b074-e4e952fcd31d\">\n",
              "    <div class=\"colab-df-container\">\n",
              "      <div>\n",
              "<style scoped>\n",
              "    .dataframe tbody tr th:only-of-type {\n",
              "        vertical-align: middle;\n",
              "    }\n",
              "\n",
              "    .dataframe tbody tr th {\n",
              "        vertical-align: top;\n",
              "    }\n",
              "\n",
              "    .dataframe thead th {\n",
              "        text-align: right;\n",
              "    }\n",
              "</style>\n",
              "<table border=\"1\" class=\"dataframe\">\n",
              "  <thead>\n",
              "    <tr style=\"text-align: right;\">\n",
              "      <th></th>\n",
              "      <th>Airline</th>\n",
              "      <th>min_price</th>\n",
              "      <th>mean_price</th>\n",
              "      <th>max_price</th>\n",
              "      <th>std_price</th>\n",
              "    </tr>\n",
              "  </thead>\n",
              "  <tbody>\n",
              "    <tr>\n",
              "      <th>0</th>\n",
              "      <td>Jet Airways Business</td>\n",
              "      <td>46490</td>\n",
              "      <td>58,358.67</td>\n",
              "      <td>79512</td>\n",
              "      <td>11,667.60</td>\n",
              "    </tr>\n",
              "    <tr>\n",
              "      <th>1</th>\n",
              "      <td>Jet Airways</td>\n",
              "      <td>1840</td>\n",
              "      <td>11,643.92</td>\n",
              "      <td>54826</td>\n",
              "      <td>4,258.94</td>\n",
              "    </tr>\n",
              "    <tr>\n",
              "      <th>2</th>\n",
              "      <td>Multiple carriers Premium economy</td>\n",
              "      <td>9845</td>\n",
              "      <td>11,418.85</td>\n",
              "      <td>14629</td>\n",
              "      <td>1,717.15</td>\n",
              "    </tr>\n",
              "    <tr>\n",
              "      <th>3</th>\n",
              "      <td>Multiple carriers</td>\n",
              "      <td>5797</td>\n",
              "      <td>10,902.68</td>\n",
              "      <td>36983</td>\n",
              "      <td>3,721.23</td>\n",
              "    </tr>\n",
              "    <tr>\n",
              "      <th>4</th>\n",
              "      <td>Air India</td>\n",
              "      <td>2050</td>\n",
              "      <td>9,608.02</td>\n",
              "      <td>31945</td>\n",
              "      <td>3,898.49</td>\n",
              "    </tr>\n",
              "    <tr>\n",
              "      <th>5</th>\n",
              "      <td>Vistara Premium economy</td>\n",
              "      <td>5969</td>\n",
              "      <td>8,962.33</td>\n",
              "      <td>11793</td>\n",
              "      <td>2,915.41</td>\n",
              "    </tr>\n",
              "    <tr>\n",
              "      <th>6</th>\n",
              "      <td>Vistara</td>\n",
              "      <td>3687</td>\n",
              "      <td>7,796.35</td>\n",
              "      <td>21730</td>\n",
              "      <td>2,914.30</td>\n",
              "    </tr>\n",
              "    <tr>\n",
              "      <th>7</th>\n",
              "      <td>GoAir</td>\n",
              "      <td>3398</td>\n",
              "      <td>5,861.06</td>\n",
              "      <td>22794</td>\n",
              "      <td>2,703.59</td>\n",
              "    </tr>\n",
              "    <tr>\n",
              "      <th>8</th>\n",
              "      <td>IndiGo</td>\n",
              "      <td>2227</td>\n",
              "      <td>5,673.68</td>\n",
              "      <td>22153</td>\n",
              "      <td>2,264.14</td>\n",
              "    </tr>\n",
              "    <tr>\n",
              "      <th>9</th>\n",
              "      <td>Air Asia</td>\n",
              "      <td>3383</td>\n",
              "      <td>5,590.26</td>\n",
              "      <td>13774</td>\n",
              "      <td>2,027.36</td>\n",
              "    </tr>\n",
              "    <tr>\n",
              "      <th>10</th>\n",
              "      <td>SpiceJet</td>\n",
              "      <td>1759</td>\n",
              "      <td>4,338.28</td>\n",
              "      <td>23267</td>\n",
              "      <td>1,849.92</td>\n",
              "    </tr>\n",
              "    <tr>\n",
              "      <th>11</th>\n",
              "      <td>Trujet</td>\n",
              "      <td>4140</td>\n",
              "      <td>4,140.00</td>\n",
              "      <td>4140</td>\n",
              "      <td>None</td>\n",
              "    </tr>\n",
              "  </tbody>\n",
              "</table>\n",
              "</div>\n",
              "      <button class=\"colab-df-convert\" onclick=\"convertToInteractive('df-120e21e0-52ee-4117-b074-e4e952fcd31d')\"\n",
              "              title=\"Convert this dataframe to an interactive table.\"\n",
              "              style=\"display:none;\">\n",
              "        \n",
              "  <svg xmlns=\"http://www.w3.org/2000/svg\" height=\"24px\"viewBox=\"0 0 24 24\"\n",
              "       width=\"24px\">\n",
              "    <path d=\"M0 0h24v24H0V0z\" fill=\"none\"/>\n",
              "    <path d=\"M18.56 5.44l.94 2.06.94-2.06 2.06-.94-2.06-.94-.94-2.06-.94 2.06-2.06.94zm-11 1L8.5 8.5l.94-2.06 2.06-.94-2.06-.94L8.5 2.5l-.94 2.06-2.06.94zm10 10l.94 2.06.94-2.06 2.06-.94-2.06-.94-.94-2.06-.94 2.06-2.06.94z\"/><path d=\"M17.41 7.96l-1.37-1.37c-.4-.4-.92-.59-1.43-.59-.52 0-1.04.2-1.43.59L10.3 9.45l-7.72 7.72c-.78.78-.78 2.05 0 2.83L4 21.41c.39.39.9.59 1.41.59.51 0 1.02-.2 1.41-.59l7.78-7.78 2.81-2.81c.8-.78.8-2.07 0-2.86zM5.41 20L4 18.59l7.72-7.72 1.47 1.35L5.41 20z\"/>\n",
              "  </svg>\n",
              "      </button>\n",
              "      \n",
              "  <style>\n",
              "    .colab-df-container {\n",
              "      display:flex;\n",
              "      flex-wrap:wrap;\n",
              "      gap: 12px;\n",
              "    }\n",
              "\n",
              "    .colab-df-convert {\n",
              "      background-color: #E8F0FE;\n",
              "      border: none;\n",
              "      border-radius: 50%;\n",
              "      cursor: pointer;\n",
              "      display: none;\n",
              "      fill: #1967D2;\n",
              "      height: 32px;\n",
              "      padding: 0 0 0 0;\n",
              "      width: 32px;\n",
              "    }\n",
              "\n",
              "    .colab-df-convert:hover {\n",
              "      background-color: #E2EBFA;\n",
              "      box-shadow: 0px 1px 2px rgba(60, 64, 67, 0.3), 0px 1px 3px 1px rgba(60, 64, 67, 0.15);\n",
              "      fill: #174EA6;\n",
              "    }\n",
              "\n",
              "    [theme=dark] .colab-df-convert {\n",
              "      background-color: #3B4455;\n",
              "      fill: #D2E3FC;\n",
              "    }\n",
              "\n",
              "    [theme=dark] .colab-df-convert:hover {\n",
              "      background-color: #434B5C;\n",
              "      box-shadow: 0px 1px 3px 1px rgba(0, 0, 0, 0.15);\n",
              "      filter: drop-shadow(0px 1px 2px rgba(0, 0, 0, 0.3));\n",
              "      fill: #FFFFFF;\n",
              "    }\n",
              "  </style>\n",
              "\n",
              "      <script>\n",
              "        const buttonEl =\n",
              "          document.querySelector('#df-120e21e0-52ee-4117-b074-e4e952fcd31d button.colab-df-convert');\n",
              "        buttonEl.style.display =\n",
              "          google.colab.kernel.accessAllowed ? 'block' : 'none';\n",
              "\n",
              "        async function convertToInteractive(key) {\n",
              "          const element = document.querySelector('#df-120e21e0-52ee-4117-b074-e4e952fcd31d');\n",
              "          const dataTable =\n",
              "            await google.colab.kernel.invokeFunction('convertToInteractive',\n",
              "                                                     [key], {});\n",
              "          if (!dataTable) return;\n",
              "\n",
              "          const docLinkHtml = 'Like what you see? Visit the ' +\n",
              "            '<a target=\"_blank\" href=https://colab.research.google.com/notebooks/data_table.ipynb>data table notebook</a>'\n",
              "            + ' to learn more about interactive tables.';\n",
              "          element.innerHTML = '';\n",
              "          dataTable['output_type'] = 'display_data';\n",
              "          await google.colab.output.renderOutput(dataTable, element);\n",
              "          const docLink = document.createElement('div');\n",
              "          docLink.innerHTML = docLinkHtml;\n",
              "          element.appendChild(docLink);\n",
              "        }\n",
              "      </script>\n",
              "    </div>\n",
              "  </div>\n",
              "  "
            ]
          },
          "metadata": {},
          "execution_count": 37
        }
      ]
    },
    {
      "cell_type": "code",
      "source": [
        "# groupby total_stops\n",
        "result = sc.sql(\"SELECT Total_Stops,\\\n",
        "COUNT(Total_Stops)\\\n",
        "FROM dataframe \\\n",
        "GROUP BY Total_Stops \\\n",
        "ORDER BY COUNT(Total_Stops)\\\n",
        "DESC LIMIT 10 \").show()"
      ],
      "metadata": {
        "colab": {
          "base_uri": "https://localhost:8080/"
        },
        "id": "FAHsh8ej0boK",
        "outputId": "43f6d548-1b1e-4ad0-a46a-1a4bb66e0cc8"
      },
      "execution_count": 38,
      "outputs": [
        {
          "output_type": "stream",
          "name": "stdout",
          "text": [
            "+-----------+------------------+\n",
            "|Total_Stops|count(Total_Stops)|\n",
            "+-----------+------------------+\n",
            "|     1 stop|              5625|\n",
            "|   non-stop|              3491|\n",
            "|    2 stops|              1519|\n",
            "|    3 stops|                45|\n",
            "|    4 stops|                 1|\n",
            "+-----------+------------------+\n",
            "\n"
          ]
        }
      ]
    },
    {
      "cell_type": "code",
      "source": [
        "# replace non-stop with 0 stops and remove stop and stops form the col\n",
        "\n",
        "# df1 = df1.withColumn('Stops', when(df1.Total_Stops == 'non-stop', 0)\n",
        "#                             .when(df1.Total_Stops == '1 stop', 1)\n",
        "#                             .when(df1.Total_Stops == '2 stops', 2)\n",
        "#                             .when(df1.Total_Stops == '3 stops', 3)\n",
        "#                             .when(df1.Total_Stops == '4 stops', 4) )\n"
      ],
      "metadata": {
        "id": "Ipq1Aqkf3ZRo"
      },
      "execution_count": 39,
      "outputs": []
    },
    {
      "cell_type": "code",
      "source": [
        "df1.show()"
      ],
      "metadata": {
        "colab": {
          "base_uri": "https://localhost:8080/"
        },
        "id": "tzi9kf1b6C1R",
        "outputId": "f81f91cb-d2ff-4fad-bad5-55b5fcae413c"
      },
      "execution_count": 40,
      "outputs": [
        {
          "output_type": "stream",
          "name": "stdout",
          "text": [
            "+-----------------+--------+-----------+-----------+-----+---+-----+------------+---------+--------+-----------+--------------+\n",
            "|          Airline|  Source|Destination|Total_Stops|Price|day|month|Arrival_hour|dept_hour|dept_min|Arrival_min|Duration_(min)|\n",
            "+-----------------+--------+-----------+-----------+-----+---+-----+------------+---------+--------+-----------+--------------+\n",
            "|           IndiGo|Banglore|  New Delhi|   non-stop| 3897|  1|    3|           1|       22|      20|         10|           170|\n",
            "|        Air India| Kolkata|   Banglore|    2 stops| 7662|  4|    5|          13|       05|      50|         15|           445|\n",
            "|      Jet Airways|   Delhi|     Cochin|    2 stops|13882|  1|    6|           4|       09|      25|         25|          1140|\n",
            "|           IndiGo| Kolkata|   Banglore|     1 stop| 6218|  1|    5|          23|       18|      05|         30|           325|\n",
            "|           IndiGo|Banglore|  New Delhi|     1 stop|13302|  6|    3|          21|       16|      50|         35|           285|\n",
            "|         SpiceJet| Kolkata|   Banglore|   non-stop| 3873|  2|    6|          11|       09|      00|         25|           145|\n",
            "|      Jet Airways|Banglore|  New Delhi|     1 stop|11087|  3|    3|          10|       18|      55|         25|           930|\n",
            "|      Jet Airways|Banglore|  New Delhi|     1 stop|22270|  6|    3|           5|       08|      00|          5|          1265|\n",
            "|      Jet Airways|Banglore|  New Delhi|     1 stop|11087|  3|    3|          10|       08|      55|         25|          1530|\n",
            "|Multiple carriers|   Delhi|     Cochin|     1 stop| 8625|  2|    5|          19|       11|      25|         15|           470|\n",
            "|        Air India|   Delhi|     Cochin|     1 stop| 8907|  7|    6|          23|       09|      45|          0|           795|\n",
            "|           IndiGo| Kolkata|   Banglore|   non-stop| 4174|  5|    4|          22|       20|      20|         55|           155|\n",
            "|        Air India| Chennai|    Kolkata|   non-stop| 4667|  2|    6|          13|       11|      40|         55|           135|\n",
            "|      Jet Airways| Kolkata|   Banglore|     1 stop| 9663|  5|    5|           9|       21|      10|         20|           730|\n",
            "|           IndiGo| Kolkata|   Banglore|   non-stop| 4804|  4|    4|          19|       17|      15|         50|           155|\n",
            "|        Air India|   Delhi|     Cochin|    2 stops|14011|  1|    3|          19|       16|      40|         15|          1595|\n",
            "|         SpiceJet|   Delhi|     Cochin|     1 stop| 5830|  2|    4|          13|       08|      45|         15|           270|\n",
            "|      Jet Airways|   Delhi|     Cochin|     1 stop|10262|  4|    6|          12|       14|      00|         35|          1355|\n",
            "|        Air India|   Delhi|     Cochin|    2 stops|13381|  4|    6|          19|       20|      15|         15|          1380|\n",
            "|      Jet Airways|   Delhi|     Cochin|     1 stop|12898|  2|    5|          12|       16|      00|         35|          1235|\n",
            "+-----------------+--------+-----------+-----------+-----+---+-----+------------+---------+--------+-----------+--------------+\n",
            "only showing top 20 rows\n",
            "\n"
          ]
        }
      ]
    },
    {
      "cell_type": "code",
      "source": [
        "df1.createOrReplaceTempView('dataframe')\n",
        "\n",
        "df1 = sc.sql(\"SELECT *,\\\n",
        "    CASE\\\n",
        "    WHEN Total_Stops = '1 stop' THEN 1 \\\n",
        "    WHEN Total_Stops = '2 stops' THEN 2 \\\n",
        "    WHEN Total_Stops = '3 stops' THEN 3 \\\n",
        "    WHEN Total_Stops = '4 stops' THEN 4 \\\n",
        "ELSE 0 END AS Stops FROM dataframe\").drop('Total_Stops')"
      ],
      "metadata": {
        "id": "pKILdeA06ELK"
      },
      "execution_count": 41,
      "outputs": []
    },
    {
      "cell_type": "code",
      "source": [
        "df1.show(3)"
      ],
      "metadata": {
        "colab": {
          "base_uri": "https://localhost:8080/"
        },
        "id": "jXAxjdcQjnrx",
        "outputId": "0601883a-c550-424b-a606-8f40a61cffe0"
      },
      "execution_count": 42,
      "outputs": [
        {
          "output_type": "stream",
          "name": "stdout",
          "text": [
            "+-----------+--------+-----------+-----+---+-----+------------+---------+--------+-----------+--------------+-----+\n",
            "|    Airline|  Source|Destination|Price|day|month|Arrival_hour|dept_hour|dept_min|Arrival_min|Duration_(min)|Stops|\n",
            "+-----------+--------+-----------+-----+---+-----+------------+---------+--------+-----------+--------------+-----+\n",
            "|     IndiGo|Banglore|  New Delhi| 3897|  1|    3|           1|       22|      20|         10|           170|    0|\n",
            "|  Air India| Kolkata|   Banglore| 7662|  4|    5|          13|       05|      50|         15|           445|    2|\n",
            "|Jet Airways|   Delhi|     Cochin|13882|  1|    6|           4|       09|      25|         25|          1140|    2|\n",
            "+-----------+--------+-----------+-----+---+-----+------------+---------+--------+-----------+--------------+-----+\n",
            "only showing top 3 rows\n",
            "\n"
          ]
        }
      ]
    },
    {
      "cell_type": "code",
      "source": [
        "# price stats for different airlines with number of stops\n",
        "stops = df1.select(['Airline','Price','Stops']).\\\n",
        "            groupBy('Airline','Stops').\\\n",
        "            agg(\n",
        "                F.min('Price').alias('min_price'),\n",
        "                F.format_number(mean('Price'),2).alias('mean_price'),\n",
        "                F.max('Price').alias('max_price'),\n",
        "                F.format_number(stddev('Price'),2).alias('std_price')\n",
        "            ).sort(asc('Airline'))"
      ],
      "metadata": {
        "id": "C9Gsq1lwj7DN"
      },
      "execution_count": 43,
      "outputs": []
    },
    {
      "cell_type": "code",
      "source": [
        "stops.show(10)"
      ],
      "metadata": {
        "colab": {
          "base_uri": "https://localhost:8080/"
        },
        "id": "-ihlAjK1pYFL",
        "outputId": "4aeb0b0b-f393-43b8-83a6-317651fadb70"
      },
      "execution_count": 44,
      "outputs": [
        {
          "output_type": "stream",
          "name": "stdout",
          "text": [
            "+---------+-----+---------+----------+---------+---------+\n",
            "|  Airline|Stops|min_price|mean_price|max_price|std_price|\n",
            "+---------+-----+---------+----------+---------+---------+\n",
            "| Air Asia|    0|     3383|  4,492.33|    10873| 1,161.58|\n",
            "| Air Asia|    1|     5162|  7,078.33|    13774| 2,016.97|\n",
            "| Air Asia|    2|     5192|  6,341.89|    11245| 2,077.51|\n",
            "|Air India|    0|     2050|  5,605.33|    31945| 2,892.98|\n",
            "|Air India|    1|     4227|  9,041.51|    28322| 3,189.03|\n",
            "|Air India|    3|     8607| 12,208.05|    18293| 2,112.00|\n",
            "|Air India|    4|    17686| 17,686.00|    17686|     null|\n",
            "|Air India|    2|     4647| 12,085.85|    31783| 2,738.07|\n",
            "|    GoAir|    0|     3398|  4,726.17|    18558| 2,207.45|\n",
            "|    GoAir|    1|     3673|  6,884.68|    22794| 2,710.30|\n",
            "+---------+-----+---------+----------+---------+---------+\n",
            "only showing top 10 rows\n",
            "\n"
          ]
        }
      ]
    },
    {
      "cell_type": "code",
      "source": [
        "# price stats for different airlines with number of stops in SQL\n",
        "df1.createOrReplaceTempView('dataframe')\n",
        "res = sc.sql(\n",
        "            \"SELECT Airline, Stops,\\\n",
        "                COUNT(Stops) as stop_count,MIN(Price) AS min_price,\\\n",
        "                MAX(Price) AS max_price, ROUND(AVG(Price),2) AS mean_price,\\\n",
        "                ROUND(STDDEV(Price),2) AS std_price\\\n",
        "            FROM dataframe\\\n",
        "            GROUP BY Airline, Stops\\\n",
        "                ORDER BY Airline\\\n",
        "            ASC\"\n",
        "             )"
      ],
      "metadata": {
        "id": "oaq2ogA5pZgs"
      },
      "execution_count": 45,
      "outputs": []
    },
    {
      "cell_type": "code",
      "source": [
        "res.show(10)"
      ],
      "metadata": {
        "colab": {
          "base_uri": "https://localhost:8080/"
        },
        "id": "emVOTWi9r-Xh",
        "outputId": "b82664c9-fac6-45ff-dbaa-87c250ace59b"
      },
      "execution_count": 46,
      "outputs": [
        {
          "output_type": "stream",
          "name": "stdout",
          "text": [
            "+---------+-----+----------+---------+---------+----------+---------+\n",
            "|  Airline|Stops|stop_count|min_price|max_price|mean_price|std_price|\n",
            "+---------+-----+----------+---------+---------+----------+---------+\n",
            "| Air Asia|    0|       181|     3383|    10873|   4492.33|  1161.58|\n",
            "| Air Asia|    1|       129|     5162|    13774|   7078.33|  2016.97|\n",
            "| Air Asia|    2|         9|     5192|    11245|   6341.89|  2077.51|\n",
            "|Air India|    0|       417|     2050|    31945|   5605.33|  2892.98|\n",
            "|Air India|    1|       540|     4227|    28322|   9041.51|  3189.03|\n",
            "|Air India|    3|        37|     8607|    18293|  12208.05|   2112.0|\n",
            "|Air India|    4|         1|    17686|    17686|   17686.0|     null|\n",
            "|Air India|    2|       755|     4647|    31783|  12085.85|  2738.07|\n",
            "|    GoAir|    0|        92|     3398|    18558|   4726.17|  2207.45|\n",
            "|    GoAir|    1|       102|     3673|    22794|   6884.68|   2710.3|\n",
            "+---------+-----+----------+---------+---------+----------+---------+\n",
            "only showing top 10 rows\n",
            "\n"
          ]
        }
      ]
    },
    {
      "cell_type": "code",
      "source": [
        "df1.show(3)"
      ],
      "metadata": {
        "colab": {
          "base_uri": "https://localhost:8080/"
        },
        "id": "0hDqdzySbwLP",
        "outputId": "3cf08bba-8bc8-4255-df86-69addb627af0"
      },
      "execution_count": 47,
      "outputs": [
        {
          "output_type": "stream",
          "name": "stdout",
          "text": [
            "+-----------+--------+-----------+-----+---+-----+------------+---------+--------+-----------+--------------+-----+\n",
            "|    Airline|  Source|Destination|Price|day|month|Arrival_hour|dept_hour|dept_min|Arrival_min|Duration_(min)|Stops|\n",
            "+-----------+--------+-----------+-----+---+-----+------------+---------+--------+-----------+--------------+-----+\n",
            "|     IndiGo|Banglore|  New Delhi| 3897|  1|    3|           1|       22|      20|         10|           170|    0|\n",
            "|  Air India| Kolkata|   Banglore| 7662|  4|    5|          13|       05|      50|         15|           445|    2|\n",
            "|Jet Airways|   Delhi|     Cochin|13882|  1|    6|           4|       09|      25|         25|          1140|    2|\n",
            "+-----------+--------+-----------+-----+---+-----+------------+---------+--------+-----------+--------------+-----+\n",
            "only showing top 3 rows\n",
            "\n"
          ]
        }
      ]
    },
    {
      "cell_type": "code",
      "source": [
        "df1.createOrReplaceTempView('dataframe')\n",
        "\n",
        "result = sc.sql(\n",
        "            \"SELECT Airline, Source, Destination, Price\\\n",
        "            FROM dataframe\\\n",
        "            WHERE\\\n",
        "            Price = (SELECT MAX(Price) AS max_price\\\n",
        "            FROM dataframe)\")\n",
        "\n",
        "result.show()"
      ],
      "metadata": {
        "colab": {
          "base_uri": "https://localhost:8080/"
        },
        "id": "uA7kfaxutFby",
        "outputId": "599c3c8d-6742-43f0-e594-7b0e9dd860ba"
      },
      "execution_count": 48,
      "outputs": [
        {
          "output_type": "stream",
          "name": "stdout",
          "text": [
            "+--------------------+--------+-----------+-----+\n",
            "|             Airline|  Source|Destination|Price|\n",
            "+--------------------+--------+-----------+-----+\n",
            "|Jet Airways Business|Banglore|  New Delhi|79512|\n",
            "+--------------------+--------+-----------+-----+\n",
            "\n"
          ]
        }
      ]
    },
    {
      "cell_type": "code",
      "source": [
        "# Extracting data for Jet Airways\n",
        "df1.createOrReplaceTempView('dataframe')\n",
        "\n",
        "result = sc.sql(\"SELECT * FROM dataframe WHERE Airline IN ('Jet Airways')\")"
      ],
      "metadata": {
        "id": "FIzLDY02ceER"
      },
      "execution_count": 49,
      "outputs": []
    },
    {
      "cell_type": "code",
      "source": [
        "result.show()"
      ],
      "metadata": {
        "colab": {
          "base_uri": "https://localhost:8080/"
        },
        "id": "yu-EEpMVfgy8",
        "outputId": "c4751bea-0732-4522-a9e3-751646990519"
      },
      "execution_count": 50,
      "outputs": [
        {
          "output_type": "stream",
          "name": "stdout",
          "text": [
            "+-----------+--------+-----------+-----+---+-----+------------+---------+--------+-----------+--------------+-----+\n",
            "|    Airline|  Source|Destination|Price|day|month|Arrival_hour|dept_hour|dept_min|Arrival_min|Duration_(min)|Stops|\n",
            "+-----------+--------+-----------+-----+---+-----+------------+---------+--------+-----------+--------------+-----+\n",
            "|Jet Airways|   Delhi|     Cochin|13882|  1|    6|           4|       09|      25|         25|          1140|    2|\n",
            "|Jet Airways|Banglore|  New Delhi|11087|  3|    3|          10|       18|      55|         25|           930|    1|\n",
            "|Jet Airways|Banglore|  New Delhi|22270|  6|    3|           5|       08|      00|          5|          1265|    1|\n",
            "|Jet Airways|Banglore|  New Delhi|11087|  3|    3|          10|       08|      55|         25|          1530|    1|\n",
            "|Jet Airways| Kolkata|   Banglore| 9663|  5|    5|           9|       21|      10|         20|           730|    1|\n",
            "|Jet Airways|   Delhi|     Cochin|10262|  4|    6|          12|       14|      00|         35|          1355|    1|\n",
            "|Jet Airways|   Delhi|     Cochin|12898|  2|    5|          12|       16|      00|         35|          1235|    1|\n",
            "|Jet Airways| Kolkata|   Banglore| 7757|  2|    5|           8|       18|      55|         15|           800|    1|\n",
            "|Jet Airways|   Delhi|     Cochin|13292|  1|    6|          12|       21|      25|         35|           910|    2|\n",
            "|Jet Airways|   Delhi|     Cochin|10919|  7|    6|          12|       14|      35|         35|          1320|    2|\n",
            "|Jet Airways|   Delhi|     Cochin|12373|  7|    5|          12|       07|      05|         35|           330|    1|\n",
            "|Jet Airways|Banglore|  New Delhi|19225|  4|    3|          13|       07|      00|         15|           375|    1|\n",
            "|Jet Airways|   Delhi|     Cochin|14924|  2|    6|          19|       07|      05|          0|           715|    1|\n",
            "|Jet Airways|   Delhi|     Cochin|12373|  7|    5|          19|       20|      55|          0|          1325|    1|\n",
            "|Jet Airways|   Delhi|     Cochin|11150|  5|    6|          19|       23|      05|          0|          1195|    2|\n",
            "|Jet Airways|   Delhi|     Cochin| 7202|  7|    3|          14|       11|      00|         15|           195|    0|\n",
            "|Jet Airways| Kolkata|   Banglore|12121|  4|    5|          10|       09|      35|         55|          1520|    1|\n",
            "|Jet Airways| Kolkata|   Banglore|14231|  1|    3|          12|       19|      45|          0|           975|    1|\n",
            "|Jet Airways|  Mumbai|  Hyderabad| 5678|  7|    6|           8|       07|      05|         30|            85|    0|\n",
            "|Jet Airways|Banglore|  New Delhi| 9134|  7|    3|           8|       05|      45|         15|          1590|    1|\n",
            "+-----------+--------+-----------+-----+---+-----+------------+---------+--------+-----------+--------------+-----+\n",
            "only showing top 20 rows\n",
            "\n"
          ]
        }
      ]
    },
    {
      "cell_type": "code",
      "source": [
        "# descriptive stats for Jet Airways\n",
        "result.createOrReplaceTempView('dataframe')\n",
        "\n",
        "res = sc.sql(\n",
        "            \"SELECT Airline, Stops,\\\n",
        "                COUNT(Stops) as stop_count,MIN(Price) AS min_price,\\\n",
        "                MAX(Price) AS max_price, ROUND(AVG(Price),2) AS mean_price,\\\n",
        "                ROUND(STDDEV(Price),2) AS std_price\\\n",
        "            FROM dataframe\\\n",
        "            GROUP BY Airline, Stops\\\n",
        "                ORDER BY Airline\\\n",
        "            ASC\"\n",
        "             )"
      ],
      "metadata": {
        "id": "ZTUBQsZD3mXi"
      },
      "execution_count": 51,
      "outputs": []
    },
    {
      "cell_type": "code",
      "source": [
        "res.show()"
      ],
      "metadata": {
        "colab": {
          "base_uri": "https://localhost:8080/"
        },
        "id": "un8i2Nl03tA8",
        "outputId": "9c35c85c-1d36-4fec-ca14-170bb1e305a6"
      },
      "execution_count": 52,
      "outputs": [
        {
          "output_type": "stream",
          "name": "stdout",
          "text": [
            "+-----------+-----+----------+---------+---------+----------+---------+\n",
            "|    Airline|Stops|stop_count|min_price|max_price|mean_price|std_price|\n",
            "+-----------+-----+----------+---------+---------+----------+---------+\n",
            "|Jet Airways|    1|      2535|     4757|    54826|  12512.74|  3957.63|\n",
            "|Jet Airways|    2|       691|     6643|    24210|  13387.25|  2754.28|\n",
            "|Jet Airways|    0|       623|     1840|    18308|   6175.08|  1892.08|\n",
            "+-----------+-----+----------+---------+---------+----------+---------+\n",
            "\n"
          ]
        }
      ]
    },
    {
      "cell_type": "code",
      "source": [
        "result.createOrReplaceTempView('dataframe')\n",
        "res_new = sc.sql(\n",
        "             \"SELECT Airline, Stops,Source, Destination,\\\n",
        "                COUNT(Stops) as stop_count,MIN(Price) AS min_price,\\\n",
        "                MAX(Price) AS max_price, ROUND(AVG(Price),2) AS mean_price,\\\n",
        "                ROUND(STDDEV(Price),2) AS std_price\\\n",
        "            FROM dataframe\\\n",
        "            WHERE (Source = 'Banglore' AND (Destination = 'Delhi' OR Destination = 'New Delhi'))\\\n",
        "            GROUP BY Airline, Stops, Source, Destination\\\n",
        "                ORDER BY max_price\\\n",
        "            DESC\"\n",
        "             )"
      ],
      "metadata": {
        "id": "LJEQyj9O7v-2"
      },
      "execution_count": 53,
      "outputs": []
    },
    {
      "cell_type": "code",
      "source": [
        "res_new.show()"
      ],
      "metadata": {
        "colab": {
          "base_uri": "https://localhost:8080/"
        },
        "id": "vfn12r48FHR3",
        "outputId": "c8d1fd56-c295-4f1f-cae5-73621f5985c3"
      },
      "execution_count": 54,
      "outputs": [
        {
          "output_type": "stream",
          "name": "stdout",
          "text": [
            "+-----------+-----+--------+-----------+----------+---------+---------+----------+---------+\n",
            "|    Airline|Stops|  Source|Destination|stop_count|min_price|max_price|mean_price|std_price|\n",
            "+-----------+-----+--------+-----------+----------+---------+---------+----------+---------+\n",
            "|Jet Airways|    1|Banglore|  New Delhi|       403|     5853|    54826|  15263.69|  7270.94|\n",
            "|Jet Airways|    2|Banglore|  New Delhi|         3|    11245|    23001|  16861.33|  5895.45|\n",
            "|Jet Airways|    0|Banglore|  New Delhi|        12|     7229|    18308|   9206.67|  4261.81|\n",
            "|Jet Airways|    0|Banglore|      Delhi|       370|     3359|     8541|   6412.95|  1397.65|\n",
            "+-----------+-----+--------+-----------+----------+---------+---------+----------+---------+\n",
            "\n"
          ]
        }
      ]
    },
    {
      "cell_type": "code",
      "source": [
        "window = Window.rowsBetween(Window.unboundedPreceding, Window.unboundedFollowing)"
      ],
      "metadata": {
        "id": "n4W3z944FIin"
      },
      "execution_count": 55,
      "outputs": []
    },
    {
      "cell_type": "code",
      "source": [
        "price_groubby = df1.select(['Airline','Price']).\\\n",
        "                groupBy('Airline').\\\n",
        "                agg(\n",
        "                    F.count('Airline').alias('Airline_Count'),\n",
        "                    F.mean('Price').alias('mea_price'),\n",
        "                    F.min('Price').alias('min_price'),\n",
        "                    F.max('Price').alias('max_Price')).\\\n",
        "                withColumn('total', sum(col('Airline_Count')).over(window)).\\\n",
        "                withColumn('Percent', col('Airline_Count')*100/col('total')).\\\n",
        "                drop(col('total')).sort(desc('Percent')\n",
        "                )"
      ],
      "metadata": {
        "id": "BIzMKGnkJn85"
      },
      "execution_count": 56,
      "outputs": []
    },
    {
      "cell_type": "code",
      "source": [
        "price_groubby.toPandas()"
      ],
      "metadata": {
        "colab": {
          "base_uri": "https://localhost:8080/",
          "height": 425
        },
        "id": "SX22dZAwKpfr",
        "outputId": "7baf87d8-20b7-4955-9a7f-e4550424bcea"
      },
      "execution_count": 57,
      "outputs": [
        {
          "output_type": "execute_result",
          "data": {
            "text/plain": [
              "                              Airline  Airline_Count     mea_price  min_price  \\\n",
              "0                         Jet Airways           3849  11643.923357       1840   \n",
              "1                              IndiGo           2053   5673.682903       2227   \n",
              "2                           Air India           1750   9608.019429       2050   \n",
              "3                   Multiple carriers           1196  10902.678094       5797   \n",
              "4                            SpiceJet            818   4338.284841       1759   \n",
              "5                             Vistara            479   7796.348643       3687   \n",
              "6                            Air Asia            319   5590.260188       3383   \n",
              "7                               GoAir            194   5861.056701       3398   \n",
              "8   Multiple carriers Premium economy             13  11418.846154       9845   \n",
              "9                Jet Airways Business              6  58358.666667      46490   \n",
              "10            Vistara Premium economy              3   8962.333333       5969   \n",
              "11                             Trujet              1   4140.000000       4140   \n",
              "\n",
              "    max_Price    Percent  \n",
              "0       54826  36.035952  \n",
              "1       22153  19.221047  \n",
              "2       31945  16.384234  \n",
              "3       36983  11.197453  \n",
              "4       23267   7.658459  \n",
              "5       21730   4.484599  \n",
              "6       13774   2.986612  \n",
              "7       22794   1.816309  \n",
              "8       14629   0.121711  \n",
              "9       79512   0.056175  \n",
              "10      11793   0.028087  \n",
              "11       4140   0.009362  "
            ],
            "text/html": [
              "\n",
              "  <div id=\"df-22148097-46f9-42f1-9115-914e73a8e347\">\n",
              "    <div class=\"colab-df-container\">\n",
              "      <div>\n",
              "<style scoped>\n",
              "    .dataframe tbody tr th:only-of-type {\n",
              "        vertical-align: middle;\n",
              "    }\n",
              "\n",
              "    .dataframe tbody tr th {\n",
              "        vertical-align: top;\n",
              "    }\n",
              "\n",
              "    .dataframe thead th {\n",
              "        text-align: right;\n",
              "    }\n",
              "</style>\n",
              "<table border=\"1\" class=\"dataframe\">\n",
              "  <thead>\n",
              "    <tr style=\"text-align: right;\">\n",
              "      <th></th>\n",
              "      <th>Airline</th>\n",
              "      <th>Airline_Count</th>\n",
              "      <th>mea_price</th>\n",
              "      <th>min_price</th>\n",
              "      <th>max_Price</th>\n",
              "      <th>Percent</th>\n",
              "    </tr>\n",
              "  </thead>\n",
              "  <tbody>\n",
              "    <tr>\n",
              "      <th>0</th>\n",
              "      <td>Jet Airways</td>\n",
              "      <td>3849</td>\n",
              "      <td>11643.923357</td>\n",
              "      <td>1840</td>\n",
              "      <td>54826</td>\n",
              "      <td>36.035952</td>\n",
              "    </tr>\n",
              "    <tr>\n",
              "      <th>1</th>\n",
              "      <td>IndiGo</td>\n",
              "      <td>2053</td>\n",
              "      <td>5673.682903</td>\n",
              "      <td>2227</td>\n",
              "      <td>22153</td>\n",
              "      <td>19.221047</td>\n",
              "    </tr>\n",
              "    <tr>\n",
              "      <th>2</th>\n",
              "      <td>Air India</td>\n",
              "      <td>1750</td>\n",
              "      <td>9608.019429</td>\n",
              "      <td>2050</td>\n",
              "      <td>31945</td>\n",
              "      <td>16.384234</td>\n",
              "    </tr>\n",
              "    <tr>\n",
              "      <th>3</th>\n",
              "      <td>Multiple carriers</td>\n",
              "      <td>1196</td>\n",
              "      <td>10902.678094</td>\n",
              "      <td>5797</td>\n",
              "      <td>36983</td>\n",
              "      <td>11.197453</td>\n",
              "    </tr>\n",
              "    <tr>\n",
              "      <th>4</th>\n",
              "      <td>SpiceJet</td>\n",
              "      <td>818</td>\n",
              "      <td>4338.284841</td>\n",
              "      <td>1759</td>\n",
              "      <td>23267</td>\n",
              "      <td>7.658459</td>\n",
              "    </tr>\n",
              "    <tr>\n",
              "      <th>5</th>\n",
              "      <td>Vistara</td>\n",
              "      <td>479</td>\n",
              "      <td>7796.348643</td>\n",
              "      <td>3687</td>\n",
              "      <td>21730</td>\n",
              "      <td>4.484599</td>\n",
              "    </tr>\n",
              "    <tr>\n",
              "      <th>6</th>\n",
              "      <td>Air Asia</td>\n",
              "      <td>319</td>\n",
              "      <td>5590.260188</td>\n",
              "      <td>3383</td>\n",
              "      <td>13774</td>\n",
              "      <td>2.986612</td>\n",
              "    </tr>\n",
              "    <tr>\n",
              "      <th>7</th>\n",
              "      <td>GoAir</td>\n",
              "      <td>194</td>\n",
              "      <td>5861.056701</td>\n",
              "      <td>3398</td>\n",
              "      <td>22794</td>\n",
              "      <td>1.816309</td>\n",
              "    </tr>\n",
              "    <tr>\n",
              "      <th>8</th>\n",
              "      <td>Multiple carriers Premium economy</td>\n",
              "      <td>13</td>\n",
              "      <td>11418.846154</td>\n",
              "      <td>9845</td>\n",
              "      <td>14629</td>\n",
              "      <td>0.121711</td>\n",
              "    </tr>\n",
              "    <tr>\n",
              "      <th>9</th>\n",
              "      <td>Jet Airways Business</td>\n",
              "      <td>6</td>\n",
              "      <td>58358.666667</td>\n",
              "      <td>46490</td>\n",
              "      <td>79512</td>\n",
              "      <td>0.056175</td>\n",
              "    </tr>\n",
              "    <tr>\n",
              "      <th>10</th>\n",
              "      <td>Vistara Premium economy</td>\n",
              "      <td>3</td>\n",
              "      <td>8962.333333</td>\n",
              "      <td>5969</td>\n",
              "      <td>11793</td>\n",
              "      <td>0.028087</td>\n",
              "    </tr>\n",
              "    <tr>\n",
              "      <th>11</th>\n",
              "      <td>Trujet</td>\n",
              "      <td>1</td>\n",
              "      <td>4140.000000</td>\n",
              "      <td>4140</td>\n",
              "      <td>4140</td>\n",
              "      <td>0.009362</td>\n",
              "    </tr>\n",
              "  </tbody>\n",
              "</table>\n",
              "</div>\n",
              "      <button class=\"colab-df-convert\" onclick=\"convertToInteractive('df-22148097-46f9-42f1-9115-914e73a8e347')\"\n",
              "              title=\"Convert this dataframe to an interactive table.\"\n",
              "              style=\"display:none;\">\n",
              "        \n",
              "  <svg xmlns=\"http://www.w3.org/2000/svg\" height=\"24px\"viewBox=\"0 0 24 24\"\n",
              "       width=\"24px\">\n",
              "    <path d=\"M0 0h24v24H0V0z\" fill=\"none\"/>\n",
              "    <path d=\"M18.56 5.44l.94 2.06.94-2.06 2.06-.94-2.06-.94-.94-2.06-.94 2.06-2.06.94zm-11 1L8.5 8.5l.94-2.06 2.06-.94-2.06-.94L8.5 2.5l-.94 2.06-2.06.94zm10 10l.94 2.06.94-2.06 2.06-.94-2.06-.94-.94-2.06-.94 2.06-2.06.94z\"/><path d=\"M17.41 7.96l-1.37-1.37c-.4-.4-.92-.59-1.43-.59-.52 0-1.04.2-1.43.59L10.3 9.45l-7.72 7.72c-.78.78-.78 2.05 0 2.83L4 21.41c.39.39.9.59 1.41.59.51 0 1.02-.2 1.41-.59l7.78-7.78 2.81-2.81c.8-.78.8-2.07 0-2.86zM5.41 20L4 18.59l7.72-7.72 1.47 1.35L5.41 20z\"/>\n",
              "  </svg>\n",
              "      </button>\n",
              "      \n",
              "  <style>\n",
              "    .colab-df-container {\n",
              "      display:flex;\n",
              "      flex-wrap:wrap;\n",
              "      gap: 12px;\n",
              "    }\n",
              "\n",
              "    .colab-df-convert {\n",
              "      background-color: #E8F0FE;\n",
              "      border: none;\n",
              "      border-radius: 50%;\n",
              "      cursor: pointer;\n",
              "      display: none;\n",
              "      fill: #1967D2;\n",
              "      height: 32px;\n",
              "      padding: 0 0 0 0;\n",
              "      width: 32px;\n",
              "    }\n",
              "\n",
              "    .colab-df-convert:hover {\n",
              "      background-color: #E2EBFA;\n",
              "      box-shadow: 0px 1px 2px rgba(60, 64, 67, 0.3), 0px 1px 3px 1px rgba(60, 64, 67, 0.15);\n",
              "      fill: #174EA6;\n",
              "    }\n",
              "\n",
              "    [theme=dark] .colab-df-convert {\n",
              "      background-color: #3B4455;\n",
              "      fill: #D2E3FC;\n",
              "    }\n",
              "\n",
              "    [theme=dark] .colab-df-convert:hover {\n",
              "      background-color: #434B5C;\n",
              "      box-shadow: 0px 1px 3px 1px rgba(0, 0, 0, 0.15);\n",
              "      filter: drop-shadow(0px 1px 2px rgba(0, 0, 0, 0.3));\n",
              "      fill: #FFFFFF;\n",
              "    }\n",
              "  </style>\n",
              "\n",
              "      <script>\n",
              "        const buttonEl =\n",
              "          document.querySelector('#df-22148097-46f9-42f1-9115-914e73a8e347 button.colab-df-convert');\n",
              "        buttonEl.style.display =\n",
              "          google.colab.kernel.accessAllowed ? 'block' : 'none';\n",
              "\n",
              "        async function convertToInteractive(key) {\n",
              "          const element = document.querySelector('#df-22148097-46f9-42f1-9115-914e73a8e347');\n",
              "          const dataTable =\n",
              "            await google.colab.kernel.invokeFunction('convertToInteractive',\n",
              "                                                     [key], {});\n",
              "          if (!dataTable) return;\n",
              "\n",
              "          const docLinkHtml = 'Like what you see? Visit the ' +\n",
              "            '<a target=\"_blank\" href=https://colab.research.google.com/notebooks/data_table.ipynb>data table notebook</a>'\n",
              "            + ' to learn more about interactive tables.';\n",
              "          element.innerHTML = '';\n",
              "          dataTable['output_type'] = 'display_data';\n",
              "          await google.colab.output.renderOutput(dataTable, element);\n",
              "          const docLink = document.createElement('div');\n",
              "          docLink.innerHTML = docLinkHtml;\n",
              "          element.appendChild(docLink);\n",
              "        }\n",
              "      </script>\n",
              "    </div>\n",
              "  </div>\n",
              "  "
            ]
          },
          "metadata": {},
          "execution_count": 57
        }
      ]
    },
    {
      "cell_type": "code",
      "source": [
        "df1.createOrReplaceTempView('dataframe')\n",
        "\n",
        "newRes = sc.sql(\"SELECT Airline,COUNT(Airline) as AirlineCount,\\\n",
        "                    MIN(Price) AS min_price,\\\n",
        "                    ROUND(MEAN(Price),2) AS mean_Price,\\\n",
        "                    MAX(Price) AS max_price \\\n",
        "                    FROM dataframe\\\n",
        "                    GROUP BY Airline\\\n",
        "                    ORDER BY AirlineCount\\\n",
        "                    DESC\")"
      ],
      "metadata": {
        "id": "HXy0MrpLKsv5"
      },
      "execution_count": 58,
      "outputs": []
    },
    {
      "cell_type": "code",
      "source": [
        "newRes.show()"
      ],
      "metadata": {
        "colab": {
          "base_uri": "https://localhost:8080/"
        },
        "id": "yUJc9LZQMbqb",
        "outputId": "fb4079e3-8a54-426f-cbef-b359ad24f9f3"
      },
      "execution_count": 59,
      "outputs": [
        {
          "output_type": "stream",
          "name": "stdout",
          "text": [
            "+--------------------+------------+---------+----------+---------+\n",
            "|             Airline|AirlineCount|min_price|mean_Price|max_price|\n",
            "+--------------------+------------+---------+----------+---------+\n",
            "|         Jet Airways|        3849|     1840|  11643.92|    54826|\n",
            "|              IndiGo|        2053|     2227|   5673.68|    22153|\n",
            "|           Air India|        1750|     2050|   9608.02|    31945|\n",
            "|   Multiple carriers|        1196|     5797|  10902.68|    36983|\n",
            "|            SpiceJet|         818|     1759|   4338.28|    23267|\n",
            "|             Vistara|         479|     3687|   7796.35|    21730|\n",
            "|            Air Asia|         319|     3383|   5590.26|    13774|\n",
            "|               GoAir|         194|     3398|   5861.06|    22794|\n",
            "|Multiple carriers...|          13|     9845|  11418.85|    14629|\n",
            "|Jet Airways Business|           6|    46490|  58358.67|    79512|\n",
            "|Vistara Premium e...|           3|     5969|   8962.33|    11793|\n",
            "|              Trujet|           1|     4140|    4140.0|     4140|\n",
            "+--------------------+------------+---------+----------+---------+\n",
            "\n"
          ]
        }
      ]
    },
    {
      "cell_type": "code",
      "source": [],
      "metadata": {
        "id": "8Pt0lHOhRda5"
      },
      "execution_count": 61,
      "outputs": []
    }
  ]
}