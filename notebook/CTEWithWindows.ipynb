{
  "nbformat": 4,
  "nbformat_minor": 0,
  "metadata": {
    "colab": {
      "provenance": []
    },
    "kernelspec": {
      "name": "python3",
      "display_name": "Python 3"
    },
    "language_info": {
      "name": "python"
    }
  },
  "cells": [
    {
      "cell_type": "code",
      "execution_count": null,
      "metadata": {
        "colab": {
          "base_uri": "https://localhost:8080/"
        },
        "id": "mL7HcDxYSWQI",
        "outputId": "8dd9f917-ffd1-4f2a-d279-fe7b98539c43"
      },
      "outputs": [
        {
          "output_type": "stream",
          "name": "stdout",
          "text": [
            "Looking in indexes: https://pypi.org/simple, https://us-python.pkg.dev/colab-wheels/public/simple/\n",
            "Collecting pyspark\n",
            "  Downloading pyspark-3.3.1.tar.gz (281.4 MB)\n",
            "\u001b[K     |████████████████████████████████| 281.4 MB 33 kB/s \n",
            "\u001b[?25hCollecting py4j==0.10.9.5\n",
            "  Downloading py4j-0.10.9.5-py2.py3-none-any.whl (199 kB)\n",
            "\u001b[K     |████████████████████████████████| 199 kB 32.4 MB/s \n",
            "\u001b[?25hBuilding wheels for collected packages: pyspark\n",
            "  Building wheel for pyspark (setup.py) ... \u001b[?25l\u001b[?25hdone\n",
            "  Created wheel for pyspark: filename=pyspark-3.3.1-py2.py3-none-any.whl size=281845512 sha256=a72e52d31fbc4029a2003167b8eae3c8e4d3f7770d447b73696706f353ae7190\n",
            "  Stored in directory: /root/.cache/pip/wheels/43/dc/11/ec201cd671da62fa9c5cc77078235e40722170ceba231d7598\n",
            "Successfully built pyspark\n",
            "Installing collected packages: py4j, pyspark\n",
            "Successfully installed py4j-0.10.9.5 pyspark-3.3.1\n"
          ]
        }
      ],
      "source": [
        "pip install pyspark"
      ]
    },
    {
      "cell_type": "code",
      "source": [
        "from pyspark.sql import SparkSession\n",
        "from pyspark.sql.functions import *"
      ],
      "metadata": {
        "id": "3qFk3L-eSYjw"
      },
      "execution_count": null,
      "outputs": []
    },
    {
      "cell_type": "code",
      "source": [
        "from google.colab import files\n",
        "uploads = files.upload()"
      ],
      "metadata": {
        "colab": {
          "base_uri": "https://localhost:8080/",
          "height": 73
        },
        "id": "G7eZssfuSb4y",
        "outputId": "28cacf89-682f-44fb-86a2-0b887e116802"
      },
      "execution_count": null,
      "outputs": [
        {
          "output_type": "display_data",
          "data": {
            "text/plain": [
              "<IPython.core.display.HTML object>"
            ],
            "text/html": [
              "\n",
              "     <input type=\"file\" id=\"files-1bb66436-acdc-4f42-9484-4d9178237369\" name=\"files[]\" multiple disabled\n",
              "        style=\"border:none\" />\n",
              "     <output id=\"result-1bb66436-acdc-4f42-9484-4d9178237369\">\n",
              "      Upload widget is only available when the cell has been executed in the\n",
              "      current browser session. Please rerun this cell to enable.\n",
              "      </output>\n",
              "      <script>// Copyright 2017 Google LLC\n",
              "//\n",
              "// Licensed under the Apache License, Version 2.0 (the \"License\");\n",
              "// you may not use this file except in compliance with the License.\n",
              "// You may obtain a copy of the License at\n",
              "//\n",
              "//      http://www.apache.org/licenses/LICENSE-2.0\n",
              "//\n",
              "// Unless required by applicable law or agreed to in writing, software\n",
              "// distributed under the License is distributed on an \"AS IS\" BASIS,\n",
              "// WITHOUT WARRANTIES OR CONDITIONS OF ANY KIND, either express or implied.\n",
              "// See the License for the specific language governing permissions and\n",
              "// limitations under the License.\n",
              "\n",
              "/**\n",
              " * @fileoverview Helpers for google.colab Python module.\n",
              " */\n",
              "(function(scope) {\n",
              "function span(text, styleAttributes = {}) {\n",
              "  const element = document.createElement('span');\n",
              "  element.textContent = text;\n",
              "  for (const key of Object.keys(styleAttributes)) {\n",
              "    element.style[key] = styleAttributes[key];\n",
              "  }\n",
              "  return element;\n",
              "}\n",
              "\n",
              "// Max number of bytes which will be uploaded at a time.\n",
              "const MAX_PAYLOAD_SIZE = 100 * 1024;\n",
              "\n",
              "function _uploadFiles(inputId, outputId) {\n",
              "  const steps = uploadFilesStep(inputId, outputId);\n",
              "  const outputElement = document.getElementById(outputId);\n",
              "  // Cache steps on the outputElement to make it available for the next call\n",
              "  // to uploadFilesContinue from Python.\n",
              "  outputElement.steps = steps;\n",
              "\n",
              "  return _uploadFilesContinue(outputId);\n",
              "}\n",
              "\n",
              "// This is roughly an async generator (not supported in the browser yet),\n",
              "// where there are multiple asynchronous steps and the Python side is going\n",
              "// to poll for completion of each step.\n",
              "// This uses a Promise to block the python side on completion of each step,\n",
              "// then passes the result of the previous step as the input to the next step.\n",
              "function _uploadFilesContinue(outputId) {\n",
              "  const outputElement = document.getElementById(outputId);\n",
              "  const steps = outputElement.steps;\n",
              "\n",
              "  const next = steps.next(outputElement.lastPromiseValue);\n",
              "  return Promise.resolve(next.value.promise).then((value) => {\n",
              "    // Cache the last promise value to make it available to the next\n",
              "    // step of the generator.\n",
              "    outputElement.lastPromiseValue = value;\n",
              "    return next.value.response;\n",
              "  });\n",
              "}\n",
              "\n",
              "/**\n",
              " * Generator function which is called between each async step of the upload\n",
              " * process.\n",
              " * @param {string} inputId Element ID of the input file picker element.\n",
              " * @param {string} outputId Element ID of the output display.\n",
              " * @return {!Iterable<!Object>} Iterable of next steps.\n",
              " */\n",
              "function* uploadFilesStep(inputId, outputId) {\n",
              "  const inputElement = document.getElementById(inputId);\n",
              "  inputElement.disabled = false;\n",
              "\n",
              "  const outputElement = document.getElementById(outputId);\n",
              "  outputElement.innerHTML = '';\n",
              "\n",
              "  const pickedPromise = new Promise((resolve) => {\n",
              "    inputElement.addEventListener('change', (e) => {\n",
              "      resolve(e.target.files);\n",
              "    });\n",
              "  });\n",
              "\n",
              "  const cancel = document.createElement('button');\n",
              "  inputElement.parentElement.appendChild(cancel);\n",
              "  cancel.textContent = 'Cancel upload';\n",
              "  const cancelPromise = new Promise((resolve) => {\n",
              "    cancel.onclick = () => {\n",
              "      resolve(null);\n",
              "    };\n",
              "  });\n",
              "\n",
              "  // Wait for the user to pick the files.\n",
              "  const files = yield {\n",
              "    promise: Promise.race([pickedPromise, cancelPromise]),\n",
              "    response: {\n",
              "      action: 'starting',\n",
              "    }\n",
              "  };\n",
              "\n",
              "  cancel.remove();\n",
              "\n",
              "  // Disable the input element since further picks are not allowed.\n",
              "  inputElement.disabled = true;\n",
              "\n",
              "  if (!files) {\n",
              "    return {\n",
              "      response: {\n",
              "        action: 'complete',\n",
              "      }\n",
              "    };\n",
              "  }\n",
              "\n",
              "  for (const file of files) {\n",
              "    const li = document.createElement('li');\n",
              "    li.append(span(file.name, {fontWeight: 'bold'}));\n",
              "    li.append(span(\n",
              "        `(${file.type || 'n/a'}) - ${file.size} bytes, ` +\n",
              "        `last modified: ${\n",
              "            file.lastModifiedDate ? file.lastModifiedDate.toLocaleDateString() :\n",
              "                                    'n/a'} - `));\n",
              "    const percent = span('0% done');\n",
              "    li.appendChild(percent);\n",
              "\n",
              "    outputElement.appendChild(li);\n",
              "\n",
              "    const fileDataPromise = new Promise((resolve) => {\n",
              "      const reader = new FileReader();\n",
              "      reader.onload = (e) => {\n",
              "        resolve(e.target.result);\n",
              "      };\n",
              "      reader.readAsArrayBuffer(file);\n",
              "    });\n",
              "    // Wait for the data to be ready.\n",
              "    let fileData = yield {\n",
              "      promise: fileDataPromise,\n",
              "      response: {\n",
              "        action: 'continue',\n",
              "      }\n",
              "    };\n",
              "\n",
              "    // Use a chunked sending to avoid message size limits. See b/62115660.\n",
              "    let position = 0;\n",
              "    do {\n",
              "      const length = Math.min(fileData.byteLength - position, MAX_PAYLOAD_SIZE);\n",
              "      const chunk = new Uint8Array(fileData, position, length);\n",
              "      position += length;\n",
              "\n",
              "      const base64 = btoa(String.fromCharCode.apply(null, chunk));\n",
              "      yield {\n",
              "        response: {\n",
              "          action: 'append',\n",
              "          file: file.name,\n",
              "          data: base64,\n",
              "        },\n",
              "      };\n",
              "\n",
              "      let percentDone = fileData.byteLength === 0 ?\n",
              "          100 :\n",
              "          Math.round((position / fileData.byteLength) * 100);\n",
              "      percent.textContent = `${percentDone}% done`;\n",
              "\n",
              "    } while (position < fileData.byteLength);\n",
              "  }\n",
              "\n",
              "  // All done.\n",
              "  yield {\n",
              "    response: {\n",
              "      action: 'complete',\n",
              "    }\n",
              "  };\n",
              "}\n",
              "\n",
              "scope.google = scope.google || {};\n",
              "scope.google.colab = scope.google.colab || {};\n",
              "scope.google.colab._files = {\n",
              "  _uploadFiles,\n",
              "  _uploadFilesContinue,\n",
              "};\n",
              "})(self);\n",
              "</script> "
            ]
          },
          "metadata": {}
        },
        {
          "output_type": "stream",
          "name": "stdout",
          "text": [
            "Saving superstore.csv to superstore.csv\n"
          ]
        }
      ]
    },
    {
      "cell_type": "code",
      "source": [
        "# creating a spark session\n",
        "sc = SparkSession.builder.appName('supermarket').getOrCreate()"
      ],
      "metadata": {
        "id": "d_tDjj5RSb7o"
      },
      "execution_count": null,
      "outputs": []
    },
    {
      "cell_type": "code",
      "source": [
        "# reading the excel file\n",
        "df = sc.read.csv('/content/superstore.csv', header = True, inferSchema = True)\n",
        "df.show(5)"
      ],
      "metadata": {
        "colab": {
          "base_uri": "https://localhost:8080/"
        },
        "id": "7ZsAw6zgSb_f",
        "outputId": "fafef9a8-1115-498a-c05d-ba379b2d8c93"
      },
      "execution_count": null,
      "outputs": [
        {
          "output_type": "stream",
          "name": "stdout",
          "text": [
            "+------+--------------+----------+----------+--------------+----------+---------------+---------+-------------+---------------+----------+----------+------+---------------+---------------+------------+--------------------+--------+--------+--------+--------+\n",
            "|Row ID|       OrderID| OrderDate|  ShipDate|      ShipMode|CustomerID|   CustomerName|  Segment|      Country|           City|     State|PostalCode|Region|      ProductID|       Category|Sub-Category|         ProductName|   Sales|Quantity|Discount|  Profit|\n",
            "+------+--------------+----------+----------+--------------+----------+---------------+---------+-------------+---------------+----------+----------+------+---------------+---------------+------------+--------------------+--------+--------+--------+--------+\n",
            "|     1|CA-2016-152156|08/11/2016|11/11/2016|  Second Class|  CG-12520|    Claire Gute| Consumer|United States|      Henderson|  Kentucky|     42420| South|FUR-BO-10001798|      Furniture|   Bookcases|Bush Somerset Col...|  261.96|       2|       0| 41.9136|\n",
            "|     2|CA-2016-152156|08/11/2016|11/11/2016|  Second Class|  CG-12520|    Claire Gute| Consumer|United States|      Henderson|  Kentucky|     42420| South|FUR-CH-10000454|      Furniture|      Chairs|Hon Deluxe Fabric...|  731.94|       3|       0| 219.582|\n",
            "|     3|CA-2016-138688|12/06/2016|16/06/2016|  Second Class|  DV-13045|Darrin Van Huff|Corporate|United States|    Los Angeles|California|     90036|  West|OFF-LA-10000240|Office Supplies|      Labels|Self-Adhesive Add...|   14.62|       2|       0|  6.8714|\n",
            "|     4|US-2015-108966|11/10/2015|18/10/2015|Standard Class|  SO-20335| Sean O'Donnell| Consumer|United States|Fort Lauderdale|   Florida|     33311| South|FUR-TA-10000577|      Furniture|      Tables|Bretford CR4500 S...|957.5775|       5|    0.45|-383.031|\n",
            "|     5|US-2015-108966|11/10/2015|18/10/2015|Standard Class|  SO-20335| Sean O'Donnell| Consumer|United States|Fort Lauderdale|   Florida|     33311| South|OFF-ST-10000760|Office Supplies|     Storage|Eldon Fold 'N Rol...|  22.368|       2|     0.2|  2.5164|\n",
            "+------+--------------+----------+----------+--------------+----------+---------------+---------+-------------+---------------+----------+----------+------+---------------+---------------+------------+--------------------+--------+--------+--------+--------+\n",
            "only showing top 5 rows\n",
            "\n"
          ]
        }
      ]
    },
    {
      "cell_type": "code",
      "source": [
        "df.printSchema()\n"
      ],
      "metadata": {
        "colab": {
          "base_uri": "https://localhost:8080/"
        },
        "id": "X3CDwrsASuyb",
        "outputId": "322fabb3-1cac-4803-8c8b-b401716927c3"
      },
      "execution_count": null,
      "outputs": [
        {
          "output_type": "stream",
          "name": "stdout",
          "text": [
            "root\n",
            " |-- Row ID: integer (nullable = true)\n",
            " |-- OrderID: string (nullable = true)\n",
            " |-- OrderDate: string (nullable = true)\n",
            " |-- ShipDate: string (nullable = true)\n",
            " |-- ShipMode: string (nullable = true)\n",
            " |-- CustomerID: string (nullable = true)\n",
            " |-- CustomerName: string (nullable = true)\n",
            " |-- Segment: string (nullable = true)\n",
            " |-- Country: string (nullable = true)\n",
            " |-- City: string (nullable = true)\n",
            " |-- State: string (nullable = true)\n",
            " |-- PostalCode: integer (nullable = true)\n",
            " |-- Region: string (nullable = true)\n",
            " |-- ProductID: string (nullable = true)\n",
            " |-- Category: string (nullable = true)\n",
            " |-- Sub-Category: string (nullable = true)\n",
            " |-- ProductName: string (nullable = true)\n",
            " |-- Sales: string (nullable = true)\n",
            " |-- Quantity: string (nullable = true)\n",
            " |-- Discount: string (nullable = true)\n",
            " |-- Profit: double (nullable = true)\n",
            "\n"
          ]
        }
      ]
    },
    {
      "cell_type": "code",
      "source": [
        "from datetime import datetime\n",
        "from pyspark.sql.functions import col, udf\n",
        "from pyspark.sql.types import DateType"
      ],
      "metadata": {
        "id": "pxVX7gjo8Hw9"
      },
      "execution_count": null,
      "outputs": []
    },
    {
      "cell_type": "code",
      "source": [
        "str_date = udf(lambda x: datetime.strptime(x, '%d/%m/%Y'), DateType())\n",
        "df1 = df.withColumn('Order_Date', str_date(\"OrderDate\")).drop(col('OrderDate'))\n",
        "df1.show(2)"
      ],
      "metadata": {
        "colab": {
          "base_uri": "https://localhost:8080/"
        },
        "id": "4UwC4JO55RiL",
        "outputId": "534fe615-fce3-43d2-982a-148a6d329c4c"
      },
      "execution_count": null,
      "outputs": [
        {
          "output_type": "stream",
          "name": "stdout",
          "text": [
            "+------+--------------+----------+------------+----------+------------+--------+-------------+---------+--------+----------+------+---------------+---------+------------+--------------------+------+--------+--------+-------+----------+\n",
            "|Row ID|       OrderID|  ShipDate|    ShipMode|CustomerID|CustomerName| Segment|      Country|     City|   State|PostalCode|Region|      ProductID| Category|Sub-Category|         ProductName| Sales|Quantity|Discount| Profit|Order_Date|\n",
            "+------+--------------+----------+------------+----------+------------+--------+-------------+---------+--------+----------+------+---------------+---------+------------+--------------------+------+--------+--------+-------+----------+\n",
            "|     1|CA-2016-152156|11/11/2016|Second Class|  CG-12520| Claire Gute|Consumer|United States|Henderson|Kentucky|     42420| South|FUR-BO-10001798|Furniture|   Bookcases|Bush Somerset Col...|261.96|       2|       0|41.9136|2016-11-08|\n",
            "|     2|CA-2016-152156|11/11/2016|Second Class|  CG-12520| Claire Gute|Consumer|United States|Henderson|Kentucky|     42420| South|FUR-CH-10000454|Furniture|      Chairs|Hon Deluxe Fabric...|731.94|       3|       0|219.582|2016-11-08|\n",
            "+------+--------------+----------+------------+----------+------------+--------+-------------+---------+--------+----------+------+---------------+---------+------------+--------------------+------+--------+--------+-------+----------+\n",
            "only showing top 2 rows\n",
            "\n"
          ]
        }
      ]
    },
    {
      "cell_type": "code",
      "source": [
        "str_date = udf(lambda x: datetime.strptime(x, '%d/%m/%Y'), DateType())\n",
        "df2 = df1.withColumn('Ship_Date', str_date(\"ShipDate\")).drop(col('ShipDate'))\n",
        "df2.show(2)"
      ],
      "metadata": {
        "colab": {
          "base_uri": "https://localhost:8080/"
        },
        "id": "A1m5qG4h8gsB",
        "outputId": "01747114-832b-4383-a7bd-a824eae0d59a"
      },
      "execution_count": null,
      "outputs": [
        {
          "output_type": "stream",
          "name": "stdout",
          "text": [
            "+------+--------------+------------+----------+------------+--------+-------------+---------+--------+----------+------+---------------+---------+------------+--------------------+------+--------+--------+-------+----------+----------+\n",
            "|Row ID|       OrderID|    ShipMode|CustomerID|CustomerName| Segment|      Country|     City|   State|PostalCode|Region|      ProductID| Category|Sub-Category|         ProductName| Sales|Quantity|Discount| Profit|Order_Date| Ship_Date|\n",
            "+------+--------------+------------+----------+------------+--------+-------------+---------+--------+----------+------+---------------+---------+------------+--------------------+------+--------+--------+-------+----------+----------+\n",
            "|     1|CA-2016-152156|Second Class|  CG-12520| Claire Gute|Consumer|United States|Henderson|Kentucky|     42420| South|FUR-BO-10001798|Furniture|   Bookcases|Bush Somerset Col...|261.96|       2|       0|41.9136|2016-11-08|2016-11-11|\n",
            "|     2|CA-2016-152156|Second Class|  CG-12520| Claire Gute|Consumer|United States|Henderson|Kentucky|     42420| South|FUR-CH-10000454|Furniture|      Chairs|Hon Deluxe Fabric...|731.94|       3|       0|219.582|2016-11-08|2016-11-11|\n",
            "+------+--------------+------------+----------+------------+--------+-------------+---------+--------+----------+------+---------------+---------+------------+--------------------+------+--------+--------+-------+----------+----------+\n",
            "only showing top 2 rows\n",
            "\n"
          ]
        }
      ]
    },
    {
      "cell_type": "code",
      "source": [
        "df2.printSchema()"
      ],
      "metadata": {
        "colab": {
          "base_uri": "https://localhost:8080/"
        },
        "id": "PZtysPA480G2",
        "outputId": "8beb4d71-de13-4bd3-fce9-781f91e726ec"
      },
      "execution_count": null,
      "outputs": [
        {
          "output_type": "stream",
          "name": "stdout",
          "text": [
            "root\n",
            " |-- Row ID: integer (nullable = true)\n",
            " |-- OrderID: string (nullable = true)\n",
            " |-- ShipMode: string (nullable = true)\n",
            " |-- CustomerID: string (nullable = true)\n",
            " |-- CustomerName: string (nullable = true)\n",
            " |-- Segment: string (nullable = true)\n",
            " |-- Country: string (nullable = true)\n",
            " |-- City: string (nullable = true)\n",
            " |-- State: string (nullable = true)\n",
            " |-- PostalCode: integer (nullable = true)\n",
            " |-- Region: string (nullable = true)\n",
            " |-- ProductID: string (nullable = true)\n",
            " |-- Category: string (nullable = true)\n",
            " |-- Sub-Category: string (nullable = true)\n",
            " |-- ProductName: string (nullable = true)\n",
            " |-- Sales: string (nullable = true)\n",
            " |-- Quantity: string (nullable = true)\n",
            " |-- Discount: string (nullable = true)\n",
            " |-- Profit: double (nullable = true)\n",
            " |-- Order_Date: date (nullable = true)\n",
            " |-- Ship_Date: date (nullable = true)\n",
            "\n"
          ]
        }
      ]
    },
    {
      "cell_type": "code",
      "source": [
        "df2.createOrReplaceTempView('dataframe')"
      ],
      "metadata": {
        "id": "ZitUYvTOl1uE"
      },
      "execution_count": null,
      "outputs": []
    },
    {
      "cell_type": "code",
      "source": [
        "#we create new column named sales_lead. We used LEAD to show next sales value in sales_lead. See full queries below\n",
        "\n",
        "lead = sc.sql(\"SELECT OrderID, Order_Date, Segment, State, Sales,\\\n",
        "                    LEAD(Sales) OVER(PARTITION BY Segment ORDER BY OrderID) as salesLead\\\n",
        "                FROM dataframe\\\n",
        "            WHERE Order_Date BETWEEN (SELECT MIN(Order_Date) FROM dataframe) AND (SELECT MAX(Order_Date) FROM dataframe)\").show()"
      ],
      "metadata": {
        "colab": {
          "base_uri": "https://localhost:8080/"
        },
        "id": "FDt69k7SSz77",
        "outputId": "ab9a4e4b-b25d-4249-a0cb-864bc6db2912"
      },
      "execution_count": null,
      "outputs": [
        {
          "output_type": "stream",
          "name": "stdout",
          "text": [
            "+--------------+----------+--------+------------+------------+------------+\n",
            "|       OrderID|Order_Date| Segment|       State|       Sales|   salesLead|\n",
            "+--------------+----------+--------+------------+------------+------------+\n",
            "|CA-2014-100006|2014-09-07|Consumer|    New York|      377.97| Light Blue\"|\n",
            "|CA-2014-100328|2014-01-28|Consumer|    New York| Light Blue\"|       2.688|\n",
            "|CA-2014-100678|2014-04-18|Consumer|       Texas|       2.688|     317.058|\n",
            "|CA-2014-100678|2014-04-18|Consumer|       Texas|     317.058|     149.352|\n",
            "|CA-2014-100678|2014-04-18|Consumer|       Texas|     149.352|     227.976|\n",
            "|CA-2014-100678|2014-04-18|Consumer|       Texas|     227.976|        8.56|\n",
            "|CA-2014-100895|2014-06-02|Consumer|     Georgia|        8.56|      239.97|\n",
            "|CA-2014-100895|2014-06-02|Consumer|     Georgia|      239.97|      356.94|\n",
            "|CA-2014-100895|2014-06-02|Consumer|     Georgia|      356.94|       2.394|\n",
            "|CA-2014-101147|2014-12-02|Consumer|    Illinois|       2.394|       13.36|\n",
            "|CA-2014-101266|2014-08-27|Consumer|    Virginia|       13.36|       59.92|\n",
            "|CA-2014-101462|2014-04-20|Consumer|  California|       59.92|       40.68|\n",
            "|CA-2014-101602|2014-12-15|Consumer|       Texas|       40.68|      763.28|\n",
            "|CA-2014-101602|2014-12-15|Consumer|       Texas|      763.28|       48.94|\n",
            "|CA-2014-102008|2014-09-30|Consumer|    New York|       48.94|       29.24|\n",
            "|CA-2014-102085|2014-10-04|Consumer|  Washington|       29.24|     120.712|\n",
            "|CA-2014-102295|2014-11-24|Consumer|  California|     120.712|        88.8|\n",
            "|CA-2014-102330|2014-12-29|Consumer|  California|        88.8|     319.968|\n",
            "|CA-2014-102330|2014-12-29|Consumer|  California|     319.968|      15.552|\n",
            "|CA-2014-102869|2014-09-09|Consumer|Pennsylvania|      15.552|      64.704|\n",
            "+--------------+----------+--------+------------+------------+------------+\n",
            "only showing top 20 rows\n",
            "\n"
          ]
        }
      ]
    },
    {
      "cell_type": "code",
      "source": [
        "#In this query, we create new column named sales_lag. We used LAG to show previous sales value in sales_lag. See full queries below.\n",
        "\n",
        "lag = sc.sql(\"SELECT OrderID, Order_Date, Segment, State, Sales,\\\n",
        "                LAG(Sales) OVER(PARTITION BY Segment ORDER BY OrderID) as lagedSales\\\n",
        "            FROM dataframe\\\n",
        "            WHERE Order_Date BETWEEN (SELECT MIN(Order_Date) FROM dataframe) AND (SELECT MAX(Order_Date) FROM dataframe) \").show()"
      ],
      "metadata": {
        "colab": {
          "base_uri": "https://localhost:8080/"
        },
        "id": "gtU_gIUzmNj4",
        "outputId": "cda756d9-f8fa-4ced-8e37-067a2af7028a"
      },
      "execution_count": null,
      "outputs": [
        {
          "output_type": "stream",
          "name": "stdout",
          "text": [
            "+--------------+----------+--------+------------+------------+------------+\n",
            "|       OrderID|Order_Date| Segment|       State|       Sales|  lagedSales|\n",
            "+--------------+----------+--------+------------+------------+------------+\n",
            "|CA-2014-100006|2014-09-07|Consumer|    New York|      377.97|        null|\n",
            "|CA-2014-100328|2014-01-28|Consumer|    New York| Light Blue\"|      377.97|\n",
            "|CA-2014-100678|2014-04-18|Consumer|       Texas|       2.688| Light Blue\"|\n",
            "|CA-2014-100678|2014-04-18|Consumer|       Texas|     317.058|       2.688|\n",
            "|CA-2014-100678|2014-04-18|Consumer|       Texas|     149.352|     317.058|\n",
            "|CA-2014-100678|2014-04-18|Consumer|       Texas|     227.976|     149.352|\n",
            "|CA-2014-100895|2014-06-02|Consumer|     Georgia|        8.56|     227.976|\n",
            "|CA-2014-100895|2014-06-02|Consumer|     Georgia|      239.97|        8.56|\n",
            "|CA-2014-100895|2014-06-02|Consumer|     Georgia|      356.94|      239.97|\n",
            "|CA-2014-101147|2014-12-02|Consumer|    Illinois|       2.394|      356.94|\n",
            "|CA-2014-101266|2014-08-27|Consumer|    Virginia|       13.36|       2.394|\n",
            "|CA-2014-101462|2014-04-20|Consumer|  California|       59.92|       13.36|\n",
            "|CA-2014-101602|2014-12-15|Consumer|       Texas|       40.68|       59.92|\n",
            "|CA-2014-101602|2014-12-15|Consumer|       Texas|      763.28|       40.68|\n",
            "|CA-2014-102008|2014-09-30|Consumer|    New York|       48.94|      763.28|\n",
            "|CA-2014-102085|2014-10-04|Consumer|  Washington|       29.24|       48.94|\n",
            "|CA-2014-102295|2014-11-24|Consumer|  California|     120.712|       29.24|\n",
            "|CA-2014-102330|2014-12-29|Consumer|  California|        88.8|     120.712|\n",
            "|CA-2014-102330|2014-12-29|Consumer|  California|     319.968|        88.8|\n",
            "|CA-2014-102869|2014-09-09|Consumer|Pennsylvania|      15.552|     319.968|\n",
            "+--------------+----------+--------+------------+------------+------------+\n",
            "only showing top 20 rows\n",
            "\n"
          ]
        }
      ]
    },
    {
      "cell_type": "code",
      "source": [
        "#we add new column named sales_rank to create ranking from biggest sales (descending).\n",
        "\n",
        "rank = sc.sql(\"SELECT OrderID, Order_Date, Segment, State, Sales,\\\n",
        "            RANK(SALES) OVER(PARTITION BY Segment ORDER BY Sales DESC) AS rankedSales\\\n",
        "            FROM dataframe\\\n",
        "            WHERE Order_Date BETWEEN (SELECT MIN(Order_Date) FROM dataframe) AND (SELECT MAX(Order_Date) FROM dataframe)\").show()"
      ],
      "metadata": {
        "colab": {
          "base_uri": "https://localhost:8080/"
        },
        "id": "670UpTa8omin",
        "outputId": "b05faa05-da7a-4e96-90f9-615ada04e1b1"
      },
      "execution_count": null,
      "outputs": [
        {
          "output_type": "stream",
          "name": "stdout",
          "text": [
            "+--------------+----------+--------+------------+-------+-----------+\n",
            "|       OrderID|Order_Date| Segment|       State|  Sales|rankedSales|\n",
            "+--------------+----------+--------+------------+-------+-----------+\n",
            "|CA-2015-146563|2015-08-24|Consumer|       Texas|999.432|          1|\n",
            "|CA-2015-140984|2015-09-14|Consumer|    New York|  991.2|          2|\n",
            "|CA-2014-139192|2014-05-27|Consumer|  California|  99.99|          3|\n",
            "|CA-2017-111815|2017-03-03|Consumer|    Michigan|  99.98|          4|\n",
            "|CA-2014-152233|2014-10-05|Consumer|  California|  99.98|          4|\n",
            "|CA-2014-103058|2014-07-23|Consumer|    New York|  99.98|          4|\n",
            "|US-2017-143175|2017-08-03|Consumer|  California|  99.87|          7|\n",
            "|CA-2016-120796|2016-04-03|Consumer|Pennsylvania| 99.846|          8|\n",
            "|US-2015-126214|2015-12-21|Consumer|  Washington|   99.6|          9|\n",
            "|CA-2015-148712|2015-04-17|Consumer|    New York|   99.6|          9|\n",
            "|CA-2017-105410|2017-03-19|Consumer|  California|  99.54|         11|\n",
            "|CA-2017-130351|2017-12-05|Consumer|     Indiana|  99.39|         12|\n",
            "|CA-2016-157511|2016-09-18|Consumer|        Ohio| 99.372|         13|\n",
            "|US-2017-116652|2017-09-15|Consumer|  California|   99.3|         14|\n",
            "|US-2017-141509|2017-09-29|Consumer|  California|   99.2|         15|\n",
            "|CA-2017-158876|2017-11-19|Consumer|       Texas| 99.136|         16|\n",
            "|CA-2015-158491|2015-06-04|Consumer|  California| 989.97|         17|\n",
            "|CA-2015-132626|2015-07-09|Consumer|    Maryland|  98.21|         18|\n",
            "|CA-2016-111493|2016-10-21|Consumer|    Maryland|  98.16|         19|\n",
            "|CA-2016-168753|2016-05-29|Consumer|     Alabama| 979.95|         20|\n",
            "+--------------+----------+--------+------------+-------+-----------+\n",
            "only showing top 20 rows\n",
            "\n"
          ]
        }
      ]
    },
    {
      "cell_type": "code",
      "source": [
        "#Query below create temporary table to show monthly sales average using CTE(Common Table Expression). And to change date format, we use DATE_FORMAT().\n",
        "# In the query below, I am creating a temp table with name monthly_avg_sales and querying monthly avg sales using agg function and grouping them by month\n",
        "monthly_sales = sc.sql(\"WITH monthly_avg_sales AS\\\n",
        "                            (SELECT DATE_FORMAT(Order_Date, 'yyyy-MM-01') AS OrderMonth,\\\n",
        "                            ROUND(AVG(Sales),2) AS AvgSales \\\n",
        "                        FROM dataframe\\\n",
        "                        GROUP BY OrderMonth)\\\n",
        "                        SELECT OrderMonth, AvgSales FROM monthly_avg_sales\\\n",
        "                        ORDER BY OrderMonth\").show()"
      ],
      "metadata": {
        "colab": {
          "base_uri": "https://localhost:8080/"
        },
        "id": "GCiVkHLdpIyE",
        "outputId": "32ff0731-78da-4dd2-fabe-a22b7ba40b52"
      },
      "execution_count": null,
      "outputs": [
        {
          "output_type": "stream",
          "name": "stdout",
          "text": [
            "+----------+--------+\n",
            "|OrderMonth|AvgSales|\n",
            "+----------+--------+\n",
            "|2014-01-01|  207.41|\n",
            "|2014-02-01|  118.11|\n",
            "|2014-03-01|  416.84|\n",
            "|2014-04-01|  207.39|\n",
            "|2014-05-01|   179.6|\n",
            "|2014-06-01|  265.03|\n",
            "|2014-07-01|  267.01|\n",
            "|2014-08-01|  191.16|\n",
            "|2014-09-01|  326.48|\n",
            "|2014-10-01|  223.85|\n",
            "|2014-11-01|  263.71|\n",
            "|2014-12-01|  269.55|\n",
            "|2015-01-01|   223.0|\n",
            "|2015-02-01|  205.53|\n",
            "|2015-03-01|  271.42|\n",
            "|2015-04-01|  231.18|\n",
            "|2015-05-01|  213.87|\n",
            "|2015-06-01|  170.66|\n",
            "|2015-07-01|  227.34|\n",
            "|2015-08-01|  240.16|\n",
            "+----------+--------+\n",
            "only showing top 20 rows\n",
            "\n"
          ]
        }
      ]
    },
    {
      "cell_type": "code",
      "source": [
        "# daily average sales\n",
        "\n",
        "daily = sc.sql(\"WITH daily_avg_sales AS\\\n",
        "                (SELECT DATE_FORMAT(Order_Date,'yyy-MM-dd') AS OrderDay , ROUND(AVG(Sales),2) AS AvgSales FROM dataframe\\\n",
        "                GROUP BY OrderDay)\\\n",
        "                SELECT OrderDay, AvgSales FROM daily_avg_sales\\\n",
        "                ORDER BY OrderDay\").show()"
      ],
      "metadata": {
        "colab": {
          "base_uri": "https://localhost:8080/"
        },
        "id": "RN0iQOoC26Y1",
        "outputId": "20e69614-9aee-4891-f169-a17f5a0ae63f"
      },
      "execution_count": null,
      "outputs": [
        {
          "output_type": "stream",
          "name": "stdout",
          "text": [
            "+----------+--------+\n",
            "|  OrderDay|AvgSales|\n",
            "+----------+--------+\n",
            "|2014-01-03|    null|\n",
            "|2014-01-04|   96.02|\n",
            "|2014-01-05|   19.54|\n",
            "|2014-01-06|  489.68|\n",
            "|2014-01-07|   43.58|\n",
            "|2014-01-09|   20.27|\n",
            "|2014-01-10|   27.42|\n",
            "|2014-01-11|    9.94|\n",
            "|2014-01-13|  390.33|\n",
            "|2014-01-14|   61.96|\n",
            "|2014-01-15|  149.95|\n",
            "|2014-01-16|   74.99|\n",
            "|2014-01-18|   64.86|\n",
            "|2014-01-19|   94.65|\n",
            "|2014-01-20|  165.93|\n",
            "|2014-01-26|   181.7|\n",
            "|2014-01-27|  142.22|\n",
            "|2014-01-28|    null|\n",
            "|2014-01-30|  120.25|\n",
            "|2014-01-31|  290.67|\n",
            "+----------+--------+\n",
            "only showing top 20 rows\n",
            "\n"
          ]
        }
      ]
    },
    {
      "cell_type": "code",
      "source": [
        "#Sales Average from 1st -31 every month\n",
        "\n",
        "res = sc.sql(\"WITH daily_sales AS\\\n",
        "            (SELECT DAY(Order_Date) AS Daily, ROUND(AVG(Sales),2) AS AvgDaily\\\n",
        "            FROM dataframe\\\n",
        "            GROUP BY Daily)\\\n",
        "            SELECT Daily, AvgDaily FROM daily_sales\\\n",
        "            ORDER BY Daily\").show()"
      ],
      "metadata": {
        "colab": {
          "base_uri": "https://localhost:8080/"
        },
        "id": "HpuCORr5Atfo",
        "outputId": "3dd84b50-9140-4b64-b264-97fd1a9c88ca"
      },
      "execution_count": null,
      "outputs": [
        {
          "output_type": "stream",
          "name": "stdout",
          "text": [
            "+-----+--------+\n",
            "|Daily|AvgDaily|\n",
            "+-----+--------+\n",
            "|    1|  279.94|\n",
            "|    2|  260.67|\n",
            "|    3|  206.37|\n",
            "|    4|  237.23|\n",
            "|    5|  191.72|\n",
            "|    6|  173.46|\n",
            "|    7|  236.31|\n",
            "|    8|   282.1|\n",
            "|    9|  208.25|\n",
            "|   10|  205.58|\n",
            "|   11|  196.56|\n",
            "|   12|   181.0|\n",
            "|   13|  242.02|\n",
            "|   14|  200.99|\n",
            "|   15|  213.91|\n",
            "|   16|  293.64|\n",
            "|   17|  326.79|\n",
            "|   18|  318.46|\n",
            "|   19|  258.08|\n",
            "|   20|  176.63|\n",
            "+-----+--------+\n",
            "only showing top 20 rows\n",
            "\n"
          ]
        }
      ]
    },
    {
      "cell_type": "code",
      "source": [
        "df2.printSchema()"
      ],
      "metadata": {
        "colab": {
          "base_uri": "https://localhost:8080/"
        },
        "id": "T8e3Y1EGHQyF",
        "outputId": "66c986e3-37a3-44ba-a5da-2ec982b81d5d"
      },
      "execution_count": null,
      "outputs": [
        {
          "output_type": "stream",
          "name": "stdout",
          "text": [
            "root\n",
            " |-- Row ID: integer (nullable = true)\n",
            " |-- OrderID: string (nullable = true)\n",
            " |-- ShipMode: string (nullable = true)\n",
            " |-- CustomerID: string (nullable = true)\n",
            " |-- CustomerName: string (nullable = true)\n",
            " |-- Segment: string (nullable = true)\n",
            " |-- Country: string (nullable = true)\n",
            " |-- City: string (nullable = true)\n",
            " |-- State: string (nullable = true)\n",
            " |-- PostalCode: integer (nullable = true)\n",
            " |-- Region: string (nullable = true)\n",
            " |-- ProductID: string (nullable = true)\n",
            " |-- Category: string (nullable = true)\n",
            " |-- Sub-Category: string (nullable = true)\n",
            " |-- ProductName: string (nullable = true)\n",
            " |-- Sales: string (nullable = true)\n",
            " |-- Quantity: string (nullable = true)\n",
            " |-- Discount: string (nullable = true)\n",
            " |-- Profit: double (nullable = true)\n",
            " |-- Order_Date: date (nullable = true)\n",
            " |-- Ship_Date: date (nullable = true)\n",
            "\n"
          ]
        }
      ]
    },
    {
      "cell_type": "code",
      "source": [
        "# Show daily profit average\n",
        "df2.createOrReplaceTempView('dataframe')\n",
        "result = sc.sql(\"SELECT OrderID, Category, DATE_FORMAT(Order_Date,'yyyy-MM-dd') AS Order_Date,\\\n",
        "                AVG(Profit) OVER(PARTITION BY Order_Date) AS AvgProfit FROM dataframe\").show()\n"
      ],
      "metadata": {
        "colab": {
          "base_uri": "https://localhost:8080/"
        },
        "id": "iCS52XqrBrh8",
        "outputId": "cbf16ffa-f030-4a84-cdc0-9e82d0a7e92f"
      },
      "execution_count": null,
      "outputs": [
        {
          "output_type": "stream",
          "name": "stdout",
          "text": [
            "+--------------+---------------+----------+-----------------+\n",
            "|       OrderID|       Category|Order_Date|        AvgProfit|\n",
            "+--------------+---------------+----------+-----------------+\n",
            "|CA-2014-103800|Office Supplies|2014-01-03|              0.2|\n",
            "|CA-2014-112326|Office Supplies|2014-01-04|         -21.9967|\n",
            "|CA-2014-112326|Office Supplies|2014-01-04|         -21.9967|\n",
            "|CA-2014-112326|Office Supplies|2014-01-04|         -21.9967|\n",
            "|CA-2014-141817|Office Supplies|2014-01-05|            4.884|\n",
            "|CA-2014-130813|Office Supplies|2014-01-06|150.8947111111111|\n",
            "|CA-2014-106054|Office Supplies|2014-01-06|150.8947111111111|\n",
            "|CA-2014-167199|      Furniture|2014-01-06|150.8947111111111|\n",
            "|CA-2014-167199|Office Supplies|2014-01-06|150.8947111111111|\n",
            "|CA-2014-167199|Office Supplies|2014-01-06|150.8947111111111|\n",
            "|CA-2014-167199|     Technology|2014-01-06|150.8947111111111|\n",
            "|CA-2014-167199|     Technology|2014-01-06|150.8947111111111|\n",
            "|CA-2014-167199|Office Supplies|2014-01-06|150.8947111111111|\n",
            "|CA-2014-167199|Office Supplies|2014-01-06|150.8947111111111|\n",
            "|CA-2014-105417|      Furniture|2014-01-07|        -35.98105|\n",
            "|CA-2014-105417|Office Supplies|2014-01-07|        -35.98105|\n",
            "|CA-2014-135405|Office Supplies|2014-01-09|            5.459|\n",
            "|CA-2014-135405|     Technology|2014-01-09|            5.459|\n",
            "|CA-2014-149020|Office Supplies|2014-01-10|         11.32685|\n",
            "|CA-2014-149020|      Furniture|2014-01-10|         11.32685|\n",
            "+--------------+---------------+----------+-----------------+\n",
            "only showing top 20 rows\n",
            "\n"
          ]
        }
      ]
    },
    {
      "cell_type": "code",
      "source": [
        "df2.createOrReplaceTempView('dataframe')\n",
        "result = sc.sql(\"WITH avg_sales AS\\\n",
        "                (SELECT OrderID, Category, DATE_FORMAT(Order_Date,'yyyy-MM-dd') AS Order_Date,\\\n",
        "                AVG(Profit) OVER(PARTITION BY Order_Date) AS AvgProfit FROM dataframe)\\\n",
        "                SELECT  OrderID, Category,Order_Date,AvgProfit FROM avg_sales\\\n",
        "                ORDER BY Order_Date \").show()"
      ],
      "metadata": {
        "colab": {
          "base_uri": "https://localhost:8080/"
        },
        "id": "vc3N3UloEvA2",
        "outputId": "452f7239-5d9e-4404-8acc-46e53be8c392"
      },
      "execution_count": null,
      "outputs": [
        {
          "output_type": "stream",
          "name": "stdout",
          "text": [
            "+--------------+---------------+----------+-----------------+\n",
            "|       OrderID|       Category|Order_Date|        AvgProfit|\n",
            "+--------------+---------------+----------+-----------------+\n",
            "|CA-2014-103800|Office Supplies|2014-01-03|              0.2|\n",
            "|CA-2014-112326|Office Supplies|2014-01-04|         -21.9967|\n",
            "|CA-2014-112326|Office Supplies|2014-01-04|         -21.9967|\n",
            "|CA-2014-112326|Office Supplies|2014-01-04|         -21.9967|\n",
            "|CA-2014-141817|Office Supplies|2014-01-05|            4.884|\n",
            "|CA-2014-130813|Office Supplies|2014-01-06|150.8947111111111|\n",
            "|CA-2014-167199|     Technology|2014-01-06|150.8947111111111|\n",
            "|CA-2014-106054|Office Supplies|2014-01-06|150.8947111111111|\n",
            "|CA-2014-167199|      Furniture|2014-01-06|150.8947111111111|\n",
            "|CA-2014-167199|     Technology|2014-01-06|150.8947111111111|\n",
            "|CA-2014-167199|Office Supplies|2014-01-06|150.8947111111111|\n",
            "|CA-2014-167199|Office Supplies|2014-01-06|150.8947111111111|\n",
            "|CA-2014-167199|Office Supplies|2014-01-06|150.8947111111111|\n",
            "|CA-2014-167199|Office Supplies|2014-01-06|150.8947111111111|\n",
            "|CA-2014-105417|      Furniture|2014-01-07|        -35.98105|\n",
            "|CA-2014-105417|Office Supplies|2014-01-07|        -35.98105|\n",
            "|CA-2014-135405|     Technology|2014-01-09|            5.459|\n",
            "|CA-2014-135405|Office Supplies|2014-01-09|            5.459|\n",
            "|CA-2014-149020|Office Supplies|2014-01-10|         11.32685|\n",
            "|CA-2014-149020|      Furniture|2014-01-10|         11.32685|\n",
            "+--------------+---------------+----------+-----------------+\n",
            "only showing top 20 rows\n",
            "\n"
          ]
        }
      ]
    },
    {
      "cell_type": "code",
      "source": [
        "# compare average sales with previous day\n",
        "\n",
        "comp = sc.sql(\"WITH prev_comp AS (SELECT DATE_FORMAT(Order_Date,'yyyy-MM-dd') AS Order_Date,\\\n",
        "            AVG(Sales) OVER(PARTITION BY Order_Date ORDER BY Order_Date) AS AvgSale,\\\n",
        "            LAG(Sales) OVER(PARTITION BY Order_Date ORDER BY Order_Date) AS LagSale FROM dataframe)\\\n",
        "            SELECT Order_Date, AvgSale, LagSale FROM prev_comp\\\n",
        "            ORDER BY Order_Date\").show()"
      ],
      "metadata": {
        "colab": {
          "base_uri": "https://localhost:8080/"
        },
        "id": "_3DskNdbKoEO",
        "outputId": "58008290-115c-4f18-dc14-ecdfd3636586"
      },
      "execution_count": null,
      "outputs": [
        {
          "output_type": "stream",
          "name": "stdout",
          "text": [
            "+----------+-----------------+-------+\n",
            "|Order_Date|          AvgSale|LagSale|\n",
            "+----------+-----------------+-------+\n",
            "|2014-01-03|             null|   null|\n",
            "|2014-01-04|            96.02| 11.784|\n",
            "|2014-01-04|            96.02|   null|\n",
            "|2014-01-04|            96.02|272.736|\n",
            "|2014-01-05|           19.536|   null|\n",
            "|2014-01-06|489.6777777777778|   null|\n",
            "|2014-01-06|489.6777777777778| 391.98|\n",
            "|2014-01-06|489.6777777777778|  19.44|\n",
            "|2014-01-06|489.6777777777778|  12.78|\n",
            "|2014-01-06|489.6777777777778|   5.48|\n",
            "|2014-01-06|489.6777777777778| 755.96|\n",
            "|2014-01-06|489.6777777777778|  31.12|\n",
            "|2014-01-06|489.6777777777778|2573.82|\n",
            "|2014-01-06|489.6777777777778| 609.98|\n",
            "|2014-01-07|43.57899999999999|   null|\n",
            "|2014-01-07|43.57899999999999| 76.728|\n",
            "|2014-01-09|           20.272|  9.344|\n",
            "|2014-01-09|           20.272|   null|\n",
            "|2014-01-10|           27.415|   null|\n",
            "|2014-01-10|           27.415|   2.89|\n",
            "+----------+-----------------+-------+\n",
            "only showing top 20 rows\n",
            "\n"
          ]
        }
      ]
    },
    {
      "cell_type": "code",
      "source": [
        "df2.createOrReplaceTempView('dataframe')\n",
        "result = sc.sql(\"WITH avg_sales AS\\\n",
        "                (SELECT OrderID, Category, DATE_FORMAT(Order_Date,'yyyy-MM-dd') AS Order_Date,\\\n",
        "                AVG(Profit) OVER(PARTITION BY Order_Date) AS AvgProfit FROM dataframe\\\n",
        "                WHERE Order_Date BETWEEN (SELECT MIN(Order_Date) FROM dataframe) AND (SELECT MAX(Order_Date) FROM dataframe))\\\n",
        "                SELECT  OrderID, Category,Order_Date,AvgProfit FROM avg_sales\\\n",
        "                ORDER BY Order_Date \").show()"
      ],
      "metadata": {
        "colab": {
          "base_uri": "https://localhost:8080/"
        },
        "id": "ZuXui0ttNYpF",
        "outputId": "304953cf-4a4f-4b9d-8a08-476805d0681a"
      },
      "execution_count": null,
      "outputs": [
        {
          "output_type": "stream",
          "name": "stdout",
          "text": [
            "+--------------+---------------+----------+-----------------+\n",
            "|       OrderID|       Category|Order_Date|        AvgProfit|\n",
            "+--------------+---------------+----------+-----------------+\n",
            "|CA-2014-103800|Office Supplies|2014-01-03|              0.2|\n",
            "|CA-2014-112326|Office Supplies|2014-01-04|         -21.9967|\n",
            "|CA-2014-112326|Office Supplies|2014-01-04|         -21.9967|\n",
            "|CA-2014-112326|Office Supplies|2014-01-04|         -21.9967|\n",
            "|CA-2014-141817|Office Supplies|2014-01-05|            4.884|\n",
            "|CA-2014-130813|Office Supplies|2014-01-06|150.8947111111111|\n",
            "|CA-2014-167199|     Technology|2014-01-06|150.8947111111111|\n",
            "|CA-2014-106054|Office Supplies|2014-01-06|150.8947111111111|\n",
            "|CA-2014-167199|      Furniture|2014-01-06|150.8947111111111|\n",
            "|CA-2014-167199|     Technology|2014-01-06|150.8947111111111|\n",
            "|CA-2014-167199|Office Supplies|2014-01-06|150.8947111111111|\n",
            "|CA-2014-167199|Office Supplies|2014-01-06|150.8947111111111|\n",
            "|CA-2014-167199|Office Supplies|2014-01-06|150.8947111111111|\n",
            "|CA-2014-167199|Office Supplies|2014-01-06|150.8947111111111|\n",
            "|CA-2014-105417|      Furniture|2014-01-07|        -35.98105|\n",
            "|CA-2014-105417|Office Supplies|2014-01-07|        -35.98105|\n",
            "|CA-2014-135405|     Technology|2014-01-09|            5.459|\n",
            "|CA-2014-135405|Office Supplies|2014-01-09|            5.459|\n",
            "|CA-2014-149020|Office Supplies|2014-01-10|         11.32685|\n",
            "|CA-2014-149020|      Furniture|2014-01-10|         11.32685|\n",
            "+--------------+---------------+----------+-----------------+\n",
            "only showing top 20 rows\n",
            "\n"
          ]
        }
      ]
    },
    {
      "cell_type": "code",
      "source": [
        "df2.columns"
      ],
      "metadata": {
        "colab": {
          "base_uri": "https://localhost:8080/"
        },
        "id": "E-mlHhtEz3cL",
        "outputId": "0ae66cd8-f385-4c1a-dce0-f43fcb2a4fe6"
      },
      "execution_count": null,
      "outputs": [
        {
          "output_type": "execute_result",
          "data": {
            "text/plain": [
              "['Row ID',\n",
              " 'OrderID',\n",
              " 'ShipMode',\n",
              " 'CustomerID',\n",
              " 'CustomerName',\n",
              " 'Segment',\n",
              " 'Country',\n",
              " 'City',\n",
              " 'State',\n",
              " 'PostalCode',\n",
              " 'Region',\n",
              " 'ProductID',\n",
              " 'Category',\n",
              " 'Sub-Category',\n",
              " 'ProductName',\n",
              " 'Sales',\n",
              " 'Quantity',\n",
              " 'Discount',\n",
              " 'Profit',\n",
              " 'Order_Date',\n",
              " 'Ship_Date']"
            ]
          },
          "metadata": {},
          "execution_count": 75
        }
      ]
    },
    {
      "cell_type": "code",
      "source": [
        "df_Columns=['Row ID','OrderID','ShipMode','CustomerID','CustomerName','Segment','Country','City','State','PostalCode','Region','ProductID','Category','Sub-Category','ProductName','Sales','Quantity','Discount','Profit']\n",
        "df2.select([count(when(isnan(c) | col(c).isNull(), c)).alias(c) for c in df_Columns]).show()"
      ],
      "metadata": {
        "colab": {
          "base_uri": "https://localhost:8080/"
        },
        "id": "eH3BJeHHz02y",
        "outputId": "00ed6b8a-df11-466b-b04a-c46fe9c27f5a"
      },
      "execution_count": null,
      "outputs": [
        {
          "output_type": "stream",
          "name": "stdout",
          "text": [
            "+------+-------+--------+----------+------------+-------+-------+----+-----+----------+------+---------+--------+------------+-----------+-----+--------+--------+------+\n",
            "|Row ID|OrderID|ShipMode|CustomerID|CustomerName|Segment|Country|City|State|PostalCode|Region|ProductID|Category|Sub-Category|ProductName|Sales|Quantity|Discount|Profit|\n",
            "+------+-------+--------+----------+------------+-------+-------+----+-----+----------+------+---------+--------+------------+-----------+-----+--------+--------+------+\n",
            "|     0|      0|       0|         0|           0|      0|      0|   0|    0|         0|     0|        0|       0|           0|          0|    0|       0|       0|     0|\n",
            "+------+-------+--------+----------+------------+-------+-------+----+-----+----------+------+---------+--------+------------+-----------+-----+--------+--------+------+\n",
            "\n"
          ]
        }
      ]
    },
    {
      "cell_type": "code",
      "source": [
        "df2.createOrReplaceTempView('dataset')"
      ],
      "metadata": {
        "id": "7ChsUmJiw6pR"
      },
      "execution_count": null,
      "outputs": []
    },
    {
      "cell_type": "code",
      "source": [
        "result = sc.sql(\"\").show()"
      ],
      "metadata": {
        "colab": {
          "base_uri": "https://localhost:8080/",
          "height": 634
        },
        "id": "xn2KBUkPydbm",
        "outputId": "6dd03733-c84b-425c-b35e-b77f1f824439"
      },
      "execution_count": null,
      "outputs": [
        {
          "output_type": "error",
          "ename": "AnalysisException",
          "evalue": "ignored",
          "traceback": [
            "\u001b[0;31m---------------------------------------------------------------------------\u001b[0m",
            "\u001b[0;31mAnalysisException\u001b[0m                         Traceback (most recent call last)",
            "\u001b[0;32m<ipython-input-82-4f5964e90129>\u001b[0m in \u001b[0;36m<module>\u001b[0;34m\u001b[0m\n\u001b[0;32m----> 1\u001b[0;31m result = sc.sql(\"SELECT OrderID, COUNT(Category) AS catCount, Segment, DATE_FORMAT(Order_Date, 'yyyy-MM-dd') AS OrderDate\\\n\u001b[0m\u001b[1;32m      2\u001b[0m                 \u001b[0mFROM\u001b[0m \u001b[0mdataset\u001b[0m\u001b[0;31m\\\u001b[0m\u001b[0;34m\u001b[0m\u001b[0;34m\u001b[0m\u001b[0m\n\u001b[1;32m      3\u001b[0m                 GROUP BY Segment\").show()\n",
            "\u001b[0;32m/usr/local/lib/python3.8/dist-packages/pyspark/sql/session.py\u001b[0m in \u001b[0;36msql\u001b[0;34m(self, sqlQuery, **kwargs)\u001b[0m\n\u001b[1;32m   1032\u001b[0m             \u001b[0msqlQuery\u001b[0m \u001b[0;34m=\u001b[0m \u001b[0mformatter\u001b[0m\u001b[0;34m.\u001b[0m\u001b[0mformat\u001b[0m\u001b[0;34m(\u001b[0m\u001b[0msqlQuery\u001b[0m\u001b[0;34m,\u001b[0m \u001b[0;34m**\u001b[0m\u001b[0mkwargs\u001b[0m\u001b[0;34m)\u001b[0m\u001b[0;34m\u001b[0m\u001b[0;34m\u001b[0m\u001b[0m\n\u001b[1;32m   1033\u001b[0m         \u001b[0;32mtry\u001b[0m\u001b[0;34m:\u001b[0m\u001b[0;34m\u001b[0m\u001b[0;34m\u001b[0m\u001b[0m\n\u001b[0;32m-> 1034\u001b[0;31m             \u001b[0;32mreturn\u001b[0m \u001b[0mDataFrame\u001b[0m\u001b[0;34m(\u001b[0m\u001b[0mself\u001b[0m\u001b[0;34m.\u001b[0m\u001b[0m_jsparkSession\u001b[0m\u001b[0;34m.\u001b[0m\u001b[0msql\u001b[0m\u001b[0;34m(\u001b[0m\u001b[0msqlQuery\u001b[0m\u001b[0;34m)\u001b[0m\u001b[0;34m,\u001b[0m \u001b[0mself\u001b[0m\u001b[0;34m)\u001b[0m\u001b[0;34m\u001b[0m\u001b[0;34m\u001b[0m\u001b[0m\n\u001b[0m\u001b[1;32m   1035\u001b[0m         \u001b[0;32mfinally\u001b[0m\u001b[0;34m:\u001b[0m\u001b[0;34m\u001b[0m\u001b[0;34m\u001b[0m\u001b[0m\n\u001b[1;32m   1036\u001b[0m             \u001b[0;32mif\u001b[0m \u001b[0mlen\u001b[0m\u001b[0;34m(\u001b[0m\u001b[0mkwargs\u001b[0m\u001b[0;34m)\u001b[0m \u001b[0;34m>\u001b[0m \u001b[0;36m0\u001b[0m\u001b[0;34m:\u001b[0m\u001b[0;34m\u001b[0m\u001b[0;34m\u001b[0m\u001b[0m\n",
            "\u001b[0;32m/usr/local/lib/python3.8/dist-packages/py4j/java_gateway.py\u001b[0m in \u001b[0;36m__call__\u001b[0;34m(self, *args)\u001b[0m\n\u001b[1;32m   1319\u001b[0m \u001b[0;34m\u001b[0m\u001b[0m\n\u001b[1;32m   1320\u001b[0m         \u001b[0manswer\u001b[0m \u001b[0;34m=\u001b[0m \u001b[0mself\u001b[0m\u001b[0;34m.\u001b[0m\u001b[0mgateway_client\u001b[0m\u001b[0;34m.\u001b[0m\u001b[0msend_command\u001b[0m\u001b[0;34m(\u001b[0m\u001b[0mcommand\u001b[0m\u001b[0;34m)\u001b[0m\u001b[0;34m\u001b[0m\u001b[0;34m\u001b[0m\u001b[0m\n\u001b[0;32m-> 1321\u001b[0;31m         return_value = get_return_value(\n\u001b[0m\u001b[1;32m   1322\u001b[0m             answer, self.gateway_client, self.target_id, self.name)\n\u001b[1;32m   1323\u001b[0m \u001b[0;34m\u001b[0m\u001b[0m\n",
            "\u001b[0;32m/usr/local/lib/python3.8/dist-packages/pyspark/sql/utils.py\u001b[0m in \u001b[0;36mdeco\u001b[0;34m(*a, **kw)\u001b[0m\n\u001b[1;32m    194\u001b[0m                 \u001b[0;31m# Hide where the exception came from that shows a non-Pythonic\u001b[0m\u001b[0;34m\u001b[0m\u001b[0;34m\u001b[0m\u001b[0;34m\u001b[0m\u001b[0m\n\u001b[1;32m    195\u001b[0m                 \u001b[0;31m# JVM exception message.\u001b[0m\u001b[0;34m\u001b[0m\u001b[0;34m\u001b[0m\u001b[0;34m\u001b[0m\u001b[0m\n\u001b[0;32m--> 196\u001b[0;31m                 \u001b[0;32mraise\u001b[0m \u001b[0mconverted\u001b[0m \u001b[0;32mfrom\u001b[0m \u001b[0;32mNone\u001b[0m\u001b[0;34m\u001b[0m\u001b[0;34m\u001b[0m\u001b[0m\n\u001b[0m\u001b[1;32m    197\u001b[0m             \u001b[0;32melse\u001b[0m\u001b[0;34m:\u001b[0m\u001b[0;34m\u001b[0m\u001b[0;34m\u001b[0m\u001b[0m\n\u001b[1;32m    198\u001b[0m                 \u001b[0;32mraise\u001b[0m\u001b[0;34m\u001b[0m\u001b[0;34m\u001b[0m\u001b[0m\n",
            "\u001b[0;31mAnalysisException\u001b[0m: expression 'dataset.OrderID' is neither present in the group by, nor is it an aggregate function. Add to group by or wrap in first() (or first_value) if you don't care which value you get.;\nAggregate [Segment#24], [OrderID#18, count(Category#31) AS catCount#2011L, Segment#24, date_format(cast(Order_Date#167 as timestamp), yyyy-MM-dd, Some(Etc/UTC)) AS OrderDate#2012]\n+- SubqueryAlias dataset\n   +- View (`dataset`, [Row ID#17,OrderID#18,ShipMode#21,CustomerID#22,CustomerName#23,Segment#24,Country#25,City#26,State#27,PostalCode#28,Region#29,ProductID#30,Category#31,Sub-Category#32,ProductName#33,Sales#34,Quantity#35,Discount#36,Profit#37,Order_Date#167,Ship_Date#319])\n      +- Project [Row ID#17, OrderID#18, ShipMode#21, CustomerID#22, CustomerName#23, Segment#24, Country#25, City#26, State#27, PostalCode#28, Region#29, ProductID#30, Category#31, Sub-Category#32, ProductName#33, Sales#34, Quantity#35, Discount#36, Profit#37, Order_Date#167, Ship_Date#319]\n         +- Project [Row ID#17, OrderID#18, ShipDate#20, ShipMode#21, CustomerID#22, CustomerName#23, Segment#24, Country#25, City#26, State#27, PostalCode#28, Region#29, ProductID#30, Category#31, Sub-Category#32, ProductName#33, Sales#34, Quantity#35, Discount#36, Profit#37, Order_Date#167, <lambda>(ShipDate#20)#318 AS Ship_Date#319]\n            +- Project [Row ID#17, OrderID#18, ShipDate#20, ShipMode#21, CustomerID#22, CustomerName#23, Segment#24, Country#25, City#26, State#27, PostalCode#28, Region#29, ProductID#30, Category#31, Sub-Category#32, ProductName#33, Sales#34, Quantity#35, Discount#36, Profit#37, Order_Date#167]\n               +- Project [Row ID#17, OrderID#18, OrderDate#19, ShipDate#20, ShipMode#21, CustomerID#22, CustomerName#23, Segment#24, Country#25, City#26, State#27, PostalCode#28, Region#29, ProductID#30, Category#31, Sub-Category#32, ProductName#33, Sales#34, Quantity#35, Discount#36, Profit#37, <lambda>(OrderDate#19)#166 AS Order_Date#167]\n                  +- Relation [Row ID#17,OrderID#18,OrderDate#19,ShipDate#20,ShipMode#21,CustomerID#22,CustomerName#23,Segment#24,Country#25,City#26,State#27,PostalCode#28,Region#29,ProductID#30,Category#31,Sub-Category#32,ProductName#33,Sales#34,Quantity#35,Discount#36,Profit#37] csv\n"
          ]
        }
      ]
    },
    {
      "cell_type": "code",
      "source": [],
      "metadata": {
        "id": "4Ubk7Qqw0eIK"
      },
      "execution_count": null,
      "outputs": []
    }
  ]
}