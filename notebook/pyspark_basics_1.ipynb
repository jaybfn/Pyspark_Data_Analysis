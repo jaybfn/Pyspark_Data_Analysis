{
  "nbformat": 4,
  "nbformat_minor": 0,
  "metadata": {
    "colab": {
      "provenance": []
    },
    "kernelspec": {
      "name": "python3",
      "display_name": "Python 3"
    },
    "language_info": {
      "name": "python"
    }
  },
  "cells": [
    {
      "cell_type": "code",
      "source": [
        "pip install pyspark"
      ],
      "metadata": {
        "colab": {
          "base_uri": "https://localhost:8080/"
        },
        "id": "_-gOVuvLiQkO",
        "outputId": "ff493918-5e02-4565-e523-f48e68b25b9b"
      },
      "execution_count": 3,
      "outputs": [
        {
          "output_type": "stream",
          "name": "stdout",
          "text": [
            "Looking in indexes: https://pypi.org/simple, https://us-python.pkg.dev/colab-wheels/public/simple/\n",
            "Collecting pyspark\n",
            "  Downloading pyspark-3.3.1.tar.gz (281.4 MB)\n",
            "\u001b[K     |████████████████████████████████| 281.4 MB 54 kB/s \n",
            "\u001b[?25hCollecting py4j==0.10.9.5\n",
            "  Downloading py4j-0.10.9.5-py2.py3-none-any.whl (199 kB)\n",
            "\u001b[K     |████████████████████████████████| 199 kB 68.6 MB/s \n",
            "\u001b[?25hBuilding wheels for collected packages: pyspark\n",
            "  Building wheel for pyspark (setup.py) ... \u001b[?25l\u001b[?25hdone\n",
            "  Created wheel for pyspark: filename=pyspark-3.3.1-py2.py3-none-any.whl size=281845512 sha256=c2fb0096bd6a9fc876586722e42839c4570b896657e76b9c04a7b4923123cf52\n",
            "  Stored in directory: /root/.cache/pip/wheels/43/dc/11/ec201cd671da62fa9c5cc77078235e40722170ceba231d7598\n",
            "Successfully built pyspark\n",
            "Installing collected packages: py4j, pyspark\n",
            "Successfully installed py4j-0.10.9.5 pyspark-3.3.1\n"
          ]
        }
      ]
    },
    {
      "cell_type": "code",
      "source": [
        "# impoting dataset\n",
        "from google.colab import files\n",
        "\n",
        "uploads = files.upload()"
      ],
      "metadata": {
        "colab": {
          "base_uri": "https://localhost:8080/",
          "height": 74
        },
        "id": "fJZGRQE8i8Ut",
        "outputId": "51c157cf-1f49-4071-e901-a2b3dc236de2"
      },
      "execution_count": 9,
      "outputs": [
        {
          "output_type": "display_data",
          "data": {
            "text/plain": [
              "<IPython.core.display.HTML object>"
            ],
            "text/html": [
              "\n",
              "     <input type=\"file\" id=\"files-487f09ba-aa24-47f6-96e5-76b93a3e5e1d\" name=\"files[]\" multiple disabled\n",
              "        style=\"border:none\" />\n",
              "     <output id=\"result-487f09ba-aa24-47f6-96e5-76b93a3e5e1d\">\n",
              "      Upload widget is only available when the cell has been executed in the\n",
              "      current browser session. Please rerun this cell to enable.\n",
              "      </output>\n",
              "      <script>// Copyright 2017 Google LLC\n",
              "//\n",
              "// Licensed under the Apache License, Version 2.0 (the \"License\");\n",
              "// you may not use this file except in compliance with the License.\n",
              "// You may obtain a copy of the License at\n",
              "//\n",
              "//      http://www.apache.org/licenses/LICENSE-2.0\n",
              "//\n",
              "// Unless required by applicable law or agreed to in writing, software\n",
              "// distributed under the License is distributed on an \"AS IS\" BASIS,\n",
              "// WITHOUT WARRANTIES OR CONDITIONS OF ANY KIND, either express or implied.\n",
              "// See the License for the specific language governing permissions and\n",
              "// limitations under the License.\n",
              "\n",
              "/**\n",
              " * @fileoverview Helpers for google.colab Python module.\n",
              " */\n",
              "(function(scope) {\n",
              "function span(text, styleAttributes = {}) {\n",
              "  const element = document.createElement('span');\n",
              "  element.textContent = text;\n",
              "  for (const key of Object.keys(styleAttributes)) {\n",
              "    element.style[key] = styleAttributes[key];\n",
              "  }\n",
              "  return element;\n",
              "}\n",
              "\n",
              "// Max number of bytes which will be uploaded at a time.\n",
              "const MAX_PAYLOAD_SIZE = 100 * 1024;\n",
              "\n",
              "function _uploadFiles(inputId, outputId) {\n",
              "  const steps = uploadFilesStep(inputId, outputId);\n",
              "  const outputElement = document.getElementById(outputId);\n",
              "  // Cache steps on the outputElement to make it available for the next call\n",
              "  // to uploadFilesContinue from Python.\n",
              "  outputElement.steps = steps;\n",
              "\n",
              "  return _uploadFilesContinue(outputId);\n",
              "}\n",
              "\n",
              "// This is roughly an async generator (not supported in the browser yet),\n",
              "// where there are multiple asynchronous steps and the Python side is going\n",
              "// to poll for completion of each step.\n",
              "// This uses a Promise to block the python side on completion of each step,\n",
              "// then passes the result of the previous step as the input to the next step.\n",
              "function _uploadFilesContinue(outputId) {\n",
              "  const outputElement = document.getElementById(outputId);\n",
              "  const steps = outputElement.steps;\n",
              "\n",
              "  const next = steps.next(outputElement.lastPromiseValue);\n",
              "  return Promise.resolve(next.value.promise).then((value) => {\n",
              "    // Cache the last promise value to make it available to the next\n",
              "    // step of the generator.\n",
              "    outputElement.lastPromiseValue = value;\n",
              "    return next.value.response;\n",
              "  });\n",
              "}\n",
              "\n",
              "/**\n",
              " * Generator function which is called between each async step of the upload\n",
              " * process.\n",
              " * @param {string} inputId Element ID of the input file picker element.\n",
              " * @param {string} outputId Element ID of the output display.\n",
              " * @return {!Iterable<!Object>} Iterable of next steps.\n",
              " */\n",
              "function* uploadFilesStep(inputId, outputId) {\n",
              "  const inputElement = document.getElementById(inputId);\n",
              "  inputElement.disabled = false;\n",
              "\n",
              "  const outputElement = document.getElementById(outputId);\n",
              "  outputElement.innerHTML = '';\n",
              "\n",
              "  const pickedPromise = new Promise((resolve) => {\n",
              "    inputElement.addEventListener('change', (e) => {\n",
              "      resolve(e.target.files);\n",
              "    });\n",
              "  });\n",
              "\n",
              "  const cancel = document.createElement('button');\n",
              "  inputElement.parentElement.appendChild(cancel);\n",
              "  cancel.textContent = 'Cancel upload';\n",
              "  const cancelPromise = new Promise((resolve) => {\n",
              "    cancel.onclick = () => {\n",
              "      resolve(null);\n",
              "    };\n",
              "  });\n",
              "\n",
              "  // Wait for the user to pick the files.\n",
              "  const files = yield {\n",
              "    promise: Promise.race([pickedPromise, cancelPromise]),\n",
              "    response: {\n",
              "      action: 'starting',\n",
              "    }\n",
              "  };\n",
              "\n",
              "  cancel.remove();\n",
              "\n",
              "  // Disable the input element since further picks are not allowed.\n",
              "  inputElement.disabled = true;\n",
              "\n",
              "  if (!files) {\n",
              "    return {\n",
              "      response: {\n",
              "        action: 'complete',\n",
              "      }\n",
              "    };\n",
              "  }\n",
              "\n",
              "  for (const file of files) {\n",
              "    const li = document.createElement('li');\n",
              "    li.append(span(file.name, {fontWeight: 'bold'}));\n",
              "    li.append(span(\n",
              "        `(${file.type || 'n/a'}) - ${file.size} bytes, ` +\n",
              "        `last modified: ${\n",
              "            file.lastModifiedDate ? file.lastModifiedDate.toLocaleDateString() :\n",
              "                                    'n/a'} - `));\n",
              "    const percent = span('0% done');\n",
              "    li.appendChild(percent);\n",
              "\n",
              "    outputElement.appendChild(li);\n",
              "\n",
              "    const fileDataPromise = new Promise((resolve) => {\n",
              "      const reader = new FileReader();\n",
              "      reader.onload = (e) => {\n",
              "        resolve(e.target.result);\n",
              "      };\n",
              "      reader.readAsArrayBuffer(file);\n",
              "    });\n",
              "    // Wait for the data to be ready.\n",
              "    let fileData = yield {\n",
              "      promise: fileDataPromise,\n",
              "      response: {\n",
              "        action: 'continue',\n",
              "      }\n",
              "    };\n",
              "\n",
              "    // Use a chunked sending to avoid message size limits. See b/62115660.\n",
              "    let position = 0;\n",
              "    do {\n",
              "      const length = Math.min(fileData.byteLength - position, MAX_PAYLOAD_SIZE);\n",
              "      const chunk = new Uint8Array(fileData, position, length);\n",
              "      position += length;\n",
              "\n",
              "      const base64 = btoa(String.fromCharCode.apply(null, chunk));\n",
              "      yield {\n",
              "        response: {\n",
              "          action: 'append',\n",
              "          file: file.name,\n",
              "          data: base64,\n",
              "        },\n",
              "      };\n",
              "\n",
              "      let percentDone = fileData.byteLength === 0 ?\n",
              "          100 :\n",
              "          Math.round((position / fileData.byteLength) * 100);\n",
              "      percent.textContent = `${percentDone}% done`;\n",
              "\n",
              "    } while (position < fileData.byteLength);\n",
              "  }\n",
              "\n",
              "  // All done.\n",
              "  yield {\n",
              "    response: {\n",
              "      action: 'complete',\n",
              "    }\n",
              "  };\n",
              "}\n",
              "\n",
              "scope.google = scope.google || {};\n",
              "scope.google.colab = scope.google.colab || {};\n",
              "scope.google.colab._files = {\n",
              "  _uploadFiles,\n",
              "  _uploadFilesContinue,\n",
              "};\n",
              "})(self);\n",
              "</script> "
            ]
          },
          "metadata": {}
        },
        {
          "output_type": "stream",
          "name": "stdout",
          "text": [
            "Saving WMT.csv to WMT.csv\n"
          ]
        }
      ]
    },
    {
      "cell_type": "code",
      "source": [
        "from pyspark.sql import SparkSession\n",
        "spark = SparkSession.builder.appName('operations').getOrCreate()\n",
        "df = spark.read.csv('/content/WMT.csv', inferSchema = True, header = True)\n",
        "df.show()"
      ],
      "metadata": {
        "colab": {
          "base_uri": "https://localhost:8080/"
        },
        "id": "vO0hu1R_gkUX",
        "outputId": "8bc42c02-652f-4d83-b393-1579375172fd"
      },
      "execution_count": 10,
      "outputs": [
        {
          "output_type": "stream",
          "name": "stdout",
          "text": [
            "+-------------------+---------+---------+---------+---------+---------+--------+\n",
            "|               Date|     Open|     High|      Low|    Close|Adj Close|  Volume|\n",
            "+-------------------+---------+---------+---------+---------+---------+--------+\n",
            "|2016-01-20 00:00:00|61.799999|62.330002|60.200001|    60.84|53.990601|17369100|\n",
            "|2016-01-21 00:00:00|    60.98|62.790001|    60.91|61.880001|54.913509|12089200|\n",
            "|2016-01-22 00:00:00|62.439999|63.259998|62.130001|62.689999|55.632324| 9197500|\n",
            "|2016-01-25 00:00:00|62.779999|    63.82|62.549999|63.450001|56.306763|12823400|\n",
            "|2016-01-26 00:00:00|63.360001|64.470001|63.259998|     64.0|56.794834| 9441200|\n",
            "|2016-01-27 00:00:00|64.099998|    65.18|63.889999|63.950001|56.750477|10214300|\n",
            "|2016-01-28 00:00:00|64.029999|64.510002|    63.43|64.220001| 56.99007|11278300|\n",
            "|2016-01-29 00:00:00|    64.75|66.529999|64.739998|66.360001|58.889149|16439100|\n",
            "|2016-02-01 00:00:00|65.910004|    67.93|65.889999|     67.5| 59.90081|14728400|\n",
            "|2016-02-02 00:00:00|67.300003|67.839996|66.279999|66.860001|59.332867|13585900|\n",
            "|2016-02-03 00:00:00|67.309998|     67.5|    65.07|66.269997| 58.80928|12315600|\n",
            "|2016-02-04 00:00:00|65.760002|66.550003|65.010002|66.419998| 58.94239|12833400|\n",
            "|2016-02-05 00:00:00|66.860001|67.529999|65.879997|     67.0|  59.4571|14196500|\n",
            "|2016-02-08 00:00:00|     66.5|67.150002|65.160004|66.900002|59.368362|20743600|\n",
            "|2016-02-09 00:00:00|65.489998|66.410004|    64.68|65.809998|58.401058|14642400|\n",
            "|2016-02-10 00:00:00|66.190002|66.589996|65.650002|65.790001| 58.38332| 9709300|\n",
            "|2016-02-11 00:00:00|65.019997|65.760002|64.779999|    65.32|57.966228|11186700|\n",
            "|2016-02-12 00:00:00|65.519997|    66.25|64.870003|    66.18|58.729424| 9695500|\n",
            "|2016-02-16 00:00:00|66.610001|66.800003|     65.5|65.900002|58.480934|11360500|\n",
            "|2016-02-17 00:00:00|66.099998|66.610001|65.809998|66.110001|58.667301|12426700|\n",
            "+-------------------+---------+---------+---------+---------+---------+--------+\n",
            "only showing top 20 rows\n",
            "\n"
          ]
        }
      ]
    },
    {
      "cell_type": "code",
      "source": [
        "df.printSchema()"
      ],
      "metadata": {
        "colab": {
          "base_uri": "https://localhost:8080/"
        },
        "id": "oANodoYUljpW",
        "outputId": "adcc0b42-5d1e-434f-c33b-8e9e254098ad"
      },
      "execution_count": 13,
      "outputs": [
        {
          "output_type": "stream",
          "name": "stdout",
          "text": [
            "root\n",
            " |-- Date: timestamp (nullable = true)\n",
            " |-- Open: double (nullable = true)\n",
            " |-- High: double (nullable = true)\n",
            " |-- Low: double (nullable = true)\n",
            " |-- Close: double (nullable = true)\n",
            " |-- Adj Close: double (nullable = true)\n",
            " |-- Volume: integer (nullable = true)\n",
            "\n"
          ]
        }
      ]
    },
    {
      "cell_type": "code",
      "source": [
        "# filtering\n",
        "\n",
        "df.filter('Close < 62').show()"
      ],
      "metadata": {
        "colab": {
          "base_uri": "https://localhost:8080/"
        },
        "id": "vPeX6cpwlmzA",
        "outputId": "1b79dcd7-4bdb-4812-9f65-d142c1c0a1d6"
      },
      "execution_count": 16,
      "outputs": [
        {
          "output_type": "stream",
          "name": "stdout",
          "text": [
            "+-------------------+---------+---------+---------+---------+---------+--------+\n",
            "|               Date|     Open|     High|      Low|    Close|Adj Close|  Volume|\n",
            "+-------------------+---------+---------+---------+---------+---------+--------+\n",
            "|2016-01-20 00:00:00|61.799999|62.330002|60.200001|    60.84|53.990601|17369100|\n",
            "|2016-01-21 00:00:00|    60.98|62.790001|    60.91|61.880001|54.913509|12089200|\n",
            "+-------------------+---------+---------+---------+---------+---------+--------+\n",
            "\n"
          ]
        }
      ]
    },
    {
      "cell_type": "code",
      "source": [
        "df.filter('close < 62').select('Open').show()"
      ],
      "metadata": {
        "colab": {
          "base_uri": "https://localhost:8080/"
        },
        "id": "DT-kGVhZ9Gs0",
        "outputId": "bbd86939-716d-4561-c153-fdfb15796bd9"
      },
      "execution_count": 17,
      "outputs": [
        {
          "output_type": "stream",
          "name": "stdout",
          "text": [
            "+---------+\n",
            "|     Open|\n",
            "+---------+\n",
            "|61.799999|\n",
            "|    60.98|\n",
            "+---------+\n",
            "\n"
          ]
        }
      ]
    },
    {
      "cell_type": "code",
      "source": [
        "df.filter('Close < 62').select(['Date','Open']).show()"
      ],
      "metadata": {
        "colab": {
          "base_uri": "https://localhost:8080/"
        },
        "id": "jGvDTM5T9T5L",
        "outputId": "8a2efe9f-c596-4f52-a12e-3cbd654c3ac9"
      },
      "execution_count": 18,
      "outputs": [
        {
          "output_type": "stream",
          "name": "stdout",
          "text": [
            "+-------------------+---------+\n",
            "|               Date|     Open|\n",
            "+-------------------+---------+\n",
            "|2016-01-20 00:00:00|61.799999|\n",
            "|2016-01-21 00:00:00|    60.98|\n",
            "+-------------------+---------+\n",
            "\n"
          ]
        }
      ]
    },
    {
      "cell_type": "code",
      "source": [
        "df.filter(df['Close'] < 62).show()"
      ],
      "metadata": {
        "colab": {
          "base_uri": "https://localhost:8080/"
        },
        "id": "DqNIHO2c9cUa",
        "outputId": "25d45c80-2d41-477c-a43c-6de8f57e5795"
      },
      "execution_count": 19,
      "outputs": [
        {
          "output_type": "stream",
          "name": "stdout",
          "text": [
            "+-------------------+---------+---------+---------+---------+---------+--------+\n",
            "|               Date|     Open|     High|      Low|    Close|Adj Close|  Volume|\n",
            "+-------------------+---------+---------+---------+---------+---------+--------+\n",
            "|2016-01-20 00:00:00|61.799999|62.330002|60.200001|    60.84|53.990601|17369100|\n",
            "|2016-01-21 00:00:00|    60.98|62.790001|    60.91|61.880001|54.913509|12089200|\n",
            "+-------------------+---------+---------+---------+---------+---------+--------+\n",
            "\n"
          ]
        }
      ]
    },
    {
      "cell_type": "code",
      "source": [
        "df.filter((df['Close']< 62) & (df['Open']> 60)).show()"
      ],
      "metadata": {
        "colab": {
          "base_uri": "https://localhost:8080/"
        },
        "id": "1X4MA2xs9lsd",
        "outputId": "ca4ba3ef-6371-4932-a2cc-32e642eb6d0f"
      },
      "execution_count": 23,
      "outputs": [
        {
          "output_type": "stream",
          "name": "stdout",
          "text": [
            "+-------------------+---------+---------+---------+---------+---------+--------+\n",
            "|               Date|     Open|     High|      Low|    Close|Adj Close|  Volume|\n",
            "+-------------------+---------+---------+---------+---------+---------+--------+\n",
            "|2016-01-20 00:00:00|61.799999|62.330002|60.200001|    60.84|53.990601|17369100|\n",
            "|2016-01-21 00:00:00|    60.98|62.790001|    60.91|61.880001|54.913509|12089200|\n",
            "+-------------------+---------+---------+---------+---------+---------+--------+\n",
            "\n"
          ]
        }
      ]
    },
    {
      "cell_type": "code",
      "source": [
        "df.filter(df['Open'] == 60.98).show(5)"
      ],
      "metadata": {
        "colab": {
          "base_uri": "https://localhost:8080/"
        },
        "id": "FrK5XZFc9w0I",
        "outputId": "e5003e61-5da0-4468-ba8a-904124f3102d"
      },
      "execution_count": 25,
      "outputs": [
        {
          "output_type": "stream",
          "name": "stdout",
          "text": [
            "+-------------------+-----+---------+-----+---------+---------+--------+\n",
            "|               Date| Open|     High|  Low|    Close|Adj Close|  Volume|\n",
            "+-------------------+-----+---------+-----+---------+---------+--------+\n",
            "|2016-01-21 00:00:00|60.98|62.790001|60.91|61.880001|54.913509|12089200|\n",
            "+-------------------+-----+---------+-----+---------+---------+--------+\n",
            "\n"
          ]
        }
      ]
    },
    {
      "cell_type": "code",
      "source": [
        "df.filter(df['Open'] < 65).collect()"
      ],
      "metadata": {
        "colab": {
          "base_uri": "https://localhost:8080/"
        },
        "id": "pSQDVcyb-O3N",
        "outputId": "5061fb27-40ea-4392-a43e-daa2cda3d4e4"
      },
      "execution_count": 32,
      "outputs": [
        {
          "output_type": "execute_result",
          "data": {
            "text/plain": [
              "[Row(Date=datetime.datetime(2016, 1, 20, 0, 0), Open=61.799999, High=62.330002, Low=60.200001, Close=60.84, Adj Close=53.990601, Volume=17369100),\n",
              " Row(Date=datetime.datetime(2016, 1, 21, 0, 0), Open=60.98, High=62.790001, Low=60.91, Close=61.880001, Adj Close=54.913509, Volume=12089200),\n",
              " Row(Date=datetime.datetime(2016, 1, 22, 0, 0), Open=62.439999, High=63.259998, Low=62.130001, Close=62.689999, Adj Close=55.632324, Volume=9197500),\n",
              " Row(Date=datetime.datetime(2016, 1, 25, 0, 0), Open=62.779999, High=63.82, Low=62.549999, Close=63.450001, Adj Close=56.306763, Volume=12823400),\n",
              " Row(Date=datetime.datetime(2016, 1, 26, 0, 0), Open=63.360001, High=64.470001, Low=63.259998, Close=64.0, Adj Close=56.794834, Volume=9441200),\n",
              " Row(Date=datetime.datetime(2016, 1, 27, 0, 0), Open=64.099998, High=65.18, Low=63.889999, Close=63.950001, Adj Close=56.750477, Volume=10214300),\n",
              " Row(Date=datetime.datetime(2016, 1, 28, 0, 0), Open=64.029999, High=64.510002, Low=63.43, Close=64.220001, Adj Close=56.99007, Volume=11278300),\n",
              " Row(Date=datetime.datetime(2016, 1, 29, 0, 0), Open=64.75, High=66.529999, Low=64.739998, Close=66.360001, Adj Close=58.889149, Volume=16439100),\n",
              " Row(Date=datetime.datetime(2016, 2, 18, 0, 0), Open=63.740002, High=64.779999, Low=62.349998, Close=64.120003, Adj Close=56.901337, Volume=27894600),\n",
              " Row(Date=datetime.datetime(2016, 2, 19, 0, 0), Open=63.889999, High=64.769997, Low=63.439999, Close=64.660004, Adj Close=57.380539, Volume=15562300),\n",
              " Row(Date=datetime.datetime(2016, 2, 22, 0, 0), Open=64.660004, High=66.139999, Low=64.660004, Close=65.629997, Adj Close=58.241329, Volume=10587300),\n",
              " Row(Date=datetime.datetime(2016, 5, 16, 0, 0), Open=64.860001, High=66.349998, Low=64.68, Close=66.019997, Adj Close=59.453281, Volume=10181800),\n",
              " Row(Date=datetime.datetime(2016, 5, 18, 0, 0), Open=63.02, High=63.779999, Low=62.720001, Close=63.150002, Adj Close=56.868748, Volume=22255900)]"
            ]
          },
          "metadata": {},
          "execution_count": 32
        }
      ]
    },
    {
      "cell_type": "code",
      "source": [
        "res = df.filter(df['Open'] == 60.98).collect()"
      ],
      "metadata": {
        "id": "nQlZ8Yw0-hqf"
      },
      "execution_count": 33,
      "outputs": []
    },
    {
      "cell_type": "code",
      "source": [
        "res[0]"
      ],
      "metadata": {
        "colab": {
          "base_uri": "https://localhost:8080/"
        },
        "id": "1hTEHwhs-kU0",
        "outputId": "41d2ced8-aa86-43e5-b59c-8b8dc99e75d7"
      },
      "execution_count": 34,
      "outputs": [
        {
          "output_type": "execute_result",
          "data": {
            "text/plain": [
              "Row(Date=datetime.datetime(2016, 1, 21, 0, 0), Open=60.98, High=62.790001, Low=60.91, Close=61.880001, Adj Close=54.913509, Volume=12089200)"
            ]
          },
          "metadata": {},
          "execution_count": 34
        }
      ]
    },
    {
      "cell_type": "code",
      "source": [
        "type(res[0])"
      ],
      "metadata": {
        "colab": {
          "base_uri": "https://localhost:8080/"
        },
        "id": "jGGm0D_Z-lXB",
        "outputId": "1c6cbaa3-5bab-4041-dc38-825524f4c368"
      },
      "execution_count": 35,
      "outputs": [
        {
          "output_type": "execute_result",
          "data": {
            "text/plain": [
              "pyspark.sql.types.Row"
            ]
          },
          "metadata": {},
          "execution_count": 35
        }
      ]
    },
    {
      "cell_type": "code",
      "source": [
        "res[0].asDict() # converting row to a dict"
      ],
      "metadata": {
        "colab": {
          "base_uri": "https://localhost:8080/"
        },
        "id": "BRu1Ejbp-ozV",
        "outputId": "62405930-6dd3-431e-969d-cbc0741943e8"
      },
      "execution_count": 38,
      "outputs": [
        {
          "output_type": "execute_result",
          "data": {
            "text/plain": [
              "{'Date': datetime.datetime(2016, 1, 21, 0, 0),\n",
              " 'Open': 60.98,\n",
              " 'High': 62.790001,\n",
              " 'Low': 60.91,\n",
              " 'Close': 61.880001,\n",
              " 'Adj Close': 54.913509,\n",
              " 'Volume': 12089200}"
            ]
          },
          "metadata": {},
          "execution_count": 38
        }
      ]
    },
    {
      "cell_type": "code",
      "source": [
        "for item in res[0]:\n",
        "    print(item)"
      ],
      "metadata": {
        "colab": {
          "base_uri": "https://localhost:8080/"
        },
        "id": "nwJrz36v-sE7",
        "outputId": "73ee90a8-5ec8-4b39-c72c-c878676a7a53"
      },
      "execution_count": 39,
      "outputs": [
        {
          "output_type": "stream",
          "name": "stdout",
          "text": [
            "2016-01-21 00:00:00\n",
            "60.98\n",
            "62.790001\n",
            "60.91\n",
            "61.880001\n",
            "54.913509\n",
            "12089200\n"
          ]
        }
      ]
    },
    {
      "cell_type": "code",
      "source": [
        "import pandas as pd"
      ],
      "metadata": {
        "id": "R9v8QwGZAnJT"
      },
      "execution_count": 40,
      "outputs": []
    },
    {
      "cell_type": "code",
      "source": [
        "pd.Series(res[0].asDict())"
      ],
      "metadata": {
        "id": "UxMmQX2aAqe4",
        "outputId": "bb18680d-928e-4b35-b309-907910c94ff6",
        "colab": {
          "base_uri": "https://localhost:8080/"
        }
      },
      "execution_count": 41,
      "outputs": [
        {
          "output_type": "execute_result",
          "data": {
            "text/plain": [
              "Date         2016-01-21 00:00:00\n",
              "Open                       60.98\n",
              "High                   62.790001\n",
              "Low                        60.91\n",
              "Close                  61.880001\n",
              "Adj Close              54.913509\n",
              "Volume                  12089200\n",
              "dtype: object"
            ]
          },
          "metadata": {},
          "execution_count": 41
        }
      ]
    },
    {
      "cell_type": "code",
      "source": [],
      "metadata": {
        "id": "PIAQqgIsAvLd"
      },
      "execution_count": null,
      "outputs": []
    }
  ]
}